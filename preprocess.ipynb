{
 "cells": [
  {
   "cell_type": "code",
   "execution_count": 1,
   "metadata": {},
   "outputs": [
    {
     "name": "stdout",
     "output_type": "stream",
     "text": [
      "Sat Nov 23 06:37:59 2024       \n",
      "+-----------------------------------------------------------------------------------------+\n",
      "| NVIDIA-SMI 550.54.14              Driver Version: 550.54.14      CUDA Version: 12.4     |\n",
      "|-----------------------------------------+------------------------+----------------------+\n",
      "| GPU  Name                 Persistence-M | Bus-Id          Disp.A | Volatile Uncorr. ECC |\n",
      "| Fan  Temp   Perf          Pwr:Usage/Cap |           Memory-Usage | GPU-Util  Compute M. |\n",
      "|                                         |                        |               MIG M. |\n",
      "|=========================================+========================+======================|\n",
      "|   0  NVIDIA A40                     Off |   00000000:81:00.0 Off |                    0 |\n",
      "|  0%   20C    P8             21W /  300W |       0MiB /  46068MiB |      0%      Default |\n",
      "|                                         |                        |                  N/A |\n",
      "+-----------------------------------------+------------------------+----------------------+\n",
      "                                                                                         \n",
      "+-----------------------------------------------------------------------------------------+\n",
      "| Processes:                                                                              |\n",
      "|  GPU   GI   CI        PID   Type   Process name                              GPU Memory |\n",
      "|        ID   ID                                                               Usage      |\n",
      "|=========================================================================================|\n",
      "|  No running processes found                                                             |\n",
      "+-----------------------------------------------------------------------------------------+\n"
     ]
    }
   ],
   "source": [
    "!nvidia-smi"
   ]
  },
  {
   "cell_type": "code",
   "execution_count": 4,
   "metadata": {},
   "outputs": [],
   "source": [
    "import pandas as pd\n",
    "from sklearn.model_selection import train_test_split\n",
    "import re\n",
    "import sys, getopt\n",
    "import jsonlines\n",
    "import random\n",
    "import numpy as np\n",
    "import pickle\n",
    "from tqdm import tqdm\n",
    "import pandas as pd\n",
    "import re\n",
    "import numpy as np\n",
    "import os\n",
    "import time\n",
    "from openai import OpenAI\n",
    "import pandas as pd\n",
    "import jsonlines\n",
    "import numpy as np\n",
    "from tqdm import tqdm\n",
    "import json\n",
    "import tiktoken\n",
    "import ollama\n",
    "import csv\n",
    "import copy\n",
    "encoding = tiktoken.encoding_for_model(\"gpt-4\")\n",
    "import os\n",
    "import sys\n",
    "import logging\n",
    "from tqdm import tqdm\n",
    "\n",
    "\n",
    "\n",
    "model = 'llama3.1:70b'\n",
    "num_ctx = 15000"
   ]
  },
  {
   "cell_type": "code",
   "execution_count": 5,
   "metadata": {},
   "outputs": [],
   "source": [
    "\n",
    "###################\n",
    "# Utility Functions\n",
    "###################\n",
    "\n",
    "def getWithoutAC(s):\n",
    "    s = s[1:-1]\n",
    "    s = s.split(\", \")\n",
    "    withoutAccess = []\n",
    "    for k in s:\n",
    "        if \"[AC]\" not in k:\n",
    "            withoutAccess.append(k)\n",
    "    return \"<|>\".join(withoutAccess)\n",
    "\n",
    "def extractAC(s):\n",
    "    s = s[1:-1]\n",
    "    s = s.split(\", \")\n",
    "    ans = -1\n",
    "    \n",
    "    for k in s:\n",
    "        if \"[AC]\" in k:\n",
    "            match = re.search(r'\\((\\d+)\\)', k)\n",
    "            if match:\n",
    "                number = int(match.group(1))\n",
    "                ans = max(ans, number)\n",
    "    m = {-1: 0, 0: 0, 1: 0, 2: 1, 3: 1}\n",
    "    return m[ans]\n",
    "\n",
    "def parse_data_string(dict_str):\n",
    "    newDict = {}\n",
    "    dict_str = dict_str[1:-1]\n",
    "    dict_str = dict_str.split(',')\n",
    "    for d in dict_str:\n",
    "        newDict[d.split('=')[0].strip()] = d.split('=')[1].strip()\n",
    "    return newDict\n",
    "\n",
    "def getData(fileName):\n",
    "# Read the file\n",
    "    with open(fileName, \"r\") as file:\n",
    "        lines = file.readlines()\n",
    "\n",
    "    # Initialize variables\n",
    "    current_ep = None\n",
    "    all_entries = []\n",
    "\n",
    "    # Iterate over the lines in the file\n",
    "    for line in lines:\n",
    "        # If the line starts with 'EP:', it's the start of a new EP block\n",
    "        if line.startswith('EP:'):\n",
    "            current_ep = line.strip().split('EP: ')[1]\n",
    "        # If the line starts with 'ControlFlow:', it's the start of a new data block\n",
    "        elif line.startswith('ControlFlow:'):\n",
    "            current_block = {}\n",
    "            current_block['EP'] = current_ep\n",
    "            current_block['code'] = line.strip().split('ControlFlow: ')[1]\n",
    "            all_entries.append(current_block)\n",
    "        # elif line.startswith('Features:'):\n",
    "        #     newDict = parse_data_string(line.strip().split('Features: ')[1])\n",
    "        #     for k in newDict.keys():\n",
    "        #         current_block[k] = newDict[k]\n",
    "        #     all_entries.append(current_block)\n",
    "\n",
    "    # Convert the list of blocks to a dataframe\n",
    "    df = pd.DataFrame(all_entries)\n",
    "    df[\"label\"] = df[\"code\"].apply(extractAC)\n",
    "    df[\"code\"] = df[\"code\"].apply(getWithoutAC)\n",
    "    return df\n",
    "\n",
    "import numpy as np\n",
    "\n",
    "def slidingWindow(path):\n",
    "    window = []\n",
    "    curPath = []\n",
    "    for p in path:\n",
    "        curPath.append(p)\n",
    "        window.append(list(curPath))\n",
    "    return window\n",
    "\n",
    "\n",
    "def decompose(df):\n",
    "    # Create a helper column for chunk grouping\n",
    "    df['group'] = np.where(df['label'] == 0, np.arange(len(df)), df.groupby('EP').cumcount() // 4)\n",
    "\n",
    "    # Group by 'EP', 'label' and 'group', and then merge 'subsequences'\n",
    "    df_agg = df.groupby(['EP', 'label', 'group']).agg({\n",
    "        'code': lambda x: '<PATH_SEP>'.join(x)\n",
    "    })\n",
    "\n",
    "    # Reset the index to get 'EP' and 'label' as columns\n",
    "    df_agg.reset_index(inplace=True)\n",
    "\n",
    "    # Drop the 'group' column\n",
    "    df_agg.drop(columns=['group'], inplace=True)\n",
    "\n",
    "    # If you still want to aggregate 'label' by taking the max value\n",
    "    df_agg['label'] = df_agg.groupby('EP')['label'].transform('max')\n",
    "\n",
    "    return df_agg\n",
    "\n",
    "\n",
    "\n",
    "def shuffle_dataframes(df):\n",
    "    # Concatenate the dataframes\n",
    "    \n",
    "    # Separate the labels from the features\n",
    "    X = df.drop('label', axis=1)\n",
    "    y = df['label']\n",
    "\n",
    "    # Split the data into train and remaining data (test + validation)\n",
    "    X_train, X_test, y_train, y_test = train_test_split(X, y, test_size=0.2, random_state=42, stratify=y)\n",
    "\n",
    "    # Create train, test, and validation dataframes\n",
    "    train_df = pd.concat([X_train, y_train], axis=1)\n",
    "    test_df = pd.concat([X_test, y_test], axis=1)\n",
    "    \n",
    "    return train_df, test_df\n",
    "\n",
    "\n",
    "# Creating the Training Data for the model\n",
    "def createJsonL(df, fileName):\n",
    "    fileName = fileName.replace(\".txt\", \"\")\n",
    "    json_objects = []\n",
    "\n",
    "    # Group the DataFrame by unique values in the 'EP' column\n",
    "    grouped = df.groupby('EP')\n",
    "\n",
    "    # Iterate over each group\n",
    "    for _, group in grouped:\n",
    "        # Shuffle the group randomly\n",
    "        shuffled_group = group.sample(frac=1, random_state=42)  # Set a random_state for reproducibility\n",
    "\n",
    "        # Keep at most 10 rows in the shuffled group\n",
    "        # shuffled_group = shuffled_group.head(10)\n",
    "\n",
    "        # Iterate over each row in the shuffled group\n",
    "        for _, row in shuffled_group.iterrows():\n",
    "            prompt = []\n",
    "\n",
    "            # Iterate over each column (excluding 'label')\n",
    "            for column in shuffled_group.columns:\n",
    "                if column != 'label':\n",
    "                    prompt.append(str(column) + ' = ' + str(row[column]))\n",
    "\n",
    "            # Create the JSON object\n",
    "            json_object = {\n",
    "                'code': \" \".join(prompt),\n",
    "                'label': int(row['label'])\n",
    "            }\n",
    "\n",
    "            # Append the JSON object to the list\n",
    "            json_objects.append(json_object)\n",
    "\n",
    "    with jsonlines.open(fileName, 'w') as writer:\n",
    "        writer.write_all(json_objects)\n"
   ]
  },
  {
   "cell_type": "code",
   "execution_count": 6,
   "metadata": {},
   "outputs": [
    {
     "name": "stdout",
     "output_type": "stream",
     "text": [
      "################\n",
      "1 - Protection Required\n",
      "0 - No Protection\n",
      "################\n",
      "\n",
      "LabelCounts:\n",
      " label\n",
      "1    36207\n",
      "0     9623\n",
      "Name: count, dtype: int64\n",
      "LabelCounts:\n",
      " label\n",
      "1    14903\n",
      "0     5242\n",
      "Name: count, dtype: int64\n",
      "                                 EP  label  \\\n",
      "0  abandonAudioFocus_AudioService_5      0   \n",
      "1  abandonAudioFocus_AudioService_5      0   \n",
      "2  abandonAudioFocus_AudioService_5      0   \n",
      "3  abandonAudioFocus_AudioService_5      0   \n",
      "4  abandonAudioFocus_AudioService_5      0   \n",
      "\n",
      "                                                code  \n",
      "0  [get]: MediaFocusControl var6 = this.mMediaFoc...  \n",
      "1  [get]: MediaFocusControl var6 = this.mMediaFoc...  \n",
      "2  [get]: MediaFocusControl var6 = this.mMediaFoc...  \n",
      "3  [get]: MediaFocusControl var6 = this.mMediaFoc...  \n",
      "4  [get]: MediaFocusControl var6 = this.mMediaFoc...  \n"
     ]
    }
   ],
   "source": [
    "file_name = \"data/aosp.txt\"\n",
    "try:\n",
    "    df = getData(file_name)\n",
    "except:\n",
    "    print(f\"Could not read {file_name}\")\n",
    "\n",
    "label_counts = df['label'].value_counts()\n",
    "\n",
    "print(\"################\\n1 - Protection Required\\n0 - No Protection\\n################\\n\")\n",
    "\n",
    "print(\"LabelCounts:\\n\", label_counts)\n",
    "merged_aaAdf = decompose(df)\n",
    "merged_df = merged_aaAdf\n",
    "trainDF, testDF = shuffle_dataframes(merged_df)\n",
    "\n",
    "label_counts = merged_df['label'].value_counts()\n",
    "print(\"LabelCounts:\\n\", label_counts)\n",
    "\n",
    "print(merged_df.head())\n",
    "\n",
    "createJsonL(trainDF, f'{file_name}_train.jsonl')\n",
    "createJsonL(testDF, f'{file_name}_test.jsonl')"
   ]
  },
  {
   "cell_type": "code",
   "execution_count": 7,
   "metadata": {},
   "outputs": [],
   "source": [
    "# trainDF.iloc[0]['code']\n",
    "def generate_java_method(name, code):\n",
    "    # Extract the API name and method name dynamically\n",
    "    api_name, method_name = name.split(\"_\", 1)\n",
    "\n",
    "    # Start the Java code formatting\n",
    "    java_code = []\n",
    "    java_code.append(f\"// Method: {api_name}\")\n",
    "    java_code.append(f\"// Service: {method_name}\\n\")\n",
    "    java_code.append(f\"public void {api_name}() {{\")\n",
    "\n",
    "    # Split and clean up the code\n",
    "    lines = code.split(\"<|>\")\n",
    "    for line in lines:\n",
    "        # Remove [..]: and clean up the lines\n",
    "        cleaned_line = re.sub(r\"\\[.*?\\]: \", \"\", line).strip()\n",
    "        if cleaned_line:\n",
    "            # Ensure only one semicolon is added\n",
    "            if not cleaned_line.endswith(\";\"):\n",
    "                cleaned_line += \";\"\n",
    "            java_code.append(f\"    {cleaned_line}\")\n",
    "\n",
    "    java_code.append(\"}\")\n",
    "    return \"\\n\".join(java_code)\n",
    "\n",
    "\n",
    "# s= generate_java_method(trainDF.iloc[0]['EP'],trainDF.iloc[0]['code'])\n",
    "# s\n",
    "trainDF['java_code'] = trainDF.apply(lambda row: generate_java_method(row['EP'], row['code']), axis=1)\n",
    "## DROP THE DUPLICATES USING LENGTH\n",
    "trainDF['code_length'] = trainDF['java_code'].map(len)\n",
    "trainDF = (\n",
    "    trainDF.sort_values(by='code_length', ascending=False)  \n",
    "    .drop_duplicates(subset=trainDF.columns[0])             \n",
    "    .reset_index(drop=True)                                 \n",
    ")\n",
    "trainDF = trainDF.drop(columns=['code_length'])\n",
    "trainDF['service_name'] = trainDF['EP'].apply(lambda word: word.split(\"_\")[1])\n"
   ]
  },
  {
   "cell_type": "code",
   "execution_count": 9,
   "metadata": {},
   "outputs": [],
   "source": [
    "def run_first_prompt_Ollama(method_code,run):\n",
    "    \"\"\" runs the first prompt - extract sinks from the traces\n",
    "    \"\"\"\n",
    "    prompt1 = f\"\"\"\n",
    "    You are an expert in the Android Framework and security, particularly focusing on access control for Android APIs. Your task is to determine if a given Android API needs to have an Access Control or not.\n",
    "    I will provide you with the API name, parameters, and its static execution path. Your first task is to identify potential sink(s) in the API. You must place special attention to field access and updates as well as internal method invocations inside the API (e.g., native methods, file access methods, non-exposed service methods).\n",
    "    Additionally, take hints from the method name, and if you encounter similar fields or method invocations in the traces, consider them as potential sinks, as they may relate to key functionality.\n",
    "    \n",
    "    Think like a human, break down each step in the execution to understand how data flows through the API, how internal fields are accessed or updated, and how different methods interact with sensitive data and provide reasoning.\n",
    "    \n",
    "    However, you should only return sinks that appear to handle sensitive information or may pose security/privacy risks. Avoid listing generic, non-sensitive operations, such as logging (e.g., accessing TAG fields), simple data type operations (e.g., Integer.valueOf, HashMap.get), string operations, basic object manipulations, locks, etc.\n",
    "\n",
    "    For each potential sink you identify, provide detailed information in JSON format. Here are the categories and information fields:\n",
    "    {{\n",
    "    \"Sinks\": [\n",
    "        {{\n",
    "            \"Type\": \"field\",  \n",
    "            \"Trace_Event\": \"...\",  # Field trace event indicating where the sink occurs, keep the event same as in the trace\n",
    "            \"AccessType\": \"get/set\",  \n",
    "        }},\n",
    "        {{\n",
    "            \"Type\": \"method\", \n",
    "            \"Trace_Event\": \"...\",  # Invoke trace event indicating where the sink occurs, keep the event same as in the trace\n",
    "            \"InvokedOn\": \"...\",  \n",
    "        }}\n",
    "    ]\n",
    "    }}\n",
    "\n",
    "    InvokedOn should represent the field or object on which the method is invoked. If the method is invoked on an object that is retrieved dynamically (i.e., not through a field), or if there is no explicit field mentioned in the trace, leave InvokedOn as an empty string (\"\"). Only fill \"InvokedOn\" when the trace **explicitly shows** the *name* of the field. Do not assume it; if it is unclear, leave it empty.\n",
    "\n",
    "    Additionally, rank the sinks from the most sensitive to the least sensitive. The most sensitive sink should appear at the top of the list and the least sensitive at the bottom. Make sure the response includes a valid JSON and the reasoning for each sink. \\n\n",
    "    \"\"\"\n",
    "    \n",
    "    \n",
    "    prompt1 = f\"\"\"\n",
    "You are an expert in the Android Framework and security, particularly focusing on access control for Android APIs. Your task is to analyze the Java code of an Android API and determine whether it contains sinks that require access control.\n",
    "I will provide you with the API name and its code. You must carefully examine the API's code to :\n",
    "    - Identify all instructions that collectively contribute to a sink\n",
    "    - Pay special attention to method invocations, field access and updates, object creation and data flows \n",
    "\n",
    "Sinks might not *always* be isolated single instructions, so you must analyze the flow of the API to identify the complete set of instructions that together contribute to a sink.\n",
    "\n",
    "This is an example of an Android API getLightState which returns a new light state. \n",
    "\n",
    "public LightState getLightState(int par1, int par2) {{\n",
    "    LightState lightState;\n",
    "    Context var0 = this.mContext;\n",
    "    int var1 = this.mNative.getLightColor(par1, par2);\n",
    "    int var2 = this.mNative.getLightPlayerId(par1, par2);\n",
    "    lightState = new LightState(var1, var2);\n",
    "    Log.e(TAG, \"Light state: \" + lightState.toString());\n",
    "    return lightState;\n",
    "}}\n",
    "\n",
    "Here are the positive rules that indicate potential sinks:\n",
    "1- Method invocations, paying special attention to\n",
    "    - Native method invocations \n",
    "    - Methods that take API input parameters as arguments \n",
    "    - Methods with naming similarity with the API name.\n",
    "Example: In getLightState, the native methods getLightColor and getLightPlayerId are invoked. These methods have high naming similarity with \n",
    "the API name getLightState, and process the input parameters par1 and par2.    \n",
    "2- Fields returned or modified, especially those:\n",
    "    - with naming similarity to the API\n",
    "    - updated or populated through the API parameters\n",
    "Example: the API returns a lightState object \n",
    "3- Creation of new objects, particularly those: \n",
    "    - With naming similarity to the API.\n",
    "    - With dataflow from the API parameters.\n",
    "Example: A New LightState object is created using the outputs of getLightColor and getLightPlayerId, propagating the API input parameters par1 \n",
    "and par2 through to the object\n",
    "\n",
    "and negative rules:\n",
    "1- Generic utility methods (e.g., valueOf, toString, isEmpty).\n",
    "2- Logging methods, input validation/sanity checks.\n",
    "Example: Log.e method in the example above is a logging method.\n",
    "3- Auxiliary operations (e.g., locks, obtaining an instance of a class, or accessing context objects).\n",
    "Example: var0 in the example above is an auxiliary operation.\n",
    "\n",
    "\n",
    "Think like a human, break down each step in the execution to understand how data flows through the API, how internal fields are accessed or updated, and how different methods interact with parameters/other data and provide reasoning.\n",
    "\n",
    "For each potential set of sinks you identify, provide information in JSON format. Here are the categories and information fields:\n",
    "{{\n",
    "\"Sinks\": [\n",
    "[\n",
    "    code 1  # The first code that contributes to the sink\n",
    "    code 2  # Another relevant instruction (not necessarily consecutive)\n",
    "    code 3  # Continue listing all relevant code for this sink in the original order\n",
    "],\n",
    "[\n",
    "    code 1  # Instruction for another sink\n",
    "]\n",
    "]\n",
    "}}\n",
    "Each array inside \"Sinks\" represents a complete set of code instructions that collectively form a sink. Ensure each instruction is copied verbatim from the Java code provided.\n",
    "Additionally, rank the sink(each array) from the most sensitive to the least sensitive. The most sensitive set of sink(array) should appear at the top of the list and the least sensitive at the bottom. Make sure the response includes a valid JSON and the reasoning for each sink.\n",
    "            \"\"\"\n",
    "\n",
    "\n",
    "    # user_prompt = get_method_traces_from_file(file_path, interface, method)\n",
    "    \n",
    "    user_prompt = method_code\n",
    "    if(not run):\n",
    "        return {\n",
    "            \"system_message\": prompt1,\n",
    "            \"user_message\": user_prompt,\n",
    "            \"response\": \"Not running\"\n",
    "        }\n",
    "        \n",
    "        \n",
    "    \n",
    "    response = ollama.chat(model=model, messages=[\n",
    "    {\n",
    "        'role': 'user',\n",
    "        'content': prompt1 + user_prompt,\n",
    "    },\n",
    "    ]\n",
    "    ,\n",
    "     options={\n",
    "        'num_ctx': num_ctx,\n",
    "        'temperature': 0.3 \n",
    "    }\n",
    "    \n",
    "    )\n",
    "    \n",
    "    # logging.info(f\"Response for {method} = {response['message']['content']}\")\n",
    "\n",
    "    \n",
    "    return {\n",
    "        \"system_message\": prompt1,\n",
    "        \"user_message\": user_prompt,\n",
    "        \"response\": response['message']['content']\n",
    "    }\n",
    "    \n",
    "\n",
    "# get the json from the res[\"response\"]\n",
    "\n",
    "def extract_json_from_string(input_string):\n",
    "    \"\"\"\n",
    "    Extracts JSON from the given string.\n",
    "\n",
    "    Args:\n",
    "        input_string (str): The string containing embedded JSON.\n",
    "\n",
    "    Returns:\n",
    "        dict: The extracted JSON as a Python dictionary.\n",
    "    \"\"\"\n",
    "    try:\n",
    "        # Use a regex pattern to extract the JSON part\n",
    "        json_pattern = r\"```(?:json)?\\n(.*?)\\n```\"\n",
    "        match = re.search(json_pattern, input_string, re.DOTALL)\n",
    "        if match:\n",
    "            json_string = match.group(1)\n",
    "            return json.loads(json_string)\n",
    "        else:\n",
    "            raise ValueError(\"No JSON found in the provided string.\")\n",
    "    except json.JSONDecodeError as e:\n",
    "        raise ValueError(f\"Error decoding JSON: {e}\")"
   ]
  },
  {
   "cell_type": "code",
   "execution_count": null,
   "metadata": {},
   "outputs": [
    {
     "name": "stderr",
     "output_type": "stream",
     "text": [
      "Processing rows:   0%|          | 0/192 [00:00<?, ?it/s]"
     ]
    },
    {
     "name": "stdout",
     "output_type": "stream",
     "text": [
      "bindService_ActivityManagerService_9\n",
      "ActivityManagerService\n"
     ]
    },
    {
     "name": "stderr",
     "output_type": "stream",
     "text": [
      "Processing rows:   1%|          | 1/192 [02:54<9:17:00, 174.98s/it]"
     ]
    },
    {
     "name": "stdout",
     "output_type": "stream",
     "text": [
      "sendIdleJobTrigger_ActivityManagerService_1\n",
      "ActivityManagerService\n"
     ]
    },
    {
     "name": "stderr",
     "output_type": "stream",
     "text": [
      "Processing rows:   1%|          | 2/192 [04:13<6:13:48, 118.04s/it]"
     ]
    },
    {
     "name": "stdout",
     "output_type": "stream",
     "text": [
      "startService_ActivityManagerService_7\n",
      "ActivityManagerService\n"
     ]
    },
    {
     "name": "stderr",
     "output_type": "stream",
     "text": [
      "Processing rows:   2%|▏         | 3/192 [05:26<5:07:28, 97.61s/it] "
     ]
    },
    {
     "name": "stdout",
     "output_type": "stream",
     "text": [
      "updateConfiguration_ActivityManagerService_2\n",
      "ActivityManagerService\n"
     ]
    },
    {
     "name": "stderr",
     "output_type": "stream",
     "text": [
      "Processing rows:   2%|▏         | 4/192 [06:52<4:51:49, 93.13s/it]"
     ]
    },
    {
     "name": "stdout",
     "output_type": "stream",
     "text": [
      "getProcessMemoryInfo_ActivityManagerService_2\n",
      "ActivityManagerService\n"
     ]
    },
    {
     "name": "stderr",
     "output_type": "stream",
     "text": [
      "Processing rows:   3%|▎         | 5/192 [08:19<4:43:38, 91.01s/it]"
     ]
    },
    {
     "name": "stdout",
     "output_type": "stream",
     "text": [
      "bindIsolatedService_ActivityManagerService_10\n",
      "ActivityManagerService\n"
     ]
    },
    {
     "name": "stderr",
     "output_type": "stream",
     "text": [
      "Processing rows:   3%|▎         | 6/192 [09:20<4:09:55, 80.62s/it]"
     ]
    },
    {
     "name": "stdout",
     "output_type": "stream",
     "text": [
      "stopService_ActivityManagerService_5\n",
      "ActivityManagerService\n"
     ]
    },
    {
     "name": "stderr",
     "output_type": "stream",
     "text": [
      "Processing rows:   4%|▎         | 7/192 [10:28<3:55:48, 76.48s/it]"
     ]
    },
    {
     "name": "stdout",
     "output_type": "stream",
     "text": [
      "moveTaskToStack_ActivityManagerService_4\n",
      "ActivityManagerService\n"
     ]
    },
    {
     "name": "stderr",
     "output_type": "stream",
     "text": [
      "Processing rows:   4%|▍         | 8/192 [11:34<3:44:10, 73.10s/it]"
     ]
    },
    {
     "name": "stdout",
     "output_type": "stream",
     "text": [
      "getProcessPss_ActivityManagerService_2\n",
      "ActivityManagerService\n"
     ]
    },
    {
     "name": "stderr",
     "output_type": "stream",
     "text": [
      "Processing rows:   5%|▍         | 9/192 [12:31<3:28:09, 68.25s/it]"
     ]
    },
    {
     "name": "stdout",
     "output_type": "stream",
     "text": [
      "setServiceForeground_ActivityManagerService_7\n",
      "ActivityManagerService\n"
     ]
    },
    {
     "name": "stderr",
     "output_type": "stream",
     "text": [
      "Processing rows:   5%|▌         | 10/192 [13:33<3:21:19, 66.37s/it]"
     ]
    },
    {
     "name": "stdout",
     "output_type": "stream",
     "text": [
      "broadcastIntent_ActivityManagerService_14\n",
      "ActivityManagerService\n"
     ]
    },
    {
     "name": "stderr",
     "output_type": "stream",
     "text": [
      "Processing rows:   6%|▌         | 11/192 [14:29<3:09:47, 62.91s/it]"
     ]
    },
    {
     "name": "stdout",
     "output_type": "stream",
     "text": [
      "peekService_ActivityManagerService_4\n",
      "ActivityManagerService\n"
     ]
    },
    {
     "name": "stderr",
     "output_type": "stream",
     "text": [
      "Processing rows:   6%|▋         | 12/192 [15:14<2:52:57, 57.65s/it]"
     ]
    },
    {
     "name": "stdout",
     "output_type": "stream",
     "text": [
      "getContentProvider_ActivityManagerService_6\n",
      "ActivityManagerService\n"
     ]
    },
    {
     "name": "stderr",
     "output_type": "stream",
     "text": [
      "Processing rows:   7%|▋         | 13/192 [16:22<3:00:44, 60.58s/it]"
     ]
    },
    {
     "name": "stdout",
     "output_type": "stream",
     "text": [
      "bootAnimationComplete_ActivityManagerService_1\n",
      "ActivityManagerService\n"
     ]
    },
    {
     "name": "stderr",
     "output_type": "stream",
     "text": [
      "Processing rows:   7%|▋         | 14/192 [17:35<3:11:10, 64.44s/it]"
     ]
    },
    {
     "name": "stdout",
     "output_type": "stream",
     "text": [
      "makePackageIdle_ActivityManagerService_3\n",
      "ActivityManagerService\n"
     ]
    },
    {
     "name": "stderr",
     "output_type": "stream",
     "text": [
      "Processing rows:   8%|▊         | 15/192 [18:45<3:15:19, 66.21s/it]"
     ]
    },
    {
     "name": "stdout",
     "output_type": "stream",
     "text": [
      "sendIntentSender_ActivityManagerService_9\n",
      "ActivityManagerService\n"
     ]
    },
    {
     "name": "stderr",
     "output_type": "stream",
     "text": [
      "Processing rows:   8%|▊         | 16/192 [20:05<3:25:48, 70.16s/it]"
     ]
    },
    {
     "name": "stdout",
     "output_type": "stream",
     "text": [
      "performIdleMaintenance_ActivityManagerService_1\n",
      "ActivityManagerService\n"
     ]
    },
    {
     "name": "stderr",
     "output_type": "stream",
     "text": [
      "Processing rows:   9%|▉         | 17/192 [20:58<3:10:06, 65.18s/it]"
     ]
    },
    {
     "name": "stdout",
     "output_type": "stream",
     "text": [
      "getRunningAppProcesses_ActivityManagerService_1\n",
      "ActivityManagerService\n"
     ]
    },
    {
     "name": "stderr",
     "output_type": "stream",
     "text": [
      "Processing rows:   9%|▉         | 18/192 [21:52<2:58:48, 61.66s/it]"
     ]
    },
    {
     "name": "stdout",
     "output_type": "stream",
     "text": [
      "unregisterReceiver_ActivityManagerService_2\n",
      "ActivityManagerService\n"
     ]
    },
    {
     "name": "stderr",
     "output_type": "stream",
     "text": [
      "Processing rows:  10%|▉         | 19/192 [22:50<2:55:21, 60.82s/it]"
     ]
    },
    {
     "name": "stdout",
     "output_type": "stream",
     "text": [
      "handleApplicationCrash_ActivityManagerService_3\n",
      "ActivityManagerService\n"
     ]
    },
    {
     "name": "stderr",
     "output_type": "stream",
     "text": [
      "Processing rows:  10%|█         | 20/192 [23:45<2:48:41, 58.85s/it]"
     ]
    },
    {
     "name": "stdout",
     "output_type": "stream",
     "text": [
      "unbindFinished_ActivityManagerService_4\n",
      "ActivityManagerService\n"
     ]
    },
    {
     "name": "stderr",
     "output_type": "stream",
     "text": [
      "Processing rows:  11%|█         | 21/192 [25:03<3:03:59, 64.56s/it]"
     ]
    },
    {
     "name": "stdout",
     "output_type": "stream",
     "text": [
      "showBootMessage_ActivityManagerService_3\n",
      "ActivityManagerService\n"
     ]
    },
    {
     "name": "stderr",
     "output_type": "stream",
     "text": [
      "Processing rows:  11%|█▏        | 22/192 [26:07<3:02:29, 64.41s/it]"
     ]
    },
    {
     "name": "stdout",
     "output_type": "stream",
     "text": [
      "getMyMemoryState_ActivityManagerService_2\n",
      "ActivityManagerService\n"
     ]
    },
    {
     "name": "stderr",
     "output_type": "stream",
     "text": [
      "Processing rows:  12%|█▏        | 23/192 [27:16<3:05:29, 65.86s/it]"
     ]
    },
    {
     "name": "stdout",
     "output_type": "stream",
     "text": [
      "unstableProviderDied_ActivityManagerService_2\n",
      "ActivityManagerService\n"
     ]
    },
    {
     "name": "stderr",
     "output_type": "stream",
     "text": [
      "Processing rows:  12%|█▎        | 24/192 [28:22<3:04:37, 65.94s/it]"
     ]
    },
    {
     "name": "stdout",
     "output_type": "stream",
     "text": [
      "finishReceiver_ActivityManagerService_7\n",
      "ActivityManagerService\n"
     ]
    },
    {
     "name": "stderr",
     "output_type": "stream",
     "text": [
      "Processing rows:  13%|█▎        | 25/192 [29:14<2:51:48, 61.73s/it]"
     ]
    },
    {
     "name": "stdout",
     "output_type": "stream",
     "text": [
      "getRunningExternalApplications_ActivityManagerService_1\n",
      "ActivityManagerService\n"
     ]
    },
    {
     "name": "stderr",
     "output_type": "stream",
     "text": [
      "Processing rows:  14%|█▎        | 26/192 [30:08<2:44:31, 59.47s/it]"
     ]
    },
    {
     "name": "stdout",
     "output_type": "stream",
     "text": [
      "getProviderMimeType_ActivityManagerService_3\n",
      "ActivityManagerService\n"
     ]
    },
    {
     "name": "stderr",
     "output_type": "stream",
     "text": [
      "Processing rows:  14%|█▍        | 27/192 [31:07<2:42:41, 59.16s/it]"
     ]
    },
    {
     "name": "stdout",
     "output_type": "stream",
     "text": [
      "setFocusedStack_ActivityManagerService_2\n",
      "ActivityManagerService\n"
     ]
    },
    {
     "name": "stderr",
     "output_type": "stream",
     "text": [
      "Processing rows:  15%|█▍        | 28/192 [32:24<2:56:22, 64.53s/it]"
     ]
    },
    {
     "name": "stdout",
     "output_type": "stream",
     "text": [
      "getContentProviderExternal_ActivityManagerService_5\n",
      "ActivityManagerService\n"
     ]
    },
    {
     "name": "stderr",
     "output_type": "stream",
     "text": [
      "Processing rows:  15%|█▌        | 29/192 [33:33<2:59:38, 66.13s/it]"
     ]
    },
    {
     "name": "stdout",
     "output_type": "stream",
     "text": [
      "getServices_ActivityManagerService_3\n",
      "ActivityManagerService\n"
     ]
    },
    {
     "name": "stderr",
     "output_type": "stream",
     "text": [
      "Processing rows:  16%|█▌        | 30/192 [34:34<2:53:51, 64.39s/it]"
     ]
    },
    {
     "name": "stdout",
     "output_type": "stream",
     "text": [
      "moveTaskToFront_ActivityManagerService_6\n",
      "ActivityManagerService\n"
     ]
    },
    {
     "name": "stderr",
     "output_type": "stream",
     "text": [
      "Processing rows:  16%|█▌        | 31/192 [35:32<2:47:57, 62.60s/it]"
     ]
    },
    {
     "name": "stdout",
     "output_type": "stream",
     "text": [
      "getRecentTasks_ActivityManagerService_4\n",
      "ActivityManagerService\n"
     ]
    },
    {
     "name": "stderr",
     "output_type": "stream",
     "text": [
      "Processing rows:  17%|█▋        | 32/192 [36:33<2:45:51, 62.20s/it]"
     ]
    },
    {
     "name": "stdout",
     "output_type": "stream",
     "text": [
      "setProcessImportant_ActivityManagerService_5\n",
      "ActivityManagerService\n"
     ]
    },
    {
     "name": "stderr",
     "output_type": "stream",
     "text": [
      "Processing rows:  17%|█▋        | 33/192 [37:30<2:40:39, 60.63s/it]"
     ]
    },
    {
     "name": "stdout",
     "output_type": "stream",
     "text": [
      "forceStopPackage_ActivityManagerService_3\n",
      "ActivityManagerService\n"
     ]
    },
    {
     "name": "stderr",
     "output_type": "stream",
     "text": [
      "Processing rows:  18%|█▊        | 34/192 [38:26<2:35:47, 59.16s/it]"
     ]
    },
    {
     "name": "stdout",
     "output_type": "stream",
     "text": [
      "openContentUri_ActivityManagerService_2\n",
      "ActivityManagerService\n"
     ]
    },
    {
     "name": "stderr",
     "output_type": "stream",
     "text": [
      "Processing rows:  18%|█▊        | 35/192 [39:17<2:27:53, 56.52s/it]"
     ]
    },
    {
     "name": "stdout",
     "output_type": "stream",
     "text": [
      "clearApplicationUserData_ActivityManagerService_5\n",
      "ActivityManagerService\n"
     ]
    },
    {
     "name": "stderr",
     "output_type": "stream",
     "text": [
      "Processing rows:  19%|█▉        | 36/192 [40:29<2:39:25, 61.31s/it]"
     ]
    },
    {
     "name": "stdout",
     "output_type": "stream",
     "text": [
      "startUserInBackground_ActivityManagerService_2\n",
      "ActivityManagerService\n"
     ]
    },
    {
     "name": "stderr",
     "output_type": "stream",
     "text": [
      "Processing rows:  19%|█▉        | 37/192 [41:32<2:39:20, 61.68s/it]"
     ]
    },
    {
     "name": "stdout",
     "output_type": "stream",
     "text": [
      "killApplicationProcess_ActivityManagerService_3\n",
      "ActivityManagerService\n"
     ]
    },
    {
     "name": "stderr",
     "output_type": "stream",
     "text": [
      "Processing rows:  20%|█▉        | 38/192 [42:23<2:30:43, 58.72s/it]"
     ]
    },
    {
     "name": "stdout",
     "output_type": "stream",
     "text": [
      "startRecentsActivity_ActivityManagerService_4\n",
      "ActivityManagerService\n"
     ]
    },
    {
     "name": "stderr",
     "output_type": "stream",
     "text": [
      "Processing rows:  20%|██        | 39/192 [43:36<2:40:38, 62.99s/it]"
     ]
    },
    {
     "name": "stdout",
     "output_type": "stream",
     "text": [
      "bindBackupAgent_ActivityManagerService_4\n",
      "ActivityManagerService\n"
     ]
    },
    {
     "name": "stderr",
     "output_type": "stream",
     "text": [
      "Processing rows:  21%|██        | 40/192 [44:37<2:38:11, 62.44s/it]"
     ]
    },
    {
     "name": "stdout",
     "output_type": "stream",
     "text": [
      "updateLockTaskPackages_ActivityManagerService_3\n",
      "ActivityManagerService\n"
     ]
    },
    {
     "name": "stderr",
     "output_type": "stream",
     "text": [
      "Processing rows:  21%|██▏       | 41/192 [45:45<2:41:04, 64.01s/it]"
     ]
    },
    {
     "name": "stdout",
     "output_type": "stream",
     "text": [
      "getIntentSender_ActivityManagerService_11\n",
      "ActivityManagerService\n"
     ]
    },
    {
     "name": "stderr",
     "output_type": "stream",
     "text": [
      "Processing rows:  22%|██▏       | 42/192 [46:45<2:36:59, 62.80s/it]"
     ]
    },
    {
     "name": "stdout",
     "output_type": "stream",
     "text": [
      "resizeStack_ActivityManagerService_7\n",
      "ActivityManagerService\n"
     ]
    },
    {
     "name": "stderr",
     "output_type": "stream",
     "text": [
      "Processing rows:  22%|██▏       | 43/192 [47:42<2:31:31, 61.02s/it]"
     ]
    },
    {
     "name": "stdout",
     "output_type": "stream",
     "text": [
      "setDebugApp_ActivityManagerService_4\n",
      "ActivityManagerService\n"
     ]
    },
    {
     "name": "stderr",
     "output_type": "stream",
     "text": [
      "Processing rows:  23%|██▎       | 44/192 [48:54<2:38:33, 64.28s/it]"
     ]
    },
    {
     "name": "stdout",
     "output_type": "stream",
     "text": [
      "positionTaskInStack_ActivityManagerService_4\n",
      "ActivityManagerService\n"
     ]
    },
    {
     "name": "stderr",
     "output_type": "stream",
     "text": [
      "Processing rows:  23%|██▎       | 45/192 [50:05<2:42:52, 66.48s/it]"
     ]
    },
    {
     "name": "stdout",
     "output_type": "stream",
     "text": [
      "killBackgroundProcesses_ActivityManagerService_3\n",
      "ActivityManagerService\n"
     ]
    },
    {
     "name": "stderr",
     "output_type": "stream",
     "text": [
      "Processing rows:  24%|██▍       | 46/192 [50:57<2:30:44, 61.95s/it]"
     ]
    },
    {
     "name": "stdout",
     "output_type": "stream",
     "text": [
      "startActivityFromRecents_ActivityManagerService_3\n",
      "ActivityManagerService\n"
     ]
    },
    {
     "name": "stderr",
     "output_type": "stream",
     "text": [
      "Processing rows:  24%|██▍       | 47/192 [51:50<2:23:33, 59.40s/it]"
     ]
    },
    {
     "name": "stdout",
     "output_type": "stream",
     "text": [
      "killProcessesBelowForeground_ActivityManagerService_2\n",
      "ActivityManagerService\n"
     ]
    },
    {
     "name": "stderr",
     "output_type": "stream",
     "text": [
      "Processing rows:  25%|██▌       | 48/192 [52:53<2:24:47, 60.33s/it]"
     ]
    },
    {
     "name": "stdout",
     "output_type": "stream",
     "text": [
      "moveTopActivityToPinnedStack_ActivityManagerService_3\n",
      "ActivityManagerService\n"
     ]
    },
    {
     "name": "stderr",
     "output_type": "stream",
     "text": [
      "Processing rows:  26%|██▌       | 49/192 [54:32<2:51:34, 71.99s/it]"
     ]
    },
    {
     "name": "stdout",
     "output_type": "stream",
     "text": [
      "resizeDockedStack_ActivityManagerService_6\n",
      "ActivityManagerService\n"
     ]
    },
    {
     "name": "stderr",
     "output_type": "stream",
     "text": [
      "Processing rows:  26%|██▌       | 50/192 [55:41<2:47:54, 70.95s/it]"
     ]
    },
    {
     "name": "stdout",
     "output_type": "stream",
     "text": [
      "moveActivityTaskToBack_ActivityManagerService_3\n",
      "ActivityManagerService\n"
     ]
    },
    {
     "name": "stderr",
     "output_type": "stream",
     "text": [
      "Processing rows:  27%|██▋       | 51/192 [56:44<2:41:46, 68.84s/it]"
     ]
    },
    {
     "name": "stdout",
     "output_type": "stream",
     "text": [
      "getAllStackInfos_ActivityManagerService_1\n",
      "ActivityManagerService\n"
     ]
    },
    {
     "name": "stderr",
     "output_type": "stream",
     "text": [
      "Processing rows:  27%|██▋       | 52/192 [57:53<2:40:28, 68.78s/it]"
     ]
    },
    {
     "name": "stdout",
     "output_type": "stream",
     "text": [
      "setHasTopUi_ActivityManagerService_2\n",
      "ActivityManagerService\n"
     ]
    },
    {
     "name": "stderr",
     "output_type": "stream",
     "text": [
      "Processing rows:  28%|██▊       | 53/192 [58:46<2:28:04, 63.92s/it]"
     ]
    },
    {
     "name": "stdout",
     "output_type": "stream",
     "text": [
      "startUserInBackgroundWithListener_ActivityManagerService_3\n",
      "ActivityManagerService\n"
     ]
    },
    {
     "name": "stderr",
     "output_type": "stream",
     "text": [
      "Processing rows:  28%|██▊       | 54/192 [59:59<2:33:23, 66.69s/it]"
     ]
    },
    {
     "name": "stdout",
     "output_type": "stream",
     "text": [
      "handleApplicationWtf_ActivityManagerService_5\n",
      "ActivityManagerService\n"
     ]
    }
   ],
   "source": [
    "\n",
    "\n",
    "AMS_Df = trainDF[trainDF['service_name'] == 'ActivityManagerService'].copy()\n",
    "AMS_Df.shape\n",
    "AMS_Df['json_answer'] = None\n",
    "\n",
    "\n",
    "output_folder = \"./outputfriday\"\n",
    "counter = 0\n",
    "for index, row in tqdm(AMS_Df.iterrows(), total=AMS_Df.shape[0], desc=\"Processing rows\"):\n",
    "    print(row['EP'])\n",
    "    print(row['service_name'])\n",
    "    res = run_first_prompt_Ollama(row['java_code'],True)\n",
    "    json_answer = None\n",
    "    try:\n",
    "        json_answer = extract_json_from_string(res[\"response\"])\n",
    "    except Exception as e:\n",
    "        print(f\"Error extracting JSON from response: {e}\")\n",
    "        continue\n",
    "        # Store the json_answer in the new column\n",
    "    AMS_Df.at[index, 'json_answer'] = json_answer\n",
    "\n",
    "    # Write response details to files\n",
    "    folder_path = f'{output_folder}/{row[\"EP\"].split(\"_\")[0]}'\n",
    "    os.makedirs(folder_path, exist_ok=True)\n",
    "\n",
    "    with open(f'{folder_path}/system_message.txt', 'w') as f:\n",
    "        f.write(res[\"system_message\"])\n",
    "    with open(f'{folder_path}/user_message.txt', 'w') as f:\n",
    "        f.write(res[\"user_message\"])\n",
    "    with open(f'{folder_path}/response.txt', 'w') as f:\n",
    "        f.write(res[\"response\"])\n",
    "\n",
    "    if counter == 2:\n",
    "        break\n",
    "pickle_file_path = \"./AMS_Df_promptfriday.pkl\"\n",
    "\n",
    "# Serialize the DataFrame using pickle\n",
    "with open(pickle_file_path, 'wb') as file:\n",
    "    pickle.dump(AMS_Df, file)\n",
    "\n",
    "print(f\"DataFrame serialized and saved to {pickle_file_path}\")"
   ]
  },
  {
   "cell_type": "code",
   "execution_count": 9,
   "metadata": {},
   "outputs": [],
   "source": [
    "# return {\n",
    "#         \"system_message\": prompt1,\n",
    "#         \"user_message\": user_prompt,\n",
    "#         \"response\": response['message']['content']\n",
    "#     }\n",
    "# write res[\"response\"] to a txt file\n",
    "with open('output3.txt', 'w') as f:\n",
    "    f.write(res[\"response\"])\n",
    "    f.close()"
   ]
  },
  {
   "cell_type": "code",
   "execution_count": 12,
   "metadata": {},
   "outputs": [
    {
     "data": {
      "text/plain": [
       "'ActivityTaskManagerService'"
      ]
     },
     "execution_count": 12,
     "metadata": {},
     "output_type": "execute_result"
    }
   ],
   "source": [
    "trainDF\n",
    "\n",
    "word = \"startRecentsActivity_ActivityTaskManagerService_4\"\n",
    "service = word.split(\"_\")[1]\n",
    "service "
   ]
  },
  {
   "cell_type": "code",
   "execution_count": 16,
   "metadata": {},
   "outputs": [
    {
     "data": {
      "text/plain": [
       "Index(['EP', 'code', 'label', 'java_code', 'service_name'], dtype='object')"
      ]
     },
     "execution_count": 16,
     "metadata": {},
     "output_type": "execute_result"
    }
   ],
   "source": [
    "trainDF.columns"
   ]
  },
  {
   "cell_type": "code",
   "execution_count": 14,
   "metadata": {},
   "outputs": [
    {
     "data": {
      "text/plain": [
       "'After analyzing the provided Java code, I have identified several potential sinks that may require access control. Here are the results in JSON format:\\n\\n```\\n{\\n  \"Sinks\": [\\n    [\\n      \"PackageManagerInternal var103 = var101.getPackageManagerInternalLocked();\",\\n      \"ResolveInfo var105 = var103.resolveService(param2,param4,var100,var19,param7);\"\\n    ],\\n    [\\n      \"IntentFirewall var421 = var420.mIntentFirewall;\",\\n      \"boolean var425 = var421.checkService(var422,param2,param7,param6,param4,var423);\"\\n    ],\\n    [\\n      \"AppOpsService var439 = var438.mAppOpsService;\"\\n    ]\\n  ]\\n}\\n```\\n\\nRanking the sinks from most sensitive to least sensitive, I would place them in the following order:\\n\\n1. The first sink involves accessing the PackageManagerInternal instance and resolving a service using the resolveService method. This could potentially allow an attacker to access sensitive information about installed services or even install malicious services.\\n2. The second sink involves checking if a service is allowed to be accessed by a certain user using the IntentFirewall\\'s checkService method. This could potentially allow an attacker to bypass security restrictions and access sensitive data or functionality.\\n3. The third sink involves accessing the AppOpsService instance, which could potentially allow an attacker to manipulate app operations or access sensitive information about app usage.\\n\\nNote that these rankings are subjective and may vary depending on the specific context and requirements of the system.'"
      ]
     },
     "execution_count": 14,
     "metadata": {},
     "output_type": "execute_result"
    }
   ],
   "source": [
    "res[\"response\"]"
   ]
  },
  {
   "cell_type": "code",
   "execution_count": null,
   "metadata": {},
   "outputs": [],
   "source": [
    "\n",
    "\n",
    "\n",
    "\n",
    "json_answer = extract_json_from_string(res[\"response\"])"
   ]
  },
  {
   "cell_type": "code",
   "execution_count": 21,
   "metadata": {},
   "outputs": [
    {
     "data": {
      "text/plain": [
       "{'Sinks': [['PackageManagerInternal var103 = var101.getPackageManagerInternalLocked();',\n",
       "   'ResolveInfo var105 = var103.resolveService(param2,param4,var100,var19,param7);'],\n",
       "  ['IntentFirewall var421 = var420.mIntentFirewall;',\n",
       "   'boolean var425 = var421.checkService(var422,param2,param7,param6,param4,var423);'],\n",
       "  ['AppOpsService var439 = var438.mAppOpsService;']]}"
      ]
     },
     "execution_count": 21,
     "metadata": {},
     "output_type": "execute_result"
    }
   ],
   "source": [
    "json_answer"
   ]
  },
  {
   "cell_type": "code",
   "execution_count": 64,
   "metadata": {},
   "outputs": [
    {
     "data": {
      "text/html": [
       "<div>\n",
       "<style scoped>\n",
       "    .dataframe tbody tr th:only-of-type {\n",
       "        vertical-align: middle;\n",
       "    }\n",
       "\n",
       "    .dataframe tbody tr th {\n",
       "        vertical-align: top;\n",
       "    }\n",
       "\n",
       "    .dataframe thead th {\n",
       "        text-align: right;\n",
       "    }\n",
       "</style>\n",
       "<table border=\"1\" class=\"dataframe\">\n",
       "  <thead>\n",
       "    <tr style=\"text-align: right;\">\n",
       "      <th></th>\n",
       "      <th>EP</th>\n",
       "      <th>code</th>\n",
       "      <th>label</th>\n",
       "      <th>java_code</th>\n",
       "      <th>service_name</th>\n",
       "      <th>json_answer</th>\n",
       "    </tr>\n",
       "  </thead>\n",
       "  <tbody>\n",
       "    <tr>\n",
       "      <th>0</th>\n",
       "      <td>bindService_ActivityManagerService_9</td>\n",
       "      <td>[inv]: int var12 = bindIsolatedService(param2,...</td>\n",
       "      <td>1</td>\n",
       "      <td>// Method: bindService\\n// Service: ActivityMa...</td>\n",
       "      <td>ActivityManagerService</td>\n",
       "      <td>{'Sinks': [['ActivityManagerService var101 = t...</td>\n",
       "    </tr>\n",
       "    <tr>\n",
       "      <th>2</th>\n",
       "      <td>sendIdleJobTrigger_ActivityManagerService_1</td>\n",
       "      <td>[inv]: long var10 = Binder.clearCallingIdentit...</td>\n",
       "      <td>1</td>\n",
       "      <td>// Method: sendIdleJobTrigger\\n// Service: Act...</td>\n",
       "      <td>ActivityManagerService</td>\n",
       "      <td>{'Sinks': [['int var22 = broadcastIntent(0, va...</td>\n",
       "    </tr>\n",
       "    <tr>\n",
       "      <th>7</th>\n",
       "      <td>startService_ActivityManagerService_7</td>\n",
       "      <td>[inv]: boolean var12 = hasFileDescriptors();&lt;|...</td>\n",
       "      <td>1</td>\n",
       "      <td>// Method: startService\\n// Service: ActivityM...</td>\n",
       "      <td>ActivityManagerService</td>\n",
       "      <td>{'Sinks': [['boolean var425 = var421.checkServ...</td>\n",
       "    </tr>\n",
       "    <tr>\n",
       "      <th>10</th>\n",
       "      <td>updateConfiguration_ActivityManagerService_2</td>\n",
       "      <td>[get]: ActivityTaskManagerService var3 = this....</td>\n",
       "      <td>1</td>\n",
       "      <td>// Method: updateConfiguration\\n// Service: Ac...</td>\n",
       "      <td>ActivityManagerService</td>\n",
       "      <td>{'Sinks': [['SystemProperties.set(persist.sys....</td>\n",
       "    </tr>\n",
       "    <tr>\n",
       "      <th>22</th>\n",
       "      <td>getProcessMemoryInfo_ActivityManagerService_2</td>\n",
       "      <td>[inv]: long var6 = SystemClock.uptimeMillis();...</td>\n",
       "      <td>1</td>\n",
       "      <td>// Method: getProcessMemoryInfo\\n// Service: A...</td>\n",
       "      <td>ActivityManagerService</td>\n",
       "      <td>{'Sinks': [['Debug.getMemoryInfo(var60,var58);...</td>\n",
       "    </tr>\n",
       "  </tbody>\n",
       "</table>\n",
       "</div>"
      ],
      "text/plain": [
       "                                               EP  \\\n",
       "0            bindService_ActivityManagerService_9   \n",
       "2     sendIdleJobTrigger_ActivityManagerService_1   \n",
       "7           startService_ActivityManagerService_7   \n",
       "10   updateConfiguration_ActivityManagerService_2   \n",
       "22  getProcessMemoryInfo_ActivityManagerService_2   \n",
       "\n",
       "                                                 code  label  \\\n",
       "0   [inv]: int var12 = bindIsolatedService(param2,...      1   \n",
       "2   [inv]: long var10 = Binder.clearCallingIdentit...      1   \n",
       "7   [inv]: boolean var12 = hasFileDescriptors();<|...      1   \n",
       "10  [get]: ActivityTaskManagerService var3 = this....      1   \n",
       "22  [inv]: long var6 = SystemClock.uptimeMillis();...      1   \n",
       "\n",
       "                                            java_code            service_name  \\\n",
       "0   // Method: bindService\\n// Service: ActivityMa...  ActivityManagerService   \n",
       "2   // Method: sendIdleJobTrigger\\n// Service: Act...  ActivityManagerService   \n",
       "7   // Method: startService\\n// Service: ActivityM...  ActivityManagerService   \n",
       "10  // Method: updateConfiguration\\n// Service: Ac...  ActivityManagerService   \n",
       "22  // Method: getProcessMemoryInfo\\n// Service: A...  ActivityManagerService   \n",
       "\n",
       "                                          json_answer  \n",
       "0   {'Sinks': [['ActivityManagerService var101 = t...  \n",
       "2   {'Sinks': [['int var22 = broadcastIntent(0, va...  \n",
       "7   {'Sinks': [['boolean var425 = var421.checkServ...  \n",
       "10  {'Sinks': [['SystemProperties.set(persist.sys....  \n",
       "22  {'Sinks': [['Debug.getMemoryInfo(var60,var58);...  "
      ]
     },
     "execution_count": 64,
     "metadata": {},
     "output_type": "execute_result"
    }
   ],
   "source": [
    "# read the serialized DataFrame\n",
    "with open(pickle_file_path, 'rb') as file:\n",
    "    AMS_Df = pickle.load(file)\n",
    "    \n",
    "AMS_Df.head()"
   ]
  }
 ],
 "metadata": {
  "kernelspec": {
   "display_name": ".env",
   "language": "python",
   "name": "python3"
  },
  "language_info": {
   "codemirror_mode": {
    "name": "ipython",
    "version": 3
   },
   "file_extension": ".py",
   "mimetype": "text/x-python",
   "name": "python",
   "nbconvert_exporter": "python",
   "pygments_lexer": "ipython3",
   "version": "3.10.4"
  }
 },
 "nbformat": 4,
 "nbformat_minor": 2
}
