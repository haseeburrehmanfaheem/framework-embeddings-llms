{
 "cells": [
  {
   "cell_type": "code",
   "execution_count": 4,
   "metadata": {},
   "outputs": [
    {
     "name": "stdout",
     "output_type": "stream",
     "text": [
      "Fri Nov 22 19:14:03 2024       \n",
      "+-----------------------------------------------------------------------------------------+\n",
      "| NVIDIA-SMI 550.54.14              Driver Version: 550.54.14      CUDA Version: 12.4     |\n",
      "|-----------------------------------------+------------------------+----------------------+\n",
      "| GPU  Name                 Persistence-M | Bus-Id          Disp.A | Volatile Uncorr. ECC |\n",
      "| Fan  Temp   Perf          Pwr:Usage/Cap |           Memory-Usage | GPU-Util  Compute M. |\n",
      "|                                         |                        |               MIG M. |\n",
      "|=========================================+========================+======================|\n",
      "|   0  NVIDIA A40                     Off |   00000000:81:00.0 Off |                    0 |\n",
      "|  0%   23C    P8             22W /  300W |       0MiB /  46068MiB |      0%      Default |\n",
      "|                                         |                        |                  N/A |\n",
      "+-----------------------------------------+------------------------+----------------------+\n",
      "                                                                                         \n",
      "+-----------------------------------------------------------------------------------------+\n",
      "| Processes:                                                                              |\n",
      "|  GPU   GI   CI        PID   Type   Process name                              GPU Memory |\n",
      "|        ID   ID                                                               Usage      |\n",
      "|=========================================================================================|\n",
      "|  No running processes found                                                             |\n",
      "+-----------------------------------------------------------------------------------------+\n"
     ]
    }
   ],
   "source": [
    "!nvidia-smi"
   ]
  },
  {
   "cell_type": "code",
   "execution_count": 3,
   "metadata": {},
   "outputs": [],
   "source": [
    "import pandas as pd\n",
    "from sklearn.model_selection import train_test_split\n",
    "import re\n",
    "import sys, getopt\n",
    "import jsonlines\n",
    "import random\n",
    "import numpy as np\n",
    "import pickle\n",
    "from tqdm import tqdm"
   ]
  },
  {
   "cell_type": "code",
   "execution_count": 5,
   "metadata": {},
   "outputs": [],
   "source": [
    "import pandas as pd\n",
    "import re\n",
    "import numpy as np\n",
    "import os\n",
    "import time\n",
    "from openai import OpenAI\n",
    "import pandas as pd\n",
    "import jsonlines\n",
    "import numpy as np\n",
    "from tqdm import tqdm\n",
    "import json\n",
    "import tiktoken\n",
    "import ollama\n",
    "import csv\n",
    "import copy\n",
    "encoding = tiktoken.encoding_for_model(\"gpt-4\")\n",
    "import os\n",
    "import sys\n",
    "import logging\n",
    "from tqdm import tqdm\n",
    "\n",
    "\n",
    "\n",
    "model = 'llama3.1:70b'\n",
    "num_ctx = 15000"
   ]
  },
  {
   "cell_type": "code",
   "execution_count": 6,
   "metadata": {},
   "outputs": [],
   "source": [
    "\n",
    "###################\n",
    "# Utility Functions\n",
    "###################\n",
    "\n",
    "def getWithoutAC(s):\n",
    "    s = s[1:-1]\n",
    "    s = s.split(\", \")\n",
    "    withoutAccess = []\n",
    "    for k in s:\n",
    "        if \"[AC]\" not in k:\n",
    "            withoutAccess.append(k)\n",
    "    return \"<|>\".join(withoutAccess)\n",
    "\n",
    "def extractAC(s):\n",
    "    s = s[1:-1]\n",
    "    s = s.split(\", \")\n",
    "    ans = -1\n",
    "    \n",
    "    for k in s:\n",
    "        if \"[AC]\" in k:\n",
    "            match = re.search(r'\\((\\d+)\\)', k)\n",
    "            if match:\n",
    "                number = int(match.group(1))\n",
    "                ans = max(ans, number)\n",
    "    m = {-1: 0, 0: 0, 1: 0, 2: 1, 3: 1}\n",
    "    return m[ans]\n",
    "\n",
    "def parse_data_string(dict_str):\n",
    "    newDict = {}\n",
    "    dict_str = dict_str[1:-1]\n",
    "    dict_str = dict_str.split(',')\n",
    "    for d in dict_str:\n",
    "        newDict[d.split('=')[0].strip()] = d.split('=')[1].strip()\n",
    "    return newDict\n",
    "\n",
    "def getData(fileName):\n",
    "# Read the file\n",
    "    with open(fileName, \"r\") as file:\n",
    "        lines = file.readlines()\n",
    "\n",
    "    # Initialize variables\n",
    "    current_ep = None\n",
    "    all_entries = []\n",
    "\n",
    "    # Iterate over the lines in the file\n",
    "    for line in lines:\n",
    "        # If the line starts with 'EP:', it's the start of a new EP block\n",
    "        if line.startswith('EP:'):\n",
    "            current_ep = line.strip().split('EP: ')[1]\n",
    "        # If the line starts with 'ControlFlow:', it's the start of a new data block\n",
    "        elif line.startswith('ControlFlow:'):\n",
    "            current_block = {}\n",
    "            current_block['EP'] = current_ep\n",
    "            current_block['code'] = line.strip().split('ControlFlow: ')[1]\n",
    "            all_entries.append(current_block)\n",
    "        # elif line.startswith('Features:'):\n",
    "        #     newDict = parse_data_string(line.strip().split('Features: ')[1])\n",
    "        #     for k in newDict.keys():\n",
    "        #         current_block[k] = newDict[k]\n",
    "        #     all_entries.append(current_block)\n",
    "\n",
    "    # Convert the list of blocks to a dataframe\n",
    "    df = pd.DataFrame(all_entries)\n",
    "    df[\"label\"] = df[\"code\"].apply(extractAC)\n",
    "    df[\"code\"] = df[\"code\"].apply(getWithoutAC)\n",
    "    return df\n",
    "\n",
    "import numpy as np\n",
    "\n",
    "def slidingWindow(path):\n",
    "    window = []\n",
    "    curPath = []\n",
    "    for p in path:\n",
    "        curPath.append(p)\n",
    "        window.append(list(curPath))\n",
    "    return window\n",
    "\n",
    "\n",
    "def decompose(df):\n",
    "    # Create a helper column for chunk grouping\n",
    "    df['group'] = np.where(df['label'] == 0, np.arange(len(df)), df.groupby('EP').cumcount() // 4)\n",
    "\n",
    "    # Group by 'EP', 'label' and 'group', and then merge 'subsequences'\n",
    "    df_agg = df.groupby(['EP', 'label', 'group']).agg({\n",
    "        'code': lambda x: '<PATH_SEP>'.join(x)\n",
    "    })\n",
    "\n",
    "    # Reset the index to get 'EP' and 'label' as columns\n",
    "    df_agg.reset_index(inplace=True)\n",
    "\n",
    "    # Drop the 'group' column\n",
    "    df_agg.drop(columns=['group'], inplace=True)\n",
    "\n",
    "    # If you still want to aggregate 'label' by taking the max value\n",
    "    df_agg['label'] = df_agg.groupby('EP')['label'].transform('max')\n",
    "\n",
    "    return df_agg\n",
    "\n",
    "\n",
    "\n",
    "def shuffle_dataframes(df):\n",
    "    # Concatenate the dataframes\n",
    "    \n",
    "    # Separate the labels from the features\n",
    "    X = df.drop('label', axis=1)\n",
    "    y = df['label']\n",
    "\n",
    "    # Split the data into train and remaining data (test + validation)\n",
    "    X_train, X_test, y_train, y_test = train_test_split(X, y, test_size=0.2, random_state=42, stratify=y)\n",
    "\n",
    "    # Create train, test, and validation dataframes\n",
    "    train_df = pd.concat([X_train, y_train], axis=1)\n",
    "    test_df = pd.concat([X_test, y_test], axis=1)\n",
    "    \n",
    "    return train_df, test_df\n",
    "\n",
    "\n",
    "# Creating the Training Data for the model\n",
    "def createJsonL(df, fileName):\n",
    "    fileName = fileName.replace(\".txt\", \"\")\n",
    "    json_objects = []\n",
    "\n",
    "    # Group the DataFrame by unique values in the 'EP' column\n",
    "    grouped = df.groupby('EP')\n",
    "\n",
    "    # Iterate over each group\n",
    "    for _, group in grouped:\n",
    "        # Shuffle the group randomly\n",
    "        shuffled_group = group.sample(frac=1, random_state=42)  # Set a random_state for reproducibility\n",
    "\n",
    "        # Keep at most 10 rows in the shuffled group\n",
    "        # shuffled_group = shuffled_group.head(10)\n",
    "\n",
    "        # Iterate over each row in the shuffled group\n",
    "        for _, row in shuffled_group.iterrows():\n",
    "            prompt = []\n",
    "\n",
    "            # Iterate over each column (excluding 'label')\n",
    "            for column in shuffled_group.columns:\n",
    "                if column != 'label':\n",
    "                    prompt.append(str(column) + ' = ' + str(row[column]))\n",
    "\n",
    "            # Create the JSON object\n",
    "            json_object = {\n",
    "                'code': \" \".join(prompt),\n",
    "                'label': int(row['label'])\n",
    "            }\n",
    "\n",
    "            # Append the JSON object to the list\n",
    "            json_objects.append(json_object)\n",
    "\n",
    "    with jsonlines.open(fileName, 'w') as writer:\n",
    "        writer.write_all(json_objects)\n"
   ]
  },
  {
   "cell_type": "code",
   "execution_count": 27,
   "metadata": {},
   "outputs": [
    {
     "name": "stdout",
     "output_type": "stream",
     "text": [
      "################\n",
      "1 - Protection Required\n",
      "0 - No Protection\n",
      "################\n",
      "\n",
      "LabelCounts:\n",
      " label\n",
      "1    36207\n",
      "0     9623\n",
      "Name: count, dtype: int64\n",
      "LabelCounts:\n",
      " label\n",
      "1    14903\n",
      "0     5242\n",
      "Name: count, dtype: int64\n",
      "                                 EP  label  \\\n",
      "0  abandonAudioFocus_AudioService_5      0   \n",
      "1  abandonAudioFocus_AudioService_5      0   \n",
      "2  abandonAudioFocus_AudioService_5      0   \n",
      "3  abandonAudioFocus_AudioService_5      0   \n",
      "4  abandonAudioFocus_AudioService_5      0   \n",
      "\n",
      "                                                code  \n",
      "0  [get]: MediaFocusControl var6 = this.mMediaFoc...  \n",
      "1  [get]: MediaFocusControl var6 = this.mMediaFoc...  \n",
      "2  [get]: MediaFocusControl var6 = this.mMediaFoc...  \n",
      "3  [get]: MediaFocusControl var6 = this.mMediaFoc...  \n",
      "4  [get]: MediaFocusControl var6 = this.mMediaFoc...  \n"
     ]
    }
   ],
   "source": [
    "file_name = \"data/aosp.txt\"\n",
    "try:\n",
    "    df = getData(file_name)\n",
    "except:\n",
    "    print(f\"Could not read {file_name}\")\n",
    "\n",
    "label_counts = df['label'].value_counts()\n",
    "\n",
    "print(\"################\\n1 - Protection Required\\n0 - No Protection\\n################\\n\")\n",
    "\n",
    "print(\"LabelCounts:\\n\", label_counts)\n",
    "merged_aaAdf = decompose(df)\n",
    "merged_df = merged_aaAdf\n",
    "trainDF, testDF = shuffle_dataframes(merged_df)\n",
    "\n",
    "label_counts = merged_df['label'].value_counts()\n",
    "print(\"LabelCounts:\\n\", label_counts)\n",
    "\n",
    "print(merged_df.head())\n",
    "\n",
    "createJsonL(trainDF, f'{file_name}_train.jsonl')\n",
    "createJsonL(testDF, f'{file_name}_test.jsonl')"
   ]
  },
  {
   "cell_type": "code",
   "execution_count": 6,
   "metadata": {},
   "outputs": [],
   "source": [
    "# trainDF.iloc[0]['code']\n",
    "def generate_java_method(name, code):\n",
    "    # Extract the API name and method name dynamically\n",
    "    api_name, method_name = name.split(\"_\", 1)\n",
    "\n",
    "    # Start the Java code formatting\n",
    "    java_code = []\n",
    "    java_code.append(f\"// Method: {api_name}\")\n",
    "    java_code.append(f\"// Service: {method_name}\\n\")\n",
    "    java_code.append(f\"public void {api_name}() {{\")\n",
    "\n",
    "    # Split and clean up the code\n",
    "    lines = code.split(\"<|>\")\n",
    "    for line in lines:\n",
    "        # Remove [..]: and clean up the lines\n",
    "        cleaned_line = re.sub(r\"\\[.*?\\]: \", \"\", line).strip()\n",
    "        if cleaned_line:\n",
    "            # Ensure only one semicolon is added\n",
    "            if not cleaned_line.endswith(\";\"):\n",
    "                cleaned_line += \";\"\n",
    "            java_code.append(f\"    {cleaned_line}\")\n",
    "\n",
    "    java_code.append(\"}\")\n",
    "    return \"\\n\".join(java_code)\n",
    "\n",
    "\n",
    "# s= generate_java_method(trainDF.iloc[0]['EP'],trainDF.iloc[0]['code'])\n",
    "# s\n",
    "trainDF['java_code'] = trainDF.apply(lambda row: generate_java_method(row['EP'], row['code']), axis=1)\n",
    "## DROP THE DUPLICATES USING LENGTH\n",
    "trainDF['code_length'] = trainDF['java_code'].map(len)\n",
    "trainDF = (\n",
    "    trainDF.sort_values(by='code_length', ascending=False)  \n",
    "    .drop_duplicates(subset=trainDF.columns[0])             \n",
    "    .reset_index(drop=True)                                 \n",
    ")\n",
    "trainDF = trainDF.drop(columns=['code_length'])\n",
    "trainDF['service_name'] = trainDF['EP'].apply(lambda word: word.split(\"_\")[1])\n"
   ]
  },
  {
   "cell_type": "code",
   "execution_count": null,
   "metadata": {},
   "outputs": [],
   "source": [
    "def run_first_prompt_Ollama(method_code,run):\n",
    "    \"\"\" runs the first prompt - extract sinks from the traces\n",
    "    \"\"\"\n",
    "    prompt1 = f\"\"\"\n",
    "    You are an expert in the Android Framework and security, particularly focusing on access control for Android APIs. Your task is to determine if a given Android API needs to have an Access Control or not.\n",
    "    I will provide you with the API name, parameters, and its static execution path. Your first task is to identify potential sink(s) in the API. You must place special attention to field access and updates as well as internal method invocations inside the API (e.g., native methods, file access methods, non-exposed service methods).\n",
    "    Additionally, take hints from the method name, and if you encounter similar fields or method invocations in the traces, consider them as potential sinks, as they may relate to key functionality.\n",
    "    \n",
    "    Think like a human, break down each step in the execution to understand how data flows through the API, how internal fields are accessed or updated, and how different methods interact with sensitive data and provide reasoning.\n",
    "    \n",
    "    However, you should only return sinks that appear to handle sensitive information or may pose security/privacy risks. Avoid listing generic, non-sensitive operations, such as logging (e.g., accessing TAG fields), simple data type operations (e.g., Integer.valueOf, HashMap.get), string operations, basic object manipulations, locks, etc.\n",
    "\n",
    "    For each potential sink you identify, provide detailed information in JSON format. Here are the categories and information fields:\n",
    "    {{\n",
    "    \"Sinks\": [\n",
    "        {{\n",
    "            \"Type\": \"field\",  \n",
    "            \"Trace_Event\": \"...\",  # Field trace event indicating where the sink occurs, keep the event same as in the trace\n",
    "            \"AccessType\": \"get/set\",  \n",
    "        }},\n",
    "        {{\n",
    "            \"Type\": \"method\", \n",
    "            \"Trace_Event\": \"...\",  # Invoke trace event indicating where the sink occurs, keep the event same as in the trace\n",
    "            \"InvokedOn\": \"...\",  \n",
    "        }}\n",
    "    ]\n",
    "    }}\n",
    "\n",
    "    InvokedOn should represent the field or object on which the method is invoked. If the method is invoked on an object that is retrieved dynamically (i.e., not through a field), or if there is no explicit field mentioned in the trace, leave InvokedOn as an empty string (\"\"). Only fill \"InvokedOn\" when the trace **explicitly shows** the *name* of the field. Do not assume it; if it is unclear, leave it empty.\n",
    "\n",
    "    Additionally, rank the sinks from the most sensitive to the least sensitive. The most sensitive sink should appear at the top of the list and the least sensitive at the bottom. Make sure the response includes a valid JSON and the reasoning for each sink. \\n\n",
    "    \"\"\"\n",
    "    \n",
    "    \n",
    "    prompt1 = f\"\"\"\n",
    "            You are an expert in the Android Framework and security, particularly focusing on access control for Android APIs. Your task is to analyze the Java code of an Android API and determine whether it contains sinks that require access control.\n",
    "            I will provide you with the API name and its code. Your task is to identify a set of potential sink(s) in the API. You must place special attention to field access and updates as well as internal method invocations inside the API (e.g., native methods, file access methods, non-exposed service methods).\n",
    "            The instructions that form a sink may not always appear consecutively in the code. Analyze the flow of the API to identify the *complete set of instructions* that together contribute to a sink.\n",
    "            \n",
    "            Here are the positive rules that indicate potential sinks:\n",
    "            Method invocations, especially native methods.\n",
    "            Field get or set operations with sensitive naming or dataflow significance.\n",
    "            Creation of new objects (new) with sensitive naming or dataflow links.\n",
    "            Arguments and dataflow related to the API functionality.\n",
    "            \n",
    "            and negative rules:\n",
    "            Generic utility methods (e.g., valueOf, toString, isEmpty).\n",
    "            Logging methods, input validation/sanity checks.\n",
    "            Auxiliary operations (e.g., locks, obtaining an instance of a class, or accessing context objects).\n",
    "            \n",
    "            Think like a human, break down each step in the execution to understand how data flows through the API, how internal fields are accessed or updated, and how different methods interact with sensitive data and provide reasoning.\n",
    "\n",
    "            For each potential set of sinks you identify, provide information in JSON format. Here are the categories and information fields:\n",
    "            {{\n",
    "                \"Sinks\": [\n",
    "                    [\n",
    "                        code 1  # The first code that contributes to the sink\n",
    "                        code 2  # Another relevant instruction (not necessarily consecutive)\n",
    "                        code 3  # Continue listing all relevant code for this sink\n",
    "                    ],\n",
    "                    [\n",
    "                        code 1  # Instructions for another sink\n",
    "                        code 2\n",
    "                        code 3\n",
    "                    ]\n",
    "                ]\n",
    "            }}\n",
    "            Each array inside \"Sinks\" represents a complete set of code instructions that collectively form a sink. Ensure each instruction is copied verbatim from the Java code provided.\n",
    "            Additionally, rank the sinks from the most sensitive to the least sensitive. The most sensitive set of sink should appear at the top of the list and the least sensitive at the bottom. Make sure the response includes a valid JSON and the reasoning for each sink. \\n\n",
    "            \"\"\"\n",
    "\n",
    "\n",
    "    # user_prompt = get_method_traces_from_file(file_path, interface, method)\n",
    "    \n",
    "    user_prompt = method_code\n",
    "    if(not run):\n",
    "        return {\n",
    "            \"system_message\": prompt1,\n",
    "            \"user_message\": user_prompt,\n",
    "            \"response\": \"Not running\"\n",
    "        }\n",
    "        \n",
    "        \n",
    "    \n",
    "    response = ollama.chat(model=model, messages=[\n",
    "    {\n",
    "        'role': 'user',\n",
    "        'content': prompt1 + user_prompt,\n",
    "    },\n",
    "    ]\n",
    "    ,\n",
    "     options={\n",
    "        'num_ctx': num_ctx,\n",
    "        'temperature': 0.3 \n",
    "    }\n",
    "    \n",
    "    )\n",
    "    \n",
    "    # logging.info(f\"Response for {method} = {response['message']['content']}\")\n",
    "\n",
    "    \n",
    "    return {\n",
    "        \"system_message\": prompt1,\n",
    "        \"user_message\": user_prompt,\n",
    "        \"response\": response['message']['content']\n",
    "    }\n",
    "    \n",
    "\n",
    "# get the json from the res[\"response\"]\n",
    "\n",
    "def extract_json_from_string(input_string):\n",
    "    \"\"\"\n",
    "    Extracts JSON from the given string.\n",
    "\n",
    "    Args:\n",
    "        input_string (str): The string containing embedded JSON.\n",
    "\n",
    "    Returns:\n",
    "        dict: The extracted JSON as a Python dictionary.\n",
    "    \"\"\"\n",
    "    try:\n",
    "        # Use a regex pattern to extract the JSON part\n",
    "        json_pattern = r\"```(?:json)?\\n(.*?)\\n```\"\n",
    "        match = re.search(json_pattern, input_string, re.DOTALL)\n",
    "        if match:\n",
    "            json_string = match.group(1)\n",
    "            return json.loads(json_string)\n",
    "        else:\n",
    "            raise ValueError(\"No JSON found in the provided string.\")\n",
    "    except json.JSONDecodeError as e:\n",
    "        raise ValueError(f\"Error decoding JSON: {e}\")"
   ]
  },
  {
   "cell_type": "code",
   "execution_count": 63,
   "metadata": {},
   "outputs": [
    {
     "name": "stderr",
     "output_type": "stream",
     "text": [
      "Processing rows:   0%|          | 0/192 [00:00<?, ?it/s]"
     ]
    },
    {
     "name": "stdout",
     "output_type": "stream",
     "text": [
      "bindService_ActivityManagerService_9\n",
      "ActivityManagerService\n"
     ]
    },
    {
     "name": "stderr",
     "output_type": "stream",
     "text": [
      "Processing rows:   1%|          | 1/192 [01:30<4:48:06, 90.51s/it]"
     ]
    },
    {
     "name": "stdout",
     "output_type": "stream",
     "text": [
      "sendIdleJobTrigger_ActivityManagerService_1\n",
      "ActivityManagerService\n"
     ]
    },
    {
     "name": "stderr",
     "output_type": "stream",
     "text": [
      "Processing rows:   1%|          | 2/192 [02:57<4:39:14, 88.18s/it]"
     ]
    },
    {
     "name": "stdout",
     "output_type": "stream",
     "text": [
      "startService_ActivityManagerService_7\n",
      "ActivityManagerService\n"
     ]
    },
    {
     "name": "stderr",
     "output_type": "stream",
     "text": [
      "Processing rows:   2%|▏         | 3/192 [04:13<4:20:32, 82.71s/it]"
     ]
    },
    {
     "name": "stdout",
     "output_type": "stream",
     "text": [
      "updateConfiguration_ActivityManagerService_2\n",
      "ActivityManagerService\n"
     ]
    },
    {
     "name": "stderr",
     "output_type": "stream",
     "text": [
      "Processing rows:   2%|▏         | 4/192 [05:19<3:58:28, 76.11s/it]"
     ]
    },
    {
     "name": "stdout",
     "output_type": "stream",
     "text": [
      "getProcessMemoryInfo_ActivityManagerService_2\n",
      "ActivityManagerService\n"
     ]
    },
    {
     "name": "stderr",
     "output_type": "stream",
     "text": [
      "Processing rows:   3%|▎         | 5/192 [06:26<3:46:55, 72.81s/it]"
     ]
    },
    {
     "name": "stdout",
     "output_type": "stream",
     "text": [
      "bindIsolatedService_ActivityManagerService_10\n",
      "ActivityManagerService\n"
     ]
    },
    {
     "name": "stderr",
     "output_type": "stream",
     "text": [
      "Processing rows:   3%|▎         | 6/192 [07:24<3:30:17, 67.84s/it]"
     ]
    },
    {
     "name": "stdout",
     "output_type": "stream",
     "text": [
      "stopService_ActivityManagerService_5\n",
      "ActivityManagerService\n"
     ]
    },
    {
     "name": "stderr",
     "output_type": "stream",
     "text": [
      "Processing rows:   4%|▎         | 7/192 [08:52<3:49:20, 74.38s/it]"
     ]
    },
    {
     "name": "stdout",
     "output_type": "stream",
     "text": [
      "moveTaskToStack_ActivityManagerService_4\n",
      "ActivityManagerService\n"
     ]
    },
    {
     "name": "stderr",
     "output_type": "stream",
     "text": [
      "Processing rows:   4%|▍         | 8/192 [10:02<3:44:18, 73.15s/it]"
     ]
    },
    {
     "name": "stdout",
     "output_type": "stream",
     "text": [
      "getProcessPss_ActivityManagerService_2\n",
      "ActivityManagerService\n"
     ]
    },
    {
     "name": "stderr",
     "output_type": "stream",
     "text": [
      "Processing rows:   5%|▍         | 9/192 [11:21<3:48:53, 75.05s/it]"
     ]
    },
    {
     "name": "stdout",
     "output_type": "stream",
     "text": [
      "setServiceForeground_ActivityManagerService_7\n",
      "ActivityManagerService\n"
     ]
    },
    {
     "name": "stderr",
     "output_type": "stream",
     "text": [
      "Processing rows:   5%|▌         | 10/192 [12:21<3:32:58, 70.21s/it]"
     ]
    },
    {
     "name": "stdout",
     "output_type": "stream",
     "text": [
      "broadcastIntent_ActivityManagerService_14\n",
      "ActivityManagerService\n"
     ]
    },
    {
     "name": "stderr",
     "output_type": "stream",
     "text": [
      "Processing rows:   6%|▌         | 11/192 [13:08<3:10:56, 63.30s/it]"
     ]
    },
    {
     "name": "stdout",
     "output_type": "stream",
     "text": [
      "peekService_ActivityManagerService_4\n",
      "ActivityManagerService\n"
     ]
    },
    {
     "name": "stderr",
     "output_type": "stream",
     "text": [
      "Processing rows:   6%|▋         | 12/192 [14:05<3:04:05, 61.36s/it]"
     ]
    },
    {
     "name": "stdout",
     "output_type": "stream",
     "text": [
      "getContentProvider_ActivityManagerService_6\n",
      "ActivityManagerService\n"
     ]
    },
    {
     "name": "stderr",
     "output_type": "stream",
     "text": [
      "Processing rows:   7%|▋         | 13/192 [14:53<2:50:23, 57.11s/it]"
     ]
    },
    {
     "name": "stdout",
     "output_type": "stream",
     "text": [
      "bootAnimationComplete_ActivityManagerService_1\n",
      "ActivityManagerService\n"
     ]
    },
    {
     "name": "stderr",
     "output_type": "stream",
     "text": [
      "Processing rows:   7%|▋         | 14/192 [15:54<2:53:15, 58.40s/it]"
     ]
    },
    {
     "name": "stdout",
     "output_type": "stream",
     "text": [
      "makePackageIdle_ActivityManagerService_3\n",
      "ActivityManagerService\n"
     ]
    },
    {
     "name": "stderr",
     "output_type": "stream",
     "text": [
      "Processing rows:   8%|▊         | 15/192 [16:53<2:52:27, 58.46s/it]"
     ]
    },
    {
     "name": "stdout",
     "output_type": "stream",
     "text": [
      "sendIntentSender_ActivityManagerService_9\n",
      "ActivityManagerService\n"
     ]
    },
    {
     "name": "stderr",
     "output_type": "stream",
     "text": [
      "Processing rows:   8%|▊         | 16/192 [17:57<2:56:48, 60.28s/it]"
     ]
    },
    {
     "name": "stdout",
     "output_type": "stream",
     "text": [
      "performIdleMaintenance_ActivityManagerService_1\n",
      "ActivityManagerService\n"
     ]
    },
    {
     "name": "stderr",
     "output_type": "stream",
     "text": [
      "Processing rows:   9%|▉         | 17/192 [19:21<3:16:11, 67.26s/it]"
     ]
    },
    {
     "name": "stdout",
     "output_type": "stream",
     "text": [
      "Error extracting JSON from response: Error decoding JSON: Expecting value: line 1 column 1 (char 0)\n",
      "getRunningAppProcesses_ActivityManagerService_1\n",
      "ActivityManagerService\n"
     ]
    },
    {
     "name": "stderr",
     "output_type": "stream",
     "text": [
      "Processing rows:   9%|▉         | 18/192 [20:36<3:21:39, 69.54s/it]"
     ]
    },
    {
     "name": "stdout",
     "output_type": "stream",
     "text": [
      "unregisterReceiver_ActivityManagerService_2\n",
      "ActivityManagerService\n"
     ]
    },
    {
     "name": "stderr",
     "output_type": "stream",
     "text": [
      "Processing rows:  10%|▉         | 19/192 [21:54<3:28:02, 72.15s/it]"
     ]
    },
    {
     "name": "stdout",
     "output_type": "stream",
     "text": [
      "handleApplicationCrash_ActivityManagerService_3\n",
      "ActivityManagerService\n"
     ]
    },
    {
     "name": "stderr",
     "output_type": "stream",
     "text": [
      "Processing rows:  10%|█         | 20/192 [23:13<3:33:11, 74.37s/it]"
     ]
    },
    {
     "name": "stdout",
     "output_type": "stream",
     "text": [
      "unbindFinished_ActivityManagerService_4\n",
      "ActivityManagerService\n"
     ]
    },
    {
     "name": "stderr",
     "output_type": "stream",
     "text": [
      "Processing rows:  11%|█         | 21/192 [24:27<3:31:15, 74.13s/it]"
     ]
    },
    {
     "name": "stdout",
     "output_type": "stream",
     "text": [
      "showBootMessage_ActivityManagerService_3\n",
      "ActivityManagerService\n"
     ]
    },
    {
     "name": "stderr",
     "output_type": "stream",
     "text": [
      "Processing rows:  11%|█▏        | 22/192 [25:25<3:16:32, 69.37s/it]"
     ]
    },
    {
     "name": "stdout",
     "output_type": "stream",
     "text": [
      "getMyMemoryState_ActivityManagerService_2\n",
      "ActivityManagerService\n"
     ]
    },
    {
     "name": "stderr",
     "output_type": "stream",
     "text": [
      "Processing rows:  12%|█▏        | 23/192 [26:25<3:07:33, 66.59s/it]"
     ]
    },
    {
     "name": "stdout",
     "output_type": "stream",
     "text": [
      "unstableProviderDied_ActivityManagerService_2\n",
      "ActivityManagerService\n"
     ]
    },
    {
     "name": "stderr",
     "output_type": "stream",
     "text": [
      "Processing rows:  12%|█▎        | 24/192 [27:33<3:07:02, 66.80s/it]"
     ]
    },
    {
     "name": "stdout",
     "output_type": "stream",
     "text": [
      "finishReceiver_ActivityManagerService_7\n",
      "ActivityManagerService\n"
     ]
    },
    {
     "name": "stderr",
     "output_type": "stream",
     "text": [
      "Processing rows:  13%|█▎        | 25/192 [28:33<3:00:49, 64.97s/it]"
     ]
    },
    {
     "name": "stdout",
     "output_type": "stream",
     "text": [
      "getRunningExternalApplications_ActivityManagerService_1\n",
      "ActivityManagerService\n"
     ]
    },
    {
     "name": "stderr",
     "output_type": "stream",
     "text": [
      "Processing rows:  14%|█▎        | 26/192 [30:30<3:42:21, 80.37s/it]"
     ]
    },
    {
     "name": "stdout",
     "output_type": "stream",
     "text": [
      "Error extracting JSON from response: Error decoding JSON: Expecting value: line 1 column 1 (char 0)\n",
      "getProviderMimeType_ActivityManagerService_3\n",
      "ActivityManagerService\n"
     ]
    },
    {
     "name": "stderr",
     "output_type": "stream",
     "text": [
      "Processing rows:  14%|█▍        | 27/192 [31:55<3:45:21, 81.95s/it]"
     ]
    },
    {
     "name": "stdout",
     "output_type": "stream",
     "text": [
      "setFocusedStack_ActivityManagerService_2\n",
      "ActivityManagerService\n"
     ]
    },
    {
     "name": "stderr",
     "output_type": "stream",
     "text": [
      "Processing rows:  15%|█▍        | 28/192 [32:46<3:18:34, 72.65s/it]"
     ]
    },
    {
     "name": "stdout",
     "output_type": "stream",
     "text": [
      "getContentProviderExternal_ActivityManagerService_5\n",
      "ActivityManagerService\n"
     ]
    },
    {
     "name": "stderr",
     "output_type": "stream",
     "text": [
      "Processing rows:  15%|█▌        | 29/192 [33:55<3:13:56, 71.39s/it]"
     ]
    },
    {
     "name": "stdout",
     "output_type": "stream",
     "text": [
      "getServices_ActivityManagerService_3\n",
      "ActivityManagerService\n"
     ]
    },
    {
     "name": "stderr",
     "output_type": "stream",
     "text": [
      "Processing rows:  16%|█▌        | 30/192 [34:52<3:01:08, 67.09s/it]"
     ]
    },
    {
     "name": "stdout",
     "output_type": "stream",
     "text": [
      "moveTaskToFront_ActivityManagerService_6\n",
      "ActivityManagerService\n"
     ]
    },
    {
     "name": "stderr",
     "output_type": "stream",
     "text": [
      "Processing rows:  16%|█▌        | 31/192 [35:48<2:51:03, 63.75s/it]"
     ]
    },
    {
     "name": "stdout",
     "output_type": "stream",
     "text": [
      "getRecentTasks_ActivityManagerService_4\n",
      "ActivityManagerService\n"
     ]
    },
    {
     "name": "stderr",
     "output_type": "stream",
     "text": [
      "Processing rows:  17%|█▋        | 32/192 [36:56<2:53:22, 65.01s/it]"
     ]
    },
    {
     "name": "stdout",
     "output_type": "stream",
     "text": [
      "setProcessImportant_ActivityManagerService_5\n",
      "ActivityManagerService\n"
     ]
    },
    {
     "name": "stderr",
     "output_type": "stream",
     "text": [
      "Processing rows:  17%|█▋        | 33/192 [37:58<2:50:27, 64.32s/it]"
     ]
    },
    {
     "name": "stdout",
     "output_type": "stream",
     "text": [
      "forceStopPackage_ActivityManagerService_3\n",
      "ActivityManagerService\n"
     ]
    },
    {
     "name": "stderr",
     "output_type": "stream",
     "text": [
      "Processing rows:  18%|█▊        | 34/192 [38:58<2:45:20, 62.79s/it]"
     ]
    },
    {
     "name": "stdout",
     "output_type": "stream",
     "text": [
      "openContentUri_ActivityManagerService_2\n",
      "ActivityManagerService\n"
     ]
    },
    {
     "name": "stderr",
     "output_type": "stream",
     "text": [
      "Processing rows:  18%|█▊        | 35/192 [40:11<2:52:33, 65.95s/it]"
     ]
    },
    {
     "name": "stdout",
     "output_type": "stream",
     "text": [
      "clearApplicationUserData_ActivityManagerService_5\n",
      "ActivityManagerService\n"
     ]
    },
    {
     "name": "stderr",
     "output_type": "stream",
     "text": [
      "Processing rows:  19%|█▉        | 36/192 [41:17<2:51:21, 65.90s/it]"
     ]
    },
    {
     "name": "stdout",
     "output_type": "stream",
     "text": [
      "startUserInBackground_ActivityManagerService_2\n",
      "ActivityManagerService\n"
     ]
    },
    {
     "name": "stderr",
     "output_type": "stream",
     "text": [
      "Processing rows:  19%|█▉        | 37/192 [42:16<2:44:53, 63.83s/it]"
     ]
    },
    {
     "name": "stdout",
     "output_type": "stream",
     "text": [
      "killApplicationProcess_ActivityManagerService_3\n",
      "ActivityManagerService\n"
     ]
    },
    {
     "name": "stderr",
     "output_type": "stream",
     "text": [
      "Processing rows:  20%|█▉        | 38/192 [43:25<2:48:19, 65.58s/it]"
     ]
    },
    {
     "name": "stdout",
     "output_type": "stream",
     "text": [
      "startRecentsActivity_ActivityManagerService_4\n",
      "ActivityManagerService\n"
     ]
    },
    {
     "name": "stderr",
     "output_type": "stream",
     "text": [
      "Processing rows:  20%|██        | 39/192 [44:37<2:51:48, 67.38s/it]"
     ]
    },
    {
     "name": "stdout",
     "output_type": "stream",
     "text": [
      "bindBackupAgent_ActivityManagerService_4\n",
      "ActivityManagerService\n"
     ]
    },
    {
     "name": "stderr",
     "output_type": "stream",
     "text": [
      "Processing rows:  21%|██        | 40/192 [45:45<2:51:24, 67.66s/it]"
     ]
    },
    {
     "name": "stdout",
     "output_type": "stream",
     "text": [
      "updateLockTaskPackages_ActivityManagerService_3\n",
      "ActivityManagerService\n"
     ]
    },
    {
     "name": "stderr",
     "output_type": "stream",
     "text": [
      "Processing rows:  21%|██▏       | 41/192 [47:00<2:55:48, 69.86s/it]"
     ]
    },
    {
     "name": "stdout",
     "output_type": "stream",
     "text": [
      "getIntentSender_ActivityManagerService_11\n",
      "ActivityManagerService\n"
     ]
    },
    {
     "name": "stderr",
     "output_type": "stream",
     "text": [
      "Processing rows:  22%|██▏       | 42/192 [48:13<2:56:30, 70.61s/it]"
     ]
    },
    {
     "name": "stdout",
     "output_type": "stream",
     "text": [
      "resizeStack_ActivityManagerService_7\n",
      "ActivityManagerService\n"
     ]
    },
    {
     "name": "stderr",
     "output_type": "stream",
     "text": [
      "Processing rows:  22%|██▏       | 43/192 [49:14<2:48:53, 68.01s/it]"
     ]
    },
    {
     "name": "stdout",
     "output_type": "stream",
     "text": [
      "setDebugApp_ActivityManagerService_4\n",
      "ActivityManagerService\n"
     ]
    },
    {
     "name": "stderr",
     "output_type": "stream",
     "text": [
      "Processing rows:  23%|██▎       | 44/192 [50:26<2:50:42, 69.21s/it]"
     ]
    },
    {
     "name": "stdout",
     "output_type": "stream",
     "text": [
      "positionTaskInStack_ActivityManagerService_4\n",
      "ActivityManagerService\n"
     ]
    },
    {
     "name": "stderr",
     "output_type": "stream",
     "text": [
      "Processing rows:  23%|██▎       | 45/192 [51:45<2:56:07, 71.88s/it]"
     ]
    },
    {
     "name": "stdout",
     "output_type": "stream",
     "text": [
      "Error extracting JSON from response: Error decoding JSON: Expecting value: line 1 column 1 (char 0)\n",
      "killBackgroundProcesses_ActivityManagerService_3\n",
      "ActivityManagerService\n"
     ]
    },
    {
     "name": "stderr",
     "output_type": "stream",
     "text": [
      "Processing rows:  24%|██▍       | 46/192 [52:43<2:44:44, 67.70s/it]"
     ]
    },
    {
     "name": "stdout",
     "output_type": "stream",
     "text": [
      "startActivityFromRecents_ActivityManagerService_3\n",
      "ActivityManagerService\n"
     ]
    },
    {
     "name": "stderr",
     "output_type": "stream",
     "text": [
      "Processing rows:  24%|██▍       | 47/192 [53:43<2:38:04, 65.41s/it]"
     ]
    },
    {
     "name": "stdout",
     "output_type": "stream",
     "text": [
      "killProcessesBelowForeground_ActivityManagerService_2\n",
      "ActivityManagerService\n"
     ]
    },
    {
     "name": "stderr",
     "output_type": "stream",
     "text": [
      "Processing rows:  25%|██▌       | 48/192 [54:35<2:27:34, 61.49s/it]"
     ]
    },
    {
     "name": "stdout",
     "output_type": "stream",
     "text": [
      "moveTopActivityToPinnedStack_ActivityManagerService_3\n",
      "ActivityManagerService\n"
     ]
    },
    {
     "name": "stderr",
     "output_type": "stream",
     "text": [
      "Processing rows:  26%|██▌       | 49/192 [55:52<2:38:00, 66.30s/it]"
     ]
    },
    {
     "name": "stdout",
     "output_type": "stream",
     "text": [
      "resizeDockedStack_ActivityManagerService_6\n",
      "ActivityManagerService\n"
     ]
    },
    {
     "name": "stderr",
     "output_type": "stream",
     "text": [
      "Processing rows:  26%|██▌       | 50/192 [57:17<2:49:38, 71.68s/it]"
     ]
    },
    {
     "name": "stdout",
     "output_type": "stream",
     "text": [
      "moveActivityTaskToBack_ActivityManagerService_3\n",
      "ActivityManagerService\n"
     ]
    },
    {
     "name": "stderr",
     "output_type": "stream",
     "text": [
      "Processing rows:  27%|██▋       | 51/192 [58:26<2:46:53, 71.01s/it]"
     ]
    },
    {
     "name": "stdout",
     "output_type": "stream",
     "text": [
      "getAllStackInfos_ActivityManagerService_1\n",
      "ActivityManagerService\n"
     ]
    },
    {
     "name": "stderr",
     "output_type": "stream",
     "text": [
      "Processing rows:  27%|██▋       | 52/192 [59:34<2:43:35, 70.11s/it]"
     ]
    },
    {
     "name": "stdout",
     "output_type": "stream",
     "text": [
      "setHasTopUi_ActivityManagerService_2\n",
      "ActivityManagerService\n"
     ]
    },
    {
     "name": "stderr",
     "output_type": "stream",
     "text": [
      "Processing rows:  28%|██▊       | 53/192 [1:01:13<3:02:20, 78.71s/it]"
     ]
    },
    {
     "name": "stdout",
     "output_type": "stream",
     "text": [
      "Error extracting JSON from response: Error decoding JSON: Expecting value: line 1 column 1 (char 0)\n",
      "startUserInBackgroundWithListener_ActivityManagerService_3\n",
      "ActivityManagerService\n"
     ]
    },
    {
     "name": "stderr",
     "output_type": "stream",
     "text": [
      "Processing rows:  28%|██▊       | 54/192 [1:02:37<3:04:36, 80.26s/it]"
     ]
    },
    {
     "name": "stdout",
     "output_type": "stream",
     "text": [
      "handleApplicationWtf_ActivityManagerService_5\n",
      "ActivityManagerService\n"
     ]
    },
    {
     "name": "stderr",
     "output_type": "stream",
     "text": [
      "Processing rows:  29%|██▊       | 55/192 [1:03:38<2:50:00, 74.45s/it]"
     ]
    },
    {
     "name": "stdout",
     "output_type": "stream",
     "text": [
      "killPids_ActivityManagerService_4\n",
      "ActivityManagerService\n"
     ]
    },
    {
     "name": "stderr",
     "output_type": "stream",
     "text": [
      "Processing rows:  29%|██▉       | 56/192 [1:04:32<2:35:13, 68.48s/it]"
     ]
    },
    {
     "name": "stdout",
     "output_type": "stream",
     "text": [
      "startUserInForegroundWithListener_ActivityManagerService_3\n",
      "ActivityManagerService\n"
     ]
    },
    {
     "name": "stderr",
     "output_type": "stream",
     "text": [
      "Processing rows:  30%|██▉       | 57/192 [1:05:27<2:24:33, 64.25s/it]"
     ]
    },
    {
     "name": "stdout",
     "output_type": "stream",
     "text": [
      "unbindBackupAgent_ActivityManagerService_2\n",
      "ActivityManagerService\n"
     ]
    },
    {
     "name": "stderr",
     "output_type": "stream",
     "text": [
      "Processing rows:  30%|███       | 58/192 [1:06:33<2:24:56, 64.90s/it]"
     ]
    },
    {
     "name": "stdout",
     "output_type": "stream",
     "text": [
      "killPackageDependents_ActivityManagerService_3\n",
      "ActivityManagerService\n"
     ]
    },
    {
     "name": "stderr",
     "output_type": "stream",
     "text": [
      "Processing rows:  31%|███       | 59/192 [1:07:28<2:17:24, 61.99s/it]"
     ]
    },
    {
     "name": "stdout",
     "output_type": "stream",
     "text": [
      "startDelegateShellPermissionIdentity_ActivityManagerService_3\n",
      "ActivityManagerService\n"
     ]
    },
    {
     "name": "stderr",
     "output_type": "stream",
     "text": [
      "Processing rows:  31%|███▏      | 60/192 [1:08:27<2:14:14, 61.02s/it]"
     ]
    },
    {
     "name": "stdout",
     "output_type": "stream",
     "text": [
      "removeContentProvider_ActivityManagerService_3\n",
      "ActivityManagerService\n"
     ]
    },
    {
     "name": "stderr",
     "output_type": "stream",
     "text": [
      "Processing rows:  32%|███▏      | 61/192 [1:09:38<2:19:48, 64.04s/it]"
     ]
    },
    {
     "name": "stdout",
     "output_type": "stream",
     "text": [
      "resizeTask_ActivityManagerService_4\n",
      "ActivityManagerService\n"
     ]
    },
    {
     "name": "stderr",
     "output_type": "stream",
     "text": [
      "Processing rows:  32%|███▏      | 62/192 [1:10:47<2:21:48, 65.45s/it]"
     ]
    },
    {
     "name": "stdout",
     "output_type": "stream",
     "text": [
      "publishContentProviders_ActivityManagerService_3\n",
      "ActivityManagerService\n"
     ]
    },
    {
     "name": "stderr",
     "output_type": "stream",
     "text": [
      "Processing rows:  33%|███▎      | 63/192 [1:11:43<2:14:25, 62.52s/it]"
     ]
    },
    {
     "name": "stdout",
     "output_type": "stream",
     "text": [
      "profileControl_ActivityManagerService_6\n",
      "ActivityManagerService\n"
     ]
    },
    {
     "name": "stderr",
     "output_type": "stream",
     "text": [
      "Processing rows:  33%|███▎      | 64/192 [1:13:01<2:23:16, 67.16s/it]"
     ]
    },
    {
     "name": "stdout",
     "output_type": "stream",
     "text": [
      "unlockUser_ActivityManagerService_5\n",
      "ActivityManagerService\n"
     ]
    },
    {
     "name": "stderr",
     "output_type": "stream",
     "text": [
      "Processing rows:  34%|███▍      | 65/192 [1:14:01<2:17:53, 65.15s/it]"
     ]
    },
    {
     "name": "stdout",
     "output_type": "stream",
     "text": [
      "startInstrumentation_ActivityManagerService_9\n",
      "ActivityManagerService\n"
     ]
    },
    {
     "name": "stderr",
     "output_type": "stream",
     "text": [
      "Processing rows:  34%|███▍      | 66/192 [1:15:12<2:20:46, 67.04s/it]"
     ]
    },
    {
     "name": "stdout",
     "output_type": "stream",
     "text": [
      "killUid_ActivityManagerService_4\n",
      "ActivityManagerService\n"
     ]
    },
    {
     "name": "stderr",
     "output_type": "stream",
     "text": [
      "Processing rows:  35%|███▍      | 67/192 [1:16:17<2:17:59, 66.23s/it]"
     ]
    },
    {
     "name": "stdout",
     "output_type": "stream",
     "text": [
      "shutdown_ActivityManagerService_2\n",
      "ActivityManagerService\n"
     ]
    },
    {
     "name": "stderr",
     "output_type": "stream",
     "text": [
      "Processing rows:  35%|███▌      | 68/192 [1:17:31<2:21:56, 68.68s/it]"
     ]
    },
    {
     "name": "stdout",
     "output_type": "stream",
     "text": [
      "killAllBackgroundProcesses_ActivityManagerService_1\n",
      "ActivityManagerService\n"
     ]
    },
    {
     "name": "stderr",
     "output_type": "stream",
     "text": [
      "Processing rows:  36%|███▌      | 69/192 [1:18:19<2:07:45, 62.32s/it]"
     ]
    },
    {
     "name": "stdout",
     "output_type": "stream",
     "text": [
      "unbroadcastIntent_ActivityManagerService_4\n",
      "ActivityManagerService\n"
     ]
    },
    {
     "name": "stderr",
     "output_type": "stream",
     "text": [
      "Processing rows:  36%|███▋      | 70/192 [1:19:23<2:07:39, 62.78s/it]"
     ]
    },
    {
     "name": "stdout",
     "output_type": "stream",
     "text": [
      "removeContentProviderExternal_ActivityManagerService_3\n",
      "ActivityManagerService\n"
     ]
    },
    {
     "name": "stderr",
     "output_type": "stream",
     "text": [
      "Processing rows:  37%|███▋      | 71/192 [1:20:21<2:03:54, 61.45s/it]"
     ]
    },
    {
     "name": "stdout",
     "output_type": "stream",
     "text": [
      "cancelIntentSender_ActivityManagerService_2\n",
      "ActivityManagerService\n"
     ]
    },
    {
     "name": "stderr",
     "output_type": "stream",
     "text": [
      "Processing rows:  38%|███▊      | 72/192 [1:21:45<2:16:49, 68.41s/it]"
     ]
    },
    {
     "name": "stdout",
     "output_type": "stream",
     "text": [
      "removeContentProviderExternalAsUser_ActivityManagerService_4\n",
      "ActivityManagerService\n"
     ]
    },
    {
     "name": "stderr",
     "output_type": "stream",
     "text": [
      "Processing rows:  38%|███▊      | 73/192 [1:22:52<2:14:18, 67.72s/it]"
     ]
    },
    {
     "name": "stdout",
     "output_type": "stream",
     "text": [
      "getTaskBounds_ActivityManagerService_2\n",
      "ActivityManagerService\n"
     ]
    },
    {
     "name": "stderr",
     "output_type": "stream",
     "text": [
      "Processing rows:  39%|███▊      | 74/192 [1:24:12<2:20:31, 71.45s/it]"
     ]
    },
    {
     "name": "stdout",
     "output_type": "stream",
     "text": [
      "startActivityAsUser_ActivityManagerService_12\n",
      "ActivityManagerService\n"
     ]
    },
    {
     "name": "stderr",
     "output_type": "stream",
     "text": [
      "Processing rows:  39%|███▉      | 75/192 [1:25:08<2:10:17, 66.81s/it]"
     ]
    },
    {
     "name": "stdout",
     "output_type": "stream",
     "text": [
      "getFilteredTasks_ActivityManagerService_4\n",
      "ActivityManagerService\n"
     ]
    },
    {
     "name": "stderr",
     "output_type": "stream",
     "text": [
      "Processing rows:  40%|███▉      | 76/192 [1:26:36<2:21:31, 73.20s/it]"
     ]
    },
    {
     "name": "stdout",
     "output_type": "stream",
     "text": [
      "scheduleApplicationInfoChanged_ActivityManagerService_3\n",
      "ActivityManagerService\n"
     ]
    },
    {
     "name": "stderr",
     "output_type": "stream",
     "text": [
      "Processing rows:  40%|████      | 77/192 [1:27:42<2:16:02, 70.98s/it]"
     ]
    },
    {
     "name": "stdout",
     "output_type": "stream",
     "text": [
      "registerReceiver_ActivityManagerService_8\n",
      "ActivityManagerService\n"
     ]
    },
    {
     "name": "stderr",
     "output_type": "stream",
     "text": [
      "Processing rows:  41%|████      | 78/192 [1:28:44<2:10:04, 68.46s/it]"
     ]
    },
    {
     "name": "stdout",
     "output_type": "stream",
     "text": [
      "updatePersistentConfiguration_ActivityManagerService_2\n",
      "ActivityManagerService\n"
     ]
    },
    {
     "name": "stderr",
     "output_type": "stream",
     "text": [
      "Processing rows:  41%|████      | 79/192 [1:29:59<2:12:45, 70.49s/it]"
     ]
    },
    {
     "name": "stdout",
     "output_type": "stream",
     "text": [
      "startSystemLockTaskMode_ActivityManagerService_2\n",
      "ActivityManagerService\n"
     ]
    },
    {
     "name": "stderr",
     "output_type": "stream",
     "text": [
      "Processing rows:  42%|████▏     | 80/192 [1:31:05<2:08:48, 69.01s/it]"
     ]
    },
    {
     "name": "stdout",
     "output_type": "stream",
     "text": [
      "startActivity_ActivityManagerService_11\n",
      "ActivityManagerService\n"
     ]
    },
    {
     "name": "stderr",
     "output_type": "stream",
     "text": [
      "Processing rows:  42%|████▏     | 81/192 [1:32:29<2:16:10, 73.61s/it]"
     ]
    },
    {
     "name": "stdout",
     "output_type": "stream",
     "text": [
      "dumpHeap_ActivityManagerService_9\n",
      "ActivityManagerService\n"
     ]
    },
    {
     "name": "stderr",
     "output_type": "stream",
     "text": [
      "Processing rows:  43%|████▎     | 82/192 [1:33:20<2:02:16, 66.70s/it]"
     ]
    },
    {
     "name": "stdout",
     "output_type": "stream",
     "text": [
      "requestSystemServerHeapDump_ActivityManagerService_1\n",
      "ActivityManagerService\n"
     ]
    },
    {
     "name": "stderr",
     "output_type": "stream",
     "text": [
      "Processing rows:  43%|████▎     | 83/192 [1:34:36<2:06:04, 69.40s/it]"
     ]
    },
    {
     "name": "stdout",
     "output_type": "stream",
     "text": [
      "getTasks_ActivityManagerService_2\n",
      "ActivityManagerService\n"
     ]
    },
    {
     "name": "stderr",
     "output_type": "stream",
     "text": [
      "Processing rows:  44%|████▍     | 84/192 [1:35:31<1:57:08, 65.08s/it]"
     ]
    },
    {
     "name": "stdout",
     "output_type": "stream",
     "text": [
      "grantUriPermission_ActivityManagerService_6\n",
      "ActivityManagerService\n"
     ]
    },
    {
     "name": "stderr",
     "output_type": "stream",
     "text": [
      "Processing rows:  44%|████▍     | 85/192 [1:36:40<1:58:08, 66.25s/it]"
     ]
    },
    {
     "name": "stdout",
     "output_type": "stream",
     "text": [
      "cancelTaskWindowTransition_ActivityManagerService_2\n",
      "ActivityManagerService\n"
     ]
    },
    {
     "name": "stderr",
     "output_type": "stream",
     "text": [
      "Processing rows:  45%|████▍     | 86/192 [1:37:36<1:52:03, 63.43s/it]"
     ]
    },
    {
     "name": "stdout",
     "output_type": "stream",
     "text": [
      "attachApplication_ActivityManagerService_3\n",
      "ActivityManagerService\n"
     ]
    },
    {
     "name": "stderr",
     "output_type": "stream",
     "text": [
      "Processing rows:  45%|████▌     | 87/192 [1:39:06<2:04:54, 71.38s/it]"
     ]
    },
    {
     "name": "stdout",
     "output_type": "stream",
     "text": [
      "getProcessesInErrorState_ActivityManagerService_1\n",
      "ActivityManagerService\n"
     ]
    },
    {
     "name": "stderr",
     "output_type": "stream",
     "text": [
      "Processing rows:  46%|████▌     | 88/192 [1:40:02<1:55:35, 66.68s/it]"
     ]
    },
    {
     "name": "stdout",
     "output_type": "stream",
     "text": [
      "stopUser_ActivityManagerService_4\n",
      "ActivityManagerService\n"
     ]
    },
    {
     "name": "stderr",
     "output_type": "stream",
     "text": [
      "Processing rows:  46%|████▋     | 89/192 [1:40:51<1:45:18, 61.35s/it]"
     ]
    },
    {
     "name": "stdout",
     "output_type": "stream",
     "text": [
      "setAlwaysFinish_ActivityManagerService_2\n",
      "ActivityManagerService\n"
     ]
    },
    {
     "name": "stderr",
     "output_type": "stream",
     "text": [
      "Processing rows:  47%|████▋     | 90/192 [1:42:00<1:48:11, 63.65s/it]"
     ]
    },
    {
     "name": "stdout",
     "output_type": "stream",
     "text": [
      "removeStack_ActivityManagerService_2\n",
      "ActivityManagerService\n"
     ]
    },
    {
     "name": "stderr",
     "output_type": "stream",
     "text": [
      "Processing rows:  47%|████▋     | 91/192 [1:43:12<1:51:13, 66.07s/it]"
     ]
    },
    {
     "name": "stdout",
     "output_type": "stream",
     "text": [
      "unhandledBack_ActivityManagerService_1\n",
      "ActivityManagerService\n"
     ]
    },
    {
     "name": "stderr",
     "output_type": "stream",
     "text": [
      "Processing rows:  48%|████▊     | 92/192 [1:44:33<1:57:38, 70.58s/it]"
     ]
    },
    {
     "name": "stdout",
     "output_type": "stream",
     "text": [
      "isAppStartModeDisabled_ActivityManagerService_3\n",
      "ActivityManagerService\n"
     ]
    },
    {
     "name": "stderr",
     "output_type": "stream",
     "text": [
      "Processing rows:  48%|████▊     | 93/192 [1:45:44<1:56:54, 70.86s/it]"
     ]
    },
    {
     "name": "stdout",
     "output_type": "stream",
     "text": [
      "getFocusedStackInfo_ActivityManagerService_1\n",
      "ActivityManagerService\n"
     ]
    },
    {
     "name": "stderr",
     "output_type": "stream",
     "text": [
      "Processing rows:  49%|████▉     | 94/192 [1:46:46<1:51:04, 68.00s/it]"
     ]
    },
    {
     "name": "stdout",
     "output_type": "stream",
     "text": [
      "revokeUriPermission_ActivityManagerService_6\n",
      "ActivityManagerService\n"
     ]
    },
    {
     "name": "stderr",
     "output_type": "stream",
     "text": [
      "Processing rows:  49%|████▉     | 95/192 [1:47:42<1:44:29, 64.64s/it]"
     ]
    },
    {
     "name": "stdout",
     "output_type": "stream",
     "text": [
      "removeTask_ActivityManagerService_2\n",
      "ActivityManagerService\n"
     ]
    },
    {
     "name": "stderr",
     "output_type": "stream",
     "text": [
      "Processing rows:  50%|█████     | 96/192 [1:48:40<1:39:57, 62.47s/it]"
     ]
    },
    {
     "name": "stdout",
     "output_type": "stream",
     "text": [
      "publishService_ActivityManagerService_4\n",
      "ActivityManagerService\n"
     ]
    },
    {
     "name": "stderr",
     "output_type": "stream",
     "text": [
      "Processing rows:  51%|█████     | 97/192 [1:49:56<1:45:29, 66.63s/it]"
     ]
    },
    {
     "name": "stdout",
     "output_type": "stream",
     "text": [
      "setProcessLimit_ActivityManagerService_2\n",
      "ActivityManagerService\n"
     ]
    },
    {
     "name": "stderr",
     "output_type": "stream",
     "text": [
      "Processing rows:  51%|█████     | 98/192 [1:50:48<1:37:22, 62.15s/it]"
     ]
    },
    {
     "name": "stdout",
     "output_type": "stream",
     "text": [
      "registerUidObserver_ActivityManagerService_5\n",
      "ActivityManagerService\n"
     ]
    },
    {
     "name": "stderr",
     "output_type": "stream",
     "text": [
      "Processing rows:  52%|█████▏    | 99/192 [1:51:55<1:38:43, 63.69s/it]"
     ]
    },
    {
     "name": "stdout",
     "output_type": "stream",
     "text": [
      "Error extracting JSON from response: Error decoding JSON: Expecting value: line 2 column 1 (char 1)\n",
      "unbindService_ActivityManagerService_2\n",
      "ActivityManagerService\n"
     ]
    },
    {
     "name": "stderr",
     "output_type": "stream",
     "text": [
      "Processing rows:  52%|█████▏    | 100/192 [1:53:39<1:56:12, 75.79s/it]"
     ]
    },
    {
     "name": "stdout",
     "output_type": "stream",
     "text": [
      "getLifeMonitor_ActivityManagerService_1\n",
      "ActivityManagerService\n"
     ]
    },
    {
     "name": "stderr",
     "output_type": "stream",
     "text": [
      "Processing rows:  53%|█████▎    | 101/192 [1:54:26<1:41:31, 66.94s/it]"
     ]
    },
    {
     "name": "stdout",
     "output_type": "stream",
     "text": [
      "cancelRecentsAnimation_ActivityManagerService_2\n",
      "ActivityManagerService\n"
     ]
    },
    {
     "name": "stderr",
     "output_type": "stream",
     "text": [
      "Processing rows:  53%|█████▎    | 102/192 [1:55:25<1:37:14, 64.82s/it]"
     ]
    },
    {
     "name": "stdout",
     "output_type": "stream",
     "text": [
      "setPersistentVrThread_ActivityManagerService_2\n",
      "ActivityManagerService\n"
     ]
    },
    {
     "name": "stderr",
     "output_type": "stream",
     "text": [
      "Processing rows:  54%|█████▎    | 103/192 [1:56:32<1:36:47, 65.25s/it]"
     ]
    },
    {
     "name": "stdout",
     "output_type": "stream",
     "text": [
      "Error extracting JSON from response: No JSON found in the provided string.\n",
      "stopDelegateShellPermissionIdentity_ActivityManagerService_1\n",
      "ActivityManagerService\n"
     ]
    },
    {
     "name": "stderr",
     "output_type": "stream",
     "text": [
      "Processing rows:  54%|█████▍    | 104/192 [1:57:31<1:33:04, 63.46s/it]"
     ]
    },
    {
     "name": "stdout",
     "output_type": "stream",
     "text": [
      "stopAppSwitches_ActivityManagerService_1\n",
      "ActivityManagerService\n"
     ]
    },
    {
     "name": "stderr",
     "output_type": "stream",
     "text": [
      "Processing rows:  55%|█████▍    | 105/192 [1:58:42<1:35:09, 65.62s/it]"
     ]
    },
    {
     "name": "stdout",
     "output_type": "stream",
     "text": [
      "getTaskSnapshot_ActivityManagerService_3\n",
      "ActivityManagerService\n"
     ]
    },
    {
     "name": "stderr",
     "output_type": "stream",
     "text": [
      "Processing rows:  55%|█████▌    | 106/192 [1:59:28<1:25:43, 59.81s/it]"
     ]
    },
    {
     "name": "stdout",
     "output_type": "stream",
     "text": [
      "getRunningServiceControlPanel_ActivityManagerService_2\n",
      "ActivityManagerService\n"
     ]
    },
    {
     "name": "stderr",
     "output_type": "stream",
     "text": [
      "Processing rows:  56%|█████▌    | 107/192 [2:00:12<1:17:57, 55.03s/it]"
     ]
    },
    {
     "name": "stdout",
     "output_type": "stream",
     "text": [
      "registerProcessObserver_ActivityManagerService_2\n",
      "ActivityManagerService\n"
     ]
    },
    {
     "name": "stderr",
     "output_type": "stream",
     "text": [
      "Processing rows:  56%|█████▋    | 108/192 [2:00:56<1:12:31, 51.80s/it]"
     ]
    },
    {
     "name": "stdout",
     "output_type": "stream",
     "text": [
      "serviceDoneExecuting_ActivityManagerService_5\n",
      "ActivityManagerService\n"
     ]
    },
    {
     "name": "stderr",
     "output_type": "stream",
     "text": [
      "Processing rows:  57%|█████▋    | 109/192 [2:02:29<1:28:34, 64.03s/it]"
     ]
    },
    {
     "name": "stdout",
     "output_type": "stream",
     "text": [
      "stopServiceToken_ActivityManagerService_4\n",
      "ActivityManagerService\n"
     ]
    },
    {
     "name": "stderr",
     "output_type": "stream",
     "text": [
      "Processing rows:  57%|█████▋    | 110/192 [2:03:23<1:23:26, 61.05s/it]"
     ]
    },
    {
     "name": "stdout",
     "output_type": "stream",
     "text": [
      "hang_ActivityManagerService_3\n",
      "ActivityManagerService\n"
     ]
    },
    {
     "name": "stderr",
     "output_type": "stream",
     "text": [
      "Processing rows:  58%|█████▊    | 111/192 [2:04:16<1:19:28, 58.87s/it]"
     ]
    },
    {
     "name": "stdout",
     "output_type": "stream",
     "text": [
      "setPackageScreenCompatMode_ActivityManagerService_3\n",
      "ActivityManagerService\n"
     ]
    },
    {
     "name": "stderr",
     "output_type": "stream",
     "text": [
      "Processing rows:  58%|█████▊    | 112/192 [2:05:25<1:22:17, 61.72s/it]"
     ]
    },
    {
     "name": "stdout",
     "output_type": "stream",
     "text": [
      "backgroundWhitelistUid_ActivityManagerService_2\n",
      "ActivityManagerService\n"
     ]
    },
    {
     "name": "stderr",
     "output_type": "stream",
     "text": [
      "Processing rows:  59%|█████▉    | 113/192 [2:06:31<1:23:04, 63.10s/it]"
     ]
    },
    {
     "name": "stdout",
     "output_type": "stream",
     "text": [
      "crashApplication_ActivityManagerService_7\n",
      "ActivityManagerService\n"
     ]
    },
    {
     "name": "stderr",
     "output_type": "stream",
     "text": [
      "Processing rows:  59%|█████▉    | 114/192 [2:07:18<1:15:45, 58.27s/it]"
     ]
    },
    {
     "name": "stdout",
     "output_type": "stream",
     "text": [
      "backupAgentCreated_ActivityManagerService_4\n",
      "ActivityManagerService\n"
     ]
    },
    {
     "name": "stderr",
     "output_type": "stream",
     "text": [
      "Processing rows:  60%|█████▉    | 115/192 [2:08:09<1:12:00, 56.11s/it]"
     ]
    },
    {
     "name": "stdout",
     "output_type": "stream",
     "text": [
      "isTopActivityImmersive_ActivityManagerService_1\n",
      "ActivityManagerService\n"
     ]
    },
    {
     "name": "stderr",
     "output_type": "stream",
     "text": [
      "Processing rows:  60%|██████    | 116/192 [2:09:05<1:10:54, 55.98s/it]"
     ]
    },
    {
     "name": "stdout",
     "output_type": "stream",
     "text": [
      "getMemoryTrimLevel_ActivityManagerService_1\n",
      "ActivityManagerService\n"
     ]
    },
    {
     "name": "stderr",
     "output_type": "stream",
     "text": [
      "Processing rows:  61%|██████    | 117/192 [2:09:53<1:07:11, 53.75s/it]"
     ]
    },
    {
     "name": "stdout",
     "output_type": "stream",
     "text": [
      "setRenderThread_ActivityManagerService_2\n",
      "ActivityManagerService\n"
     ]
    },
    {
     "name": "stderr",
     "output_type": "stream",
     "text": [
      "Processing rows:  61%|██████▏   | 118/192 [2:10:49<1:07:02, 54.36s/it]"
     ]
    },
    {
     "name": "stdout",
     "output_type": "stream",
     "text": [
      "updateDeviceOwner_ActivityManagerService_2\n",
      "ActivityManagerService\n"
     ]
    },
    {
     "name": "stderr",
     "output_type": "stream",
     "text": [
      "Processing rows:  62%|██████▏   | 119/192 [2:11:40<1:04:57, 53.39s/it]"
     ]
    },
    {
     "name": "stdout",
     "output_type": "stream",
     "text": [
      "getUidProcessState_ActivityManagerService_3\n",
      "ActivityManagerService\n"
     ]
    },
    {
     "name": "stderr",
     "output_type": "stream",
     "text": [
      "Processing rows:  62%|██████▎   | 120/192 [2:12:23<1:00:17, 50.25s/it]"
     ]
    },
    {
     "name": "stdout",
     "output_type": "stream",
     "text": [
      "startBinderTracking_ActivityManagerService_1\n",
      "ActivityManagerService\n"
     ]
    },
    {
     "name": "stderr",
     "output_type": "stream",
     "text": [
      "Processing rows:  63%|██████▎   | 121/192 [2:13:27<1:04:10, 54.24s/it]"
     ]
    },
    {
     "name": "stdout",
     "output_type": "stream",
     "text": [
      "suppressResizeConfigChanges_ActivityManagerService_2\n",
      "ActivityManagerService\n"
     ]
    },
    {
     "name": "stderr",
     "output_type": "stream",
     "text": [
      "Processing rows:  64%|██████▎   | 122/192 [2:14:11<59:55, 51.36s/it]  "
     ]
    },
    {
     "name": "stdout",
     "output_type": "stream",
     "text": [
      "setActivityController_ActivityManagerService_3\n",
      "ActivityManagerService\n"
     ]
    },
    {
     "name": "stderr",
     "output_type": "stream",
     "text": [
      "Processing rows:  64%|██████▍   | 123/192 [2:15:13<1:02:34, 54.41s/it]"
     ]
    },
    {
     "name": "stdout",
     "output_type": "stream",
     "text": [
      "getPackageProcessState_ActivityManagerService_3\n",
      "ActivityManagerService\n"
     ]
    },
    {
     "name": "stderr",
     "output_type": "stream",
     "text": [
      "Processing rows:  65%|██████▍   | 124/192 [2:16:04<1:00:35, 53.46s/it]"
     ]
    },
    {
     "name": "stdout",
     "output_type": "stream",
     "text": [
      "setDumpHeapDebugLimit_ActivityManagerService_5\n",
      "ActivityManagerService\n"
     ]
    },
    {
     "name": "stderr",
     "output_type": "stream",
     "text": [
      "Processing rows:  65%|██████▌   | 125/192 [2:16:52<57:50, 51.80s/it]  "
     ]
    },
    {
     "name": "stdout",
     "output_type": "stream",
     "text": [
      "setAgentApp_ActivityManagerService_3\n",
      "ActivityManagerService\n"
     ]
    },
    {
     "name": "stderr",
     "output_type": "stream",
     "text": [
      "Processing rows:  66%|██████▌   | 126/192 [2:17:52<59:33, 54.15s/it]"
     ]
    },
    {
     "name": "stdout",
     "output_type": "stream",
     "text": [
      "addPackageDependency_ActivityManagerService_2\n",
      "ActivityManagerService\n"
     ]
    },
    {
     "name": "stderr",
     "output_type": "stream",
     "text": [
      "Processing rows:  66%|██████▌   | 127/192 [2:18:39<56:20, 52.01s/it]"
     ]
    },
    {
     "name": "stdout",
     "output_type": "stream",
     "text": [
      "isUidActive_ActivityManagerService_3\n",
      "ActivityManagerService\n"
     ]
    },
    {
     "name": "stderr",
     "output_type": "stream",
     "text": [
      "Processing rows:  67%|██████▋   | 128/192 [2:19:36<57:02, 53.47s/it]"
     ]
    },
    {
     "name": "stdout",
     "output_type": "stream",
     "text": [
      "switchUser_ActivityManagerService_2\n",
      "ActivityManagerService\n"
     ]
    },
    {
     "name": "stderr",
     "output_type": "stream",
     "text": [
      "Processing rows:  67%|██████▋   | 129/192 [2:20:25<54:45, 52.16s/it]"
     ]
    },
    {
     "name": "stdout",
     "output_type": "stream",
     "text": [
      "signalPersistentProcesses_ActivityManagerService_2\n",
      "ActivityManagerService\n"
     ]
    },
    {
     "name": "stderr",
     "output_type": "stream",
     "text": [
      "Processing rows:  68%|██████▊   | 130/192 [2:21:26<56:46, 54.94s/it]"
     ]
    },
    {
     "name": "stdout",
     "output_type": "stream",
     "text": [
      "restartUserInBackground_ActivityManagerService_2\n",
      "ActivityManagerService\n"
     ]
    },
    {
     "name": "stderr",
     "output_type": "stream",
     "text": [
      "Processing rows:  68%|██████▊   | 131/192 [2:22:17<54:28, 53.59s/it]"
     ]
    },
    {
     "name": "stdout",
     "output_type": "stream",
     "text": [
      "finishInstrumentation_ActivityManagerService_4\n",
      "ActivityManagerService\n"
     ]
    },
    {
     "name": "stderr",
     "output_type": "stream",
     "text": [
      "Processing rows:  69%|██████▉   | 132/192 [2:23:11<53:49, 53.82s/it]"
     ]
    },
    {
     "name": "stdout",
     "output_type": "stream",
     "text": [
      "resumeAppSwitches_ActivityManagerService_1\n",
      "ActivityManagerService\n"
     ]
    },
    {
     "name": "stderr",
     "output_type": "stream",
     "text": [
      "Processing rows:  69%|██████▉   | 133/192 [2:24:03<52:27, 53.35s/it]"
     ]
    },
    {
     "name": "stdout",
     "output_type": "stream",
     "text": [
      "isUserAMonkey_ActivityManagerService_1\n",
      "ActivityManagerService\n"
     ]
    },
    {
     "name": "stderr",
     "output_type": "stream",
     "text": [
      "Processing rows:  70%|██████▉   | 134/192 [2:24:58<52:05, 53.88s/it]"
     ]
    },
    {
     "name": "stdout",
     "output_type": "stream",
     "text": [
      "stopBinderTrackingAndDump_ActivityManagerService_2\n",
      "ActivityManagerService\n"
     ]
    },
    {
     "name": "stderr",
     "output_type": "stream",
     "text": [
      "Processing rows:  70%|███████   | 135/192 [2:25:26<43:45, 46.05s/it]"
     ]
    },
    {
     "name": "stdout",
     "output_type": "stream",
     "text": [
      "checkUriPermission_ActivityManagerService_7\n",
      "ActivityManagerService\n"
     ]
    },
    {
     "name": "stderr",
     "output_type": "stream",
     "text": [
      "Processing rows:  71%|███████   | 136/192 [2:26:23<46:07, 49.42s/it]"
     ]
    },
    {
     "name": "stdout",
     "output_type": "stream",
     "text": [
      "refContentProvider_ActivityManagerService_4\n",
      "ActivityManagerService\n"
     ]
    },
    {
     "name": "stderr",
     "output_type": "stream",
     "text": [
      "Processing rows:  71%|███████▏  | 137/192 [2:27:06<43:27, 47.41s/it]"
     ]
    },
    {
     "name": "stdout",
     "output_type": "stream",
     "text": [
      "setProcessMemoryTrimLevel_ActivityManagerService_4\n",
      "ActivityManagerService\n"
     ]
    },
    {
     "name": "stderr",
     "output_type": "stream",
     "text": [
      "Processing rows:  72%|███████▏  | 138/192 [2:28:00<44:31, 49.48s/it]"
     ]
    },
    {
     "name": "stdout",
     "output_type": "stream",
     "text": [
      "setUserIsMonkey_ActivityManagerService_2\n",
      "ActivityManagerService\n"
     ]
    },
    {
     "name": "stderr",
     "output_type": "stream",
     "text": [
      "Processing rows:  72%|███████▏  | 139/192 [2:28:50<43:38, 49.40s/it]"
     ]
    },
    {
     "name": "stdout",
     "output_type": "stream",
     "text": [
      "handleApplicationStrictModeViolation_ActivityManagerService_4\n",
      "ActivityManagerService\n"
     ]
    },
    {
     "name": "stderr",
     "output_type": "stream",
     "text": [
      "Processing rows:  73%|███████▎  | 140/192 [2:29:36<41:53, 48.34s/it]"
     ]
    },
    {
     "name": "stdout",
     "output_type": "stream",
     "text": [
      "setRequestedOrientation_ActivityManagerService_3\n",
      "ActivityManagerService\n"
     ]
    },
    {
     "name": "stderr",
     "output_type": "stream",
     "text": [
      "Processing rows:  73%|███████▎  | 141/192 [2:30:21<40:26, 47.59s/it]"
     ]
    },
    {
     "name": "stdout",
     "output_type": "stream",
     "text": [
      "killApplication_ActivityManagerService_5\n",
      "ActivityManagerService\n"
     ]
    },
    {
     "name": "stderr",
     "output_type": "stream",
     "text": [
      "Processing rows:  74%|███████▍  | 142/192 [2:31:13<40:39, 48.78s/it]"
     ]
    },
    {
     "name": "stdout",
     "output_type": "stream",
     "text": [
      "requestTelephonyBugReport_ActivityManagerService_3\n",
      "ActivityManagerService\n"
     ]
    },
    {
     "name": "stderr",
     "output_type": "stream",
     "text": [
      "Processing rows:  74%|███████▍  | 143/192 [2:31:57<38:47, 47.50s/it]"
     ]
    },
    {
     "name": "stdout",
     "output_type": "stream",
     "text": [
      "getLaunchedFromUid_ActivityManagerService_2\n",
      "ActivityManagerService\n"
     ]
    },
    {
     "name": "stderr",
     "output_type": "stream",
     "text": [
      "Processing rows:  75%|███████▌  | 144/192 [2:32:47<38:27, 48.07s/it]"
     ]
    },
    {
     "name": "stdout",
     "output_type": "stream",
     "text": [
      "dumpHeapFinished_ActivityManagerService_2\n",
      "ActivityManagerService\n"
     ]
    },
    {
     "name": "stderr",
     "output_type": "stream",
     "text": [
      "Processing rows:  76%|███████▌  | 145/192 [2:33:37<38:12, 48.79s/it]"
     ]
    },
    {
     "name": "stdout",
     "output_type": "stream",
     "text": [
      "addInstrumentationResults_ActivityManagerService_3\n",
      "ActivityManagerService\n"
     ]
    },
    {
     "name": "stderr",
     "output_type": "stream",
     "text": [
      "Processing rows:  76%|███████▌  | 146/192 [2:34:38<40:09, 52.39s/it]"
     ]
    },
    {
     "name": "stdout",
     "output_type": "stream",
     "text": [
      "setTaskResizeable_ActivityManagerService_3\n",
      "ActivityManagerService\n"
     ]
    },
    {
     "name": "stderr",
     "output_type": "stream",
     "text": [
      "Processing rows:  77%|███████▋  | 147/192 [2:35:34<40:07, 53.50s/it]"
     ]
    },
    {
     "name": "stdout",
     "output_type": "stream",
     "text": [
      "finishActivity_ActivityManagerService_5\n",
      "ActivityManagerService\n"
     ]
    },
    {
     "name": "stderr",
     "output_type": "stream",
     "text": [
      "Processing rows:  77%|███████▋  | 148/192 [2:36:24<38:22, 52.32s/it]"
     ]
    },
    {
     "name": "stdout",
     "output_type": "stream",
     "text": [
      "getTagForIntentSender_ActivityManagerService_3\n",
      "ActivityManagerService\n"
     ]
    },
    {
     "name": "stderr",
     "output_type": "stream",
     "text": [
      "Processing rows:  78%|███████▊  | 149/192 [2:37:26<39:32, 55.17s/it]"
     ]
    },
    {
     "name": "stdout",
     "output_type": "stream",
     "text": [
      "updateServiceGroup_ActivityManagerService_4\n",
      "ActivityManagerService\n"
     ]
    },
    {
     "name": "stderr",
     "output_type": "stream",
     "text": [
      "Processing rows:  78%|███████▊  | 150/192 [2:38:09<36:12, 51.72s/it]"
     ]
    },
    {
     "name": "stdout",
     "output_type": "stream",
     "text": [
      "getTaskForActivity_ActivityManagerService_3\n",
      "ActivityManagerService\n"
     ]
    },
    {
     "name": "stderr",
     "output_type": "stream",
     "text": [
      "Processing rows:  79%|███████▊  | 151/192 [2:39:08<36:42, 53.73s/it]"
     ]
    },
    {
     "name": "stdout",
     "output_type": "stream",
     "text": [
      "showWaitingForDebugger_ActivityManagerService_3\n",
      "ActivityManagerService\n"
     ]
    },
    {
     "name": "stderr",
     "output_type": "stream",
     "text": [
      "Processing rows:  79%|███████▉  | 152/192 [2:39:58<35:03, 52.59s/it]"
     ]
    },
    {
     "name": "stdout",
     "output_type": "stream",
     "text": [
      "getConfiguration_ActivityManagerService_1\n",
      "ActivityManagerService\n"
     ]
    },
    {
     "name": "stderr",
     "output_type": "stream",
     "text": [
      "Processing rows:  80%|███████▉  | 153/192 [2:40:51<34:16, 52.73s/it]"
     ]
    },
    {
     "name": "stdout",
     "output_type": "stream",
     "text": [
      "waitForNetworkStateUpdate_ActivityManagerService_2\n",
      "ActivityManagerService\n"
     ]
    },
    {
     "name": "stderr",
     "output_type": "stream",
     "text": [
      "Processing rows:  80%|████████  | 154/192 [2:41:41<32:51, 51.89s/it]"
     ]
    },
    {
     "name": "stdout",
     "output_type": "stream",
     "text": [
      "enterSafeMode_ActivityManagerService_1\n",
      "ActivityManagerService\n"
     ]
    },
    {
     "name": "stderr",
     "output_type": "stream",
     "text": [
      "Processing rows:  81%|████████  | 155/192 [2:42:13<28:26, 46.13s/it]"
     ]
    },
    {
     "name": "stdout",
     "output_type": "stream",
     "text": [
      "getForegroundServiceType_ActivityManagerService_3\n",
      "ActivityManagerService\n"
     ]
    },
    {
     "name": "stderr",
     "output_type": "stream",
     "text": [
      "Processing rows:  81%|████████▏ | 156/192 [2:42:56<27:01, 45.03s/it]"
     ]
    },
    {
     "name": "stdout",
     "output_type": "stream",
     "text": [
      "unregisterProcessObserver_ActivityManagerService_2\n",
      "ActivityManagerService\n"
     ]
    },
    {
     "name": "stderr",
     "output_type": "stream",
     "text": [
      "Processing rows:  82%|████████▏ | 157/192 [2:43:49<27:44, 47.56s/it]"
     ]
    },
    {
     "name": "stdout",
     "output_type": "stream",
     "text": [
      "getIntentForIntentSender_ActivityManagerService_2\n",
      "ActivityManagerService\n"
     ]
    },
    {
     "name": "stderr",
     "output_type": "stream",
     "text": [
      "Processing rows:  82%|████████▏ | 158/192 [2:44:29<25:33, 45.10s/it]"
     ]
    },
    {
     "name": "stdout",
     "output_type": "stream",
     "text": [
      "getProcessLimit_ActivityManagerService_1\n",
      "ActivityManagerService\n"
     ]
    },
    {
     "name": "stderr",
     "output_type": "stream",
     "text": [
      "Processing rows:  83%|████████▎ | 159/192 [2:45:01<22:46, 41.40s/it]"
     ]
    },
    {
     "name": "stdout",
     "output_type": "stream",
     "text": [
      "isTopOfTask_ActivityManagerService_2\n",
      "ActivityManagerService\n"
     ]
    },
    {
     "name": "stderr",
     "output_type": "stream",
     "text": [
      "Processing rows:  83%|████████▎ | 160/192 [2:45:50<23:17, 43.67s/it]"
     ]
    },
    {
     "name": "stdout",
     "output_type": "stream",
     "text": [
      "getMemoryInfo_ActivityManagerService_2\n",
      "ActivityManagerService\n"
     ]
    },
    {
     "name": "stderr",
     "output_type": "stream",
     "text": [
      "Processing rows:  84%|████████▍ | 161/192 [2:46:27<21:27, 41.54s/it]"
     ]
    },
    {
     "name": "stdout",
     "output_type": "stream",
     "text": [
      "isVrModePackageEnabled_ActivityManagerService_2\n",
      "ActivityManagerService\n"
     ]
    },
    {
     "name": "stderr",
     "output_type": "stream",
     "text": [
      "Processing rows:  84%|████████▍ | 162/192 [2:47:02<19:52, 39.75s/it]"
     ]
    },
    {
     "name": "stdout",
     "output_type": "stream",
     "text": [
      "unregisterTaskStackListener_ActivityManagerService_2\n",
      "ActivityManagerService\n"
     ]
    },
    {
     "name": "stderr",
     "output_type": "stream",
     "text": [
      "Processing rows:  85%|████████▍ | 163/192 [2:47:43<19:21, 40.05s/it]"
     ]
    },
    {
     "name": "stdout",
     "output_type": "stream",
     "text": [
      "unregisterUidObserver_ActivityManagerService_2\n",
      "ActivityManagerService\n"
     ]
    },
    {
     "name": "stderr",
     "output_type": "stream",
     "text": [
      "Processing rows:  85%|████████▌ | 164/192 [2:48:28<19:18, 41.39s/it]"
     ]
    },
    {
     "name": "stdout",
     "output_type": "stream",
     "text": [
      "restart_ActivityManagerService_1\n",
      "ActivityManagerService\n"
     ]
    },
    {
     "name": "stderr",
     "output_type": "stream",
     "text": [
      "Processing rows:  86%|████████▌ | 165/192 [2:49:03<17:50, 39.64s/it]"
     ]
    },
    {
     "name": "stdout",
     "output_type": "stream",
     "text": [
      "unregisterIntentSenderCancelListener_ActivityManagerService_3\n",
      "ActivityManagerService\n"
     ]
    },
    {
     "name": "stderr",
     "output_type": "stream",
     "text": [
      "Processing rows:  86%|████████▋ | 166/192 [2:49:59<19:16, 44.49s/it]"
     ]
    },
    {
     "name": "stdout",
     "output_type": "stream",
     "text": [
      "getLockTaskModeState_ActivityManagerService_1\n",
      "ActivityManagerService\n"
     ]
    },
    {
     "name": "stderr",
     "output_type": "stream",
     "text": [
      "Processing rows:  87%|████████▋ | 167/192 [2:50:38<17:49, 42.80s/it]"
     ]
    },
    {
     "name": "stdout",
     "output_type": "stream",
     "text": [
      "getLaunchedFromPackage_ActivityManagerService_2\n",
      "ActivityManagerService\n"
     ]
    },
    {
     "name": "stderr",
     "output_type": "stream",
     "text": [
      "Processing rows:  88%|████████▊ | 168/192 [2:51:24<17:29, 43.74s/it]"
     ]
    },
    {
     "name": "stdout",
     "output_type": "stream",
     "text": [
      "registerIntentSenderCancelListener_ActivityManagerService_3\n",
      "ActivityManagerService\n"
     ]
    },
    {
     "name": "stderr",
     "output_type": "stream",
     "text": [
      "Processing rows:  88%|████████▊ | 169/192 [2:52:12<17:15, 45.04s/it]"
     ]
    },
    {
     "name": "stdout",
     "output_type": "stream",
     "text": [
      "requestWifiBugReport_ActivityManagerService_3\n",
      "ActivityManagerService\n"
     ]
    },
    {
     "name": "stderr",
     "output_type": "stream",
     "text": [
      "Processing rows:  89%|████████▊ | 170/192 [2:53:09<17:50, 48.66s/it]"
     ]
    },
    {
     "name": "stdout",
     "output_type": "stream",
     "text": [
      "isInLockTaskMode_ActivityManagerService_1\n",
      "ActivityManagerService\n"
     ]
    },
    {
     "name": "stderr",
     "output_type": "stream",
     "text": [
      "Processing rows:  89%|████████▉ | 171/192 [2:54:05<17:48, 50.86s/it]"
     ]
    },
    {
     "name": "stdout",
     "output_type": "stream",
     "text": [
      "isBackgroundRestricted_ActivityManagerService_2\n",
      "ActivityManagerService\n"
     ]
    },
    {
     "name": "stderr",
     "output_type": "stream",
     "text": [
      "Processing rows:  90%|████████▉ | 172/192 [2:54:42<15:35, 46.76s/it]"
     ]
    },
    {
     "name": "stdout",
     "output_type": "stream",
     "text": [
      "appNotRespondingViaProvider_ActivityManagerService_2\n",
      "ActivityManagerService\n"
     ]
    },
    {
     "name": "stderr",
     "output_type": "stream",
     "text": [
      "Processing rows:  90%|█████████ | 173/192 [2:55:24<14:16, 45.10s/it]"
     ]
    },
    {
     "name": "stdout",
     "output_type": "stream",
     "text": [
      "isUserRunning_ActivityManagerService_3\n",
      "ActivityManagerService\n"
     ]
    },
    {
     "name": "stderr",
     "output_type": "stream",
     "text": [
      "Processing rows:  91%|█████████ | 174/192 [2:55:58<12:35, 41.99s/it]"
     ]
    },
    {
     "name": "stdout",
     "output_type": "stream",
     "text": [
      "getPackageForIntentSender_ActivityManagerService_2\n",
      "ActivityManagerService\n"
     ]
    },
    {
     "name": "stderr",
     "output_type": "stream",
     "text": [
      "Processing rows:  91%|█████████ | 175/192 [2:56:33<11:15, 39.74s/it]"
     ]
    },
    {
     "name": "stdout",
     "output_type": "stream",
     "text": [
      "isIntentSenderTargetedToPackage_ActivityManagerService_2\n",
      "ActivityManagerService\n"
     ]
    },
    {
     "name": "stderr",
     "output_type": "stream",
     "text": [
      "Processing rows:  92%|█████████▏| 176/192 [2:56:59<09:32, 35.77s/it]"
     ]
    },
    {
     "name": "stdout",
     "output_type": "stream",
     "text": [
      "isIntentSenderAForegroundService_ActivityManagerService_2\n",
      "ActivityManagerService\n"
     ]
    },
    {
     "name": "stderr",
     "output_type": "stream",
     "text": [
      "Processing rows:  92%|█████████▏| 177/192 [2:57:31<08:40, 34.70s/it]"
     ]
    },
    {
     "name": "stdout",
     "output_type": "stream",
     "text": [
      "isIntentSenderABroadcast_ActivityManagerService_2\n",
      "ActivityManagerService\n"
     ]
    },
    {
     "name": "stderr",
     "output_type": "stream",
     "text": [
      "Processing rows:  93%|█████████▎| 178/192 [2:58:01<07:42, 33.02s/it]"
     ]
    },
    {
     "name": "stdout",
     "output_type": "stream",
     "text": [
      "isIntentSenderAnActivity_ActivityManagerService_2\n",
      "ActivityManagerService\n"
     ]
    },
    {
     "name": "stderr",
     "output_type": "stream",
     "text": [
      "Processing rows:  93%|█████████▎| 179/192 [2:58:28<06:47, 31.33s/it]"
     ]
    },
    {
     "name": "stdout",
     "output_type": "stream",
     "text": [
      "unregisterUserSwitchObserver_ActivityManagerService_2\n",
      "ActivityManagerService\n"
     ]
    },
    {
     "name": "stderr",
     "output_type": "stream",
     "text": [
      "Processing rows:  94%|█████████▍| 180/192 [2:59:04<06:34, 32.88s/it]"
     ]
    },
    {
     "name": "stdout",
     "output_type": "stream",
     "text": [
      "notifyLockedProfile_ActivityManagerService_2\n",
      "ActivityManagerService\n"
     ]
    },
    {
     "name": "stderr",
     "output_type": "stream",
     "text": [
      "Processing rows:  94%|█████████▍| 181/192 [2:59:30<05:38, 30.75s/it]"
     ]
    },
    {
     "name": "stdout",
     "output_type": "stream",
     "text": [
      "notifyCleartextNetwork_ActivityManagerService_3\n",
      "ActivityManagerService\n"
     ]
    },
    {
     "name": "stderr",
     "output_type": "stream",
     "text": [
      "Processing rows:  95%|█████████▍| 182/192 [3:00:04<05:17, 31.79s/it]"
     ]
    },
    {
     "name": "stdout",
     "output_type": "stream",
     "text": [
      "handleIncomingUser_ActivityManagerService_8\n",
      "ActivityManagerService\n"
     ]
    },
    {
     "name": "stderr",
     "output_type": "stream",
     "text": [
      "Processing rows:  95%|█████████▌| 183/192 [3:00:37<04:48, 32.05s/it]"
     ]
    },
    {
     "name": "stdout",
     "output_type": "stream",
     "text": [
      "registerTaskStackListener_ActivityManagerService_2\n",
      "ActivityManagerService\n"
     ]
    },
    {
     "name": "stderr",
     "output_type": "stream",
     "text": [
      "Processing rows:  96%|█████████▌| 184/192 [3:01:04<04:03, 30.50s/it]"
     ]
    },
    {
     "name": "stdout",
     "output_type": "stream",
     "text": [
      "getCurrentUser_ActivityManagerService_1\n",
      "ActivityManagerService\n"
     ]
    },
    {
     "name": "stderr",
     "output_type": "stream",
     "text": [
      "Processing rows:  96%|█████████▋| 185/192 [3:01:24<03:10, 27.25s/it]"
     ]
    },
    {
     "name": "stdout",
     "output_type": "stream",
     "text": [
      "registerUserSwitchObserver_ActivityManagerService_3\n",
      "ActivityManagerService\n"
     ]
    },
    {
     "name": "stderr",
     "output_type": "stream",
     "text": [
      "Processing rows:  97%|█████████▋| 186/192 [3:01:55<02:51, 28.53s/it]"
     ]
    },
    {
     "name": "stdout",
     "output_type": "stream",
     "text": [
      "noteWakeupAlarm_ActivityManagerService_6\n",
      "ActivityManagerService\n"
     ]
    },
    {
     "name": "stderr",
     "output_type": "stream",
     "text": [
      "Processing rows:  97%|█████████▋| 187/192 [3:02:28<02:29, 29.93s/it]"
     ]
    },
    {
     "name": "stdout",
     "output_type": "stream",
     "text": [
      "noteAlarmFinish_ActivityManagerService_5\n",
      "ActivityManagerService\n"
     ]
    },
    {
     "name": "stderr",
     "output_type": "stream",
     "text": [
      "Processing rows:  98%|█████████▊| 188/192 [3:03:02<02:04, 31.14s/it]"
     ]
    },
    {
     "name": "stdout",
     "output_type": "stream",
     "text": [
      "noteAlarmStart_ActivityManagerService_5\n",
      "ActivityManagerService\n"
     ]
    },
    {
     "name": "stderr",
     "output_type": "stream",
     "text": [
      "Processing rows:  98%|█████████▊| 189/192 [3:03:43<01:41, 33.93s/it]"
     ]
    },
    {
     "name": "stdout",
     "output_type": "stream",
     "text": [
      "closeSystemDialogs_ActivityManagerService_2\n",
      "ActivityManagerService\n"
     ]
    },
    {
     "name": "stderr",
     "output_type": "stream",
     "text": [
      "Processing rows:  99%|█████████▉| 190/192 [3:04:11<01:04, 32.35s/it]"
     ]
    },
    {
     "name": "stdout",
     "output_type": "stream",
     "text": [
      "checkPermissionWithToken_ActivityManagerService_5\n",
      "ActivityManagerService\n"
     ]
    },
    {
     "name": "stderr",
     "output_type": "stream",
     "text": [
      "Processing rows:  99%|█████████▉| 191/192 [3:04:25<00:26, 26.66s/it]"
     ]
    },
    {
     "name": "stdout",
     "output_type": "stream",
     "text": [
      "checkPermission_ActivityManagerService_4\n",
      "ActivityManagerService\n"
     ]
    },
    {
     "name": "stderr",
     "output_type": "stream",
     "text": [
      "Processing rows: 100%|██████████| 192/192 [3:04:54<00:00, 57.79s/it]"
     ]
    },
    {
     "name": "stdout",
     "output_type": "stream",
     "text": [
      "Error extracting JSON from response: Error decoding JSON: Expecting value: line 4 column 13 (char 39)\n",
      "DataFrame serialized and saved to ./AMS_Df.pkl\n"
     ]
    },
    {
     "name": "stderr",
     "output_type": "stream",
     "text": [
      "\n"
     ]
    }
   ],
   "source": [
    "\n",
    "\n",
    "AMS_Df = trainDF[trainDF['service_name'] == 'ActivityManagerService'].copy()\n",
    "AMS_Df.shape\n",
    "AMS_Df['json_answer'] = None\n",
    "\n",
    "\n",
    "output_folder = \"./output\"\n",
    "counter = 0\n",
    "for index, row in tqdm(AMS_Df.iterrows(), total=AMS_Df.shape[0], desc=\"Processing rows\"):\n",
    "    print(row['EP'])\n",
    "    print(row['service_name'])\n",
    "    res = run_first_prompt_Ollama(row['java_code'],True)\n",
    "    json_answer = None\n",
    "    try:\n",
    "        json_answer = extract_json_from_string(res[\"response\"])\n",
    "    except Exception as e:\n",
    "        print(f\"Error extracting JSON from response: {e}\")\n",
    "        continue\n",
    "        # Store the json_answer in the new column\n",
    "    AMS_Df.at[index, 'json_answer'] = json_answer\n",
    "\n",
    "    # Write response details to files\n",
    "    folder_path = f'{output_folder}/{row[\"EP\"].split(\"_\")[0]}'\n",
    "    os.makedirs(folder_path, exist_ok=True)\n",
    "\n",
    "    with open(f'{folder_path}/system_message.txt', 'w') as f:\n",
    "        f.write(res[\"system_message\"])\n",
    "    with open(f'{folder_path}/user_message.txt', 'w') as f:\n",
    "        f.write(res[\"user_message\"])\n",
    "    with open(f'{folder_path}/response.txt', 'w') as f:\n",
    "        f.write(res[\"response\"])\n",
    "\n",
    "pickle_file_path = \"./AMS_Df.pkl\"\n",
    "\n",
    "# Serialize the DataFrame using pickle\n",
    "with open(pickle_file_path, 'wb') as file:\n",
    "    pickle.dump(AMS_Df, file)\n",
    "\n",
    "print(f\"DataFrame serialized and saved to {pickle_file_path}\")"
   ]
  },
  {
   "cell_type": "code",
   "execution_count": 9,
   "metadata": {},
   "outputs": [],
   "source": [
    "# return {\n",
    "#         \"system_message\": prompt1,\n",
    "#         \"user_message\": user_prompt,\n",
    "#         \"response\": response['message']['content']\n",
    "#     }\n",
    "# write res[\"response\"] to a txt file\n",
    "with open('output3.txt', 'w') as f:\n",
    "    f.write(res[\"response\"])\n",
    "    f.close()"
   ]
  },
  {
   "cell_type": "code",
   "execution_count": 12,
   "metadata": {},
   "outputs": [
    {
     "data": {
      "text/plain": [
       "'ActivityTaskManagerService'"
      ]
     },
     "execution_count": 12,
     "metadata": {},
     "output_type": "execute_result"
    }
   ],
   "source": [
    "trainDF\n",
    "\n",
    "word = \"startRecentsActivity_ActivityTaskManagerService_4\"\n",
    "service = word.split(\"_\")[1]\n",
    "service "
   ]
  },
  {
   "cell_type": "code",
   "execution_count": 16,
   "metadata": {},
   "outputs": [
    {
     "data": {
      "text/plain": [
       "Index(['EP', 'code', 'label', 'java_code', 'service_name'], dtype='object')"
      ]
     },
     "execution_count": 16,
     "metadata": {},
     "output_type": "execute_result"
    }
   ],
   "source": [
    "trainDF.columns"
   ]
  },
  {
   "cell_type": "code",
   "execution_count": 14,
   "metadata": {},
   "outputs": [
    {
     "data": {
      "text/plain": [
       "'After analyzing the provided Java code, I have identified several potential sinks that may require access control. Here are the results in JSON format:\\n\\n```\\n{\\n  \"Sinks\": [\\n    [\\n      \"PackageManagerInternal var103 = var101.getPackageManagerInternalLocked();\",\\n      \"ResolveInfo var105 = var103.resolveService(param2,param4,var100,var19,param7);\"\\n    ],\\n    [\\n      \"IntentFirewall var421 = var420.mIntentFirewall;\",\\n      \"boolean var425 = var421.checkService(var422,param2,param7,param6,param4,var423);\"\\n    ],\\n    [\\n      \"AppOpsService var439 = var438.mAppOpsService;\"\\n    ]\\n  ]\\n}\\n```\\n\\nRanking the sinks from most sensitive to least sensitive, I would place them in the following order:\\n\\n1. The first sink involves accessing the PackageManagerInternal instance and resolving a service using the resolveService method. This could potentially allow an attacker to access sensitive information about installed services or even install malicious services.\\n2. The second sink involves checking if a service is allowed to be accessed by a certain user using the IntentFirewall\\'s checkService method. This could potentially allow an attacker to bypass security restrictions and access sensitive data or functionality.\\n3. The third sink involves accessing the AppOpsService instance, which could potentially allow an attacker to manipulate app operations or access sensitive information about app usage.\\n\\nNote that these rankings are subjective and may vary depending on the specific context and requirements of the system.'"
      ]
     },
     "execution_count": 14,
     "metadata": {},
     "output_type": "execute_result"
    }
   ],
   "source": [
    "res[\"response\"]"
   ]
  },
  {
   "cell_type": "code",
   "execution_count": null,
   "metadata": {},
   "outputs": [],
   "source": [
    "\n",
    "\n",
    "\n",
    "\n",
    "json_answer = extract_json_from_string(res[\"response\"])"
   ]
  },
  {
   "cell_type": "code",
   "execution_count": 21,
   "metadata": {},
   "outputs": [
    {
     "data": {
      "text/plain": [
       "{'Sinks': [['PackageManagerInternal var103 = var101.getPackageManagerInternalLocked();',\n",
       "   'ResolveInfo var105 = var103.resolveService(param2,param4,var100,var19,param7);'],\n",
       "  ['IntentFirewall var421 = var420.mIntentFirewall;',\n",
       "   'boolean var425 = var421.checkService(var422,param2,param7,param6,param4,var423);'],\n",
       "  ['AppOpsService var439 = var438.mAppOpsService;']]}"
      ]
     },
     "execution_count": 21,
     "metadata": {},
     "output_type": "execute_result"
    }
   ],
   "source": [
    "json_answer"
   ]
  },
  {
   "cell_type": "code",
   "execution_count": 64,
   "metadata": {},
   "outputs": [
    {
     "data": {
      "text/html": [
       "<div>\n",
       "<style scoped>\n",
       "    .dataframe tbody tr th:only-of-type {\n",
       "        vertical-align: middle;\n",
       "    }\n",
       "\n",
       "    .dataframe tbody tr th {\n",
       "        vertical-align: top;\n",
       "    }\n",
       "\n",
       "    .dataframe thead th {\n",
       "        text-align: right;\n",
       "    }\n",
       "</style>\n",
       "<table border=\"1\" class=\"dataframe\">\n",
       "  <thead>\n",
       "    <tr style=\"text-align: right;\">\n",
       "      <th></th>\n",
       "      <th>EP</th>\n",
       "      <th>code</th>\n",
       "      <th>label</th>\n",
       "      <th>java_code</th>\n",
       "      <th>service_name</th>\n",
       "      <th>json_answer</th>\n",
       "    </tr>\n",
       "  </thead>\n",
       "  <tbody>\n",
       "    <tr>\n",
       "      <th>0</th>\n",
       "      <td>bindService_ActivityManagerService_9</td>\n",
       "      <td>[inv]: int var12 = bindIsolatedService(param2,...</td>\n",
       "      <td>1</td>\n",
       "      <td>// Method: bindService\\n// Service: ActivityMa...</td>\n",
       "      <td>ActivityManagerService</td>\n",
       "      <td>{'Sinks': [['ActivityManagerService var101 = t...</td>\n",
       "    </tr>\n",
       "    <tr>\n",
       "      <th>2</th>\n",
       "      <td>sendIdleJobTrigger_ActivityManagerService_1</td>\n",
       "      <td>[inv]: long var10 = Binder.clearCallingIdentit...</td>\n",
       "      <td>1</td>\n",
       "      <td>// Method: sendIdleJobTrigger\\n// Service: Act...</td>\n",
       "      <td>ActivityManagerService</td>\n",
       "      <td>{'Sinks': [['int var22 = broadcastIntent(0, va...</td>\n",
       "    </tr>\n",
       "    <tr>\n",
       "      <th>7</th>\n",
       "      <td>startService_ActivityManagerService_7</td>\n",
       "      <td>[inv]: boolean var12 = hasFileDescriptors();&lt;|...</td>\n",
       "      <td>1</td>\n",
       "      <td>// Method: startService\\n// Service: ActivityM...</td>\n",
       "      <td>ActivityManagerService</td>\n",
       "      <td>{'Sinks': [['boolean var425 = var421.checkServ...</td>\n",
       "    </tr>\n",
       "    <tr>\n",
       "      <th>10</th>\n",
       "      <td>updateConfiguration_ActivityManagerService_2</td>\n",
       "      <td>[get]: ActivityTaskManagerService var3 = this....</td>\n",
       "      <td>1</td>\n",
       "      <td>// Method: updateConfiguration\\n// Service: Ac...</td>\n",
       "      <td>ActivityManagerService</td>\n",
       "      <td>{'Sinks': [['SystemProperties.set(persist.sys....</td>\n",
       "    </tr>\n",
       "    <tr>\n",
       "      <th>22</th>\n",
       "      <td>getProcessMemoryInfo_ActivityManagerService_2</td>\n",
       "      <td>[inv]: long var6 = SystemClock.uptimeMillis();...</td>\n",
       "      <td>1</td>\n",
       "      <td>// Method: getProcessMemoryInfo\\n// Service: A...</td>\n",
       "      <td>ActivityManagerService</td>\n",
       "      <td>{'Sinks': [['Debug.getMemoryInfo(var60,var58);...</td>\n",
       "    </tr>\n",
       "  </tbody>\n",
       "</table>\n",
       "</div>"
      ],
      "text/plain": [
       "                                               EP  \\\n",
       "0            bindService_ActivityManagerService_9   \n",
       "2     sendIdleJobTrigger_ActivityManagerService_1   \n",
       "7           startService_ActivityManagerService_7   \n",
       "10   updateConfiguration_ActivityManagerService_2   \n",
       "22  getProcessMemoryInfo_ActivityManagerService_2   \n",
       "\n",
       "                                                 code  label  \\\n",
       "0   [inv]: int var12 = bindIsolatedService(param2,...      1   \n",
       "2   [inv]: long var10 = Binder.clearCallingIdentit...      1   \n",
       "7   [inv]: boolean var12 = hasFileDescriptors();<|...      1   \n",
       "10  [get]: ActivityTaskManagerService var3 = this....      1   \n",
       "22  [inv]: long var6 = SystemClock.uptimeMillis();...      1   \n",
       "\n",
       "                                            java_code            service_name  \\\n",
       "0   // Method: bindService\\n// Service: ActivityMa...  ActivityManagerService   \n",
       "2   // Method: sendIdleJobTrigger\\n// Service: Act...  ActivityManagerService   \n",
       "7   // Method: startService\\n// Service: ActivityM...  ActivityManagerService   \n",
       "10  // Method: updateConfiguration\\n// Service: Ac...  ActivityManagerService   \n",
       "22  // Method: getProcessMemoryInfo\\n// Service: A...  ActivityManagerService   \n",
       "\n",
       "                                          json_answer  \n",
       "0   {'Sinks': [['ActivityManagerService var101 = t...  \n",
       "2   {'Sinks': [['int var22 = broadcastIntent(0, va...  \n",
       "7   {'Sinks': [['boolean var425 = var421.checkServ...  \n",
       "10  {'Sinks': [['SystemProperties.set(persist.sys....  \n",
       "22  {'Sinks': [['Debug.getMemoryInfo(var60,var58);...  "
      ]
     },
     "execution_count": 64,
     "metadata": {},
     "output_type": "execute_result"
    }
   ],
   "source": [
    "# read the serialized DataFrame\n",
    "with open(pickle_file_path, 'rb') as file:\n",
    "    AMS_Df = pickle.load(file)\n",
    "    \n",
    "AMS_Df.head()"
   ]
  }
 ],
 "metadata": {
  "kernelspec": {
   "display_name": ".env",
   "language": "python",
   "name": "python3"
  },
  "language_info": {
   "codemirror_mode": {
    "name": "ipython",
    "version": 3
   },
   "file_extension": ".py",
   "mimetype": "text/x-python",
   "name": "python",
   "nbconvert_exporter": "python",
   "pygments_lexer": "ipython3",
   "version": "3.10.4"
  }
 },
 "nbformat": 4,
 "nbformat_minor": 2
}
