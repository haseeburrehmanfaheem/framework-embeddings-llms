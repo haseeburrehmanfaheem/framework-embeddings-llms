{
 "cells": [
  {
   "cell_type": "code",
   "execution_count": 52,
   "metadata": {},
   "outputs": [
    {
     "name": "stdout",
     "output_type": "stream",
     "text": [
      "Sat Nov 30 18:47:55 2024       \n",
      "+-----------------------------------------------------------------------------------------+\n",
      "| NVIDIA-SMI 550.54.14              Driver Version: 550.54.14      CUDA Version: 12.4     |\n",
      "|-----------------------------------------+------------------------+----------------------+\n",
      "| GPU  Name                 Persistence-M | Bus-Id          Disp.A | Volatile Uncorr. ECC |\n",
      "| Fan  Temp   Perf          Pwr:Usage/Cap |           Memory-Usage | GPU-Util  Compute M. |\n",
      "|                                         |                        |               MIG M. |\n",
      "|=========================================+========================+======================|\n",
      "|   0  NVIDIA A40                     Off |   00000000:81:00.0 Off |                    0 |\n",
      "|  0%   47C    P0             81W /  300W |   44564MiB /  46068MiB |      0%      Default |\n",
      "|                                         |                        |                  N/A |\n",
      "+-----------------------------------------+------------------------+----------------------+\n",
      "                                                                                         \n",
      "+-----------------------------------------------------------------------------------------+\n",
      "| Processes:                                                                              |\n",
      "|  GPU   GI   CI        PID   Type   Process name                              GPU Memory |\n",
      "|        ID   ID                                                               Usage      |\n",
      "|=========================================================================================|\n",
      "+-----------------------------------------------------------------------------------------+\n"
     ]
    }
   ],
   "source": [
    "!nvidia-smi"
   ]
  },
  {
   "cell_type": "code",
   "execution_count": 56,
   "metadata": {},
   "outputs": [
    {
     "data": {
      "text/plain": [
       "{'status': 'success'}"
      ]
     },
     "execution_count": 56,
     "metadata": {},
     "output_type": "execute_result"
    }
   ],
   "source": [
    "import pandas as pd\n",
    "from sklearn.model_selection import train_test_split\n",
    "import re\n",
    "import sys, getopt\n",
    "import jsonlines\n",
    "import random\n",
    "import numpy as np\n",
    "import pickle\n",
    "from tqdm import tqdm\n",
    "import pandas as pd\n",
    "import re\n",
    "import numpy as np\n",
    "import os\n",
    "import time\n",
    "from openai import OpenAI\n",
    "import pandas as pd\n",
    "import jsonlines\n",
    "import numpy as np\n",
    "from tqdm import tqdm\n",
    "import json\n",
    "import tiktoken\n",
    "import ollama\n",
    "import csv\n",
    "import copy\n",
    "encoding = tiktoken.encoding_for_model(\"gpt-4\")\n",
    "import os\n",
    "import sys\n",
    "import logging\n",
    "from tqdm import tqdm\n",
    "\n",
    "# CHAGNE PROMPT HEREEEEEEE\n",
    "with open('./prompts/prompt1-8.txt', 'r') as file:\n",
    "    sys_prompt = file.read()\n",
    "\n",
    "modelfile=f'''\n",
    "FROM llama3.1:70b\n",
    "system \"\"\"\n",
    "{sys_prompt.strip()}\n",
    "\"\"\"\n",
    "'''\n",
    "model = 'myexample1'\n",
    "num_ctx = 17000 # 15000 original, \n",
    "ollama.create(model='myexample1', modelfile=modelfile)\n",
    "\n"
   ]
  },
  {
   "cell_type": "code",
   "execution_count": 57,
   "metadata": {},
   "outputs": [],
   "source": [
    "\n",
    "###################\n",
    "# Utility Functions\n",
    "###################\n",
    "\n",
    "def getWithoutAC(s):\n",
    "    s = s[1:-1]\n",
    "    s = s.split(\", \")\n",
    "    withoutAccess = []\n",
    "    for k in s:\n",
    "        if \"[AC]\" not in k:\n",
    "            withoutAccess.append(k)\n",
    "    return \"<|>\".join(withoutAccess)\n",
    "\n",
    "def extractAC(s):\n",
    "    s = s[1:-1]\n",
    "    s = s.split(\", \")\n",
    "    ans = -1\n",
    "    \n",
    "    for k in s:\n",
    "        if \"[AC]\" in k:\n",
    "            match = re.search(r'\\((\\d+)\\)', k)\n",
    "            if match:\n",
    "                number = int(match.group(1))\n",
    "                ans = max(ans, number)\n",
    "    m = {-1: 0, 0: 0, 1: 0, 2: 1, 3: 1}\n",
    "    return m[ans]\n",
    "\n",
    "def parse_data_string(dict_str):\n",
    "    newDict = {}\n",
    "    dict_str = dict_str[1:-1]\n",
    "    dict_str = dict_str.split(',')\n",
    "    for d in dict_str:\n",
    "        newDict[d.split('=')[0].strip()] = d.split('=')[1].strip()\n",
    "    return newDict\n",
    "\n",
    "def getData(fileName):\n",
    "# Read the file\n",
    "    with open(fileName, \"r\") as file:\n",
    "        lines = file.readlines()\n",
    "\n",
    "    # Initialize variables\n",
    "    current_ep = None\n",
    "    all_entries = []\n",
    "\n",
    "    # Iterate over the lines in the file\n",
    "    for line in lines:\n",
    "        # If the line starts with 'EP:', it's the start of a new EP block\n",
    "        if line.startswith('EP:'):\n",
    "            current_ep = line.strip().split('EP: ')[1]\n",
    "        # If the line starts with 'ControlFlow:', it's the start of a new data block\n",
    "        elif line.startswith('ControlFlow:'):\n",
    "            current_block = {}\n",
    "            current_block['EP'] = current_ep\n",
    "            current_block['code'] = line.strip().split('ControlFlow: ')[1]\n",
    "            all_entries.append(current_block)\n",
    "        # elif line.startswith('Features:'):\n",
    "        #     newDict = parse_data_string(line.strip().split('Features: ')[1])\n",
    "        #     for k in newDict.keys():\n",
    "        #         current_block[k] = newDict[k]\n",
    "        #     all_entries.append(current_block)\n",
    "\n",
    "    # Convert the list of blocks to a dataframe\n",
    "    df = pd.DataFrame(all_entries)\n",
    "    df[\"label\"] = df[\"code\"].apply(extractAC)\n",
    "    df[\"code\"] = df[\"code\"].apply(getWithoutAC)\n",
    "    return df\n",
    "\n",
    "import numpy as np\n",
    "\n",
    "def slidingWindow(path):\n",
    "    window = []\n",
    "    curPath = []\n",
    "    for p in path:\n",
    "        curPath.append(p)\n",
    "        window.append(list(curPath))\n",
    "    return window\n",
    "\n",
    "\n",
    "def decompose(df):\n",
    "    # Create a helper column for chunk grouping\n",
    "    df['group'] = np.where(df['label'] == 0, np.arange(len(df)), df.groupby('EP').cumcount() // 4)\n",
    "\n",
    "    # Group by 'EP', 'label' and 'group', and then merge 'subsequences'\n",
    "    df_agg = df.groupby(['EP', 'label', 'group']).agg({\n",
    "        'code': lambda x: '<PATH_SEP>'.join(x)\n",
    "    })\n",
    "\n",
    "    # Reset the index to get 'EP' and 'label' as columns\n",
    "    df_agg.reset_index(inplace=True)\n",
    "\n",
    "    # Drop the 'group' column\n",
    "    df_agg.drop(columns=['group'], inplace=True)\n",
    "\n",
    "    # If you still want to aggregate 'label' by taking the max value\n",
    "    df_agg['label'] = df_agg.groupby('EP')['label'].transform('max')\n",
    "\n",
    "    return df_agg\n",
    "\n",
    "\n",
    "\n",
    "def shuffle_dataframes(df):\n",
    "    # Concatenate the dataframes\n",
    "    \n",
    "    # Separate the labels from the features\n",
    "    X = df.drop('label', axis=1)\n",
    "    y = df['label']\n",
    "\n",
    "    # Split the data into train and remaining data (test + validation)\n",
    "    X_train, X_test, y_train, y_test = train_test_split(X, y, test_size=0.2, random_state=42, stratify=y)\n",
    "\n",
    "    # Create train, test, and validation dataframes\n",
    "    train_df = pd.concat([X_train, y_train], axis=1)\n",
    "    test_df = pd.concat([X_test, y_test], axis=1)\n",
    "    \n",
    "    return train_df, test_df\n",
    "\n",
    "\n",
    "# Creating the Training Data for the model\n",
    "def createJsonL(df, fileName):\n",
    "    fileName = fileName.replace(\".txt\", \"\")\n",
    "    json_objects = []\n",
    "\n",
    "    # Group the DataFrame by unique values in the 'EP' column\n",
    "    grouped = df.groupby('EP')\n",
    "\n",
    "    # Iterate over each group\n",
    "    for _, group in grouped:\n",
    "        # Shuffle the group randomly\n",
    "        shuffled_group = group.sample(frac=1, random_state=42)  # Set a random_state for reproducibility\n",
    "\n",
    "        # Keep at most 10 rows in the shuffled group\n",
    "        # shuffled_group = shuffled_group.head(10)\n",
    "\n",
    "        # Iterate over each row in the shuffled group\n",
    "        for _, row in shuffled_group.iterrows():\n",
    "            prompt = []\n",
    "\n",
    "            # Iterate over each column (excluding 'label')\n",
    "            for column in shuffled_group.columns:\n",
    "                if column != 'label':\n",
    "                    prompt.append(str(column) + ' = ' + str(row[column]))\n",
    "\n",
    "            # Create the JSON object\n",
    "            json_object = {\n",
    "                'code': \" \".join(prompt),\n",
    "                'label': int(row['label'])\n",
    "            }\n",
    "\n",
    "            # Append the JSON object to the list\n",
    "            json_objects.append(json_object)\n",
    "\n",
    "    with jsonlines.open(fileName, 'w') as writer:\n",
    "        writer.write_all(json_objects)\n"
   ]
  },
  {
   "cell_type": "code",
   "execution_count": 58,
   "metadata": {},
   "outputs": [
    {
     "name": "stdout",
     "output_type": "stream",
     "text": [
      "################\n",
      "1 - Protection Required\n",
      "0 - No Protection\n",
      "################\n",
      "\n",
      "LabelCounts:\n",
      " label\n",
      "1    36207\n",
      "0     9623\n",
      "Name: count, dtype: int64\n",
      "LabelCounts:\n",
      " label\n",
      "1    14903\n",
      "0     5242\n",
      "Name: count, dtype: int64\n",
      "                                 EP  label  \\\n",
      "0  abandonAudioFocus_AudioService_5      0   \n",
      "1  abandonAudioFocus_AudioService_5      0   \n",
      "2  abandonAudioFocus_AudioService_5      0   \n",
      "3  abandonAudioFocus_AudioService_5      0   \n",
      "4  abandonAudioFocus_AudioService_5      0   \n",
      "\n",
      "                                                code  \n",
      "0  [get]: MediaFocusControl var6 = this.mMediaFoc...  \n",
      "1  [get]: MediaFocusControl var6 = this.mMediaFoc...  \n",
      "2  [get]: MediaFocusControl var6 = this.mMediaFoc...  \n",
      "3  [get]: MediaFocusControl var6 = this.mMediaFoc...  \n",
      "4  [get]: MediaFocusControl var6 = this.mMediaFoc...  \n"
     ]
    }
   ],
   "source": [
    "file_name = \"data/aosp.txt\"\n",
    "try:\n",
    "    df = getData(file_name)\n",
    "except:\n",
    "    print(f\"Could not read {file_name}\")\n",
    "\n",
    "label_counts = df['label'].value_counts()\n",
    "\n",
    "print(\"################\\n1 - Protection Required\\n0 - No Protection\\n################\\n\")\n",
    "\n",
    "print(\"LabelCounts:\\n\", label_counts)\n",
    "merged_aaAdf = decompose(df)\n",
    "merged_df = merged_aaAdf\n",
    "trainDF, testDF = shuffle_dataframes(merged_df)\n",
    "\n",
    "label_counts = merged_df['label'].value_counts()\n",
    "print(\"LabelCounts:\\n\", label_counts)\n",
    "\n",
    "print(merged_df.head())\n",
    "\n",
    "createJsonL(trainDF, f'{file_name}_train.jsonl')\n",
    "createJsonL(testDF, f'{file_name}_test.jsonl')"
   ]
  },
  {
   "cell_type": "code",
   "execution_count": 64,
   "metadata": {},
   "outputs": [],
   "source": [
    "# trainDF.iloc[0]['code']\n",
    "def generate_java_method(name, code):\n",
    "    # Extract the API name and method name dynamically\n",
    "    api_name, method_name = name.split(\"_\", 1)\n",
    "\n",
    "    # Start the Java code formatting\n",
    "    java_code = []\n",
    "    java_code.append(f\"// API: {api_name}\")\n",
    "    java_code.append(f\"// Service: {method_name}\\n\")\n",
    "    java_code.append(f\"public void {api_name}() {{\")\n",
    "\n",
    "    # Split and clean up the code\n",
    "    lines = code.split(\"<|>\")\n",
    "    for line in lines:\n",
    "        # Remove [..]: and clean up the lines\n",
    "        cleaned_line = re.sub(r\"\\[.*?\\]: \", \"\", line).strip()\n",
    "        if cleaned_line:\n",
    "            # Ensure only one semicolon is added\n",
    "            if not cleaned_line.endswith(\";\"):\n",
    "                cleaned_line += \";\"\n",
    "            java_code.append(f\"    {cleaned_line}\")\n",
    "\n",
    "    java_code.append(\"}\")\n",
    "    return \"\\n\".join(java_code)\n",
    "\n",
    "\n",
    "# s= generate_java_method(trainDF.iloc[0]['EP'],trainDF.iloc[0]['code'])\n",
    "# s\n",
    "trainDF['java_code'] = trainDF.apply(lambda row: generate_java_method(row['EP'], row['code']), axis=1)\n",
    "## DROP THE DUPLICATES USING LENGTH\n",
    "trainDF['code_length'] = trainDF['java_code'].map(len)\n",
    "trainDF = (\n",
    "    trainDF.sort_values(by='code_length', ascending=False)  \n",
    "    .drop_duplicates(subset=trainDF.columns[0])             \n",
    "    .reset_index(drop=True)                                 \n",
    ")\n",
    "trainDF = trainDF.drop(columns=['code_length'])\n",
    "trainDF['service_name'] = trainDF['EP'].apply(lambda word: word.split(\"_\")[1])\n"
   ]
  },
  {
   "cell_type": "code",
   "execution_count": 67,
   "metadata": {},
   "outputs": [],
   "source": [
    "\n",
    "def run_first_prompt_Ollama(method_code,run):\n",
    "    \"\"\" runs the first prompt - extract sinks from the traces\n",
    "    \"\"\"\n",
    "    \n",
    "    global sys_prompt\n",
    "\n",
    "    # user_prompt = get_method_traces_from_file(file_path, interface, method)\n",
    "    \n",
    "    user_prompt = method_code\n",
    "    if(not run):\n",
    "        return {\n",
    "            \"system_message\": sys_prompt,\n",
    "            \"user_message\": user_prompt,\n",
    "            \"response\": \"Not running\"\n",
    "        }\n",
    "        \n",
    "        \n",
    "    \n",
    "    response = ollama.chat(model=model, messages=[\n",
    "    {\n",
    "        'role': 'user',\n",
    "        'content': user_prompt,\n",
    "    },\n",
    "    ]\n",
    "    ,\n",
    "     options={\n",
    "        'num_ctx': num_ctx,\n",
    "        # 'temperature': 0.3 # CHECK TEMPERATURE HERERERERERERERER\n",
    "    }\n",
    "    \n",
    "    )\n",
    "    \n",
    "    # logging.info(f\"Response for {method} = {response['message']['content']}\")\n",
    "\n",
    "    \n",
    "    return {\n",
    "        \"system_message\": sys_prompt,\n",
    "        \"user_message\": user_prompt,\n",
    "        \"response\": response['message']['content']\n",
    "    }\n",
    "    \n",
    "\n",
    "# get the json from the res[\"response\"]\n",
    "\n",
    "# def extract_json_from_string(input_string):\n",
    "#     \"\"\"\n",
    "#     Extracts JSON from the given string.\n",
    "\n",
    "#     Args:\n",
    "#         input_string (str): The string containing embedded JSON.\n",
    "\n",
    "#     Returns:\n",
    "#         dict: The extracted JSON as a Python dictionary.\n",
    "#     \"\"\"\n",
    "#     try:\n",
    "#         # Use a regex pattern to extract the JSON part\n",
    "#         json_pattern = r\"```(?:json)?\\n(.*?)\\n```\"\n",
    "#         match = re.search(json_pattern, input_string, re.DOTALL)\n",
    "#         if match:\n",
    "#             json_string = match.group(1)\n",
    "#             return json.loads(json_string)\n",
    "#         else:\n",
    "#             raise ValueError(\"No JSON found in the provided string.\")\n",
    "#     except json.JSONDecodeError as e:\n",
    "#         raise ValueError(f\"Error decoding JSON: {e}\")\n",
    "\n",
    "def extract_json_from_string(input_string):\n",
    "    valid_jsons = []\n",
    "    \n",
    "    try:\n",
    "        # Use a regex pattern to extract all JSON parts embedded between ```json``` blocks\n",
    "        json_pattern = r\"```(?:json)?\\s*(.*?)\\s*```\"\n",
    "        matches = re.findall(json_pattern, input_string, re.DOTALL)\n",
    "        \n",
    "        # Process each match (potential JSON string)\n",
    "        for json_string in matches:\n",
    "            try:\n",
    "                # Try to load the string as JSON\n",
    "                json_obj = json.loads(json_string)\n",
    "                valid_jsons.append(json_obj)\n",
    "            except json.JSONDecodeError as e:\n",
    "                continue\n",
    "                # Print the invalid JSON for debugging\n",
    "                # print(f\"Invalid JSON: {json_string}\")\n",
    "                # print(f\"Error: {e}\")\n",
    "        \n",
    "        # Return all valid JSON objects found\n",
    "        if not valid_jsons:\n",
    "            print(input_string)\n",
    "            # raise ValueError(\"No valid JSON found in the provided string.\")\n",
    "            raise Exception(\"No valid JSON found in the provided string.\")\n",
    "        \n",
    "        return valid_jsons[0]\n",
    "    \n",
    "    except Exception as e:\n",
    "        print(f\"Error processing string: {e}\")\n",
    "        \n",
    "        return []"
   ]
  },
  {
   "cell_type": "code",
   "execution_count": null,
   "metadata": {},
   "outputs": [
    {
     "name": "stderr",
     "output_type": "stream",
     "text": [
      "Processing rows:  12%|█▏        | 23/192 [30:25<3:19:59, 71.00s/it]"
     ]
    },
    {
     "name": "stdout",
     "output_type": "stream",
     "text": [
      "Error processing string: No valid JSON found in the provided string.\n"
     ]
    },
    {
     "name": "stderr",
     "output_type": "stream",
     "text": [
      "Processing rows:  38%|███▊      | 72/192 [1:25:53<2:18:06, 69.06s/it]"
     ]
    },
    {
     "name": "stdout",
     "output_type": "stream",
     "text": [
      "Error processing string: No valid JSON found in the provided string.\n"
     ]
    },
    {
     "name": "stderr",
     "output_type": "stream",
     "text": [
      "Processing rows:  44%|████▍     | 84/192 [1:38:31<1:43:18, 57.39s/it]"
     ]
    },
    {
     "name": "stdout",
     "output_type": "stream",
     "text": [
      "Error processing string: No valid JSON found in the provided string.\n"
     ]
    },
    {
     "name": "stderr",
     "output_type": "stream",
     "text": [
      "Processing rows:  57%|█████▋    | 109/192 [2:05:53<1:39:18, 71.79s/it]"
     ]
    },
    {
     "name": "stdout",
     "output_type": "stream",
     "text": [
      "Error processing string: No valid JSON found in the provided string.\n"
     ]
    },
    {
     "name": "stderr",
     "output_type": "stream",
     "text": [
      "Processing rows:  60%|██████    | 116/192 [2:12:44<1:14:17, 58.65s/it]"
     ]
    },
    {
     "name": "stdout",
     "output_type": "stream",
     "text": [
      "Error processing string: No valid JSON found in the provided string.\n"
     ]
    },
    {
     "name": "stderr",
     "output_type": "stream",
     "text": [
      "Processing rows:  62%|██████▎   | 120/192 [2:16:07<1:02:41, 52.24s/it]"
     ]
    },
    {
     "name": "stdout",
     "output_type": "stream",
     "text": [
      "Error processing string: No valid JSON found in the provided string.\n"
     ]
    },
    {
     "name": "stderr",
     "output_type": "stream",
     "text": [
      "Processing rows:  80%|████████  | 154/192 [2:45:18<32:51, 51.89s/it]  "
     ]
    },
    {
     "name": "stdout",
     "output_type": "stream",
     "text": [
      "Error processing string: No valid JSON found in the provided string.\n"
     ]
    },
    {
     "name": "stderr",
     "output_type": "stream",
     "text": [
      "Processing rows:  81%|████████▏ | 156/192 [2:46:38<26:40, 44.46s/it]"
     ]
    },
    {
     "name": "stdout",
     "output_type": "stream",
     "text": [
      "Error processing string: No valid JSON found in the provided string.\n"
     ]
    },
    {
     "name": "stderr",
     "output_type": "stream",
     "text": [
      "Processing rows:  83%|████████▎ | 159/192 [2:48:42<22:56, 41.71s/it]"
     ]
    },
    {
     "name": "stdout",
     "output_type": "stream",
     "text": [
      "Error processing string: No valid JSON found in the provided string.\n"
     ]
    },
    {
     "name": "stderr",
     "output_type": "stream",
     "text": [
      "Processing rows:  85%|████████▍ | 163/192 [2:51:46<21:37, 44.75s/it]"
     ]
    },
    {
     "name": "stdout",
     "output_type": "stream",
     "text": [
      "Error processing string: No valid JSON found in the provided string.\n"
     ]
    },
    {
     "name": "stderr",
     "output_type": "stream",
     "text": [
      "Processing rows:  89%|████████▉ | 171/192 [2:57:17<14:18, 40.88s/it]"
     ]
    },
    {
     "name": "stdout",
     "output_type": "stream",
     "text": [
      "Error processing string: No valid JSON found in the provided string.\n"
     ]
    },
    {
     "name": "stderr",
     "output_type": "stream",
     "text": [
      "Processing rows:  96%|█████████▌| 184/192 [3:04:22<04:09, 31.19s/it]"
     ]
    },
    {
     "name": "stdout",
     "output_type": "stream",
     "text": [
      "Error processing string: No valid JSON found in the provided string.\n"
     ]
    },
    {
     "name": "stderr",
     "output_type": "stream",
     "text": [
      "Processing rows:  97%|█████████▋| 187/192 [3:05:41<02:18, 27.75s/it]"
     ]
    },
    {
     "name": "stdout",
     "output_type": "stream",
     "text": [
      "Error processing string: No valid JSON found in the provided string.\n"
     ]
    },
    {
     "name": "stderr",
     "output_type": "stream",
     "text": [
      "Processing rows: 100%|██████████| 192/192 [3:07:57<00:00, 58.74s/it]"
     ]
    },
    {
     "name": "stdout",
     "output_type": "stream",
     "text": [
      "DataFrame serialized and saved to ./serialized_data/week2/AMS_Df_2.pkl\n"
     ]
    },
    {
     "name": "stderr",
     "output_type": "stream",
     "text": [
      "\n"
     ]
    }
   ],
   "source": [
    "\n",
    "\n",
    "AMS_Df = trainDF[trainDF['service_name'] == 'ActivityManagerService'].copy()\n",
    "AMS_Df.shape\n",
    "AMS_Df['json_answer'] = None\n",
    "\n",
    "\n",
    "output_folder = \"./output/week2/output3\"\n",
    "counter = 0\n",
    "for index, row in tqdm(AMS_Df.iterrows(), total=AMS_Df.shape[0], desc=\"Processing rows\"):\n",
    "    # print(row['EP'])\n",
    "    # print(row['service_name'])\n",
    "    res = run_first_prompt_Ollama(row['java_code'],True)\n",
    "    json_answer = None\n",
    "    try:\n",
    "        json_answer = extract_json_from_string(res[\"response\"])\n",
    "    except Exception as e:\n",
    "        print(f\"Error extracting JSON from response: {e}\")\n",
    "        print(row['EP'])\n",
    "        print(row['service_name'])\n",
    "        # continue\n",
    "        # Store the json_answer in the new column\n",
    "    AMS_Df.at[index, 'json_answer'] = json_answer\n",
    "\n",
    "    # Write response details to files\n",
    "    folder_path = f'{output_folder}/{row[\"EP\"].split(\"_\")[0]}'\n",
    "    os.makedirs(folder_path, exist_ok=True)\n",
    "\n",
    "    with open(f'{folder_path}/system_message.txt', 'w') as f:\n",
    "        f.write(res[\"system_message\"])\n",
    "    with open(f'{folder_path}/user_message.txt', 'w') as f:\n",
    "        f.write(res[\"user_message\"])\n",
    "    with open(f'{folder_path}/response.txt', 'w') as f:\n",
    "        f.write(res[\"response\"])\n",
    "\n",
    "pickle_file_path = \"./serialized_data/week2/AMS_Df_3.pkl\"\n",
    "\n",
    "# Serialize the DataFrame using pickle\n",
    "with open(pickle_file_path, 'wb') as file:\n",
    "    pickle.dump(AMS_Df, file)\n",
    "\n",
    "print(f\"DataFrame serialized and saved to {pickle_file_path}\")"
   ]
  },
  {
   "cell_type": "code",
   "execution_count": 25,
   "metadata": {},
   "outputs": [
    {
     "data": {
      "text/html": [
       "<div>\n",
       "<style scoped>\n",
       "    .dataframe tbody tr th:only-of-type {\n",
       "        vertical-align: middle;\n",
       "    }\n",
       "\n",
       "    .dataframe tbody tr th {\n",
       "        vertical-align: top;\n",
       "    }\n",
       "\n",
       "    .dataframe thead th {\n",
       "        text-align: right;\n",
       "    }\n",
       "</style>\n",
       "<table border=\"1\" class=\"dataframe\">\n",
       "  <thead>\n",
       "    <tr style=\"text-align: right;\">\n",
       "      <th></th>\n",
       "      <th>EP</th>\n",
       "      <th>code</th>\n",
       "      <th>label</th>\n",
       "      <th>java_code</th>\n",
       "      <th>service_name</th>\n",
       "      <th>json_answer</th>\n",
       "    </tr>\n",
       "  </thead>\n",
       "  <tbody>\n",
       "    <tr>\n",
       "      <th>24</th>\n",
       "      <td>stopService_ActivityManagerService_5</td>\n",
       "      <td>[inv]: boolean var10 = hasFileDescriptors();&lt;|...</td>\n",
       "      <td>1</td>\n",
       "      <td>// Method: stopService\\n// Service: ActivityMa...</td>\n",
       "      <td>ActivityManagerService</td>\n",
       "      <td>None</td>\n",
       "    </tr>\n",
       "    <tr>\n",
       "      <th>35</th>\n",
       "      <td>getProcessPss_ActivityManagerService_2</td>\n",
       "      <td>[inv]: int var6 = Binder.getCallingPid();&lt;|&gt;[i...</td>\n",
       "      <td>1</td>\n",
       "      <td>// Method: getProcessPss\\n// Service: Activity...</td>\n",
       "      <td>ActivityManagerService</td>\n",
       "      <td>None</td>\n",
       "    </tr>\n",
       "    <tr>\n",
       "      <th>37</th>\n",
       "      <td>setServiceForeground_ActivityManagerService_7</td>\n",
       "      <td>[inv]: ActivityManagerService.boostPriorityFor...</td>\n",
       "      <td>1</td>\n",
       "      <td>// Method: setServiceForeground\\n// Service: A...</td>\n",
       "      <td>ActivityManagerService</td>\n",
       "      <td>None</td>\n",
       "    </tr>\n",
       "    <tr>\n",
       "      <th>84</th>\n",
       "      <td>handleApplicationCrash_ActivityManagerService_3</td>\n",
       "      <td>[inv]: ProcessRecord var6 = findAppProcess(par...</td>\n",
       "      <td>1</td>\n",
       "      <td>// Method: handleApplicationCrash\\n// Service:...</td>\n",
       "      <td>ActivityManagerService</td>\n",
       "      <td>None</td>\n",
       "    </tr>\n",
       "    <tr>\n",
       "      <th>141</th>\n",
       "      <td>setFocusedStack_ActivityManagerService_2</td>\n",
       "      <td>[get]: ActivityTaskManagerService var3 = this....</td>\n",
       "      <td>1</td>\n",
       "      <td>// Method: setFocusedStack\\n// Service: Activi...</td>\n",
       "      <td>ActivityManagerService</td>\n",
       "      <td>None</td>\n",
       "    </tr>\n",
       "    <tr>\n",
       "      <th>...</th>\n",
       "      <td>...</td>\n",
       "      <td>...</td>\n",
       "      <td>...</td>\n",
       "      <td>...</td>\n",
       "      <td>...</td>\n",
       "      <td>...</td>\n",
       "    </tr>\n",
       "    <tr>\n",
       "      <th>2186</th>\n",
       "      <td>registerUserSwitchObserver_ActivityManagerServ...</td>\n",
       "      <td>[get]: UserController var4 = this.mUserControl...</td>\n",
       "      <td>1</td>\n",
       "      <td>// Method: registerUserSwitchObserver\\n// Serv...</td>\n",
       "      <td>ActivityManagerService</td>\n",
       "      <td>None</td>\n",
       "    </tr>\n",
       "    <tr>\n",
       "      <th>2198</th>\n",
       "      <td>noteWakeupAlarm_ActivityManagerService_6</td>\n",
       "      <td>[inv]: boolean var9 = isEmpty();&lt;|&gt;[ins]: 11 =...</td>\n",
       "      <td>0</td>\n",
       "      <td>// Method: noteWakeupAlarm\\n// Service: Activi...</td>\n",
       "      <td>ActivityManagerService</td>\n",
       "      <td>None</td>\n",
       "    </tr>\n",
       "    <tr>\n",
       "      <th>2199</th>\n",
       "      <td>noteAlarmFinish_ActivityManagerService_5</td>\n",
       "      <td>[inv]: boolean var8 = isEmpty();&lt;|&gt;[ins]: 10 =...</td>\n",
       "      <td>0</td>\n",
       "      <td>// Method: noteAlarmFinish\\n// Service: Activi...</td>\n",
       "      <td>ActivityManagerService</td>\n",
       "      <td>None</td>\n",
       "    </tr>\n",
       "    <tr>\n",
       "      <th>2203</th>\n",
       "      <td>noteAlarmStart_ActivityManagerService_5</td>\n",
       "      <td>[inv]: boolean var8 = isEmpty();&lt;|&gt;[ins]: 10 =...</td>\n",
       "      <td>0</td>\n",
       "      <td>// Method: noteAlarmStart\\n// Service: Activit...</td>\n",
       "      <td>ActivityManagerService</td>\n",
       "      <td>None</td>\n",
       "    </tr>\n",
       "    <tr>\n",
       "      <th>2259</th>\n",
       "      <td>closeSystemDialogs_ActivityManagerService_2</td>\n",
       "      <td>[get]: ActivityTaskManagerInternal var3 = this...</td>\n",
       "      <td>0</td>\n",
       "      <td>// Method: closeSystemDialogs\\n// Service: Act...</td>\n",
       "      <td>ActivityManagerService</td>\n",
       "      <td>None</td>\n",
       "    </tr>\n",
       "  </tbody>\n",
       "</table>\n",
       "<p>144 rows × 6 columns</p>\n",
       "</div>"
      ],
      "text/plain": [
       "                                                     EP  \\\n",
       "24                 stopService_ActivityManagerService_5   \n",
       "35               getProcessPss_ActivityManagerService_2   \n",
       "37        setServiceForeground_ActivityManagerService_7   \n",
       "84      handleApplicationCrash_ActivityManagerService_3   \n",
       "141            setFocusedStack_ActivityManagerService_2   \n",
       "...                                                 ...   \n",
       "2186  registerUserSwitchObserver_ActivityManagerServ...   \n",
       "2198           noteWakeupAlarm_ActivityManagerService_6   \n",
       "2199           noteAlarmFinish_ActivityManagerService_5   \n",
       "2203            noteAlarmStart_ActivityManagerService_5   \n",
       "2259        closeSystemDialogs_ActivityManagerService_2   \n",
       "\n",
       "                                                   code  label  \\\n",
       "24    [inv]: boolean var10 = hasFileDescriptors();<|...      1   \n",
       "35    [inv]: int var6 = Binder.getCallingPid();<|>[i...      1   \n",
       "37    [inv]: ActivityManagerService.boostPriorityFor...      1   \n",
       "84    [inv]: ProcessRecord var6 = findAppProcess(par...      1   \n",
       "141   [get]: ActivityTaskManagerService var3 = this....      1   \n",
       "...                                                 ...    ...   \n",
       "2186  [get]: UserController var4 = this.mUserControl...      1   \n",
       "2198  [inv]: boolean var9 = isEmpty();<|>[ins]: 11 =...      0   \n",
       "2199  [inv]: boolean var8 = isEmpty();<|>[ins]: 10 =...      0   \n",
       "2203  [inv]: boolean var8 = isEmpty();<|>[ins]: 10 =...      0   \n",
       "2259  [get]: ActivityTaskManagerInternal var3 = this...      0   \n",
       "\n",
       "                                              java_code  \\\n",
       "24    // Method: stopService\\n// Service: ActivityMa...   \n",
       "35    // Method: getProcessPss\\n// Service: Activity...   \n",
       "37    // Method: setServiceForeground\\n// Service: A...   \n",
       "84    // Method: handleApplicationCrash\\n// Service:...   \n",
       "141   // Method: setFocusedStack\\n// Service: Activi...   \n",
       "...                                                 ...   \n",
       "2186  // Method: registerUserSwitchObserver\\n// Serv...   \n",
       "2198  // Method: noteWakeupAlarm\\n// Service: Activi...   \n",
       "2199  // Method: noteAlarmFinish\\n// Service: Activi...   \n",
       "2203  // Method: noteAlarmStart\\n// Service: Activit...   \n",
       "2259  // Method: closeSystemDialogs\\n// Service: Act...   \n",
       "\n",
       "                service_name json_answer  \n",
       "24    ActivityManagerService        None  \n",
       "35    ActivityManagerService        None  \n",
       "37    ActivityManagerService        None  \n",
       "84    ActivityManagerService        None  \n",
       "141   ActivityManagerService        None  \n",
       "...                      ...         ...  \n",
       "2186  ActivityManagerService        None  \n",
       "2198  ActivityManagerService        None  \n",
       "2199  ActivityManagerService        None  \n",
       "2203  ActivityManagerService        None  \n",
       "2259  ActivityManagerService        None  \n",
       "\n",
       "[144 rows x 6 columns]"
      ]
     },
     "execution_count": 25,
     "metadata": {},
     "output_type": "execute_result"
    }
   ],
   "source": [
    "# 192 rows × 6 columns\n",
    "\n",
    "# check which ones are None\n",
    "AMS_Df = AMS_Df[AMS_Df[\"json_answer\"].isnull()]\n",
    "# [AMS_Df[\"json_answer\"]]\n",
    "AMS_Df"
   ]
  },
  {
   "cell_type": "code",
   "execution_count": 9,
   "metadata": {},
   "outputs": [],
   "source": [
    "# return {\n",
    "#         \"system_message\": prompt1,\n",
    "#         \"user_message\": user_prompt,\n",
    "#         \"response\": response['message']['content']\n",
    "#     }\n",
    "# write res[\"response\"] to a txt file\n",
    "with open('output3.txt', 'w') as f:\n",
    "    f.write(res[\"response\"])\n",
    "    f.close()"
   ]
  },
  {
   "cell_type": "code",
   "execution_count": 12,
   "metadata": {},
   "outputs": [
    {
     "data": {
      "text/plain": [
       "'ActivityTaskManagerService'"
      ]
     },
     "execution_count": 12,
     "metadata": {},
     "output_type": "execute_result"
    }
   ],
   "source": [
    "trainDF\n",
    "\n",
    "word = \"startRecentsActivity_ActivityTaskManagerService_4\"\n",
    "service = word.split(\"_\")[1]\n",
    "service "
   ]
  },
  {
   "cell_type": "code",
   "execution_count": 16,
   "metadata": {},
   "outputs": [
    {
     "data": {
      "text/plain": [
       "Index(['EP', 'code', 'label', 'java_code', 'service_name'], dtype='object')"
      ]
     },
     "execution_count": 16,
     "metadata": {},
     "output_type": "execute_result"
    }
   ],
   "source": [
    "trainDF.columns"
   ]
  },
  {
   "cell_type": "code",
   "execution_count": 14,
   "metadata": {},
   "outputs": [
    {
     "data": {
      "text/plain": [
       "'After analyzing the provided Java code, I have identified several potential sinks that may require access control. Here are the results in JSON format:\\n\\n```\\n{\\n  \"Sinks\": [\\n    [\\n      \"PackageManagerInternal var103 = var101.getPackageManagerInternalLocked();\",\\n      \"ResolveInfo var105 = var103.resolveService(param2,param4,var100,var19,param7);\"\\n    ],\\n    [\\n      \"IntentFirewall var421 = var420.mIntentFirewall;\",\\n      \"boolean var425 = var421.checkService(var422,param2,param7,param6,param4,var423);\"\\n    ],\\n    [\\n      \"AppOpsService var439 = var438.mAppOpsService;\"\\n    ]\\n  ]\\n}\\n```\\n\\nRanking the sinks from most sensitive to least sensitive, I would place them in the following order:\\n\\n1. The first sink involves accessing the PackageManagerInternal instance and resolving a service using the resolveService method. This could potentially allow an attacker to access sensitive information about installed services or even install malicious services.\\n2. The second sink involves checking if a service is allowed to be accessed by a certain user using the IntentFirewall\\'s checkService method. This could potentially allow an attacker to bypass security restrictions and access sensitive data or functionality.\\n3. The third sink involves accessing the AppOpsService instance, which could potentially allow an attacker to manipulate app operations or access sensitive information about app usage.\\n\\nNote that these rankings are subjective and may vary depending on the specific context and requirements of the system.'"
      ]
     },
     "execution_count": 14,
     "metadata": {},
     "output_type": "execute_result"
    }
   ],
   "source": [
    "res[\"response\"]"
   ]
  },
  {
   "cell_type": "code",
   "execution_count": null,
   "metadata": {},
   "outputs": [],
   "source": [
    "\n",
    "\n",
    "\n",
    "\n",
    "json_answer = extract_json_from_string(res[\"response\"])"
   ]
  },
  {
   "cell_type": "code",
   "execution_count": 21,
   "metadata": {},
   "outputs": [
    {
     "data": {
      "text/plain": [
       "{'Sinks': [['PackageManagerInternal var103 = var101.getPackageManagerInternalLocked();',\n",
       "   'ResolveInfo var105 = var103.resolveService(param2,param4,var100,var19,param7);'],\n",
       "  ['IntentFirewall var421 = var420.mIntentFirewall;',\n",
       "   'boolean var425 = var421.checkService(var422,param2,param7,param6,param4,var423);'],\n",
       "  ['AppOpsService var439 = var438.mAppOpsService;']]}"
      ]
     },
     "execution_count": 21,
     "metadata": {},
     "output_type": "execute_result"
    }
   ],
   "source": [
    "json_answer"
   ]
  },
  {
   "cell_type": "code",
   "execution_count": 64,
   "metadata": {},
   "outputs": [
    {
     "data": {
      "text/html": [
       "<div>\n",
       "<style scoped>\n",
       "    .dataframe tbody tr th:only-of-type {\n",
       "        vertical-align: middle;\n",
       "    }\n",
       "\n",
       "    .dataframe tbody tr th {\n",
       "        vertical-align: top;\n",
       "    }\n",
       "\n",
       "    .dataframe thead th {\n",
       "        text-align: right;\n",
       "    }\n",
       "</style>\n",
       "<table border=\"1\" class=\"dataframe\">\n",
       "  <thead>\n",
       "    <tr style=\"text-align: right;\">\n",
       "      <th></th>\n",
       "      <th>EP</th>\n",
       "      <th>code</th>\n",
       "      <th>label</th>\n",
       "      <th>java_code</th>\n",
       "      <th>service_name</th>\n",
       "      <th>json_answer</th>\n",
       "    </tr>\n",
       "  </thead>\n",
       "  <tbody>\n",
       "    <tr>\n",
       "      <th>0</th>\n",
       "      <td>bindService_ActivityManagerService_9</td>\n",
       "      <td>[inv]: int var12 = bindIsolatedService(param2,...</td>\n",
       "      <td>1</td>\n",
       "      <td>// Method: bindService\\n// Service: ActivityMa...</td>\n",
       "      <td>ActivityManagerService</td>\n",
       "      <td>{'Sinks': [['ActivityManagerService var101 = t...</td>\n",
       "    </tr>\n",
       "    <tr>\n",
       "      <th>2</th>\n",
       "      <td>sendIdleJobTrigger_ActivityManagerService_1</td>\n",
       "      <td>[inv]: long var10 = Binder.clearCallingIdentit...</td>\n",
       "      <td>1</td>\n",
       "      <td>// Method: sendIdleJobTrigger\\n// Service: Act...</td>\n",
       "      <td>ActivityManagerService</td>\n",
       "      <td>{'Sinks': [['int var22 = broadcastIntent(0, va...</td>\n",
       "    </tr>\n",
       "    <tr>\n",
       "      <th>7</th>\n",
       "      <td>startService_ActivityManagerService_7</td>\n",
       "      <td>[inv]: boolean var12 = hasFileDescriptors();&lt;|...</td>\n",
       "      <td>1</td>\n",
       "      <td>// Method: startService\\n// Service: ActivityM...</td>\n",
       "      <td>ActivityManagerService</td>\n",
       "      <td>{'Sinks': [['boolean var425 = var421.checkServ...</td>\n",
       "    </tr>\n",
       "    <tr>\n",
       "      <th>10</th>\n",
       "      <td>updateConfiguration_ActivityManagerService_2</td>\n",
       "      <td>[get]: ActivityTaskManagerService var3 = this....</td>\n",
       "      <td>1</td>\n",
       "      <td>// Method: updateConfiguration\\n// Service: Ac...</td>\n",
       "      <td>ActivityManagerService</td>\n",
       "      <td>{'Sinks': [['SystemProperties.set(persist.sys....</td>\n",
       "    </tr>\n",
       "    <tr>\n",
       "      <th>22</th>\n",
       "      <td>getProcessMemoryInfo_ActivityManagerService_2</td>\n",
       "      <td>[inv]: long var6 = SystemClock.uptimeMillis();...</td>\n",
       "      <td>1</td>\n",
       "      <td>// Method: getProcessMemoryInfo\\n// Service: A...</td>\n",
       "      <td>ActivityManagerService</td>\n",
       "      <td>{'Sinks': [['Debug.getMemoryInfo(var60,var58);...</td>\n",
       "    </tr>\n",
       "  </tbody>\n",
       "</table>\n",
       "</div>"
      ],
      "text/plain": [
       "                                               EP  \\\n",
       "0            bindService_ActivityManagerService_9   \n",
       "2     sendIdleJobTrigger_ActivityManagerService_1   \n",
       "7           startService_ActivityManagerService_7   \n",
       "10   updateConfiguration_ActivityManagerService_2   \n",
       "22  getProcessMemoryInfo_ActivityManagerService_2   \n",
       "\n",
       "                                                 code  label  \\\n",
       "0   [inv]: int var12 = bindIsolatedService(param2,...      1   \n",
       "2   [inv]: long var10 = Binder.clearCallingIdentit...      1   \n",
       "7   [inv]: boolean var12 = hasFileDescriptors();<|...      1   \n",
       "10  [get]: ActivityTaskManagerService var3 = this....      1   \n",
       "22  [inv]: long var6 = SystemClock.uptimeMillis();...      1   \n",
       "\n",
       "                                            java_code            service_name  \\\n",
       "0   // Method: bindService\\n// Service: ActivityMa...  ActivityManagerService   \n",
       "2   // Method: sendIdleJobTrigger\\n// Service: Act...  ActivityManagerService   \n",
       "7   // Method: startService\\n// Service: ActivityM...  ActivityManagerService   \n",
       "10  // Method: updateConfiguration\\n// Service: Ac...  ActivityManagerService   \n",
       "22  // Method: getProcessMemoryInfo\\n// Service: A...  ActivityManagerService   \n",
       "\n",
       "                                          json_answer  \n",
       "0   {'Sinks': [['ActivityManagerService var101 = t...  \n",
       "2   {'Sinks': [['int var22 = broadcastIntent(0, va...  \n",
       "7   {'Sinks': [['boolean var425 = var421.checkServ...  \n",
       "10  {'Sinks': [['SystemProperties.set(persist.sys....  \n",
       "22  {'Sinks': [['Debug.getMemoryInfo(var60,var58);...  "
      ]
     },
     "execution_count": 64,
     "metadata": {},
     "output_type": "execute_result"
    }
   ],
   "source": [
    "# read the serialized DataFrame\n",
    "with open(pickle_file_path, 'rb') as file:\n",
    "    AMS_Df = pickle.load(file)\n",
    "    \n",
    "AMS_Df.head()"
   ]
  }
 ],
 "metadata": {
  "kernelspec": {
   "display_name": ".env",
   "language": "python",
   "name": "python3"
  },
  "language_info": {
   "codemirror_mode": {
    "name": "ipython",
    "version": 3
   },
   "file_extension": ".py",
   "mimetype": "text/x-python",
   "name": "python",
   "nbconvert_exporter": "python",
   "pygments_lexer": "ipython3",
   "version": "3.10.4"
  }
 },
 "nbformat": 4,
 "nbformat_minor": 2
}
