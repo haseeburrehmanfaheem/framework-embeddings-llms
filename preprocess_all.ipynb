{
 "cells": [
  {
   "cell_type": "code",
   "execution_count": 3,
   "metadata": {},
   "outputs": [
    {
     "data": {
      "text/plain": [
       "{'status': 'success'}"
      ]
     },
     "execution_count": 3,
     "metadata": {},
     "output_type": "execute_result"
    }
   ],
   "source": [
    "import pandas as pd\n",
    "from sklearn.model_selection import train_test_split\n",
    "import re\n",
    "import sys, getopt\n",
    "import jsonlines\n",
    "import random\n",
    "import numpy as np\n",
    "import pickle\n",
    "from tqdm import tqdm\n",
    "import pandas as pd\n",
    "import re\n",
    "import numpy as np\n",
    "import os\n",
    "import time\n",
    "from openai import OpenAI\n",
    "import pandas as pd\n",
    "import jsonlines\n",
    "import numpy as np\n",
    "from tqdm import tqdm\n",
    "import json\n",
    "import tiktoken\n",
    "import ollama\n",
    "encoding = tiktoken.encoding_for_model(\"gpt-4\")\n",
    "import os\n",
    "import sys\n",
    "import logging\n",
    "from tqdm import tqdm\n",
    "\n",
    "# CHAGNE PROMPT HEREEEEEEE\n",
    "with open('./prompts/prompt1-10.txt', 'r') as file:\n",
    "    sys_prompt = file.read()\n",
    "\n",
    "modelfile=f'''\n",
    "FROM llama3.1:70b\n",
    "system \"\"\"\n",
    "{sys_prompt.strip()}\n",
    "\"\"\"\n",
    "'''\n",
    "model = 'myexample1'\n",
    "num_ctx = 25000 # 15000 original,  - works with 17000 with old GPUs \n",
    "ollama.create(model='myexample1', modelfile=modelfile)\n",
    "\n"
   ]
  },
  {
   "cell_type": "code",
   "execution_count": 4,
   "metadata": {},
   "outputs": [],
   "source": [
    "\n",
    "###################\n",
    "# Utility Functions\n",
    "###################\n",
    "\n",
    "def getWithoutAC(s):\n",
    "    s = s[1:-1]\n",
    "    s = s.split(\", \")\n",
    "    withoutAccess = []\n",
    "    for k in s:\n",
    "        if \"[AC]\" not in k:\n",
    "            withoutAccess.append(k)\n",
    "    return \"<|>\".join(withoutAccess)\n",
    "\n",
    "def extractAC(s):\n",
    "    s = s[1:-1]\n",
    "    s = s.split(\", \")\n",
    "    ans = -1\n",
    "    \n",
    "    for k in s:\n",
    "        if \"[AC]\" in k:\n",
    "            match = re.search(r'\\((\\d+)\\)', k)\n",
    "            if match:\n",
    "                number = int(match.group(1))\n",
    "                ans = max(ans, number)\n",
    "    m = {-1: 0, 0: 0, 1: 0, 2: 1, 3: 1}\n",
    "    return m[ans]\n",
    "\n",
    "def parse_data_string(dict_str):\n",
    "    newDict = {}\n",
    "    dict_str = dict_str[1:-1]\n",
    "    dict_str = dict_str.split(',')\n",
    "    for d in dict_str:\n",
    "        newDict[d.split('=')[0].strip()] = d.split('=')[1].strip()\n",
    "    return newDict\n",
    "\n",
    "def getData(fileName):\n",
    "# Read the file\n",
    "    with open(fileName, \"r\") as file:\n",
    "        lines = file.readlines()\n",
    "\n",
    "    # Initialize variables\n",
    "    current_ep = None\n",
    "    all_entries = []\n",
    "\n",
    "    # Iterate over the lines in the file\n",
    "    for line in lines:\n",
    "        # If the line starts with 'EP:', it's the start of a new EP block\n",
    "        if line.startswith('EP:'):\n",
    "            current_ep = line.strip().split('EP: ')[1]\n",
    "        # If the line starts with 'ControlFlow:', it's the start of a new data block\n",
    "        elif line.startswith('ControlFlow:'):\n",
    "            current_block = {}\n",
    "            current_block['EP'] = current_ep\n",
    "            current_block['code'] = line.strip().split('ControlFlow: ')[1]\n",
    "            all_entries.append(current_block)\n",
    "        # elif line.startswith('Features:'):\n",
    "        #     newDict = parse_data_string(line.strip().split('Features: ')[1])\n",
    "        #     for k in newDict.keys():\n",
    "        #         current_block[k] = newDict[k]\n",
    "        #     all_entries.append(current_block)\n",
    "\n",
    "    # Convert the list of blocks to a dataframe\n",
    "    df = pd.DataFrame(all_entries)\n",
    "    df[\"label\"] = df[\"code\"].apply(extractAC)\n",
    "    df[\"code\"] = df[\"code\"].apply(getWithoutAC)\n",
    "    return df\n",
    "\n",
    "import numpy as np\n",
    "\n",
    "def slidingWindow(path):\n",
    "    window = []\n",
    "    curPath = []\n",
    "    for p in path:\n",
    "        curPath.append(p)\n",
    "        window.append(list(curPath))\n",
    "    return window\n",
    "\n",
    "\n",
    "def decompose(df):\n",
    "    # Create a helper column for chunk grouping\n",
    "    df['group'] = np.where(df['label'] == 0, np.arange(len(df)), df.groupby('EP').cumcount() // 4)\n",
    "\n",
    "    # Group by 'EP', 'label' and 'group', and then merge 'subsequences'\n",
    "    df_agg = df.groupby(['EP', 'label', 'group']).agg({\n",
    "        'code': lambda x: '<PATH_SEP>'.join(x)\n",
    "    })\n",
    "\n",
    "    # Reset the index to get 'EP' and 'label' as columns\n",
    "    df_agg.reset_index(inplace=True)\n",
    "\n",
    "    # Drop the 'group' column\n",
    "    df_agg.drop(columns=['group'], inplace=True)\n",
    "\n",
    "    # If you still want to aggregate 'label' by taking the max value\n",
    "    df_agg['label'] = df_agg.groupby('EP')['label'].transform('max')\n",
    "\n",
    "    return df_agg\n",
    "\n",
    "\n",
    "\n",
    "def shuffle_dataframes(df):\n",
    "    # Concatenate the dataframes\n",
    "    \n",
    "    # Separate the labels from the features\n",
    "    X = df.drop('label', axis=1)\n",
    "    y = df['label']\n",
    "\n",
    "    # Split the data into train and remaining data (test + validation)\n",
    "    X_train, X_test, y_train, y_test = train_test_split(X, y, test_size=0.2, random_state=42, stratify=y)\n",
    "\n",
    "    # Create train, test, and validation dataframes\n",
    "    train_df = pd.concat([X_train, y_train], axis=1)\n",
    "    test_df = pd.concat([X_test, y_test], axis=1)\n",
    "    \n",
    "    return train_df, test_df\n",
    "\n",
    "\n",
    "# Creating the Training Data for the model\n",
    "def createJsonL(df, fileName):\n",
    "    fileName = fileName.replace(\".txt\", \"\")\n",
    "    json_objects = []\n",
    "\n",
    "    # Group the DataFrame by unique values in the 'EP' column\n",
    "    grouped = df.groupby('EP')\n",
    "\n",
    "    # Iterate over each group\n",
    "    for _, group in grouped:\n",
    "        # Shuffle the group randomly\n",
    "        shuffled_group = group.sample(frac=1, random_state=42)  # Set a random_state for reproducibility\n",
    "\n",
    "        # Keep at most 10 rows in the shuffled group\n",
    "        # shuffled_group = shuffled_group.head(10)\n",
    "\n",
    "        # Iterate over each row in the shuffled group\n",
    "        for _, row in shuffled_group.iterrows():\n",
    "            prompt = []\n",
    "\n",
    "            # Iterate over each column (excluding 'label')\n",
    "            for column in shuffled_group.columns:\n",
    "                if column != 'label':\n",
    "                    prompt.append(str(column) + ' = ' + str(row[column]))\n",
    "\n",
    "            # Create the JSON object\n",
    "            json_object = {\n",
    "                'code': \" \".join(prompt),\n",
    "                'label': int(row['label'])\n",
    "            }\n",
    "\n",
    "            # Append the JSON object to the list\n",
    "            json_objects.append(json_object)\n",
    "\n",
    "    with jsonlines.open(fileName, 'w') as writer:\n",
    "        writer.write_all(json_objects)\n"
   ]
  },
  {
   "cell_type": "code",
   "execution_count": 6,
   "metadata": {},
   "outputs": [
    {
     "name": "stdout",
     "output_type": "stream",
     "text": [
      "################\n",
      "1 - Protection Required\n",
      "0 - No Protection\n",
      "################\n",
      "\n",
      "LabelCounts:\n",
      " label\n",
      "1    36207\n",
      "0     9623\n",
      "Name: count, dtype: int64\n"
     ]
    }
   ],
   "source": [
    "file_name = \"data/aosp.txt\"\n",
    "try:\n",
    "    df = getData(file_name)\n",
    "except:\n",
    "    print(f\"Could not read {file_name}\")\n",
    "\n",
    "label_counts = df['label'].value_counts()\n",
    "\n",
    "print(\"################\\n1 - Protection Required\\n0 - No Protection\\n################\\n\")\n",
    "\n",
    "print(\"LabelCounts:\\n\", label_counts)\n",
    "merged_aaAdf = decompose(df)\n",
    "merged_df = merged_aaAdf\n",
    "trainDF = merged_df\n",
    "# trainDF, testDF = shuffle_dataframes(merged_df)\n",
    "\n",
    "# label_counts = merged_df['label'].value_counts()\n",
    "# print(\"LabelCounts:\\n\", label_counts)\n",
    "\n",
    "# print(merged_df.head())\n",
    "\n",
    "# createJsonL(trainDF, f'{file_name}_train.jsonl')\n",
    "# createJsonL(testDF, f'{file_name}_test.jsonl')"
   ]
  },
  {
   "cell_type": "code",
   "execution_count": 7,
   "metadata": {},
   "outputs": [],
   "source": [
    "# trainDF.iloc[0]['code']\n",
    "def generate_java_method(name, code):\n",
    "    # Extract the API name and method name dynamically\n",
    "    api_name, method_name = name.split(\"_\", 1)\n",
    "\n",
    "    # Start the Java code formatting\n",
    "    java_code = []\n",
    "    java_code.append(f\"// API: {api_name}\")\n",
    "    java_code.append(f\"// Service: {method_name}\\n\")\n",
    "    java_code.append(f\"public void {api_name}() {{\")\n",
    "\n",
    "    # Split and clean up the code\n",
    "    lines = code.split(\"<|>\")\n",
    "    for line in lines:\n",
    "        # Remove [..]: and clean up the lines\n",
    "        cleaned_line = re.sub(r\"\\[.*?\\]: \", \"\", line).strip()\n",
    "        if cleaned_line:\n",
    "            # Ensure only one semicolon is added\n",
    "            if not cleaned_line.endswith(\";\"):\n",
    "                cleaned_line += \";\"\n",
    "            java_code.append(f\"    {cleaned_line}\")\n",
    "\n",
    "    java_code.append(\"}\")\n",
    "    return \"\\n\".join(java_code)\n",
    "\n",
    "\n",
    "# s = generate_java_method(trainDF.iloc[0]['EP'],trainDF.iloc[0]['code'])\n",
    "trainDF['java_code'] = trainDF.apply(lambda row: generate_java_method(row['EP'], row['code']), axis=1)\n",
    "## DROP THE DUPLICATES USING LENGTH\n",
    "trainDF['code_length'] = trainDF['java_code'].map(len)\n",
    "trainDF = (\n",
    "    trainDF.sort_values(by='code_length', ascending=False)  \n",
    "    .drop_duplicates(subset=trainDF.columns[0])             \n",
    "    .reset_index(drop=True)                                 \n",
    ")\n",
    "trainDF = trainDF.drop(columns=['code_length'])\n",
    "trainDF['service_name'] = trainDF['EP'].apply(lambda word: word.split(\"_\")[1])\n"
   ]
  },
  {
   "cell_type": "code",
   "execution_count": null,
   "metadata": {},
   "outputs": [],
   "source": [
    "\n",
    "def run_first_prompt_Ollama(method_code,run):\n",
    "    \"\"\" runs the first prompt - extract sinks from the traces\n",
    "    \"\"\"\n",
    "    \n",
    "    global sys_prompt\n",
    "\n",
    "    # user_prompt = get_method_traces_from_file(file_path, interface, method)\n",
    "    \n",
    "    user_prompt = method_code\n",
    "    if(not run):\n",
    "        return {\n",
    "            \"system_message\": sys_prompt,\n",
    "            \"user_message\": user_prompt,\n",
    "            \"response\": \"Not running\"\n",
    "        }\n",
    "        \n",
    "        \n",
    "    \n",
    "    response = ollama.chat(model=model, messages=[\n",
    "    {\n",
    "        'role': 'user',\n",
    "        'content': user_prompt,\n",
    "    },\n",
    "    ]\n",
    "    ,\n",
    "     options={\n",
    "        'num_ctx': num_ctx,\n",
    "        # 'temperature': 0.3 # CHECK TEMPERATURE HERERERERERERERER\n",
    "    }\n",
    "    \n",
    "    )\n",
    "    \n",
    "    # logging.info(f\"Response for {method} = {response['message']['content']}\")\n",
    "\n",
    "    \n",
    "    return {\n",
    "        \"system_message\": sys_prompt,\n",
    "        \"user_message\": user_prompt,\n",
    "        \"response\": response['message']['content']\n",
    "    }\n",
    "    \n",
    "\n",
    "# get the json from the res[\"response\"]\n",
    "\n",
    "def extract_json_from_string(input_string):\n",
    "    \"\"\"\n",
    "    Extracts JSON from the given string.\n",
    "\n",
    "    Args:\n",
    "        input_string (str): The string containing embedded JSON.\n",
    "\n",
    "    Returns:\n",
    "        dict: The extracted JSON as a Python dictionary.\n",
    "    \"\"\"\n",
    "    try:\n",
    "        # Use a regex pattern to extract the JSON part\n",
    "        json_pattern = r\"```(?:json)?\\n(.*?)\\n```\"\n",
    "        match = re.search(json_pattern, input_string, re.DOTALL)\n",
    "        if match:\n",
    "            json_string = match.group(1)\n",
    "            return json.loads(json_string)\n",
    "        else:\n",
    "            raise ValueError(\"No JSON found in the provided string.\")\n",
    "    except json.JSONDecodeError as e:\n",
    "        raise ValueError(f\"Error decoding JSON: {e}\")\n",
    "\n"
   ]
  },
  {
   "cell_type": "code",
   "execution_count": 9,
   "metadata": {},
   "outputs": [
    {
     "data": {
      "text/plain": [
       "(2441, 6)"
      ]
     },
     "execution_count": 9,
     "metadata": {},
     "output_type": "execute_result"
    }
   ],
   "source": [
    "AMS_Df = trainDF\n",
    "AMS_Df['json_answer'] = None\n",
    "AMS_Df.shape"
   ]
  },
  {
   "cell_type": "code",
   "execution_count": null,
   "metadata": {},
   "outputs": [
    {
     "name": "stderr",
     "output_type": "stream",
     "text": [
      "Processing rows:   1%|          | 14/2441 [08:06<22:03:03, 32.71s/it]"
     ]
    },
    {
     "name": "stdout",
     "output_type": "stream",
     "text": [
      "Error extracting JSON from response: Error decoding JSON: Expecting value: line 18 column 15 (char 621)\n",
      "setApplicationEnabledSetting_PackageManagerService_6\n",
      "PackageManagerService\n"
     ]
    },
    {
     "name": "stderr",
     "output_type": "stream",
     "text": [
      "Processing rows:   1%|          | 21/2441 [12:16<23:37:20, 35.14s/it]"
     ]
    },
    {
     "name": "stdout",
     "output_type": "stream",
     "text": [
      "Error extracting JSON from response: Error decoding JSON: Expecting value: line 14 column 14 (char 417)\n",
      "syncAsUser_ContentService_4\n",
      "ContentService\n"
     ]
    },
    {
     "name": "stderr",
     "output_type": "stream",
     "text": [
      "Processing rows:   1%|          | 30/2441 [17:00<21:28:27, 32.06s/it]"
     ]
    },
    {
     "name": "stdout",
     "output_type": "stream",
     "text": [
      "Error extracting JSON from response: No JSON found in the provided string.\n",
      "setForcedDisplaySize_WindowManagerService_4\n",
      "WindowManagerService\n"
     ]
    },
    {
     "name": "stderr",
     "output_type": "stream",
     "text": [
      "Processing rows:   2%|▏         | 58/2441 [30:26<18:47:53, 28.40s/it]"
     ]
    },
    {
     "name": "stdout",
     "output_type": "stream",
     "text": [
      "Error extracting JSON from response: Error decoding JSON: Expecting value: line 20 column 14 (char 760)\n",
      "startActivityAsUser_CrossProfileAppsServiceImpl_6\n",
      "CrossProfileAppsServiceImpl\n"
     ]
    },
    {
     "name": "stderr",
     "output_type": "stream",
     "text": [
      "Processing rows:   3%|▎         | 65/2441 [33:13<15:07:52, 22.93s/it]"
     ]
    },
    {
     "name": "stdout",
     "output_type": "stream",
     "text": [
      "Error extracting JSON from response: No JSON found in the provided string.\n",
      "bootAnimationComplete_ActivityManagerService_1\n",
      "ActivityManagerService\n"
     ]
    },
    {
     "name": "stderr",
     "output_type": "stream",
     "text": [
      "Processing rows:   4%|▍         | 99/2441 [47:54<15:35:55, 23.98s/it]"
     ]
    },
    {
     "name": "stdout",
     "output_type": "stream",
     "text": [
      "Error extracting JSON from response: No JSON found in the provided string.\n",
      "performFstrimIfNeeded_PackageManagerService_1\n",
      "PackageManagerService\n"
     ]
    },
    {
     "name": "stderr",
     "output_type": "stream",
     "text": [
      "Processing rows:   5%|▌         | 129/2441 [1:00:21<11:12:02, 17.44s/it]"
     ]
    },
    {
     "name": "stdout",
     "output_type": "stream",
     "text": [
      "Error extracting JSON from response: No JSON found in the provided string.\n",
      "getOpsForPackage_AppOpsService_4\n",
      "AppOpsService\n"
     ]
    },
    {
     "name": "stderr",
     "output_type": "stream",
     "text": [
      "Processing rows:   5%|▌         | 132/2441 [1:01:19<11:04:14, 17.26s/it]"
     ]
    },
    {
     "name": "stdout",
     "output_type": "stream",
     "text": [
      "Error extracting JSON from response: No JSON found in the provided string.\n",
      "startLocalOnlyHotspot_WifiServiceImpl_4\n",
      "WifiServiceImpl\n"
     ]
    },
    {
     "name": "stderr",
     "output_type": "stream",
     "text": [
      "Processing rows:   6%|▌         | 143/2441 [1:05:40<12:05:53, 18.95s/it]"
     ]
    },
    {
     "name": "stdout",
     "output_type": "stream",
     "text": [
      "Error extracting JSON from response: No JSON found in the provided string.\n",
      "hasFeatures_AccountManagerService_5\n",
      "AccountManagerService\n"
     ]
    },
    {
     "name": "stderr",
     "output_type": "stream",
     "text": [
      "Processing rows:   6%|▌         | 144/2441 [1:05:59<12:06:15, 18.97s/it]"
     ]
    },
    {
     "name": "stdout",
     "output_type": "stream",
     "text": [
      "Error extracting JSON from response: No JSON found in the provided string.\n",
      "setRemoveContentMode_WindowManagerService_3\n",
      "WindowManagerService\n"
     ]
    },
    {
     "name": "stderr",
     "output_type": "stream",
     "text": [
      "Processing rows:   6%|▋         | 153/2441 [1:09:25<14:25:17, 22.69s/it]"
     ]
    },
    {
     "name": "stdout",
     "output_type": "stream",
     "text": [
      "Error extracting JSON from response: Error decoding JSON: Expecting value: line 21 column 7 (char 783)\n",
      "setMasterSyncAutomatically_ContentService_2\n",
      "ContentService\n"
     ]
    },
    {
     "name": "stderr",
     "output_type": "stream",
     "text": [
      "Processing rows:   6%|▋         | 155/2441 [1:10:03<13:01:00, 20.50s/it]"
     ]
    },
    {
     "name": "stdout",
     "output_type": "stream",
     "text": [
      "Error extracting JSON from response: No JSON found in the provided string.\n",
      "reportActivityView_InputMethodManagerService_4\n",
      "InputMethodManagerService\n"
     ]
    },
    {
     "name": "stderr",
     "output_type": "stream",
     "text": [
      "Processing rows:   8%|▊         | 207/2441 [1:30:14<12:37:23, 20.34s/it]"
     ]
    },
    {
     "name": "stdout",
     "output_type": "stream",
     "text": [
      "Error extracting JSON from response: No JSON found in the provided string.\n",
      "requestAudioFocus_AudioService_10\n",
      "AudioService\n"
     ]
    },
    {
     "name": "stderr",
     "output_type": "stream",
     "text": [
      "Processing rows:   9%|▊         | 211/2441 [1:31:46<13:31:57, 21.85s/it]"
     ]
    },
    {
     "name": "stdout",
     "output_type": "stream",
     "text": [
      "Error extracting JSON from response: No JSON found in the provided string.\n",
      "setSyncAutomaticallyAsUser_ContentService_5\n",
      "ContentService\n"
     ]
    },
    {
     "name": "stderr",
     "output_type": "stream",
     "text": [
      "Processing rows:  11%|█▏        | 278/2441 [1:57:40<13:01:12, 21.67s/it]"
     ]
    },
    {
     "name": "stdout",
     "output_type": "stream",
     "text": [
      "Error extracting JSON from response: No JSON found in the provided string.\n",
      "queryIntentServices_PackageManagerService_5\n",
      "PackageManagerService\n"
     ]
    },
    {
     "name": "stderr",
     "output_type": "stream",
     "text": [
      "Processing rows:  11%|█▏        | 279/2441 [1:57:48<10:31:06, 17.51s/it]"
     ]
    },
    {
     "name": "stdout",
     "output_type": "stream",
     "text": [
      "Error extracting JSON from response: No JSON found in the provided string.\n",
      "setInstantAppCookie_PackageManagerService_4\n",
      "PackageManagerService\n"
     ]
    },
    {
     "name": "stderr",
     "output_type": "stream",
     "text": [
      "Processing rows:  13%|█▎        | 320/2441 [2:11:36<11:47:50, 20.02s/it]"
     ]
    },
    {
     "name": "stdout",
     "output_type": "stream",
     "text": [
      "Error extracting JSON from response: Error decoding JSON: Expecting ',' delimiter: line 6 column 26 (char 191)\n",
      "getRecentTasks_ActivityTaskManagerService_4\n",
      "ActivityTaskManagerService\n"
     ]
    },
    {
     "name": "stderr",
     "output_type": "stream",
     "text": [
      "Processing rows:  13%|█▎        | 322/2441 [2:12:27<13:05:15, 22.23s/it]"
     ]
    },
    {
     "name": "stdout",
     "output_type": "stream",
     "text": [
      "Error extracting JSON from response: No JSON found in the provided string.\n",
      "getPendingReports_IncidentCompanionService$BinderService_1\n",
      "IncidentCompanionService$BinderService\n"
     ]
    },
    {
     "name": "stderr",
     "output_type": "stream",
     "text": [
      "Processing rows:  13%|█▎        | 327/2441 [2:14:14<11:35:31, 19.74s/it]"
     ]
    },
    {
     "name": "stdout",
     "output_type": "stream",
     "text": [
      "Error extracting JSON from response: No JSON found in the provided string.\n",
      "showSoftInput_InputMethodManagerService_4\n",
      "InputMethodManagerService\n"
     ]
    },
    {
     "name": "stderr",
     "output_type": "stream",
     "text": [
      "Processing rows:  14%|█▎        | 330/2441 [2:15:08<10:43:17, 18.28s/it]"
     ]
    },
    {
     "name": "stdout",
     "output_type": "stream",
     "text": [
      "Error extracting JSON from response: Error decoding JSON: Expecting ',' delimiter: line 6 column 23 (char 182)\n",
      "queryEventsForPackage_UsageStatsService$BinderService_4\n",
      "UsageStatsService$BinderService\n"
     ]
    },
    {
     "name": "stderr",
     "output_type": "stream",
     "text": [
      "Processing rows:  14%|█▎        | 333/2441 [2:16:07<11:08:29, 19.03s/it]"
     ]
    },
    {
     "name": "stdout",
     "output_type": "stream",
     "text": [
      "Error extracting JSON from response: No JSON found in the provided string.\n",
      "deleteAllHosts_AppWidgetServiceImpl_1\n",
      "AppWidgetServiceImpl\n"
     ]
    },
    {
     "name": "stderr",
     "output_type": "stream",
     "text": [
      "Processing rows:  15%|█▍        | 357/2441 [2:25:10<13:10:31, 22.76s/it]"
     ]
    },
    {
     "name": "stdout",
     "output_type": "stream",
     "text": [
      "Error extracting JSON from response: Error decoding JSON: Expecting ',' delimiter: line 5 column 23 (char 128)\n",
      "registerUsageCallback_NetworkStatsService_5\n",
      "NetworkStatsService\n"
     ]
    },
    {
     "name": "stderr",
     "output_type": "stream",
     "text": [
      "Processing rows:  15%|█▌        | 370/2441 [2:29:47<13:03:02, 22.69s/it]"
     ]
    },
    {
     "name": "stdout",
     "output_type": "stream",
     "text": [
      "Error extracting JSON from response: Error decoding JSON: Expecting ',' delimiter: line 6 column 23 (char 159)\n",
      "getVersionCodeForPackage_PackageManagerService$PackageManagerNative_2\n",
      "PackageManagerService$PackageManagerNative\n"
     ]
    },
    {
     "name": "stderr",
     "output_type": "stream",
     "text": [
      "Processing rows:  16%|█▌        | 386/2441 [2:35:23<11:55:49, 20.90s/it]"
     ]
    },
    {
     "name": "stdout",
     "output_type": "stream",
     "text": [
      "Error extracting JSON from response: No JSON found in the provided string.\n",
      "unregisterPredictionUpdates_AppPredictionManagerService$PredictionManagerServiceStub_3\n",
      "AppPredictionManagerService$PredictionManagerServiceStub\n"
     ]
    },
    {
     "name": "stderr",
     "output_type": "stream",
     "text": [
      "Processing rows:  17%|█▋        | 404/2441 [2:41:54<11:01:25, 19.48s/it]"
     ]
    },
    {
     "name": "stdout",
     "output_type": "stream",
     "text": [
      "Error extracting JSON from response: No JSON found in the provided string.\n",
      "offsetPinnedStackBounds_ActivityTaskManagerService_6\n",
      "ActivityTaskManagerService\n"
     ]
    },
    {
     "name": "stderr",
     "output_type": "stream",
     "text": [
      "Processing rows:  17%|█▋        | 427/2441 [2:49:53<11:56:01, 21.33s/it]"
     ]
    },
    {
     "name": "stdout",
     "output_type": "stream",
     "text": [
      "Error extracting JSON from response: No JSON found in the provided string.\n",
      "cancelVibrate_VibratorService_2\n",
      "VibratorService\n"
     ]
    },
    {
     "name": "stderr",
     "output_type": "stream",
     "text": [
      "Processing rows:  19%|█▉        | 461/2441 [3:02:18<11:31:18, 20.95s/it]"
     ]
    },
    {
     "name": "stdout",
     "output_type": "stream",
     "text": [
      "Error extracting JSON from response: Error decoding JSON: Expecting ',' delimiter: line 5 column 16 (char 84)\n",
      "getAllValidScorers_NetworkScoreService_1\n",
      "NetworkScoreService\n"
     ]
    },
    {
     "name": "stderr",
     "output_type": "stream",
     "text": [
      "Processing rows:  19%|█▉        | 462/2441 [3:02:28<9:41:48, 17.64s/it] "
     ]
    },
    {
     "name": "stdout",
     "output_type": "stream",
     "text": [
      "Error extracting JSON from response: No JSON found in the provided string.\n",
      "deleteAppWidgetId_AppWidgetServiceImpl_3\n",
      "AppWidgetServiceImpl\n"
     ]
    },
    {
     "name": "stderr",
     "output_type": "stream",
     "text": [
      "Processing rows:  19%|█▉        | 469/2441 [3:04:40<9:42:42, 17.73s/it] "
     ]
    },
    {
     "name": "stdout",
     "output_type": "stream",
     "text": [
      "Error extracting JSON from response: Error decoding JSON: Expecting value: line 2 column 1 (char 1)\n",
      "unloadNanoApp_ContextHubService_2\n",
      "ContextHubService\n"
     ]
    },
    {
     "name": "stderr",
     "output_type": "stream",
     "text": [
      "Processing rows:  19%|█▉        | 471/2441 [3:05:13<9:13:37, 16.86s/it]"
     ]
    },
    {
     "name": "stdout",
     "output_type": "stream",
     "text": [
      "Error extracting JSON from response: No JSON found in the provided string.\n",
      "removeTask_ActivityTaskManagerService_2\n",
      "ActivityTaskManagerService\n"
     ]
    },
    {
     "name": "stderr",
     "output_type": "stream",
     "text": [
      "Processing rows:  20%|█▉        | 476/2441 [3:06:48<9:31:26, 17.45s/it] "
     ]
    },
    {
     "name": "stdout",
     "output_type": "stream",
     "text": [
      "Error extracting JSON from response: No JSON found in the provided string.\n",
      "getInstallerPackageName_PackageManagerService_2\n",
      "PackageManagerService\n"
     ]
    },
    {
     "name": "stderr",
     "output_type": "stream",
     "text": [
      "Processing rows:  20%|█▉        | 479/2441 [3:07:40<9:11:18, 16.86s/it] "
     ]
    },
    {
     "name": "stdout",
     "output_type": "stream",
     "text": [
      "Error extracting JSON from response: No JSON found in the provided string.\n",
      "getCurrentImeTouchRegion_WindowManagerService_1\n",
      "WindowManagerService\n"
     ]
    },
    {
     "name": "stderr",
     "output_type": "stream",
     "text": [
      "Processing rows:  20%|██        | 491/2441 [3:11:17<10:08:10, 18.71s/it]"
     ]
    },
    {
     "name": "stdout",
     "output_type": "stream",
     "text": [
      "Error extracting JSON from response: No JSON found in the provided string.\n",
      "setUserName_UserManagerService_3\n",
      "UserManagerService\n"
     ]
    },
    {
     "name": "stderr",
     "output_type": "stream",
     "text": [
      "Processing rows:  20%|██        | 495/2441 [3:12:41<11:10:41, 20.68s/it]"
     ]
    },
    {
     "name": "stdout",
     "output_type": "stream",
     "text": [
      "Error extracting JSON from response: Error decoding JSON: Expecting ',' delimiter: line 6 column 47 (char 190)\n",
      "setApplicationHiddenSettingAsUser_PackageManagerService_4\n",
      "PackageManagerService\n"
     ]
    },
    {
     "name": "stderr",
     "output_type": "stream",
     "text": [
      "Processing rows:  21%|██▏       | 523/2441 [3:22:21<11:22:15, 21.34s/it]"
     ]
    },
    {
     "name": "stdout",
     "output_type": "stream",
     "text": [
      "Error extracting JSON from response: Error decoding JSON: Expecting ',' delimiter: line 7 column 22 (char 174)\n",
      "getFreeBytes_StorageStatsService_3\n",
      "StorageStatsService\n"
     ]
    },
    {
     "name": "stderr",
     "output_type": "stream",
     "text": [
      "Processing rows:  22%|██▏       | 528/2441 [3:24:04<10:46:39, 20.28s/it]"
     ]
    },
    {
     "name": "stdout",
     "output_type": "stream",
     "text": [
      "Error extracting JSON from response: Error decoding JSON: Expecting ',' delimiter: line 5 column 22 (char 106)\n",
      "getActiveNetwork_ConnectivityService_1\n",
      "ConnectivityService\n"
     ]
    },
    {
     "name": "stderr",
     "output_type": "stream",
     "text": [
      "Processing rows:  23%|██▎       | 553/2441 [3:31:53<8:45:34, 16.70s/it] "
     ]
    },
    {
     "name": "stdout",
     "output_type": "stream",
     "text": [
      "Error extracting JSON from response: Error decoding JSON: Expecting value: line 6 column 7 (char 154)\n",
      "updateIntentVerificationStatus_PackageManagerService_4\n",
      "PackageManagerService\n"
     ]
    },
    {
     "name": "stderr",
     "output_type": "stream",
     "text": [
      "Processing rows:  23%|██▎       | 572/2441 [3:38:23<11:36:40, 22.37s/it]"
     ]
    },
    {
     "name": "stdout",
     "output_type": "stream",
     "text": [
      "Error extracting JSON from response: Error decoding JSON: Extra data: line 1 column 8 (char 7)\n",
      "startAddAccountSession_AccountManagerService_7\n",
      "AccountManagerService\n"
     ]
    },
    {
     "name": "stderr",
     "output_type": "stream",
     "text": [
      "Processing rows:  27%|██▋       | 654/2441 [4:05:28<8:52:47, 17.89s/it] "
     ]
    },
    {
     "name": "stdout",
     "output_type": "stream",
     "text": [
      "Error extracting JSON from response: Error decoding JSON: Extra data: line 1 column 8 (char 7)\n",
      "screenshotWallpaper_WindowManagerService_1\n",
      "WindowManagerService\n"
     ]
    },
    {
     "name": "stderr",
     "output_type": "stream",
     "text": [
      "Processing rows:  27%|██▋       | 662/2441 [4:08:11<10:44:40, 21.74s/it]"
     ]
    },
    {
     "name": "stdout",
     "output_type": "stream",
     "text": [
      "Error extracting JSON from response: Error decoding JSON: Expecting value: line 19 column 14 (char 636)\n",
      "startAssistantActivity_VoiceInteractionManagerService$VoiceInteractionManagerServiceStub_4\n",
      "VoiceInteractionManagerService$VoiceInteractionManagerServiceStub\n"
     ]
    },
    {
     "name": "stderr",
     "output_type": "stream",
     "text": [
      "Processing rows:  29%|██▉       | 704/2441 [4:22:04<8:16:53, 17.16s/it] "
     ]
    },
    {
     "name": "stdout",
     "output_type": "stream",
     "text": [
      "Error extracting JSON from response: No JSON found in the provided string.\n",
      "setGlobalProxy_ConnectivityService_2\n",
      "ConnectivityService\n"
     ]
    },
    {
     "name": "stderr",
     "output_type": "stream",
     "text": [
      "Processing rows:  29%|██▉       | 705/2441 [4:22:20<8:10:52, 16.97s/it]"
     ]
    },
    {
     "name": "stdout",
     "output_type": "stream",
     "text": [
      "Error extracting JSON from response: Error decoding JSON: Expecting ',' delimiter: line 5 column 26 (char 123)\n",
      "getSyncAutomatically_ContentService_3\n",
      "ContentService\n"
     ]
    },
    {
     "name": "stderr",
     "output_type": "stream",
     "text": [
      "Processing rows:  29%|██▉       | 719/2441 [4:27:00<9:26:40, 19.74s/it] "
     ]
    },
    {
     "name": "stdout",
     "output_type": "stream",
     "text": [
      "Error extracting JSON from response: Error decoding JSON: Expecting value: line 2 column 1 (char 1)\n",
      "tether_ConnectivityService_3\n",
      "ConnectivityService\n"
     ]
    },
    {
     "name": "stderr",
     "output_type": "stream",
     "text": [
      "Processing rows:  30%|██▉       | 721/2441 [4:27:36<8:57:47, 18.76s/it]"
     ]
    },
    {
     "name": "stdout",
     "output_type": "stream",
     "text": [
      "Error extracting JSON from response: Error decoding JSON: Expecting value: line 4 column 57 (char 77)\n",
      "setMasterMute_AudioService_5\n",
      "AudioService\n"
     ]
    },
    {
     "name": "stderr",
     "output_type": "stream",
     "text": [
      "Processing rows:  30%|███       | 734/2441 [4:31:35<8:18:42, 17.53s/it]"
     ]
    },
    {
     "name": "stdout",
     "output_type": "stream",
     "text": [
      "Error extracting JSON from response: No JSON found in the provided string.\n",
      "setNightDisplayColorTemperature_ColorDisplayService$BinderService_2\n",
      "ColorDisplayService$BinderService\n"
     ]
    },
    {
     "name": "stderr",
     "output_type": "stream",
     "text": [
      "Processing rows:  32%|███▏      | 771/2441 [4:43:28<9:34:00, 20.62s/it] "
     ]
    }
   ],
   "source": [
    "\n",
    "\n",
    "# AMS_Df = trainDF[trainDF['service_name'] == 'ActivityManagerService'].copy()\n",
    "# AMS_Df.shape\n",
    "# AMS_Df['json_answer'] = None\n",
    "\n",
    "\n",
    "output_folder = \"./output/week2/output7\"\n",
    "counter = 0\n",
    "for index, row in tqdm(AMS_Df.iterrows(), total=AMS_Df.shape[0], desc=\"Processing rows\"):\n",
    "    # print(row['EP'])\n",
    "    # print(row['service_name'])\n",
    "    res = run_first_prompt_Ollama(row['java_code'],True)\n",
    "    json_answer = None\n",
    "    try:\n",
    "        json_answer = extract_json_from_string(res[\"response\"])\n",
    "    except Exception as e:\n",
    "        print(f\"Error extracting JSON from response: {e}\")\n",
    "        print(row['EP'])\n",
    "        print(row['service_name'])\n",
    "        # continue\n",
    "        # Store the json_answer in the new column\n",
    "    AMS_Df.at[index, 'json_answer'] = json_answer\n",
    "\n",
    "    # Write response details to files\n",
    "    folder_path = f'{output_folder}/{row[\"EP\"].split(\"_\")[0]}'\n",
    "    os.makedirs(folder_path, exist_ok=True)\n",
    "\n",
    "    with open(f'{folder_path}/system_message.txt', 'w') as f:\n",
    "        f.write(res[\"system_message\"])\n",
    "    with open(f'{folder_path}/user_message.txt', 'w') as f:\n",
    "        f.write(res[\"user_message\"])\n",
    "    with open(f'{folder_path}/response.txt', 'w') as f:\n",
    "        f.write(res[\"response\"])\n",
    "\n",
    "pickle_file_path = \"./serialized_data/week2/AMS_Df_7.pkl\"\n",
    "\n",
    "# Serialize the DataFrame using pickle\n",
    "with open(pickle_file_path, 'wb') as file:\n",
    "    pickle.dump(AMS_Df, file)   \n",
    "\n",
    "print(f\"DataFrame serialized and saved to {pickle_file_path}\")"
   ]
  }
 ],
 "metadata": {
  "kernelspec": {
   "display_name": ".env",
   "language": "python",
   "name": "python3"
  },
  "language_info": {
   "codemirror_mode": {
    "name": "ipython",
    "version": 3
   },
   "file_extension": ".py",
   "mimetype": "text/x-python",
   "name": "python",
   "nbconvert_exporter": "python",
   "pygments_lexer": "ipython3",
   "version": "3.10.16"
  }
 },
 "nbformat": 4,
 "nbformat_minor": 2
}
