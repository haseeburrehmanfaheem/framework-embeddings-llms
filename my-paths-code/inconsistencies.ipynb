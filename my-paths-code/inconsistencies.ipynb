{
 "cells": [
  {
   "cell_type": "code",
   "execution_count": 10,
   "id": "72c3b738",
   "metadata": {},
   "outputs": [
    {
     "name": "stdout",
     "output_type": "stream",
     "text": [
      "(462, 5)\n",
      "access control level\n",
      "NONE      251\n",
      "NORMAL     25\n",
      "Name: count, dtype: int64\n"
     ]
    }
   ],
   "source": [
    "import pandas as pd\n",
    "\n",
    "file = \"/u1/hfaheem/DLAndroidArtifact/my-paths-code/all-outputs/oneplus-14/claude-sonnet-3.7/android_services_methods_postprocess.parquet\"\n",
    "\n",
    "# read + drop unwanted columns\n",
    "df = (\n",
    "    pd.read_parquet(file)\n",
    "      .drop(columns=[\n",
    "          \"res2\", \"json_answer2\", \"output_tokens_1\", \"input_tokens_1\",\n",
    "          \"json_answer\", \"res1\", \"sink_code\", \"to_run\",\n",
    "          \"input_tokens\", \"output_tokens\", \"depths\"\n",
    "      ])\n",
    ")\n",
    "\n",
    "# remove rows that have \"invalid\" in \"access control level predicted\"\n",
    "df = df[~df[\"access control level predicted\"].str.contains(\"invalid\")]\n",
    "print(df.shape)\n",
    "\n",
    "# order that reflects increasing strictness\n",
    "level_rank = {\n",
    "    \"NONE\": 0,\n",
    "    \"NORMAL\": 1,\n",
    "    \"DANGEROUS\": 2,\n",
    "    \"SYS_OR_SIG\": 3,   # “signature‑level” permission\n",
    "}\n",
    "\n",
    "# keep rows where predicted rank > actual rank\n",
    "filtered = df[\n",
    "    df[\"access control level predicted\"].map(level_rank)\n",
    "    > df[\"access control level\"].map(level_rank)\n",
    "]\n",
    "\n",
    "print(filtered[\"access control level\"].value_counts())       # rows/cols that remain\n",
    "# print(filtered.head())      # quick peek\n",
    "\n",
    "# save the csv in the same directory as parquet \n",
    "filtered.to_csv(file.replace(\".parquet\", \"_mismatches.csv\"), index=False)"
   ]
  }
 ],
 "metadata": {
  "kernelspec": {
   "display_name": ".env",
   "language": "python",
   "name": "python3"
  },
  "language_info": {
   "codemirror_mode": {
    "name": "ipython",
    "version": 3
   },
   "file_extension": ".py",
   "mimetype": "text/x-python",
   "name": "python",
   "nbconvert_exporter": "python",
   "pygments_lexer": "ipython3",
   "version": "3.10.4"
  }
 },
 "nbformat": 4,
 "nbformat_minor": 5
}
