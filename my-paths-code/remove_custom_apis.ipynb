{
 "cells": [
  {
   "cell_type": "code",
   "execution_count": 1,
   "id": "93c85aa5",
   "metadata": {},
   "outputs": [],
   "source": [
    "AOSP_data_file = f\"/u1/hfaheem/DLAndroidArtifact/my-paths-code/AOSP_data/A{14}.csv\"\n",
    "\n",
    "file_path = f\"/u1/hfaheem/DLAndroidArtifact/my-paths-code/all-outputs/oneplus-14/claude-sonnet-3.7/android_services_methods.parquet\"\n",
    "\n",
    "\n",
    "import pandas as pd\n",
    "\n",
    "# Read the CSV file\n",
    "AOSP = pd.read_csv(AOSP_data_file)\n",
    "# Read the Parquet file\n",
    "df = pd.read_parquet(file_path)\n"
   ]
  },
  {
   "cell_type": "code",
   "execution_count": 2,
   "id": "956071c1",
   "metadata": {},
   "outputs": [
    {
     "data": {
      "text/html": [
       "<div>\n",
       "<style scoped>\n",
       "    .dataframe tbody tr th:only-of-type {\n",
       "        vertical-align: middle;\n",
       "    }\n",
       "\n",
       "    .dataframe tbody tr th {\n",
       "        vertical-align: top;\n",
       "    }\n",
       "\n",
       "    .dataframe thead th {\n",
       "        text-align: right;\n",
       "    }\n",
       "</style>\n",
       "<table border=\"1\" class=\"dataframe\">\n",
       "  <thead>\n",
       "    <tr style=\"text-align: right;\">\n",
       "      <th></th>\n",
       "      <th>Type</th>\n",
       "      <th>Entrypoint</th>\n",
       "      <th>Parent Class</th>\n",
       "      <th>Manifest Access Control</th>\n",
       "      <th>Access Control Level</th>\n",
       "      <th>method</th>\n",
       "    </tr>\n",
       "  </thead>\n",
       "  <tbody>\n",
       "    <tr>\n",
       "      <th>0</th>\n",
       "      <td>SERVICE</td>\n",
       "      <td>com.android.server.os.BugreportManagerServiceI...</td>\n",
       "      <td>Lcom/android/server/os/BugreportManagerService...</td>\n",
       "      <td>NaN</td>\n",
       "      <td>SYS_OR_SIG</td>\n",
       "      <td>cancelBugreport(ILjava/lang/String;)V</td>\n",
       "    </tr>\n",
       "    <tr>\n",
       "      <th>1</th>\n",
       "      <td>SERVICE</td>\n",
       "      <td>com.android.server.os.BugreportManagerServiceI...</td>\n",
       "      <td>Lcom/android/server/os/BugreportManagerService...</td>\n",
       "      <td>NaN</td>\n",
       "      <td>SYS_OR_SIG</td>\n",
       "      <td>preDumpUiData(Ljava/lang/String;)V</td>\n",
       "    </tr>\n",
       "    <tr>\n",
       "      <th>2</th>\n",
       "      <td>SERVICE</td>\n",
       "      <td>com.android.server.os.BugreportManagerServiceI...</td>\n",
       "      <td>Lcom/android/server/os/BugreportManagerService...</td>\n",
       "      <td>NaN</td>\n",
       "      <td>NONE</td>\n",
       "      <td>retrieveBugreport(ILjava/lang/String;ILjava/io...</td>\n",
       "    </tr>\n",
       "    <tr>\n",
       "      <th>3</th>\n",
       "      <td>SERVICE</td>\n",
       "      <td>com.android.server.os.BugreportManagerServiceI...</td>\n",
       "      <td>Lcom/android/server/os/BugreportManagerService...</td>\n",
       "      <td>NaN</td>\n",
       "      <td>NONE</td>\n",
       "      <td>startBugreport(ILjava/lang/String;Ljava/io/Fil...</td>\n",
       "    </tr>\n",
       "    <tr>\n",
       "      <th>4</th>\n",
       "      <td>SERVICE</td>\n",
       "      <td>com.android.server.timedetector.TimeDetectorSe...</td>\n",
       "      <td>Lcom/android/server/timedetector/TimeDetectorS...</td>\n",
       "      <td>NaN</td>\n",
       "      <td>NORMAL</td>\n",
       "      <td>addListener(Landroid/app/time/ITimeDetectorLis...</td>\n",
       "    </tr>\n",
       "  </tbody>\n",
       "</table>\n",
       "</div>"
      ],
      "text/plain": [
       "      Type                                         Entrypoint  \\\n",
       "0  SERVICE  com.android.server.os.BugreportManagerServiceI...   \n",
       "1  SERVICE  com.android.server.os.BugreportManagerServiceI...   \n",
       "2  SERVICE  com.android.server.os.BugreportManagerServiceI...   \n",
       "3  SERVICE  com.android.server.os.BugreportManagerServiceI...   \n",
       "4  SERVICE  com.android.server.timedetector.TimeDetectorSe...   \n",
       "\n",
       "                                        Parent Class Manifest Access Control  \\\n",
       "0  Lcom/android/server/os/BugreportManagerService...                     NaN   \n",
       "1  Lcom/android/server/os/BugreportManagerService...                     NaN   \n",
       "2  Lcom/android/server/os/BugreportManagerService...                     NaN   \n",
       "3  Lcom/android/server/os/BugreportManagerService...                     NaN   \n",
       "4  Lcom/android/server/timedetector/TimeDetectorS...                     NaN   \n",
       "\n",
       "  Access Control Level                                             method  \n",
       "0           SYS_OR_SIG              cancelBugreport(ILjava/lang/String;)V  \n",
       "1           SYS_OR_SIG                 preDumpUiData(Ljava/lang/String;)V  \n",
       "2                 NONE  retrieveBugreport(ILjava/lang/String;ILjava/io...  \n",
       "3                 NONE  startBugreport(ILjava/lang/String;Ljava/io/Fil...  \n",
       "4               NORMAL  addListener(Landroid/app/time/ITimeDetectorLis...  "
      ]
     },
     "execution_count": 2,
     "metadata": {},
     "output_type": "execute_result"
    }
   ],
   "source": [
    "AOSP[\"method\"] = AOSP[\"Entrypoint\"].str.split(\".\").str[-1]\n",
    "AOSP.head()"
   ]
  },
  {
   "cell_type": "code",
   "execution_count": 4,
   "id": "89b76609",
   "metadata": {},
   "outputs": [
    {
     "name": "stdout",
     "output_type": "stream",
     "text": [
      "(4228, 10)\n",
      "(737, 10)\n",
      "(535, 10)\n"
     ]
    }
   ],
   "source": [
    "# remove those rows in df where df[\"method\"] is in AOSP[\"method\"]\n",
    "print(df.shape)\n",
    "df = df[~df[\"method\"].isin(AOSP[\"method\"])]\n",
    "print(df.shape)\n",
    "\n",
    "df = df[df[\"access control level\"] != \"SYS_OR_SIG\"]\n",
    "print(df.shape)"
   ]
  },
  {
   "cell_type": "code",
   "execution_count": 5,
   "id": "02dfabc3",
   "metadata": {},
   "outputs": [
    {
     "name": "stdout",
     "output_type": "stream",
     "text": [
      "to_run\n",
      "True    535\n",
      "Name: count, dtype: int64\n"
     ]
    }
   ],
   "source": [
    "df[\"to_run\"] = ~df[\"method\"].isin(AOSP[\"method\"])\n",
    "df.loc[df[\"access control level\"] == \"SYS_OR_SIG\", \"to_run\"] = False\n",
    "print(df[\"to_run\"].value_counts())"
   ]
  }
 ],
 "metadata": {
  "kernelspec": {
   "display_name": ".env",
   "language": "python",
   "name": "python3"
  },
  "language_info": {
   "codemirror_mode": {
    "name": "ipython",
    "version": 3
   },
   "file_extension": ".py",
   "mimetype": "text/x-python",
   "name": "python",
   "nbconvert_exporter": "python",
   "pygments_lexer": "ipython3",
   "version": "3.10.4"
  }
 },
 "nbformat": 4,
 "nbformat_minor": 5
}
