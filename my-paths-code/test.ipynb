{
 "cells": [
  {
   "cell_type": "code",
   "execution_count": 1,
   "metadata": {},
   "outputs": [
    {
     "name": "stdout",
     "output_type": "stream",
     "text": [
      "/u1/hfaheem/.conda/envs/vllm2/bin/python\n"
     ]
    }
   ],
   "source": [
    "import sys\n",
    "print(sys.executable)"
   ]
  },
  {
   "cell_type": "code",
   "execution_count": 1,
   "metadata": {},
   "outputs": [
    {
     "data": {
      "text/html": [
       "<div>\n",
       "<style scoped>\n",
       "    .dataframe tbody tr th:only-of-type {\n",
       "        vertical-align: middle;\n",
       "    }\n",
       "\n",
       "    .dataframe tbody tr th {\n",
       "        vertical-align: top;\n",
       "    }\n",
       "\n",
       "    .dataframe thead th {\n",
       "        text-align: right;\n",
       "    }\n",
       "</style>\n",
       "<table border=\"1\" class=\"dataframe\">\n",
       "  <thead>\n",
       "    <tr style=\"text-align: right;\">\n",
       "      <th></th>\n",
       "      <th>service_name</th>\n",
       "      <th>class</th>\n",
       "      <th>method</th>\n",
       "      <th>depths</th>\n",
       "      <th>access control level</th>\n",
       "      <th>json_answer</th>\n",
       "      <th>sink_code</th>\n",
       "      <th>json_answer2</th>\n",
       "      <th>access control level predicted</th>\n",
       "      <th>res2</th>\n",
       "    </tr>\n",
       "  </thead>\n",
       "  <tbody>\n",
       "    <tr>\n",
       "      <th>0</th>\n",
       "      <td>Lcom.android.server.broadcastradio.BroadcastRa...</td>\n",
       "      <td>Lcom/android/server/broadcastradio/BroadcastRa...</td>\n",
       "      <td>addAnnouncementListener([ILandroid/hardware/ra...</td>\n",
       "      <td>[{'depth': 0, 'java_code': 'depth : 0\n",
       "public I...</td>\n",
       "      <td>SYS_OR_SIG</td>\n",
       "      <td>{\"Sinks\": [[\"ICloseHandle v14 = v13.addAnnounc...</td>\n",
       "      <td>[ICloseHandle v14 = v13.addAnnouncementListene...</td>\n",
       "      <td>{}</td>\n",
       "      <td>invalid</td>\n",
       "      <td>no top_similar found</td>\n",
       "    </tr>\n",
       "    <tr>\n",
       "      <th>1</th>\n",
       "      <td>Lcom.android.server.broadcastradio.BroadcastRa...</td>\n",
       "      <td>Lcom/android/server/broadcastradio/BroadcastRa...</td>\n",
       "      <td>listModules()Ljava/util/List;</td>\n",
       "      <td>[{'depth': 0, 'java_code': 'depth : 0\n",
       "public L...</td>\n",
       "      <td>SYS_OR_SIG</td>\n",
       "      <td>{\"Sinks\": [[\"ArrayList v2 = new ArrayList();\",...</td>\n",
       "      <td>[ArrayList v2 = new ArrayList();\\nList v4 = Br...</td>\n",
       "      <td>{}</td>\n",
       "      <td>invalid</td>\n",
       "      <td>no top_similar found</td>\n",
       "    </tr>\n",
       "    <tr>\n",
       "      <th>2</th>\n",
       "      <td>Lcom.android.server.broadcastradio.BroadcastRa...</td>\n",
       "      <td>Lcom/android/server/broadcastradio/BroadcastRa...</td>\n",
       "      <td>openTuner(ILandroid/hardware/radio/RadioManage...</td>\n",
       "      <td>[{'depth': 0, 'java_code': 'depth : 0\n",
       "public I...</td>\n",
       "      <td>SYS_OR_SIG</td>\n",
       "      <td>{\"Sinks\": [[\"ITuner v11 = v10.openSession(p1, ...</td>\n",
       "      <td>[ITuner v11 = v10.openSession(p1, p2, p3, p4);...</td>\n",
       "      <td>{}</td>\n",
       "      <td>invalid</td>\n",
       "      <td>no top_similar found</td>\n",
       "    </tr>\n",
       "    <tr>\n",
       "      <th>3</th>\n",
       "      <td>Lcom.android.server.soundtrigger_middleware.So...</td>\n",
       "      <td>Lcom/android/server/soundtrigger_middleware/So...</td>\n",
       "      <td>&lt;clinit&gt;()V</td>\n",
       "      <td>[{'depth': 0, 'java_code': 'depth : 0\n",
       "public v...</td>\n",
       "      <td>NONE</td>\n",
       "      <td>{\"Sinks\": []}</td>\n",
       "      <td>[]</td>\n",
       "      <td>{}</td>\n",
       "      <td>invalid</td>\n",
       "      <td>no top_similar found</td>\n",
       "    </tr>\n",
       "    <tr>\n",
       "      <th>4</th>\n",
       "      <td>Lcom.android.server.soundtrigger_middleware.So...</td>\n",
       "      <td>Lcom/android/server/soundtrigger_middleware/So...</td>\n",
       "      <td>attachAsOriginator(ILandroid/media/permission/...</td>\n",
       "      <td>[{'depth': 0, 'java_code': 'depth : 0\n",
       "public I...</td>\n",
       "      <td>NONE</td>\n",
       "      <td>{\"Sinks\": [[\"Object v1 = Objects.requireNonNul...</td>\n",
       "      <td>[Object v1 = Objects.requireNonNull(p2);\\nSafe...</td>\n",
       "      <td>{\"access_control_level\": \"SYS_OR_SIG\"}</td>\n",
       "      <td>SYS_OR_SIG</td>\n",
       "      <td>To determine the access control level for the ...</td>\n",
       "    </tr>\n",
       "  </tbody>\n",
       "</table>\n",
       "</div>"
      ],
      "text/plain": [
       "                                        service_name  \\\n",
       "0  Lcom.android.server.broadcastradio.BroadcastRa...   \n",
       "1  Lcom.android.server.broadcastradio.BroadcastRa...   \n",
       "2  Lcom.android.server.broadcastradio.BroadcastRa...   \n",
       "3  Lcom.android.server.soundtrigger_middleware.So...   \n",
       "4  Lcom.android.server.soundtrigger_middleware.So...   \n",
       "\n",
       "                                               class  \\\n",
       "0  Lcom/android/server/broadcastradio/BroadcastRa...   \n",
       "1  Lcom/android/server/broadcastradio/BroadcastRa...   \n",
       "2  Lcom/android/server/broadcastradio/BroadcastRa...   \n",
       "3  Lcom/android/server/soundtrigger_middleware/So...   \n",
       "4  Lcom/android/server/soundtrigger_middleware/So...   \n",
       "\n",
       "                                              method  \\\n",
       "0  addAnnouncementListener([ILandroid/hardware/ra...   \n",
       "1                      listModules()Ljava/util/List;   \n",
       "2  openTuner(ILandroid/hardware/radio/RadioManage...   \n",
       "3                                        <clinit>()V   \n",
       "4  attachAsOriginator(ILandroid/media/permission/...   \n",
       "\n",
       "                                              depths access control level  \\\n",
       "0  [{'depth': 0, 'java_code': 'depth : 0\n",
       "public I...           SYS_OR_SIG   \n",
       "1  [{'depth': 0, 'java_code': 'depth : 0\n",
       "public L...           SYS_OR_SIG   \n",
       "2  [{'depth': 0, 'java_code': 'depth : 0\n",
       "public I...           SYS_OR_SIG   \n",
       "3  [{'depth': 0, 'java_code': 'depth : 0\n",
       "public v...                 NONE   \n",
       "4  [{'depth': 0, 'java_code': 'depth : 0\n",
       "public I...                 NONE   \n",
       "\n",
       "                                         json_answer  \\\n",
       "0  {\"Sinks\": [[\"ICloseHandle v14 = v13.addAnnounc...   \n",
       "1  {\"Sinks\": [[\"ArrayList v2 = new ArrayList();\",...   \n",
       "2  {\"Sinks\": [[\"ITuner v11 = v10.openSession(p1, ...   \n",
       "3                                      {\"Sinks\": []}   \n",
       "4  {\"Sinks\": [[\"Object v1 = Objects.requireNonNul...   \n",
       "\n",
       "                                           sink_code  \\\n",
       "0  [ICloseHandle v14 = v13.addAnnouncementListene...   \n",
       "1  [ArrayList v2 = new ArrayList();\\nList v4 = Br...   \n",
       "2  [ITuner v11 = v10.openSession(p1, p2, p3, p4);...   \n",
       "3                                                 []   \n",
       "4  [Object v1 = Objects.requireNonNull(p2);\\nSafe...   \n",
       "\n",
       "                             json_answer2 access control level predicted  \\\n",
       "0                                      {}                        invalid   \n",
       "1                                      {}                        invalid   \n",
       "2                                      {}                        invalid   \n",
       "3                                      {}                        invalid   \n",
       "4  {\"access_control_level\": \"SYS_OR_SIG\"}                     SYS_OR_SIG   \n",
       "\n",
       "                                                res2  \n",
       "0                               no top_similar found  \n",
       "1                               no top_similar found  \n",
       "2                               no top_similar found  \n",
       "3                               no top_similar found  \n",
       "4  To determine the access control level for the ...  "
      ]
     },
     "execution_count": 1,
     "metadata": {},
     "output_type": "execute_result"
    }
   ],
   "source": [
    "# /u1/hfaheem/DLAndroidArtifact/my-paths-code/output2/results/android_services_methods.parquet import this into a df\n",
    "\n",
    "import pandas as pd\n",
    "df = pd.read_parquet('/u1/hfaheem/DLAndroidArtifact/my-paths-code/output3/results/android_services_methods_postprocess.parquet') \n",
    "df.head()"
   ]
  },
  {
   "cell_type": "code",
   "execution_count": 13,
   "metadata": {},
   "outputs": [
    {
     "data": {
      "text/plain": [
       "Index(['service_name', 'class', 'method', 'depths', 'access control level',\n",
       "       'json_answer', 'sink_code', 'json_answer2',\n",
       "       'access control level predicted'],\n",
       "      dtype='object')"
      ]
     },
     "execution_count": 13,
     "metadata": {},
     "output_type": "execute_result"
    }
   ],
   "source": [
    "df.columns"
   ]
  },
  {
   "cell_type": "code",
   "execution_count": 11,
   "metadata": {},
   "outputs": [
    {
     "name": "stdout",
     "output_type": "stream",
     "text": [
      "Invalid JSON format\n",
      "Invalid JSON format\n",
      "Invalid JSON format\n",
      "Invalid JSON format\n",
      "Invalid JSON format\n",
      "Invalid JSON format\n",
      "Invalid JSON format\n",
      "Invalid JSON format\n",
      "Invalid JSON format\n",
      "Invalid JSON format\n",
      "Invalid JSON format\n",
      "Invalid JSON format\n",
      "Invalid JSON format\n",
      "Invalid JSON format\n",
      "Invalid JSON format\n",
      "Invalid JSON format\n",
      "Invalid JSON format\n",
      "Invalid JSON format\n",
      "Invalid JSON format\n",
      "Invalid JSON format\n",
      "Invalid JSON format\n",
      "Invalid JSON format\n",
      "Invalid JSON format\n",
      "Invalid JSON format\n",
      "Invalid JSON format\n",
      "Invalid JSON format\n",
      "Invalid JSON format\n",
      "Invalid JSON format\n",
      "Invalid JSON format\n",
      "471\n"
     ]
    }
   ],
   "source": [
    "import json\n",
    "counter = 0\n",
    "def process_json_answer(json_answer, n=2):\n",
    "    global counter\n",
    "    all = []\n",
    "    # print(json_answer)\n",
    "    \n",
    "    # Ensure json_answer is a dictionary\n",
    "    if isinstance(json_answer, str):  # If it's a string, parse it\n",
    "        try:\n",
    "            json_answer = json.loads(json_answer)\n",
    "        except json.JSONDecodeError:\n",
    "            print(\"Invalid JSON format\")\n",
    "            return []\n",
    "    try:\n",
    "        arrays = json_answer['Sinks']\n",
    "        # print(arrays)\n",
    "        for i, array in enumerate(arrays, 1):\n",
    "            if i > n:  # Limit the number of joins to `n`\n",
    "                break\n",
    "            joined = '\\n'.join(array)\n",
    "            all.append(joined)\n",
    "    except Exception as e:    \n",
    "        print(e)\n",
    "        return []\n",
    "    counter += 1\n",
    "    return all\n",
    "\n",
    "df['sink_code'] = df['json_answer'].apply(process_json_answer)\n",
    "df.head()\n",
    "print(counter)\n",
    "\n",
    "# df.to_parquet('/u1/hfaheem/DLAndroidArtifact/my-paths-code/output3/results/android_services_methods.parquet')\n",
    "# df.head()"
   ]
  },
  {
   "cell_type": "markdown",
   "metadata": {},
   "source": [
    "\n",
    "\n",
    "\n",
    "\n",
    "\n",
    "\n",
    "\n",
    "\n",
    "\n",
    "\n",
    "\n",
    "\n",
    "\n",
    "\n",
    "\n",
    "\n",
    "\n",
    "\n",
    "\n",
    "\n",
    "\n",
    "\n",
    "\n",
    "\n",
    "\n",
    "\n",
    "\n",
    "\n",
    "\n",
    "\n",
    "\n",
    "\n",
    "\n",
    "\n",
    "500 origingal APIs \n",
    "\n",
    "161 -> no top similar APIs found -> investigate if the sinks were emtpy or if >0.8 similar were not found\n",
    "\n",
    "    29 "
   ]
  },
  {
   "cell_type": "code",
   "execution_count": 44,
   "metadata": {},
   "outputs": [
    {
     "data": {
      "text/plain": [
       "Index(['service_name', 'class', 'method', 'depths', 'access control level',\n",
       "       'json_answer', 'sink_code', 'json_answer2',\n",
       "       'access control level predicted', 'res2'],\n",
       "      dtype='object')"
      ]
     },
     "execution_count": 44,
     "metadata": {},
     "output_type": "execute_result"
    }
   ],
   "source": [
    "df2.columns"
   ]
  },
  {
   "cell_type": "code",
   "execution_count": 34,
   "metadata": {},
   "outputs": [
    {
     "name": "stdout",
     "output_type": "stream",
     "text": [
      "size of each df is: 461, 29, 6, 3\n"
     ]
    }
   ],
   "source": [
    "df_test = df2['json_answer'].value_counts()\n",
    "df_none = df2[df2['json_answer'] == \"None\"]\n",
    "df_sinks_empty = df2[df2['json_answer'] == '{\"Sinks\": []}']\n",
    "df_sinks_nested_empty = df2[df2['json_answer'] == '{\"Sinks\": [[]]}']\n",
    "\n",
    "\n",
    "print(f\"size of each df is: {len(df_test)}, {len(df_none)}, {len(df_sinks_empty)}, {len(df_sinks_nested_empty)}\")"
   ]
  },
  {
   "cell_type": "code",
   "execution_count": null,
   "metadata": {},
   "outputs": [
    {
     "data": {
      "text/plain": [
       "(462, 10)"
      ]
     },
     "execution_count": 42,
     "metadata": {},
     "output_type": "execute_result"
    }
   ],
   "source": [
    "df_other = df2[~df2['json_answer'].isin([\"None\", '{\"Sinks\": []}', '{\"Sinks\": [[]]}'])]\n",
    "# df_other[\"\"]"
   ]
  },
  {
   "cell_type": "code",
   "execution_count": 36,
   "metadata": {},
   "outputs": [
    {
     "data": {
      "text/html": [
       "<div>\n",
       "<style scoped>\n",
       "    .dataframe tbody tr th:only-of-type {\n",
       "        vertical-align: middle;\n",
       "    }\n",
       "\n",
       "    .dataframe tbody tr th {\n",
       "        vertical-align: top;\n",
       "    }\n",
       "\n",
       "    .dataframe thead th {\n",
       "        text-align: right;\n",
       "    }\n",
       "</style>\n",
       "<table border=\"1\" class=\"dataframe\">\n",
       "  <thead>\n",
       "    <tr style=\"text-align: right;\">\n",
       "      <th></th>\n",
       "      <th>service_name</th>\n",
       "      <th>class</th>\n",
       "      <th>method</th>\n",
       "      <th>depths</th>\n",
       "      <th>access control level</th>\n",
       "      <th>json_answer</th>\n",
       "      <th>sink_code</th>\n",
       "      <th>json_answer2</th>\n",
       "      <th>access control level predicted</th>\n",
       "      <th>res2</th>\n",
       "    </tr>\n",
       "  </thead>\n",
       "  <tbody>\n",
       "    <tr>\n",
       "      <th>3</th>\n",
       "      <td>Lcom.android.server.soundtrigger_middleware.So...</td>\n",
       "      <td>Lcom/android/server/soundtrigger_middleware/So...</td>\n",
       "      <td>&lt;clinit&gt;()V</td>\n",
       "      <td>[{'depth': 0, 'java_code': 'depth : 0\n",
       "public v...</td>\n",
       "      <td>NONE</td>\n",
       "      <td>{\"Sinks\": []}</td>\n",
       "      <td>[]</td>\n",
       "      <td>{}</td>\n",
       "      <td>invalid</td>\n",
       "      <td>no top_similar found</td>\n",
       "    </tr>\n",
       "    <tr>\n",
       "      <th>18</th>\n",
       "      <td>Lcom.android.server.trust.TrustManagerService$1</td>\n",
       "      <td>Lcom/android/server/trust/TrustManagerService$1</td>\n",
       "      <td>reportKeyguardShowingChanged()V</td>\n",
       "      <td>[{'depth': 0, 'java_code': 'depth : 0\n",
       "public v...</td>\n",
       "      <td>SYS_OR_SIG</td>\n",
       "      <td>{\"Sinks\": []}</td>\n",
       "      <td>[]</td>\n",
       "      <td>{}</td>\n",
       "      <td>invalid</td>\n",
       "      <td>no top_similar found</td>\n",
       "    </tr>\n",
       "    <tr>\n",
       "      <th>101</th>\n",
       "      <td>Lcom.android.server.PersistentDataBlockService$1</td>\n",
       "      <td>Lcom/android/server/PersistentDataBlockService$1</td>\n",
       "      <td>getFlashLockState()I</td>\n",
       "      <td>[{'depth': 0, 'java_code': 'depth : 0\n",
       "public i...</td>\n",
       "      <td>SYS_OR_SIG</td>\n",
       "      <td>{\"Sinks\": []}</td>\n",
       "      <td>[]</td>\n",
       "      <td>{}</td>\n",
       "      <td>invalid</td>\n",
       "      <td>no top_similar found</td>\n",
       "    </tr>\n",
       "    <tr>\n",
       "      <th>286</th>\n",
       "      <td>Lcom.android.server.wm.ActivityTaskManagerService</td>\n",
       "      <td>Lcom/android/server/wm/ActivityTaskManagerService</td>\n",
       "      <td>resumeAppSwitches()V</td>\n",
       "      <td>[{'depth': 0, 'java_code': 'depth : 0\n",
       "public v...</td>\n",
       "      <td>SYS_OR_SIG</td>\n",
       "      <td>{\"Sinks\": []}</td>\n",
       "      <td>[]</td>\n",
       "      <td>{}</td>\n",
       "      <td>invalid</td>\n",
       "      <td>no top_similar found</td>\n",
       "    </tr>\n",
       "    <tr>\n",
       "      <th>347</th>\n",
       "      <td>Lcom.android.server.statusbar.StatusBarManager...</td>\n",
       "      <td>Lcom/android/server/statusbar/StatusBarManager...</td>\n",
       "      <td>onPanelHidden()V</td>\n",
       "      <td>[{'depth': 0, 'java_code': 'depth : 0\n",
       "public v...</td>\n",
       "      <td>SYS_OR_SIG</td>\n",
       "      <td>{\"Sinks\": []}</td>\n",
       "      <td>[]</td>\n",
       "      <td>{}</td>\n",
       "      <td>invalid</td>\n",
       "      <td>no top_similar found</td>\n",
       "    </tr>\n",
       "  </tbody>\n",
       "</table>\n",
       "</div>"
      ],
      "text/plain": [
       "                                          service_name  \\\n",
       "3    Lcom.android.server.soundtrigger_middleware.So...   \n",
       "18     Lcom.android.server.trust.TrustManagerService$1   \n",
       "101   Lcom.android.server.PersistentDataBlockService$1   \n",
       "286  Lcom.android.server.wm.ActivityTaskManagerService   \n",
       "347  Lcom.android.server.statusbar.StatusBarManager...   \n",
       "\n",
       "                                                 class  \\\n",
       "3    Lcom/android/server/soundtrigger_middleware/So...   \n",
       "18     Lcom/android/server/trust/TrustManagerService$1   \n",
       "101   Lcom/android/server/PersistentDataBlockService$1   \n",
       "286  Lcom/android/server/wm/ActivityTaskManagerService   \n",
       "347  Lcom/android/server/statusbar/StatusBarManager...   \n",
       "\n",
       "                              method  \\\n",
       "3                        <clinit>()V   \n",
       "18   reportKeyguardShowingChanged()V   \n",
       "101             getFlashLockState()I   \n",
       "286             resumeAppSwitches()V   \n",
       "347                 onPanelHidden()V   \n",
       "\n",
       "                                                depths access control level  \\\n",
       "3    [{'depth': 0, 'java_code': 'depth : 0\n",
       "public v...                 NONE   \n",
       "18   [{'depth': 0, 'java_code': 'depth : 0\n",
       "public v...           SYS_OR_SIG   \n",
       "101  [{'depth': 0, 'java_code': 'depth : 0\n",
       "public i...           SYS_OR_SIG   \n",
       "286  [{'depth': 0, 'java_code': 'depth : 0\n",
       "public v...           SYS_OR_SIG   \n",
       "347  [{'depth': 0, 'java_code': 'depth : 0\n",
       "public v...           SYS_OR_SIG   \n",
       "\n",
       "       json_answer sink_code json_answer2 access control level predicted  \\\n",
       "3    {\"Sinks\": []}        []           {}                        invalid   \n",
       "18   {\"Sinks\": []}        []           {}                        invalid   \n",
       "101  {\"Sinks\": []}        []           {}                        invalid   \n",
       "286  {\"Sinks\": []}        []           {}                        invalid   \n",
       "347  {\"Sinks\": []}        []           {}                        invalid   \n",
       "\n",
       "                     res2  \n",
       "3    no top_similar found  \n",
       "18   no top_similar found  \n",
       "101  no top_similar found  \n",
       "286  no top_similar found  \n",
       "347  no top_similar found  "
      ]
     },
     "execution_count": 36,
     "metadata": {},
     "output_type": "execute_result"
    }
   ],
   "source": [
    "df_sinks_empty.head()"
   ]
  },
  {
   "cell_type": "code",
   "execution_count": 46,
   "metadata": {},
   "outputs": [
    {
     "name": "stdout",
     "output_type": "stream",
     "text": [
      "access control level predicted\n",
      "SYS_OR_SIG    238\n",
      "NORMAL         55\n",
      "invalid        24\n",
      "NONE           17\n",
      "DANGEROUS       2\n",
      "Name: count, dtype: int64\n"
     ]
    }
   ],
   "source": [
    "with open(\"valid_methods_to_delete.txt\", \"r\") as f:\n",
    "    valid_methods = f.readlines()\n",
    "    \n",
    "valid_methods = [method.strip() for method in valid_methods]\n",
    "len(valid_methods)\n",
    "\n",
    "\n",
    "df_valid_methods = df_other[df_other['method'].isin(valid_methods)]\n",
    "print(df_valid_methods['access control level predicted'].value_counts())"
   ]
  },
  {
   "cell_type": "code",
   "execution_count": 50,
   "metadata": {},
   "outputs": [
    {
     "data": {
      "text/plain": [
       "access control level predicted\n",
       "SYS_OR_SIG    238\n",
       "NORMAL         55\n",
       "invalid        24\n",
       "NONE           17\n",
       "DANGEROUS       2\n",
       "Name: count, dtype: int64"
      ]
     },
     "execution_count": 50,
     "metadata": {},
     "output_type": "execute_result"
    }
   ],
   "source": [
    "df_valid_methods['access control level predicted'].value_counts()"
   ]
  },
  {
   "cell_type": "code",
   "execution_count": 52,
   "metadata": {},
   "outputs": [],
   "source": [
    "df_valid_methods['access control level predicted'].value_counts()\n",
    "\n",
    "df_valid_methods = df_valid_methods[df_valid_methods['access control level predicted'] == \"invalid\"]\n",
    "\n",
    "df_valid_methods.head()\n",
    "\n",
    "\n",
    "# write df_valid_method in a csv\n",
    "df_valid_methods.to_csv('todelete.csv', index=False)"
   ]
  },
  {
   "cell_type": "code",
   "execution_count": null,
   "metadata": {},
   "outputs": [],
   "source": [
    "\n",
    "# 500 origingal APIs \n",
    "\n",
    "# 161 -> no top similar APIs found \n",
    "\n",
    "#      29 -> None \n",
    "            #    incorrect format\n",
    "            #    multiple different jsons, therefor json read error\n",
    "            # todo: /u1/hfaheem/DLAndroidArtifact/my-paths-code/output3/results/Lcom.android.server.locksettings.LockSettingsService/importKey/response.txt check this using your json read function\n",
    "            \n",
    "#      9 -> no sinks found in answer1 -> investigate why\n",
    "            #    `this.mNotificationDelegate.onPanelHidden();` is a method invocation that might process internal state or parameters but lacks direct input from the API's parameters -> incorrect reasoning\n",
    "            #     not resolving conditional branches causing the issue, look at persistantdatablockservice, getflashlockstate\n",
    "            #     not sure whats happening in some APIs, look at reportKeyguardShowingChanged, reportKeyguardShowingChanged\n",
    "#      >0.8 similar not found for 123 -> investigate why (NOTE : I compute similarities with all other sinks, disregarding services, we can also explore ways where we prioritise APIs/sinks which are in the same service)\n",
    "            #  right now, (1) I take top 2 sinks from answer1, (2)compute similarity with all other sinks, and (3)consider only the ones with > 0.8 cosine similarity(in embeddings)\n",
    "            #  changing this, if I \n",
    "            #                      take all sinks instead of top2 in (1),  i get 116 with similar not found\n",
    "            #                      take >0.7 cosine similarity instead of >0.8 in (3), i get 43 with similar not found \n",
    "            #                      37 with both of the above combined\n",
    "            #                      I can also experiment with taking the top2 sinks and not looking at the similarity score altogether\n",
    "\n",
    "\n",
    "\n",
    "\n",
    "#  This leaves us with 339 valid prompt2s\n",
    "#  24 invalid prompt2 response -> most of them correct predictions, but formatting issue, can fix this with a continiously prompt + be more specific in the prompt\n",
    "#  315 valid prompt2 response -> 83.17% accuracy \n",
    "# for incorrect accuracy\n",
    "\n",
    "\n",
    "df2 = pd.read_parquet(\"/u1/hfaheem/DLAndroidArtifact/my-paths-code/output3/results/android_services_methods_postprocess.parquet\")\n",
    "df2.columns\n",
    "\n",
    "# unique in res2 column\n",
    "s = df2['json_answer2'].value_counts()\n",
    "\n",
    "# write in a text file\n",
    "s.to_csv('./todelete2.txt', sep='\\t', header=False)"
   ]
  },
  {
   "cell_type": "code",
   "execution_count": 22,
   "metadata": {},
   "outputs": [
    {
     "data": {
      "text/plain": [
       "Index(['service_name', 'class', 'method', 'depths', 'access control level',\n",
       "       'json_answer', 'sink_code', 'json_answer2',\n",
       "       'access control level predicted', 'res2'],\n",
       "      dtype='object')"
      ]
     },
     "execution_count": 22,
     "metadata": {},
     "output_type": "execute_result"
    }
   ],
   "source": [
    "import pandas as pd\n",
    "df2 = pd.read_parquet(\"/u1/hfaheem/DLAndroidArtifact/my-paths-code/output3/results/android_services_methods_postprocess.parquet\")\n",
    "\n",
    "df2.columns"
   ]
  },
  {
   "cell_type": "code",
   "execution_count": null,
   "metadata": {},
   "outputs": [],
   "source": [
    "# look at these cases\n",
    "\n",
    "# @Override // com.android.internal.view.IInputMethodManager\n",
    "#     public void removeImeSurface() {\n",
    "#         this.mContext.enforceCallingPermission(\"android.permission.INTERNAL_SYSTEM_WINDOW\", null);\n",
    "#         this.mHandler.obtainMessage(1060).sendToTarget();\n",
    "#     }\n",
    "\n",
    "\n",
    "# @Override // com.android.internal.view.IInputMethodManager\n",
    "#     public void removeImeSurfaceFromWindowAsync(IBinder iBinder) {\n",
    "#         this.mHandler.obtainMessage(1061, iBinder).sendToTarget();\n",
    "#     }\n",
    "\n",
    "# very wierd\n"
   ]
  },
  {
   "cell_type": "code",
   "execution_count": 5,
   "metadata": {},
   "outputs": [
    {
     "name": "stdout",
     "output_type": "stream",
     "text": [
      "Overall Accuracy: 77.10% total rows = 1454\n",
      "\n",
      "Predicted AC Stats for 'NONE':\n",
      "                                Count  Percentage\n",
      "access control level predicted                   \n",
      "NONE                              202   54.301075\n",
      "SYS_OR_SIG                         85   22.849462\n",
      "NORMAL                             79   21.236559\n",
      "DANGEROUS                           6    1.612903\n",
      "\n",
      "Predicted AC Stats for 'NORMAL':\n",
      "                                Count  Percentage\n",
      "access control level predicted                   \n",
      "NORMAL                             60   73.170732\n",
      "SYS_OR_SIG                         15   18.292683\n",
      "NONE                                5    6.097561\n",
      "DANGEROUS                           2    2.439024\n",
      "\n",
      "Predicted AC Stats for 'DANGEROUS':\n",
      "                                Count  Percentage\n",
      "access control level predicted                   \n",
      "DANGEROUS                          24        80.0\n",
      "NORMAL                              3        10.0\n",
      "SYS_OR_SIG                          3        10.0\n",
      "\n",
      "Predicted AC Stats for 'SYS_OR_SIG':\n",
      "                                Count  Percentage\n",
      "access control level predicted                   \n",
      "SYS_OR_SIG                        835   86.082474\n",
      "NORMAL                             91    9.381443\n",
      "NONE                               22    2.268041\n",
      "DANGEROUS                          22    2.268041\n",
      "Done\n"
     ]
    }
   ],
   "source": [
    "df_filtered = df[df['access control level predicted'] != 'invalid']\n",
    "accuracy = (df_filtered['access control level'] == df_filtered['access control level predicted']).mean() * 100\n",
    "print(f'Overall Accuracy: {accuracy:.2f}% total rows = {len(df_filtered)}')\n",
    "access_levels = ['NONE', 'NORMAL', 'DANGEROUS', 'SYS_OR_SIG']\n",
    "# Generate statistics for each actual access control level\n",
    "for acl in access_levels:\n",
    "    subset = df_filtered[df_filtered['access control level'] == acl]\n",
    "    stats = subset['access control level predicted'].value_counts().to_frame(name='Count')\n",
    "    stats['Percentage'] = (stats['Count'] / stats['Count'].sum()) * 100\n",
    "    print(f\"\\nPredicted AC Stats for '{acl}':\")\n",
    "    print(stats.to_string())\n",
    "print(\"Done\")"
   ]
  },
  {
   "cell_type": "code",
   "execution_count": 55,
   "metadata": {},
   "outputs": [
    {
     "data": {
      "text/plain": [
       "Index(['service_name', 'class', 'method', 'depths', 'access control level',\n",
       "       'json_answer', 'sink_code', 'json_answer2',\n",
       "       'access control level predicted', 'res2'],\n",
       "      dtype='object')"
      ]
     },
     "execution_count": 55,
     "metadata": {},
     "output_type": "execute_result"
    }
   ],
   "source": [
    "df_filtered.columns"
   ]
  },
  {
   "cell_type": "code",
   "execution_count": 56,
   "metadata": {},
   "outputs": [],
   "source": [
    "df_filtered = df_filtered[(df_filtered['access control level'] == \"NONE\") & (df_filtered['access control level predicted'] == \"SYS_OR_SIG\")]"
   ]
  },
  {
   "cell_type": "code",
   "execution_count": 58,
   "metadata": {},
   "outputs": [],
   "source": [
    "df_filtered.to_csv(\"canconfirmdelete.csv\", index=False)"
   ]
  },
  {
   "cell_type": "code",
   "execution_count": null,
   "metadata": {},
   "outputs": [],
   "source": [
    "import re\n",
    "def extract_json_from_string(input_string):\n",
    "    \"\"\"Extract JSON from response string.\"\"\"\n",
    "    try:\n",
    "        json_pattern = r\"```(?:json)?\\n(.*?)\\n```\"\n",
    "        match = re.search(json_pattern, input_string, re.DOTALL)\n",
    "        return json.loads(match.group(1)) if match else None\n",
    "    except json.JSONDecodeError:\n",
    "        return None\n",
    "\n",
    "\n",
    "def remove_trailing_commas(json_string):\n",
    "    \"\"\"Remove trailing commas from JSON arrays and objects to make it valid.\"\"\"\n",
    "    json_string = re.sub(r',\\s*([\\]}])', r'\\1', json_string)  # Fixes \", }\" or \", ]\"\n",
    "    return json_string\n",
    "\n",
    "def remove_comments(json_string):\n",
    "    \"\"\"Remove single-line comments (//) from the JSON string.\"\"\"\n",
    "    return re.sub(r'//.*', '', json_string)\n",
    "\n",
    "def try_extract_and_parse(pattern, input_string):\n",
    "    \"\"\"Extract using the given regex pattern and parse JSON after cleaning comments.\"\"\"\n",
    "    json_blocks = re.findall(pattern, input_string, re.DOTALL)\n",
    "    # print(f\"found {len(json_blocks)} json blocks with pattern {pattern}\")\n",
    "    for block in reversed(json_blocks):\n",
    "        cleaned_block = remove_comments(block).strip()\n",
    "        try:\n",
    "            return json.loads(cleaned_block)\n",
    "        except json.JSONDecodeError:\n",
    "            continue\n",
    "    return None\n",
    "\n",
    "def try_extract_boxed_json(input_string):\n",
    "    \"\"\"\n",
    "    Try to extract JSON from LaTeX-style boxed expressions of the form:\n",
    "    $\\boxed{ ... }$\n",
    "    \"\"\"\n",
    "    boxed_blocks = re.findall(r'\\$\\s*\\\\boxed\\s*\\{(.*?)\\}\\s*\\$', input_string, re.DOTALL)\n",
    "    for block in boxed_blocks:\n",
    "        cleaned_block = remove_comments(block).strip()\n",
    "        # Unescape any escaped braces if needed\n",
    "        cleaned_block = cleaned_block.replace(r'\\{', '{').replace(r'\\}', '}')\n",
    "        try:\n",
    "            return json.loads(cleaned_block)\n",
    "        except json.JSONDecodeError:\n",
    "            continue\n",
    "    return None\n",
    "\n",
    "def try_extract_curly_braces(input_string):\n",
    "    \"\"\"\n",
    "    Final fallback: Look for the first substring that starts with '{' and ends with '}'.\n",
    "    \"\"\"\n",
    "    match = re.search(r'(\\{.*\\})', input_string, re.DOTALL)\n",
    "    if match:\n",
    "        cleaned_block = remove_comments(match.group(1)).strip()\n",
    "        cleaned_block = remove_trailing_commas(cleaned_block)\n",
    "        try:\n",
    "            return json.loads(cleaned_block)\n",
    "        except json.JSONDecodeError:\n",
    "            return None\n",
    "    return None\n",
    "\n",
    "def extract_json_from_string2(input_string):\n",
    "    \"\"\"\n",
    "    Extract JSON from a response string by trying, in order:\n",
    "      1. Code blocks explicitly tagged as JSON (```json).\n",
    "      2. Any code blocks delimited by triple backticks (```).\n",
    "      3. The entire string (if valid JSON).\n",
    "      4. LaTeX-style boxed JSON (e.g. $\\boxed{ ... }$).\n",
    "      5. The first substring that starts with '{' and ends with '}'.\n",
    "    \"\"\"\n",
    "    # 1. Try blocks tagged explicitly as JSON\n",
    "    # pattern_json = r\"```json\\s*\\n(.*?)```\"\n",
    "    pattern_json = pattern_json = r\"```json\\s*(.*?)```\"\n",
    "    result = try_extract_and_parse(pattern_json, input_string)\n",
    "    if result is not None:\n",
    "        return result\n",
    "\n",
    "    #tmp Try blocks without \\n \n",
    "    pattern_json = r\"```json\\s*(.*?)```\"\n",
    "    result = try_extract_and_parse(pattern_json, input_string)\n",
    "    if result is not None:\n",
    "        return result\n",
    "    \n",
    "    \n",
    "    # 2. Fallback: try any block delimited by triple backticks\n",
    "    pattern_any = r\"```\\s*\\n(.*?)```\"\n",
    "    result = try_extract_and_parse(pattern_any, input_string)\n",
    "    if result is not None:\n",
    "        return result\n",
    "\n",
    "    # 3. Try parsing the entire input string as JSON\n",
    "    try:\n",
    "        cleaned_input = remove_comments(input_string).strip()\n",
    "        return json.loads(cleaned_input)\n",
    "    except json.JSONDecodeError:\n",
    "        pass\n",
    "\n",
    "    # 4. Look for LaTeX-style boxed JSON (e.g. $\\boxed{ ... }$)\n",
    "    result = try_extract_boxed_json(input_string)\n",
    "    if result is not None:\n",
    "        return result\n",
    "\n",
    "    # 5. Final fallback: search for a substring that starts with '{' and ends with '}'\n",
    "    return try_extract_curly_braces(input_string)"
   ]
  },
  {
   "cell_type": "code",
   "execution_count": 16,
   "metadata": {},
   "outputs": [
    {
     "name": "stdout",
     "output_type": "stream",
     "text": [
      "{'Sinks': [['this.mProhibitMode = p1;'], ['boolean v5 = this.this$0.isTvDevice();', 'if (v5 != 0) {', 'this.this$0.setProhibitMode(p1);'], ['boolean v2 = this.this$0.isTvDevice();', 'if (v2 != 0) {', 'this.this$0.setProhibitMode(p1);']]}\n"
     ]
    }
   ],
   "source": [
    "import json\n",
    "# read a text file in a string\n",
    "with open(\"/u1/hfaheem/DLAndroidArtifact/my-paths-code/output7/Lcom.android.server.hdmi.HdmiControlService$BinderService/setProhibitMode/response.txt\", \"r\") as f:\n",
    "    lines = f.readlines()\n",
    "\n",
    "tmp = \"\".join(lines)\n",
    "\n",
    "\n",
    "print(extract_json_from_string2(tmp))"
   ]
  },
  {
   "cell_type": "code",
   "execution_count": 72,
   "metadata": {},
   "outputs": [
    {
     "data": {
      "text/plain": [
       "{'Sinks': [['String v1 = this.mRecoverableKeyStoreManager.importKey(p1, p2);',\n",
       "   'return v1;'],\n",
       "  ['String v1 = p0.importKeyWithMetadata(p1, p2, 0);', 'return v1;'],\n",
       "  ['this.mRecoverableKeyGenerator.importKey(v6, v5, v4, p1, p2, p3);',\n",
       "   'this.mApplicationKeyStorage.setSymmetricKeyEntry(v5, v4, p1, p2);',\n",
       "   'String v9 = p0.getAlias(v5, v4, p1);',\n",
       "   'return v9;']]}"
      ]
     },
     "execution_count": 72,
     "metadata": {},
     "output_type": "execute_result"
    }
   ],
   "source": [
    "import json\n",
    " \n",
    "\n",
    "\n",
    "extract_json_from_string2(tmp)"
   ]
  },
  {
   "cell_type": "code",
   "execution_count": 5,
   "metadata": {},
   "outputs": [],
   "source": [
    "counter=0\n",
    "def process_json_answer(json_answer, n=2):\n",
    "    global counter\n",
    "    all = []\n",
    "    if isinstance(json_answer, str):  # If it's a string, parse it\n",
    "        try:\n",
    "            json_answer = json.loads(json_answer)\n",
    "        except json.JSONDecodeError:\n",
    "            # print(\"Invalid JSON format\")\n",
    "            return []\n",
    "    try:\n",
    "        arrays = json_answer['Sinks']\n",
    "        for i, array in enumerate(arrays, 1):\n",
    "            if i > n:  # Limit the number of joins to `n`\n",
    "                break\n",
    "            joined = '\\n'.join(array)\n",
    "            all.append(joined)\n",
    "    except:    \n",
    "        return []\n",
    "    counter += 1\n",
    "    return all"
   ]
  },
  {
   "cell_type": "code",
   "execution_count": 17,
   "metadata": {},
   "outputs": [
    {
     "name": "stdout",
     "output_type": "stream",
     "text": [
      "/u1/hfaheem/DLAndroidArtifact/my-paths-code/output3/results/Lcom.android.server.wm.ActivityTaskManagerService/resumeAppSwitches/response.txt\n",
      "{'Sinks': []}\n",
      "/u1/hfaheem/DLAndroidArtifact/my-paths-code/output3/results/Lcom.android.server.biometrics.sensors.face.FaceService$FaceServiceWrapper/enrollRemotely/response.txt\n",
      "{'Sinks': []}\n",
      "/u1/hfaheem/DLAndroidArtifact/my-paths-code/output3/results/Lcom.android.server.PersistentDataBlockService$1/getFlashLockState/response.txt\n",
      "{'Sinks': []}\n",
      "/u1/hfaheem/DLAndroidArtifact/my-paths-code/output3/results/Lcom.android.server.trust.TrustManagerService$1/reportKeyguardShowingChanged/response.txt\n",
      "{'Sinks': []}\n",
      "/u1/hfaheem/DLAndroidArtifact/my-paths-code/output3/results/Lcom.android.server.statusbar.StatusBarManagerService/onPanelHidden/response.txt\n",
      "{'Sinks': []}\n",
      "/u1/hfaheem/DLAndroidArtifact/my-paths-code/output3/results/Lcom.android.server.statusbar.StatusBarManagerService/onGlobalActionsShown/response.txt\n",
      "{'Sinks': []}\n",
      "/u1/hfaheem/DLAndroidArtifact/my-paths-code/output3/results/Lcom.android.server.statusbar.StatusBarManagerService/restart/response.txt\n",
      "{'Sinks': []}\n",
      "/u1/hfaheem/DLAndroidArtifact/my-paths-code/output3/results/Lcom.android.server.hdmi.HdmiControlService$BinderService/setArcMode/response.txt\n",
      "{'Sinks': []}\n",
      "/u1/hfaheem/DLAndroidArtifact/my-paths-code/output3/results/Lcom.android.server.VcnManagementService/unregisterVcnStatusCallback/response.txt\n",
      "{'Sinks': []}\n",
      "/u1/hfaheem/DLAndroidArtifact/my-paths-code/output3/results/Lcom.android.server.soundtrigger_middleware.SoundTriggerMiddlewareService/<clinit>/response.txt\n",
      "{'Sinks': []}\n",
      "500 500 490\n"
     ]
    }
   ],
   "source": [
    "import os\n",
    "\n",
    "base_dir = \"/u1/hfaheem/DLAndroidArtifact/my-paths-code/output3/results\"\n",
    "\n",
    "counter2,counter1,counter3 = 0,0,0\n",
    "for root, dirs, files in os.walk(base_dir):\n",
    "    for filename in files:\n",
    "        if filename == \"response.txt\":\n",
    "            file_path = os.path.join(root, filename)\n",
    "            with open(file_path, \"r\") as file:\n",
    "                content = file.read()\n",
    "                counter1+=1\n",
    "                if extract_json_from_string2(content):\n",
    "                    counter2+=1\n",
    "                    if process_json_answer(extract_json_from_string2(content)):\n",
    "                        counter3 += 1\n",
    "                    else:\n",
    "                        \n",
    "                        print(file_path)\n",
    "                        print(extract_json_from_string2(content)) \n",
    "            # print(f\"File: {file_path}\")\n",
    "\n",
    "print(counter1, counter2, counter3)"
   ]
  },
  {
   "cell_type": "code",
   "execution_count": 19,
   "metadata": {},
   "outputs": [
    {
     "name": "stdout",
     "output_type": "stream",
     "text": [
      "SYS_OR_SIG\n",
      "SYS_OR_SIG\n",
      "SYS_OR_SIG\n",
      "SYS_OR_SIG\n",
      "SYS_OR_SIG\n",
      "SYS_OR_SIG\n",
      "NONE\n",
      "SYS_OR_SIG\n",
      "SYS_OR_SIG\n",
      "SYS_OR_SIG\n",
      "SYS_OR_SIG\n",
      "SYS_OR_SIG\n",
      "SYS_OR_SIG\n",
      "SYS_OR_SIG\n",
      "SYS_OR_SIG\n",
      "SYS_OR_SIG\n",
      "SYS_OR_SIG\n",
      "SYS_OR_SIG\n",
      "NORMAL\n",
      "SYS_OR_SIG\n",
      "SYS_OR_SIG\n",
      "SYS_OR_SIG\n",
      "SYS_OR_SIG\n",
      "SYS_OR_SIG\n",
      "SYS_OR_SIG\n",
      "SYS_OR_SIG\n",
      "SYS_OR_SIG\n",
      "SYS_OR_SIG\n",
      "SYS_OR_SIG\n",
      "SYS_OR_SIG\n",
      "NORMAL\n",
      "SYS_OR_SIG\n",
      "SYS_OR_SIG\n",
      "SYS_OR_SIG\n",
      "SYS_OR_SIG\n",
      "SYS_OR_SIG\n",
      "SYS_OR_SIG\n",
      "SYS_OR_SIG\n",
      "SYS_OR_SIG\n",
      "SYS_OR_SIG\n",
      "SYS_OR_SIG\n",
      "NONE\n",
      "SYS_OR_SIG\n",
      "SYS_OR_SIG\n",
      "SYS_OR_SIG\n",
      "SYS_OR_SIG\n",
      "NORMAL\n",
      "SYS_OR_SIG\n",
      "SYS_OR_SIG\n",
      "SYS_OR_SIG\n",
      "SYS_OR_SIG\n",
      "SYS_OR_SIG\n",
      "SYS_OR_SIG\n",
      "SYS_OR_SIG\n",
      "SYS_OR_SIG\n",
      "SYS_OR_SIG\n",
      "SYS_OR_SIG\n",
      "SYS_OR_SIG\n",
      "NORMAL\n",
      "NORMAL\n",
      "NORMAL\n",
      "NORMAL\n",
      "NORMAL\n",
      "NORMAL\n",
      "NORMAL\n",
      "NORMAL\n",
      "NORMAL\n",
      "NORMAL\n",
      "NORMAL\n",
      "NORMAL\n",
      "NORMAL\n",
      "NORMAL\n",
      "NORMAL\n",
      "NORMAL\n",
      "NORMAL\n",
      "NORMAL\n",
      "NORMAL\n",
      "NORMAL\n",
      "NORMAL\n",
      "NORMAL\n",
      "SYS_OR_SIG\n",
      "SYS_OR_SIG\n",
      "SYS_OR_SIG\n",
      "SYS_OR_SIG\n",
      "SYS_OR_SIG\n",
      "SYS_OR_SIG\n",
      "SYS_OR_SIG\n",
      "SYS_OR_SIG\n",
      "SYS_OR_SIG\n",
      "SYS_OR_SIG\n",
      "SYS_OR_SIG\n",
      "SYS_OR_SIG\n",
      "SYS_OR_SIG\n",
      "SYS_OR_SIG\n",
      "SYS_OR_SIG\n",
      "SYS_OR_SIG\n",
      "SYS_OR_SIG\n",
      "SYS_OR_SIG\n",
      "SYS_OR_SIG\n",
      "SYS_OR_SIG\n",
      "SYS_OR_SIG\n",
      "SYS_OR_SIG\n",
      "SYS_OR_SIG\n",
      "SYS_OR_SIG\n",
      "SYS_OR_SIG\n",
      "SYS_OR_SIG\n",
      "SYS_OR_SIG\n",
      "SYS_OR_SIG\n",
      "SYS_OR_SIG\n",
      "SYS_OR_SIG\n",
      "SYS_OR_SIG\n",
      "SYS_OR_SIG\n",
      "SYS_OR_SIG\n",
      "SYS_OR_SIG\n",
      "SYS_OR_SIG\n",
      "SYS_OR_SIG\n",
      "SYS_OR_SIG\n",
      "SYS_OR_SIG\n",
      "SYS_OR_SIG\n",
      "NONE\n",
      "NONE\n",
      "SYS_OR_SIG\n",
      "SYS_OR_SIG\n",
      "SYS_OR_SIG\n",
      "SYS_OR_SIG\n",
      "SYS_OR_SIG\n",
      "SYS_OR_SIG\n",
      "SYS_OR_SIG\n",
      "NORMAL\n",
      "SYS_OR_SIG\n",
      "SYS_OR_SIG\n",
      "NORMAL\n",
      "NORMAL\n",
      "NORMAL\n",
      "SYS_OR_SIG\n",
      "SYS_OR_SIG\n",
      "SYS_OR_SIG\n",
      "SYS_OR_SIG\n",
      "SYS_OR_SIG\n",
      "SYS_OR_SIG\n",
      "SYS_OR_SIG\n",
      "SYS_OR_SIG\n",
      "SYS_OR_SIG\n",
      "SYS_OR_SIG\n",
      "SYS_OR_SIG\n",
      "SYS_OR_SIG\n",
      "SYS_OR_SIG\n",
      "SYS_OR_SIG\n",
      "SYS_OR_SIG\n",
      "SYS_OR_SIG\n",
      "SYS_OR_SIG\n",
      "SYS_OR_SIG\n",
      "SYS_OR_SIG\n",
      "SYS_OR_SIG\n",
      "SYS_OR_SIG\n",
      "SYS_OR_SIG\n",
      "SYS_OR_SIG\n",
      "SYS_OR_SIG\n",
      "SYS_OR_SIG\n",
      "SYS_OR_SIG\n",
      "SYS_OR_SIG\n",
      "SYS_OR_SIG\n",
      "SYS_OR_SIG\n",
      "SYS_OR_SIG\n",
      "SYS_OR_SIG\n",
      "SYS_OR_SIG\n",
      "SYS_OR_SIG\n",
      "SYS_OR_SIG\n",
      "SYS_OR_SIG\n",
      "SYS_OR_SIG\n",
      "SYS_OR_SIG\n",
      "SYS_OR_SIG\n",
      "SYS_OR_SIG\n",
      "SYS_OR_SIG\n",
      "SYS_OR_SIG\n",
      "SYS_OR_SIG\n",
      "SYS_OR_SIG\n",
      "SYS_OR_SIG\n",
      "SYS_OR_SIG\n",
      "SYS_OR_SIG\n",
      "SYS_OR_SIG\n",
      "SYS_OR_SIG\n",
      "SYS_OR_SIG\n",
      "SYS_OR_SIG\n",
      "SYS_OR_SIG\n",
      "SYS_OR_SIG\n",
      "SYS_OR_SIG\n",
      "SYS_OR_SIG\n",
      "SYS_OR_SIG\n",
      "SYS_OR_SIG\n",
      "SYS_OR_SIG\n",
      "NONE\n",
      "DANGEROUS\n",
      "NORMAL\n",
      "SYS_OR_SIG\n",
      "SYS_OR_SIG\n",
      "NORMAL\n",
      "SYS_OR_SIG\n",
      "NORMAL\n",
      "SYS_OR_SIG\n",
      "SYS_OR_SIG\n",
      "SYS_OR_SIG\n",
      "NONE\n",
      "SYS_OR_SIG\n",
      "SYS_OR_SIG\n",
      "NONE\n",
      "NORMAL\n",
      "SYS_OR_SIG\n",
      "SYS_OR_SIG\n",
      "SYS_OR_SIG\n",
      "NONE\n",
      "SYS_OR_SIG\n",
      "SYS_OR_SIG\n",
      "SYS_OR_SIG\n",
      "SYS_OR_SIG\n",
      "NONE\n",
      "SYS_OR_SIG\n",
      "NORMAL\n",
      "NONE\n",
      "SYS_OR_SIG\n",
      "NORMAL\n",
      "NONE\n",
      "SYS_OR_SIG\n",
      "SYS_OR_SIG\n",
      "SYS_OR_SIG\n",
      "SYS_OR_SIG\n",
      "SYS_OR_SIG\n",
      "SYS_OR_SIG\n",
      "SYS_OR_SIG\n",
      "NORMAL\n",
      "NONE\n",
      "SYS_OR_SIG\n",
      "SYS_OR_SIG\n",
      "SYS_OR_SIG\n",
      "NORMAL\n",
      "SYS_OR_SIG\n",
      "NORMAL\n",
      "SYS_OR_SIG\n",
      "SYS_OR_SIG\n",
      "SYS_OR_SIG\n",
      "SYS_OR_SIG\n",
      "NONE\n",
      "SYS_OR_SIG\n",
      "SYS_OR_SIG\n",
      "SYS_OR_SIG\n",
      "SYS_OR_SIG\n",
      "SYS_OR_SIG\n",
      "SYS_OR_SIG\n",
      "NORMAL\n",
      "SYS_OR_SIG\n",
      "NORMAL\n",
      "NORMAL\n",
      "NONE\n",
      "SYS_OR_SIG\n",
      "NONE\n",
      "NONE\n",
      "SYS_OR_SIG\n",
      "SYS_OR_SIG\n",
      "SYS_OR_SIG\n",
      "NORMAL\n",
      "SYS_OR_SIG\n",
      "SYS_OR_SIG\n",
      "NORMAL\n",
      "SYS_OR_SIG\n",
      "SYS_OR_SIG\n",
      "NORMAL\n",
      "NORMAL\n",
      "DANGEROUS\n",
      "SYS_OR_SIG\n",
      "SYS_OR_SIG\n",
      "SYS_OR_SIG\n",
      "NONE\n",
      "NORMAL\n",
      "NORMAL\n",
      "SYS_OR_SIG\n",
      "SYS_OR_SIG\n",
      "SYS_OR_SIG\n",
      "NORMAL\n",
      "NORMAL\n",
      "NORMAL\n",
      "NORMAL\n",
      "SYS_OR_SIG\n",
      "SYS_OR_SIG\n",
      "SYS_OR_SIG\n",
      "SYS_OR_SIG\n",
      "SYS_OR_SIG\n",
      "NORMAL\n",
      "SYS_OR_SIG\n",
      "SYS_OR_SIG\n",
      "SYS_OR_SIG\n",
      "SYS_OR_SIG\n",
      "SYS_OR_SIG\n",
      "SYS_OR_SIG\n",
      "SYS_OR_SIG\n",
      "SYS_OR_SIG\n",
      "SYS_OR_SIG\n",
      "SYS_OR_SIG\n",
      "SYS_OR_SIG\n",
      "SYS_OR_SIG\n",
      "SYS_OR_SIG\n",
      "SYS_OR_SIG\n",
      "NONE\n",
      "SYS_OR_SIG\n",
      "NORMAL\n",
      "SYS_OR_SIG\n",
      "SYS_OR_SIG\n",
      "SYS_OR_SIG\n",
      "SYS_OR_SIG\n",
      "SYS_OR_SIG\n",
      "SYS_OR_SIG\n",
      "SYS_OR_SIG\n",
      "NORMAL\n",
      "SYS_OR_SIG\n",
      "SYS_OR_SIG\n",
      "SYS_OR_SIG\n",
      "SYS_OR_SIG\n",
      "SYS_OR_SIG\n",
      "SYS_OR_SIG\n",
      "SYS_OR_SIG\n",
      "SYS_OR_SIG\n",
      "SYS_OR_SIG\n",
      "SYS_OR_SIG\n",
      "SYS_OR_SIG\n",
      "SYS_OR_SIG\n",
      "SYS_OR_SIG\n",
      "SYS_OR_SIG\n",
      "SYS_OR_SIG\n",
      "SYS_OR_SIG\n",
      "SYS_OR_SIG\n",
      "SYS_OR_SIG\n",
      "SYS_OR_SIG\n",
      "SYS_OR_SIG\n",
      "SYS_OR_SIG\n",
      "SYS_OR_SIG\n",
      "SYS_OR_SIG\n",
      "SYS_OR_SIG\n",
      "NORMAL\n",
      "SYS_OR_SIG\n",
      "SYS_OR_SIG\n",
      "339 339 339\n"
     ]
    }
   ],
   "source": [
    "import os\n",
    "import json\n",
    "\n",
    "base_dir = \"/u1/hfaheem/DLAndroidArtifact/my-paths-code/output3/results\"\n",
    "\n",
    "counter2,counter1,counter3 = 0,0,0\n",
    "for root, dirs, files in os.walk(base_dir):\n",
    "    for filename in files:\n",
    "        if filename == \"response2.txt\":\n",
    "            file_path = os.path.join(root, filename)\n",
    "            with open(file_path, \"r\") as file:\n",
    "                content = file.read()\n",
    "                if content.strip() == \"no top_similar found\":\n",
    "                    continue\n",
    "                counter1+=1\n",
    "                if extract_json_from_string2(content):\n",
    "                    counter2+=1\n",
    "                    if extract_json_from_string2(content).get(\"access_control_level\", \"invalid\"):\n",
    "                        print(extract_json_from_string2(content).get(\"access_control_level\", \"invalid\"))\n",
    "                        counter3 += 1\n",
    "                else:  \n",
    "                    print(file_path)\n",
    "                    # print(content)\n",
    "                    # print(extract_json_from_string2(content)) \n",
    "            # print(f\"File: {file_path}\")\n",
    "\n",
    "print(counter1, counter2, counter3)"
   ]
  },
  {
   "cell_type": "code",
   "execution_count": null,
   "metadata": {},
   "outputs": [],
   "source": [
    "import pandas as pd\n",
    "df = pd.read_parquet('/u1/hfaheem/DLAndroidArtifact/my-paths-code/output4/results/android_services_methods_postprocess.parquet')\n",
    "\n"
   ]
  },
  {
   "cell_type": "code",
   "execution_count": 2,
   "metadata": {},
   "outputs": [
    {
     "data": {
      "text/plain": [
       "Index(['service_name', 'class', 'method', 'depths', 'access control level',\n",
       "       'json_answer', 'res1', 'sink_code', 'json_answer2',\n",
       "       'access control level predicted', 'res2'],\n",
       "      dtype='object')"
      ]
     },
     "execution_count": 2,
     "metadata": {},
     "output_type": "execute_result"
    }
   ],
   "source": [
    "df.columns"
   ]
  },
  {
   "cell_type": "code",
   "execution_count": 5,
   "metadata": {},
   "outputs": [],
   "source": [
    "df[df[\"access control level predicted\"] == \"invalid\"].to_csv(\"invalidtodelete.csv\", index=False)"
   ]
  },
  {
   "cell_type": "code",
   "execution_count": 1,
   "metadata": {},
   "outputs": [],
   "source": [
    "# Overall Accuracy: 76.26% total rows = 417\n",
    "\n",
    "import pandas as pd\n",
    "df = pd.read_parquet(\"/u1/hfaheem/DLAndroidArtifact/my-paths-code/output8/android_services_methods_postprocess.parquet\")\n",
    "\n",
    "# df[df[\"access control level predicted\"] == \"invalid\"].to_csv(\"invalidtodelete.csv\", index=False)"
   ]
  },
  {
   "cell_type": "code",
   "execution_count": 13,
   "metadata": {},
   "outputs": [
    {
     "data": {
      "text/plain": [
       "Index(['service_name', 'class', 'method', 'depths', 'access control level',\n",
       "       'json_answer', 'res1', 'prompt1', 'sink_code', 'json_answer2',\n",
       "       'access control level predicted', 'res2'],\n",
       "      dtype='object')"
      ]
     },
     "execution_count": 13,
     "metadata": {},
     "output_type": "execute_result"
    }
   ],
   "source": [
    "import pandas as pd\n",
    "df = pd.read_parquet(\"/u1/hfaheem/DLAndroidArtifact/my-paths-code/output10/android_services_methods_postprocess.parquet\")\n",
    "\n",
    "\n",
    "df.columns"
   ]
  },
  {
   "cell_type": "code",
   "execution_count": 2,
   "metadata": {},
   "outputs": [
    {
     "data": {
      "text/plain": [
       "(3360, 12)"
      ]
     },
     "execution_count": 2,
     "metadata": {},
     "output_type": "execute_result"
    }
   ],
   "source": [
    "df.shape"
   ]
  },
  {
   "cell_type": "code",
   "execution_count": 3,
   "metadata": {},
   "outputs": [
    {
     "data": {
      "text/plain": [
       "(32, 12)"
      ]
     },
     "execution_count": 3,
     "metadata": {},
     "output_type": "execute_result"
    }
   ],
   "source": [
    "df_filtered = df[df[\"json_answer\"].isin([\"None\", '{\"Sinks\": []}', '{\"Sinks\": [[]]}'])]\n",
    "df_filtered.shape\n",
    "\n",
    "# df\n",
    "# df_filtered.to_csv(\"emptyornonesinks.csv\", index=False)"
   ]
  },
  {
   "cell_type": "code",
   "execution_count": 4,
   "metadata": {},
   "outputs": [
    {
     "data": {
      "text/plain": [
       "(32, 12)"
      ]
     },
     "execution_count": 4,
     "metadata": {},
     "output_type": "execute_result"
    }
   ],
   "source": [
    "# df[\"json_answer\"].value_counts()    \n",
    "\n",
    "df_filtered = df[df[\"json_answer\"].isin([\"None\", '{\"Sinks\": []}', '{\"Sinks\": [[]]}'])]\n",
    "\n",
    "df_filtered.shape\n",
    "# df_filtered.to_csv(\"emptyornonesinks.csv\", index=False)"
   ]
  },
  {
   "cell_type": "code",
   "execution_count": 9,
   "metadata": {},
   "outputs": [
    {
     "data": {
      "text/plain": [
       "Index(['service_name', 'class', 'method', 'depths', 'access control level',\n",
       "       'json_answer', 'res1', 'prompt1', 'sink_code', 'json_answer2',\n",
       "       'access control level predicted', 'res2'],\n",
       "      dtype='object')"
      ]
     },
     "execution_count": 9,
     "metadata": {},
     "output_type": "execute_result"
    }
   ],
   "source": [
    "df_filtered.columns"
   ]
  },
  {
   "cell_type": "code",
   "execution_count": 10,
   "metadata": {},
   "outputs": [
    {
     "name": "stdout",
     "output_type": "stream",
     "text": [
      "(3328, 12)\n"
     ]
    }
   ],
   "source": [
    "df_filtered = df[~df[\"json_answer\"].isin([\"None\", '{\"Sinks\": []}', '{\"Sinks\": [[]]}'])]\n",
    "# df_filtered.shape\n",
    "# df_filtered = df_filtered[df_filtered[\"res2\"] == \"no top_similar found\"]\n",
    "print(df_filtered.shape)\n",
    "\n",
    "\n",
    "# write to a csv\n",
    "# df_filtered.to_csv(\"no_top_similar.csv\", index=False)"
   ]
  },
  {
   "cell_type": "code",
   "execution_count": 11,
   "metadata": {},
   "outputs": [
    {
     "data": {
      "text/plain": [
       "res2\n",
       "no top_similar found                                                                                                                                                                                                                                                                                                                                                                                                                                                                                                                                                                                                                                                                                                                                                                                                                                                                                                                                                                                                                                                                                                                                                                                                                                                                                                                                                                                                                                                                                                                                                                                                                                                                                                                                                                                                                                                                                                                                                                                                                                                                                                                                                                                                                                                                                                                                                                                                                                                                                                                                                                                                                                                                                                                                                                                                                                                                                                                                                                                                                                                                                                              57\n",
       "To determine the access control level for the `setMasterMute` method in the `Lcom/android/server/audio/AudioService` class, we need to analyze its code paths and compare them with similar APIs.\\n\\nThe `setMasterMute` method has three code paths:\\n\\n1. Path 1 (depth 2): This path checks if the master mute state is being changed and then updates it using `AudioSystem.setMasterMute(p1)` and sends a master mute update using `AudioService.sendMasterMuteUpdate(p1, p2)`.\\n2. Path 2 (depth 1): This path calls `AudioService.setMasterMuteInternalNoCallerCheck(p1, p2, p4)`, which suggests an internal method call without checking the caller's identity.\\n3. Path 3 (depth 0): This path calls `p0.setMasterMuteInternal(p1, p2, p3, v2, p4, v3, p5)`, passing more parameters, including the calling UID and PID.\\n\\nThe sink code for these paths involves setting the master mute state using `AudioSystem.setMasterMute(p1)` and sending updates using `AudioService.sendMasterMuteUpdate(p1, p2)` or internal method calls.\\n\\nComparing this with similar APIs:\\n\\n- `isMasterMute()Z` in `Lcom/android/server/audio/AudioService` has an access control level of `NONE`, indicating that it does not pose a significant risk. However, this method only retrieves the master mute state without modifying it.\\n- `reloadAudioSettings()V` in `Lcom/android.server/audio/AudioService` has an access control level of `SYS_OR_SIG`, suggesting it requires system or signature-level permission due to its ability to set the master volume and mute state.\\n\\nGiven that `setMasterMute` can modify the audio settings (specifically, the master mute state), which could potentially impact the device's behavior or user experience, it is reasonable to assign a higher access control level than `NONE`. However, since it does not involve setting sensitive information like system-wide volume levels as in `reloadAudioSettings()V`, but rather only controls the master mute, the risk might be slightly lower.\\n\\nConsidering these factors and the fact that modifying audio settings (like master mute) typically requires permission to ensure that only authorized processes can alter these settings, which could affect user experience or device functionality, the access control level should reflect a need for some form of authorization. However, since it's not as sensitive as setting system-wide volume levels or other critical settings, `SYS_OR_SIG` might be more restrictive than necessary for this specific action.\\n\\nGiven the choices and considering that this method can affect the device's audio state but doesn't seem to require the highest level of access control (like modifying system settings), a moderate level of access control seems appropriate. However, since there isn't a clear indication that it requires dangerous permissions or is entirely benign (as setting master mute could still be considered a change to device settings), and considering the provided options:\\n\\nThe final answer is: \\n{ \"access_control_level\": \"NORMAL\" }     1\n",
       "Based on the provided information, we can analyze the access control level for the `setUserIdDeviceAffinity` method.\\n\\nThe method has three paths with different depths, and all of them interact with the same sinks. The sinks are related to removing and setting user ID device affinities, which seems to be a sensitive operation that requires proper authorization.\\n\\nLooking at the similar APIs provided, we can see that they have an access control level of `SYS_OR_SIG`, which indicates that they require system or signature-level permission to access. These APIs also interact with similar sinks, such as removing and setting UID device affinities.\\n\\nGiven the similarity in functionality and sinks between the `setUserIdDeviceAffinity` method and the provided similar APIs, it's reasonable to conclude that the access control level for `setUserIdDeviceAffinity` should be consistent with the similar APIs.\\n\\nTherefore, based on the analysis, I would assign an access control level of `SYS_OR_SIG` to the `setUserIdDeviceAffinity` method.\\n\\nHere is the final answer in JSON format:\\n\\n```json\\n{\\n  \"access_control_level\": \"SYS_OR_SIG\"\\n}\\n```                                                                                                                                                                                                                                                                                                                                                                                                                                                                                                                                                                                                                                                                                                                                                                                                                                                                                                                                                                                                                                                                                                                                                                                                                                                                                                                                                                                                                                                                                                                                                                                                                                                                                                                                                                                                                                                                                                                                      1\n",
       "To determine the access control level for the `setHeadTrackerEnabled` method in the `Lcom/android/server/audio/AudioService` class, we need to analyze its code paths and compare them with similar APIs that have known access control levels.\\n\\nThe provided code snippet shows three different paths (depths) for the `setHeadTrackerEnabled` method. Each path involves interactions with audio device attributes and spatializer helper functions, which seem to be related to audio settings and device state management.\\n\\nComparing this method with the similar APIs:\\n\\n1. **removeSpatializerCompatibleAudioDevice**: This API has an access control level of `SYS_OR_SIG`. Its code involves finding a device state for given audio device attributes and logging metrics, similar to some operations in the `setHeadTrackerEnabled` paths.\\n2. **isHeadTrackerEnabled**: Also with an access control level of `SYS_OR_SIG`, this method checks if a head tracker is enabled for specific audio device attributes by interacting with the spatializer helper.\\n\\nGiven these similarities, we can infer that the `setHeadTrackerEnabled` method likely requires a similar level of access control because it:\\n\\n- Interacts with sensitive audio settings and device states.\\n- Involves logging metrics and persisting audio device settings, which could impact system behavior or user privacy.\\n- Is compared to APIs that are classified as requiring `SYS_OR_SIG` access control, indicating they are either system-internal or require signature-level permission.\\n\\nTherefore, considering the method's functionality and its similarity to other methods with `SYS_OR_SIG` access control levels, it is reasonable to conclude that the `setHeadTrackerEnabled` method should also have an access control level of `SYS_OR_SIG`.\\n\\n```json\\n{\\n  \"access_control_level\": \"SYS_OR_SIG\"\\n}\\n```\\n\\nThis classification reflects the method's potential impact on system settings and its need for restricted access to prevent unauthorized modifications to audio device configurations.                                                                                                                                                                                                                                                                                                                                                                                                                                                                                                                                                                                                                                                                                                                                                                                                                                                                                                                                                                                                                  1\n",
       "To determine the access control level for the `registerHeadToSoundstagePoseCallback` method, let's analyze the provided information:\\n\\n1. **Similar APIs and Their Access Control Levels:**\\n   - `unregisterHeadToSoundstagePoseCallback`: This API has an access control level of `SYS_OR_SIG`. It is similar in functionality to the method in question but performs the opposite operation (unregistration instead of registration). The similarity score is 0.943583607673645, indicating a high degree of similarity.\\n   - `registerSpatializerHeadTrackingCallback`: This API also has an access control level of `SYS_OR_SIG`. Its similarity score with the method in question is 0.9091862440109253, which is also quite high.\\n\\n2. **Code Snippets and Sinks:**\\n   - The code snippets provided for `registerHeadToSoundstagePoseCallback` show that it interacts with `SpatializerHelper.mHeadPoseCallbacks` to register a callback. This interaction suggests that the method is dealing with system-level functionality related to audio spatialization.\\n   - The sink code further emphasizes the registration of callbacks, which typically involves system-level operations.\\n\\n3. **Access Control Level Determination:**\\n   - Given the high similarity scores and the fact that both similar APIs have an access control level of `SYS_OR_SIG`, it suggests that `registerHeadToSoundstagePoseCallback` is also involved in system-level operations.\\n   - The method's functionality, which involves registering a callback for spatial audio processing, implies that it requires a certain level of system privilege to operate correctly.\\n\\nBased on the analysis above, the access control level for `registerHeadToSoundstagePoseCallback` should be consistent with the levels assigned to its similar APIs, considering their functionalities and the system-level operations they perform.\\n\\nTherefore, the final access control level for the API is:\\n\\n```json\\n{ \"access_control_level\": \"SYS_OR_SIG\" }\\n```\\n\\nThis determination aligns with the access control levels of the highly similar APIs provided and reflects the method's involvement in system-level audio spatialization operations.                                                                                                                                                                                                                                                                                                                                                                                                                                                                                                                                                                                                                                                                                                                                                                                                                                                                                       1\n",
       "                                                                                                                                                                                                                                                                                                                                                                                                                                                                                                                                                                                                                                                                                                                                                                                                                                                                                                                                                                                                                                                                                                                                                                                                                                                                                                                                                                                                                                                                                                                                                                                                                                                                                                                                                                                                                                                                                                                                                                                                                                                                                                                                                                                                                                                                                                                                                                                                                                                                                                                                                                                                                                                                                                                                                                                                                                                                                                                                                                                                                                                                                                                                  ..\n",
       "To determine the access control level for the `revokeChallenge` method in the `FingerprintService$FingerprintServiceWrapper` class, we need to analyze its code paths and compare them with similar APIs that have known access control levels.\\n\\nThe provided code snippets show three different paths (with depths 2, 1, and 0) for the `revokeChallenge` method. All these paths eventually lead to calling the `scheduleRevokeChallenge` method on a `ServiceProvider` object if such an object is found for the given sensor. The primary difference among these paths lies in how they retrieve the `ServiceProvider` instance:\\n\\n1. **Path with Depth 2**: Iterates through all service providers to find one that contains the specified sensor.\\n2. **Path with Depth 1**: Directly retrieves a provider for the sensor using `getProviderForSensor`.\\n3. **Path with Depth 0**: Uses a nested method call (`-$$Nest$mgetProviderForSensor`) to achieve a similar result as Path 1.\\n\\nThe sink code snippets provided all involve calling `scheduleRevokeChallenge` on a `ServiceProvider` object, indicating that the critical operation is the interaction with this service provider.\\n\\nGiven the similar APIs:\\n\\n- Both are named `generateChallenge`, located in `FaceService$FaceServiceWrapper`, and have high similarity scores (0.9400608539581299 and 0.9381513595581055).\\n- Both have an access control level of **NORMAL**.\\n- Their code snippets also involve finding a service provider for a sensor and then calling a method (`scheduleGenerateChallenge`) on that provider.\\n\\nConsidering these points:\\n\\n* The `revokeChallenge` method's primary action is to interact with a `ServiceProvider`, similar to the `generateChallenge` methods in the similar APIs.\\n* All paths of the `revokeChallenge` method lead to a controlled interaction with system services (through `ServiceProvider`), which does not inherently suggest a dangerous or system/signature level operation but rather a normal, managed interaction.\\n* The similar APIs (`generateChallenge`) are assigned an access control level of **NORMAL**, and given their functional similarity to `revokeChallenge`, it suggests that `revokeChallenge` should also be considered as performing operations that do not require elevated permissions beyond what is normally granted.\\n\\nTherefore, based on the provided information and comparisons with similar APIs, the access control level for the `revokeChallenge` method in the `FingerprintService$FingerprintServiceWrapper` class should be **NORMAL**.\\n\\n```json\\n{ \"access_control_level\": \"NORMAL\" }\\n```                                                                                                                                                                                                                                                                                                                                                                                                                                                   1\n",
       "To determine the access control level for the `addClientActiveCallback` method, let's analyze the provided information:\\n\\n1. **Code Snippets**: The method has two paths with different implementations but essentially achieves the same goal - registering a callback with `GestureAvailabilityDispatcher`. This suggests that the core functionality is about managing callbacks related to fingerprint client activity.\\n\\n2. **Similar APIs**:\\n   - Two similar APIs are provided, both named `removeClientActiveCallback`, which have an access control level of `NORMAL`. These methods are used for removing callbacks from the `GestureAvailabilityDispatcher`.\\n   - The similarity in names and functionality (adding vs. removing callbacks) suggests that these operations are symmetric and likely require similar levels of access control.\\n\\n3. **Access Control Levels**:\\n   - `NONE`: Typically used for APIs that do not pose any security risks.\\n   - `NORMAL`: Used for APIs that require some level of protection but are generally safe when used correctly.\\n   - `DANGEROUS`: Applies to APIs that can potentially cause harm if misused, such as those dealing with sensitive user data or system resources.\\n   - `SYS_OR_SIG`: Reserved for system or signature applications, indicating a high level of privilege.\\n\\nGiven the information:\\n- The method is related to managing callbacks for fingerprint client activity, which doesn't inherently suggest a high risk or sensitivity that would warrant `DANGEROUS` or `SYS_OR_SIG` access control levels.\\n- The similar APIs (`removeClientActiveCallback`) have an access control level of `NORMAL`, suggesting that managing these callbacks (both adding and removing) is considered a normal operation within the context of fingerprint service management.\\n\\n**Conclusion**: Considering the method's functionality, its similarity to other methods with `NORMAL` access control, and the lack of indication that it poses significant security risks or requires high privileges, the most appropriate access control level for `addClientActiveCallback` would be `NORMAL`.\\n\\n```json\\n{ \"access_control_level\": \"NORMAL\" }\\n```                                                                                                                                                                                                                                                                                                                                                                                                                                                                                                                                                                                                                                                                                                                                                                                                                                                                                                1\n",
       "To determine the access control level for the `setSidefpsController` method in the `FingerprintService$FingerprintServiceWrapper` class, we need to analyze its code paths and compare them with similar APIs that have known access control levels.\\n\\nThe provided code snippets show how the `setSidefpsController` method iterates over a list of service providers (`FingerprintService.mServiceProviders`) and calls the `setSidefpsController` method on each provider. This operation suggests that the method is interacting with internal components of the fingerprint service, which may not directly expose sensitive user data or perform critical system operations that would require higher access control levels like `DANGEROUS` or `SYS_OR_SIG`.\\n\\nThe similar APIs provided, `onPointerUp` and `startPreparedClient`, both have an access control level of `NORMAL`. These methods also interact with the service providers in a manner similar to `setSidefpsController`, by iterating over them and performing specific actions. The similarity in their operations and the fact that they are all part of the same class (`FingerprintService$FingerprintServiceWrapper`) suggests that `setSidefpsController` likely operates within a similar scope of access control.\\n\\nGiven this analysis, it's reasonable to conclude that the `setSidefpsController` method does not require elevated permissions like `DANGEROUS` or `SYS_OR_SIG`, as it seems to be managing internal service configurations rather than directly accessing sensitive data or performing system-critical operations. Therefore, an access control level of `NORMAL` would be appropriate for this method.\\n\\nHere is the final access control level in JSON format:\\n\\n```json\\n{\\n  \"access_control_level\": \"NORMAL\"\\n}\\n```                                                                                                                                                                                                                                                                                                                                                                                                                                                                                                                                                                                                                                                                                                                                                                                                                                                                                                                                                                                                                                                                                                                                                                                                                                                                                                   1\n",
       "To determine the access control level for the `hasAppPackagename` method in the `Lcom.android.server.biometrics.sensors.fingerprint.FingerprintService$FingerprintServiceWrapper` class, we need to analyze its code paths and compare them with the provided similar APIs.\\n\\n1. **Code Paths Analysis**:\\n   - The method checks various conditions before calling `hasAppPackagename` on a `Pair.second` object. These conditions include checking the calling UID, PID, and user ID, as well as verifying if the app is in the foreground and has the necessary permissions (e.g., `checkAppOps`).\\n   - It interacts with sensitive data such as user IDs, UIDs, and package names, which suggests a need for access control.\\n\\n2. **Similar APIs Analysis**:\\n   - The similar API `getAppPackagename` in the same class has an access control level of `SYS_OR_SIG`. This method also deals with package names and user IDs, suggesting that it requires system or signature-level permission to access such sensitive information.\\n   - Another similar API, `checkName`, also has an access control level of `SYS_OR_SIG`. It checks names in the context of fingerprint service, which implies handling of potentially sensitive biometric data.\\n\\n3. **Access Control Level Determination**:\\n   - Given that both similar APIs have a `SYS_OR_SIG` access control level and considering the nature of the `hasAppPackagename` method (which involves checking for app package names in the context of fingerprint services, including interactions with UIDs, PIDs, and user IDs), it's reasonable to conclude that this method also requires a similar level of access control.\\n   - The method's interaction with sensitive data and its role within the biometric service ecosystem suggest that it should not be accessible without proper system or signature-level permissions.\\n\\n**Conclusion**: Based on the analysis of the code paths, the nature of the data handled by the `hasAppPackagename` method, and the access control levels of similar APIs, the most appropriate access control level for this method is `SYS_OR_SIG`.\\n\\n```json\\n{\\n  \"access_control_level\": \"SYS_OR_SIG\"\\n}\\n```                                                                                                                                                                                                                                                                                                                                                                                                                                                                                                                                                                                                                                                                                                                                                                                                                                                                                                        1\n",
       "To determine the access control level for the `acquireLease` method in the `BlobStoreManagerService$Stub` class, let's analyze the provided information:\\n\\n1. **Similar APIs and Their Access Control Levels:**\\n   - The `releaseLease` method has an access control level of `SYS_OR_SIG`.\\n   - The `getLeaseInfo` method also has an access control level of `SYS_OR_SIG`.\\n\\n2. **Code Snippets for Paths of the `acquireLease` Method:**\\n   - All paths involve checking the validity of the `BlobHandle` object, ensuring that the description ID is valid, and verifying that the calling package is allowed to access the blob store.\\n   - The method interacts with sensitive data (e.g., blob handles, package names, and lease information) and performs operations that could impact system security or user data privacy.\\n\\n3. **Sink Code:**\\n   - The sink code involves adding or replacing a leasee for a blob, accessing the blobs map, and calling internal methods to acquire a lease. These operations suggest interactions with sensitive system resources.\\n\\nGiven these points, we can infer the following:\\n\\n- The `acquireLease` method deals with sensitive operations related to blob store management, including acquiring leases on blobs.\\n- Similar APIs (`releaseLease` and `getLeaseInfo`) have been assigned a `SYS_OR_SIG` access control level, indicating that they require system or signature-level permissions to execute.\\n- The code paths for `acquireLease` involve checks and operations that are consistent with the need for protected access, including verification of the calling package's identity and permission checks.\\n\\nBased on this analysis, it is reasonable to conclude that the `acquireLease` method should also require a similar level of protection to prevent unauthorized access or misuse of blob store resources. Therefore, the appropriate access control level for the `acquireLease` method would be `SYS_OR_SIG`, aligning with the levels assigned to similar methods within the same service.\\n\\n**Access Control Level:**\\n\\n```json\\n{\\n  \"access_control_level\": \"SYS_OR_SIG\"\\n}\\n```\\n\\nThis assignment reflects the method's involvement in sensitive operations and the need for restricted access to maintain system security and integrity.                                                                                                                                                                                                                                                                                                                                                                                                                                                                                                                                                                                                                                                                                                                                                                                          1\n",
       "Name: count, Length: 3272, dtype: int64"
      ]
     },
     "execution_count": 11,
     "metadata": {},
     "output_type": "execute_result"
    }
   ],
   "source": [
    "df_filtered[\"res2\"].value_counts()"
   ]
  },
  {
   "cell_type": "code",
   "execution_count": 12,
   "metadata": {},
   "outputs": [
    {
     "data": {
      "text/plain": [
       "(57, 12)"
      ]
     },
     "execution_count": 12,
     "metadata": {},
     "output_type": "execute_result"
    }
   ],
   "source": [
    "df_filtered[df_filtered[\"res2\"] == \"no top_similar found\"].shape"
   ]
  },
  {
   "cell_type": "code",
   "execution_count": 20,
   "metadata": {},
   "outputs": [
    {
     "data": {
      "text/plain": [
       "access control level predicted\n",
       "SYS_OR_SIG    937\n",
       "NORMAL        233\n",
       "NONE          228\n",
       "invalid        63\n",
       "DANGEROUS      54\n",
       "Name: count, dtype: int64"
      ]
     },
     "execution_count": 20,
     "metadata": {},
     "output_type": "execute_result"
    }
   ],
   "source": [
    "df_filtered[\"access control level predicted\"].value_counts()"
   ]
  },
  {
   "cell_type": "markdown",
   "metadata": {},
   "source": [
    "63 not similar found "
   ]
  },
  {
   "cell_type": "code",
   "execution_count": 21,
   "metadata": {},
   "outputs": [
    {
     "data": {
      "text/plain": [
       "(85, 12)"
      ]
     },
     "execution_count": 21,
     "metadata": {},
     "output_type": "execute_result"
    }
   ],
   "source": [
    "incorrect_predictions = df_filtered[(df_filtered[\"access control level predicted\"] == \"SYS_OR_SIG\") & \n",
    "            (df_filtered[\"access control level\"] == \"NONE\")]\n",
    "incorrect_predictions.shape"
   ]
  },
  {
   "cell_type": "code",
   "execution_count": null,
   "metadata": {},
   "outputs": [],
   "source": []
  },
  {
   "cell_type": "code",
   "execution_count": 22,
   "metadata": {},
   "outputs": [],
   "source": [
    "incorrect_predictions.to_csv(\"incorrect_predictions.csv\", index=False)"
   ]
  },
  {
   "cell_type": "code",
   "execution_count": 6,
   "metadata": {},
   "outputs": [
    {
     "data": {
      "text/plain": [
       "Index(['service_name', 'class', 'method', 'depths', 'access control level',\n",
       "       'json_answer', 'res1', 'prompt1', 'sink_code', 'json_answer2',\n",
       "       'access control level predicted', 'res2'],\n",
       "      dtype='object')"
      ]
     },
     "execution_count": 6,
     "metadata": {},
     "output_type": "execute_result"
    }
   ],
   "source": [
    "df.columns"
   ]
  },
  {
   "cell_type": "code",
   "execution_count": null,
   "metadata": {},
   "outputs": [
    {
     "name": "stdout",
     "output_type": "stream",
     "text": [
      "2    This is path 1 for the API with depth 2:\\npubl...\n",
      "Name: prompt1, dtype: object\n"
     ]
    }
   ],
   "source": [
    "df.columns\n",
    "\n",
    "print(df[df[\"method\"].str.contains(\"grantSlicePermission\", na=False)][\"prompt1\"])"
   ]
  },
  {
   "cell_type": "code",
   "execution_count": 14,
   "metadata": {},
   "outputs": [
    {
     "data": {
      "text/plain": [
       "Index(['service_name', 'class', 'method', 'depths', 'access control level',\n",
       "       'json_answer', 'res1', 'prompt1', 'sink_code', 'json_answer2',\n",
       "       'access control level predicted', 'res2'],\n",
       "      dtype='object')"
      ]
     },
     "execution_count": 14,
     "metadata": {},
     "output_type": "execute_result"
    }
   ],
   "source": [
    "df.columns"
   ]
  },
  {
   "cell_type": "code",
   "execution_count": 16,
   "metadata": {},
   "outputs": [
    {
     "data": {
      "text/html": [
       "<div>\n",
       "<style scoped>\n",
       "    .dataframe tbody tr th:only-of-type {\n",
       "        vertical-align: middle;\n",
       "    }\n",
       "\n",
       "    .dataframe tbody tr th {\n",
       "        vertical-align: top;\n",
       "    }\n",
       "\n",
       "    .dataframe thead th {\n",
       "        text-align: right;\n",
       "    }\n",
       "</style>\n",
       "<table border=\"1\" class=\"dataframe\">\n",
       "  <thead>\n",
       "    <tr style=\"text-align: right;\">\n",
       "      <th></th>\n",
       "      <th>service_name</th>\n",
       "      <th>class</th>\n",
       "      <th>method</th>\n",
       "      <th>depths</th>\n",
       "      <th>access control level</th>\n",
       "      <th>json_answer</th>\n",
       "      <th>res1</th>\n",
       "      <th>prompt1</th>\n",
       "      <th>sink_code</th>\n",
       "      <th>json_answer2</th>\n",
       "      <th>access control level predicted</th>\n",
       "      <th>res2</th>\n",
       "    </tr>\n",
       "  </thead>\n",
       "  <tbody>\n",
       "    <tr>\n",
       "      <th>3258</th>\n",
       "      <td>Lcom.android.server.pm.PackageManagerService$I...</td>\n",
       "      <td>Lcom/android/server/pm/PackageManagerService$I...</td>\n",
       "      <td>enabledPackage(Ljava/lang/String;IZ)V</td>\n",
       "      <td>[{'depth': 0, 'java_code': 'public void enable...</td>\n",
       "      <td>NONE</td>\n",
       "      <td>{\"Sinks\": [[\"ITranPackageManagerService v14 = ...</td>\n",
       "      <td>To analyze the provided paths of the `enabledP...</td>\n",
       "      <td>This is path 1 for the API with depth 2:\\npubl...</td>\n",
       "      <td>[ITranPackageManagerService v14 = ITranPackage...</td>\n",
       "      <td>{\"access_control_level\": \"SYS_OR_SIG\"}</td>\n",
       "      <td>SYS_OR_SIG</td>\n",
       "      <td>To determine the access control level for the ...</td>\n",
       "    </tr>\n",
       "  </tbody>\n",
       "</table>\n",
       "</div>"
      ],
      "text/plain": [
       "                                           service_name  \\\n",
       "3258  Lcom.android.server.pm.PackageManagerService$I...   \n",
       "\n",
       "                                                  class  \\\n",
       "3258  Lcom/android/server/pm/PackageManagerService$I...   \n",
       "\n",
       "                                     method  \\\n",
       "3258  enabledPackage(Ljava/lang/String;IZ)V   \n",
       "\n",
       "                                                 depths access control level  \\\n",
       "3258  [{'depth': 0, 'java_code': 'public void enable...                 NONE   \n",
       "\n",
       "                                            json_answer  \\\n",
       "3258  {\"Sinks\": [[\"ITranPackageManagerService v14 = ...   \n",
       "\n",
       "                                                   res1  \\\n",
       "3258  To analyze the provided paths of the `enabledP...   \n",
       "\n",
       "                                                prompt1  \\\n",
       "3258  This is path 1 for the API with depth 2:\\npubl...   \n",
       "\n",
       "                                              sink_code  \\\n",
       "3258  [ITranPackageManagerService v14 = ITranPackage...   \n",
       "\n",
       "                                json_answer2 access control level predicted  \\\n",
       "3258  {\"access_control_level\": \"SYS_OR_SIG\"}                     SYS_OR_SIG   \n",
       "\n",
       "                                                   res2  \n",
       "3258  To determine the access control level for the ...  "
      ]
     },
     "execution_count": 16,
     "metadata": {},
     "output_type": "execute_result"
    }
   ],
   "source": [
    "df[df[\"method\"].str.contains(\"enabledPackage\")]"
   ]
  },
  {
   "cell_type": "code",
   "execution_count": 17,
   "metadata": {},
   "outputs": [
    {
     "data": {
      "text/html": [
       "<div>\n",
       "<style scoped>\n",
       "    .dataframe tbody tr th:only-of-type {\n",
       "        vertical-align: middle;\n",
       "    }\n",
       "\n",
       "    .dataframe tbody tr th {\n",
       "        vertical-align: top;\n",
       "    }\n",
       "\n",
       "    .dataframe thead th {\n",
       "        text-align: right;\n",
       "    }\n",
       "</style>\n",
       "<table border=\"1\" class=\"dataframe\">\n",
       "  <thead>\n",
       "    <tr style=\"text-align: right;\">\n",
       "      <th></th>\n",
       "      <th>service_name</th>\n",
       "      <th>class</th>\n",
       "      <th>method</th>\n",
       "      <th>depths</th>\n",
       "      <th>access control level</th>\n",
       "      <th>json_answer</th>\n",
       "      <th>res1</th>\n",
       "      <th>prompt1</th>\n",
       "      <th>sink_code</th>\n",
       "      <th>json_answer2</th>\n",
       "      <th>access control level predicted</th>\n",
       "      <th>res2</th>\n",
       "    </tr>\n",
       "  </thead>\n",
       "  <tbody>\n",
       "    <tr>\n",
       "      <th>1503</th>\n",
       "      <td>Lcom.android.server.power.PowerManagerService$...</td>\n",
       "      <td>Lcom/android/server/power/PowerManagerService$...</td>\n",
       "      <td>triggerBatterySaver()V</td>\n",
       "      <td>[{'depth': 0, 'java_code': 'public void trigge...</td>\n",
       "      <td>NONE</td>\n",
       "      <td>{\"Sinks\": [[\"BatterySaverStateMachine v3 = Pow...</td>\n",
       "      <td>To analyze the provided paths for potential si...</td>\n",
       "      <td>This is path 1 for the API with depth 1:\\npubl...</td>\n",
       "      <td>[BatterySaverStateMachine v3 = PowerManagerSer...</td>\n",
       "      <td>{\"access_control_level\": \"SYS_OR_SIG\"}</td>\n",
       "      <td>SYS_OR_SIG</td>\n",
       "      <td>To determine the access control level for the ...</td>\n",
       "    </tr>\n",
       "  </tbody>\n",
       "</table>\n",
       "</div>"
      ],
      "text/plain": [
       "                                           service_name  \\\n",
       "1503  Lcom.android.server.power.PowerManagerService$...   \n",
       "\n",
       "                                                  class  \\\n",
       "1503  Lcom/android/server/power/PowerManagerService$...   \n",
       "\n",
       "                      method  \\\n",
       "1503  triggerBatterySaver()V   \n",
       "\n",
       "                                                 depths access control level  \\\n",
       "1503  [{'depth': 0, 'java_code': 'public void trigge...                 NONE   \n",
       "\n",
       "                                            json_answer  \\\n",
       "1503  {\"Sinks\": [[\"BatterySaverStateMachine v3 = Pow...   \n",
       "\n",
       "                                                   res1  \\\n",
       "1503  To analyze the provided paths for potential si...   \n",
       "\n",
       "                                                prompt1  \\\n",
       "1503  This is path 1 for the API with depth 1:\\npubl...   \n",
       "\n",
       "                                              sink_code  \\\n",
       "1503  [BatterySaverStateMachine v3 = PowerManagerSer...   \n",
       "\n",
       "                                json_answer2 access control level predicted  \\\n",
       "1503  {\"access_control_level\": \"SYS_OR_SIG\"}                     SYS_OR_SIG   \n",
       "\n",
       "                                                   res2  \n",
       "1503  To determine the access control level for the ...  "
      ]
     },
     "execution_count": 17,
     "metadata": {},
     "output_type": "execute_result"
    }
   ],
   "source": [
    "df[df[\"method\"].str.contains(\"triggerBatterySaver\")]"
   ]
  }
 ],
 "metadata": {
  "kernelspec": {
   "display_name": "Python 3",
   "language": "python",
   "name": "python3"
  },
  "language_info": {
   "codemirror_mode": {
    "name": "ipython",
    "version": 3
   },
   "file_extension": ".py",
   "mimetype": "text/x-python",
   "name": "python",
   "nbconvert_exporter": "python",
   "pygments_lexer": "ipython3",
   "version": "3.10.4"
  }
 },
 "nbformat": 4,
 "nbformat_minor": 2
}
