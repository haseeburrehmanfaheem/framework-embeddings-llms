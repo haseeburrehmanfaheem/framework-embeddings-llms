{
 "cells": [
  {
   "cell_type": "code",
   "execution_count": 1,
   "metadata": {},
   "outputs": [
    {
     "name": "stdout",
     "output_type": "stream",
     "text": [
      "/u1/hfaheem/.conda/envs/.env/bin/python\n"
     ]
    }
   ],
   "source": [
    "import sys\n",
    "print(sys.executable)"
   ]
  },
  {
   "cell_type": "code",
   "execution_count": 3,
   "metadata": {},
   "outputs": [
    {
     "data": {
      "text/plain": [
       "Index(['service_name', 'class', 'method', 'depths', 'access control level',\n",
       "       'json_answer', 'res1', 'prompt1'],\n",
       "      dtype='object')"
      ]
     },
     "execution_count": 3,
     "metadata": {},
     "output_type": "execute_result"
    }
   ],
   "source": [
    "# /u1/hfaheem/DLAndroidArtifact/my-paths-code/output2/results/android_services_methods.parquet import this into a df\n",
    "\n",
    "import pandas as pd\n",
    "df = pd.read_parquet('/u1/hfaheem/DLAndroidArtifact/my-paths-code/output11/android_services_methods.parquet') \n",
    "df.columns"
   ]
  },
  {
   "cell_type": "code",
   "execution_count": 13,
   "metadata": {},
   "outputs": [
    {
     "data": {
      "text/plain": [
       "Index(['service_name', 'class', 'method', 'depths', 'access control level',\n",
       "       'json_answer', 'sink_code', 'json_answer2',\n",
       "       'access control level predicted'],\n",
       "      dtype='object')"
      ]
     },
     "execution_count": 13,
     "metadata": {},
     "output_type": "execute_result"
    }
   ],
   "source": [
    "df.columns"
   ]
  },
  {
   "cell_type": "code",
   "execution_count": 11,
   "metadata": {},
   "outputs": [
    {
     "name": "stdout",
     "output_type": "stream",
     "text": [
      "Invalid JSON format\n",
      "Invalid JSON format\n",
      "Invalid JSON format\n",
      "Invalid JSON format\n",
      "Invalid JSON format\n",
      "Invalid JSON format\n",
      "Invalid JSON format\n",
      "Invalid JSON format\n",
      "Invalid JSON format\n",
      "Invalid JSON format\n",
      "Invalid JSON format\n",
      "Invalid JSON format\n",
      "Invalid JSON format\n",
      "Invalid JSON format\n",
      "Invalid JSON format\n",
      "Invalid JSON format\n",
      "Invalid JSON format\n",
      "Invalid JSON format\n",
      "Invalid JSON format\n",
      "Invalid JSON format\n",
      "Invalid JSON format\n",
      "Invalid JSON format\n",
      "Invalid JSON format\n",
      "Invalid JSON format\n",
      "Invalid JSON format\n",
      "Invalid JSON format\n",
      "Invalid JSON format\n",
      "Invalid JSON format\n",
      "Invalid JSON format\n",
      "471\n"
     ]
    }
   ],
   "source": [
    "import json\n",
    "counter = 0\n",
    "def process_json_answer(json_answer, n=2):\n",
    "    global counter\n",
    "    all = []\n",
    "    # print(json_answer)\n",
    "    \n",
    "    # Ensure json_answer is a dictionary\n",
    "    if isinstance(json_answer, str):  # If it's a string, parse it\n",
    "        try:\n",
    "            json_answer = json.loads(json_answer)\n",
    "        except json.JSONDecodeError:\n",
    "            print(\"Invalid JSON format\")\n",
    "            return []\n",
    "    try:\n",
    "        arrays = json_answer['Sinks']\n",
    "        # print(arrays)\n",
    "        for i, array in enumerate(arrays, 1):\n",
    "            if i > n:  # Limit the number of joins to `n`\n",
    "                break\n",
    "            joined = '\\n'.join(array)\n",
    "            all.append(joined)\n",
    "    except Exception as e:    \n",
    "        print(e)\n",
    "        return []\n",
    "    counter += 1\n",
    "    return all\n",
    "\n",
    "df['sink_code'] = df['json_answer'].apply(process_json_answer)\n",
    "df.head()\n",
    "print(counter)\n",
    "\n",
    "# df.to_parquet('/u1/hfaheem/DLAndroidArtifact/my-paths-code/output3/results/android_services_methods.parquet')\n",
    "# df.head()"
   ]
  },
  {
   "cell_type": "markdown",
   "metadata": {},
   "source": [
    "\n",
    "\n",
    "\n",
    "\n",
    "\n",
    "\n",
    "\n",
    "\n",
    "\n",
    "\n",
    "\n",
    "\n",
    "\n",
    "\n",
    "\n",
    "\n",
    "\n",
    "\n",
    "\n",
    "\n",
    "\n",
    "\n",
    "\n",
    "\n",
    "\n",
    "\n",
    "\n",
    "\n",
    "\n",
    "\n",
    "\n",
    "\n",
    "\n",
    "\n",
    "500 origingal APIs \n",
    "\n",
    "161 -> no top similar APIs found -> investigate if the sinks were emtpy or if >0.8 similar were not found\n",
    "\n",
    "    29 "
   ]
  },
  {
   "cell_type": "code",
   "execution_count": 44,
   "metadata": {},
   "outputs": [
    {
     "data": {
      "text/plain": [
       "Index(['service_name', 'class', 'method', 'depths', 'access control level',\n",
       "       'json_answer', 'sink_code', 'json_answer2',\n",
       "       'access control level predicted', 'res2'],\n",
       "      dtype='object')"
      ]
     },
     "execution_count": 44,
     "metadata": {},
     "output_type": "execute_result"
    }
   ],
   "source": [
    "df2.columns"
   ]
  },
  {
   "cell_type": "code",
   "execution_count": 34,
   "metadata": {},
   "outputs": [
    {
     "name": "stdout",
     "output_type": "stream",
     "text": [
      "size of each df is: 461, 29, 6, 3\n"
     ]
    }
   ],
   "source": [
    "df_test = df2['json_answer'].value_counts()\n",
    "df_none = df2[df2['json_answer'] == \"None\"]\n",
    "df_sinks_empty = df2[df2['json_answer'] == '{\"Sinks\": []}']\n",
    "df_sinks_nested_empty = df2[df2['json_answer'] == '{\"Sinks\": [[]]}']\n",
    "\n",
    "\n",
    "print(f\"size of each df is: {len(df_test)}, {len(df_none)}, {len(df_sinks_empty)}, {len(df_sinks_nested_empty)}\")"
   ]
  },
  {
   "cell_type": "code",
   "execution_count": null,
   "metadata": {},
   "outputs": [
    {
     "data": {
      "text/plain": [
       "(462, 10)"
      ]
     },
     "execution_count": 42,
     "metadata": {},
     "output_type": "execute_result"
    }
   ],
   "source": [
    "df_other = df2[~df2['json_answer'].isin([\"None\", '{\"Sinks\": []}', '{\"Sinks\": [[]]}'])]\n",
    "# df_other[\"\"]"
   ]
  },
  {
   "cell_type": "code",
   "execution_count": 36,
   "metadata": {},
   "outputs": [
    {
     "data": {
      "text/html": [
       "<div>\n",
       "<style scoped>\n",
       "    .dataframe tbody tr th:only-of-type {\n",
       "        vertical-align: middle;\n",
       "    }\n",
       "\n",
       "    .dataframe tbody tr th {\n",
       "        vertical-align: top;\n",
       "    }\n",
       "\n",
       "    .dataframe thead th {\n",
       "        text-align: right;\n",
       "    }\n",
       "</style>\n",
       "<table border=\"1\" class=\"dataframe\">\n",
       "  <thead>\n",
       "    <tr style=\"text-align: right;\">\n",
       "      <th></th>\n",
       "      <th>service_name</th>\n",
       "      <th>class</th>\n",
       "      <th>method</th>\n",
       "      <th>depths</th>\n",
       "      <th>access control level</th>\n",
       "      <th>json_answer</th>\n",
       "      <th>sink_code</th>\n",
       "      <th>json_answer2</th>\n",
       "      <th>access control level predicted</th>\n",
       "      <th>res2</th>\n",
       "    </tr>\n",
       "  </thead>\n",
       "  <tbody>\n",
       "    <tr>\n",
       "      <th>3</th>\n",
       "      <td>Lcom.android.server.soundtrigger_middleware.So...</td>\n",
       "      <td>Lcom/android/server/soundtrigger_middleware/So...</td>\n",
       "      <td>&lt;clinit&gt;()V</td>\n",
       "      <td>[{'depth': 0, 'java_code': 'depth : 0\n",
       "public v...</td>\n",
       "      <td>NONE</td>\n",
       "      <td>{\"Sinks\": []}</td>\n",
       "      <td>[]</td>\n",
       "      <td>{}</td>\n",
       "      <td>invalid</td>\n",
       "      <td>no top_similar found</td>\n",
       "    </tr>\n",
       "    <tr>\n",
       "      <th>18</th>\n",
       "      <td>Lcom.android.server.trust.TrustManagerService$1</td>\n",
       "      <td>Lcom/android/server/trust/TrustManagerService$1</td>\n",
       "      <td>reportKeyguardShowingChanged()V</td>\n",
       "      <td>[{'depth': 0, 'java_code': 'depth : 0\n",
       "public v...</td>\n",
       "      <td>SYS_OR_SIG</td>\n",
       "      <td>{\"Sinks\": []}</td>\n",
       "      <td>[]</td>\n",
       "      <td>{}</td>\n",
       "      <td>invalid</td>\n",
       "      <td>no top_similar found</td>\n",
       "    </tr>\n",
       "    <tr>\n",
       "      <th>101</th>\n",
       "      <td>Lcom.android.server.PersistentDataBlockService$1</td>\n",
       "      <td>Lcom/android/server/PersistentDataBlockService$1</td>\n",
       "      <td>getFlashLockState()I</td>\n",
       "      <td>[{'depth': 0, 'java_code': 'depth : 0\n",
       "public i...</td>\n",
       "      <td>SYS_OR_SIG</td>\n",
       "      <td>{\"Sinks\": []}</td>\n",
       "      <td>[]</td>\n",
       "      <td>{}</td>\n",
       "      <td>invalid</td>\n",
       "      <td>no top_similar found</td>\n",
       "    </tr>\n",
       "    <tr>\n",
       "      <th>286</th>\n",
       "      <td>Lcom.android.server.wm.ActivityTaskManagerService</td>\n",
       "      <td>Lcom/android/server/wm/ActivityTaskManagerService</td>\n",
       "      <td>resumeAppSwitches()V</td>\n",
       "      <td>[{'depth': 0, 'java_code': 'depth : 0\n",
       "public v...</td>\n",
       "      <td>SYS_OR_SIG</td>\n",
       "      <td>{\"Sinks\": []}</td>\n",
       "      <td>[]</td>\n",
       "      <td>{}</td>\n",
       "      <td>invalid</td>\n",
       "      <td>no top_similar found</td>\n",
       "    </tr>\n",
       "    <tr>\n",
       "      <th>347</th>\n",
       "      <td>Lcom.android.server.statusbar.StatusBarManager...</td>\n",
       "      <td>Lcom/android/server/statusbar/StatusBarManager...</td>\n",
       "      <td>onPanelHidden()V</td>\n",
       "      <td>[{'depth': 0, 'java_code': 'depth : 0\n",
       "public v...</td>\n",
       "      <td>SYS_OR_SIG</td>\n",
       "      <td>{\"Sinks\": []}</td>\n",
       "      <td>[]</td>\n",
       "      <td>{}</td>\n",
       "      <td>invalid</td>\n",
       "      <td>no top_similar found</td>\n",
       "    </tr>\n",
       "  </tbody>\n",
       "</table>\n",
       "</div>"
      ],
      "text/plain": [
       "                                          service_name  \\\n",
       "3    Lcom.android.server.soundtrigger_middleware.So...   \n",
       "18     Lcom.android.server.trust.TrustManagerService$1   \n",
       "101   Lcom.android.server.PersistentDataBlockService$1   \n",
       "286  Lcom.android.server.wm.ActivityTaskManagerService   \n",
       "347  Lcom.android.server.statusbar.StatusBarManager...   \n",
       "\n",
       "                                                 class  \\\n",
       "3    Lcom/android/server/soundtrigger_middleware/So...   \n",
       "18     Lcom/android/server/trust/TrustManagerService$1   \n",
       "101   Lcom/android/server/PersistentDataBlockService$1   \n",
       "286  Lcom/android/server/wm/ActivityTaskManagerService   \n",
       "347  Lcom/android/server/statusbar/StatusBarManager...   \n",
       "\n",
       "                              method  \\\n",
       "3                        <clinit>()V   \n",
       "18   reportKeyguardShowingChanged()V   \n",
       "101             getFlashLockState()I   \n",
       "286             resumeAppSwitches()V   \n",
       "347                 onPanelHidden()V   \n",
       "\n",
       "                                                depths access control level  \\\n",
       "3    [{'depth': 0, 'java_code': 'depth : 0\n",
       "public v...                 NONE   \n",
       "18   [{'depth': 0, 'java_code': 'depth : 0\n",
       "public v...           SYS_OR_SIG   \n",
       "101  [{'depth': 0, 'java_code': 'depth : 0\n",
       "public i...           SYS_OR_SIG   \n",
       "286  [{'depth': 0, 'java_code': 'depth : 0\n",
       "public v...           SYS_OR_SIG   \n",
       "347  [{'depth': 0, 'java_code': 'depth : 0\n",
       "public v...           SYS_OR_SIG   \n",
       "\n",
       "       json_answer sink_code json_answer2 access control level predicted  \\\n",
       "3    {\"Sinks\": []}        []           {}                        invalid   \n",
       "18   {\"Sinks\": []}        []           {}                        invalid   \n",
       "101  {\"Sinks\": []}        []           {}                        invalid   \n",
       "286  {\"Sinks\": []}        []           {}                        invalid   \n",
       "347  {\"Sinks\": []}        []           {}                        invalid   \n",
       "\n",
       "                     res2  \n",
       "3    no top_similar found  \n",
       "18   no top_similar found  \n",
       "101  no top_similar found  \n",
       "286  no top_similar found  \n",
       "347  no top_similar found  "
      ]
     },
     "execution_count": 36,
     "metadata": {},
     "output_type": "execute_result"
    }
   ],
   "source": [
    "df_sinks_empty.head()"
   ]
  },
  {
   "cell_type": "code",
   "execution_count": 46,
   "metadata": {},
   "outputs": [
    {
     "name": "stdout",
     "output_type": "stream",
     "text": [
      "access control level predicted\n",
      "SYS_OR_SIG    238\n",
      "NORMAL         55\n",
      "invalid        24\n",
      "NONE           17\n",
      "DANGEROUS       2\n",
      "Name: count, dtype: int64\n"
     ]
    }
   ],
   "source": [
    "with open(\"valid_methods_to_delete.txt\", \"r\") as f:\n",
    "    valid_methods = f.readlines()\n",
    "    \n",
    "valid_methods = [method.strip() for method in valid_methods]\n",
    "len(valid_methods)\n",
    "\n",
    "\n",
    "df_valid_methods = df_other[df_other['method'].isin(valid_methods)]\n",
    "print(df_valid_methods['access control level predicted'].value_counts())"
   ]
  },
  {
   "cell_type": "code",
   "execution_count": 50,
   "metadata": {},
   "outputs": [
    {
     "data": {
      "text/plain": [
       "access control level predicted\n",
       "SYS_OR_SIG    238\n",
       "NORMAL         55\n",
       "invalid        24\n",
       "NONE           17\n",
       "DANGEROUS       2\n",
       "Name: count, dtype: int64"
      ]
     },
     "execution_count": 50,
     "metadata": {},
     "output_type": "execute_result"
    }
   ],
   "source": [
    "df_valid_methods['access control level predicted'].value_counts()"
   ]
  },
  {
   "cell_type": "code",
   "execution_count": 52,
   "metadata": {},
   "outputs": [],
   "source": [
    "df_valid_methods['access control level predicted'].value_counts()\n",
    "\n",
    "df_valid_methods = df_valid_methods[df_valid_methods['access control level predicted'] == \"invalid\"]\n",
    "\n",
    "df_valid_methods.head()\n",
    "\n",
    "\n",
    "# write df_valid_method in a csv\n",
    "df_valid_methods.to_csv('todelete.csv', index=False)"
   ]
  },
  {
   "cell_type": "code",
   "execution_count": null,
   "metadata": {},
   "outputs": [],
   "source": [
    "\n",
    "# 500 origingal APIs \n",
    "\n",
    "# 161 -> no top similar APIs found \n",
    "\n",
    "#      29 -> None \n",
    "            #    incorrect format\n",
    "            #    multiple different jsons, therefor json read error\n",
    "            # todo: /u1/hfaheem/DLAndroidArtifact/my-paths-code/output3/results/Lcom.android.server.locksettings.LockSettingsService/importKey/response.txt check this using your json read function\n",
    "            \n",
    "#      9 -> no sinks found in answer1 -> investigate why\n",
    "            #    `this.mNotificationDelegate.onPanelHidden();` is a method invocation that might process internal state or parameters but lacks direct input from the API's parameters -> incorrect reasoning\n",
    "            #     not resolving conditional branches causing the issue, look at persistantdatablockservice, getflashlockstate\n",
    "            #     not sure whats happening in some APIs, look at reportKeyguardShowingChanged, reportKeyguardShowingChanged\n",
    "#      >0.8 similar not found for 123 -> investigate why (NOTE : I compute similarities with all other sinks, disregarding services, we can also explore ways where we prioritise APIs/sinks which are in the same service)\n",
    "            #  right now, (1) I take top 2 sinks from answer1, (2)compute similarity with all other sinks, and (3)consider only the ones with > 0.8 cosine similarity(in embeddings)\n",
    "            #  changing this, if I \n",
    "            #                      take all sinks instead of top2 in (1),  i get 116 with similar not found\n",
    "            #                      take >0.7 cosine similarity instead of >0.8 in (3), i get 43 with similar not found \n",
    "            #                      37 with both of the above combined\n",
    "            #                      I can also experiment with taking the top2 sinks and not looking at the similarity score altogether\n",
    "\n",
    "\n",
    "\n",
    "\n",
    "#  This leaves us with 339 valid prompt2s\n",
    "#  24 invalid prompt2 response -> most of them correct predictions, but formatting issue, can fix this with a continiously prompt + be more specific in the prompt\n",
    "#  315 valid prompt2 response -> 83.17% accuracy \n",
    "# for incorrect accuracy\n",
    "\n",
    "\n",
    "df2 = pd.read_parquet(\"/u1/hfaheem/DLAndroidArtifact/my-paths-code/output3/results/android_services_methods_postprocess.parquet\")\n",
    "df2.columns\n",
    "\n",
    "# unique in res2 column\n",
    "s = df2['json_answer2'].value_counts()\n",
    "\n",
    "# write in a text file\n",
    "s.to_csv('./todelete2.txt', sep='\\t', header=False)"
   ]
  },
  {
   "cell_type": "code",
   "execution_count": 4,
   "metadata": {},
   "outputs": [
    {
     "data": {
      "text/plain": [
       "Index(['service_name', 'class', 'method', 'depths', 'access control level',\n",
       "       'json_answer', 'res1', 'prompt1', 'sink_code', 'json_answer2',\n",
       "       'access control level predicted', 'res2'],\n",
       "      dtype='object')"
      ]
     },
     "execution_count": 4,
     "metadata": {},
     "output_type": "execute_result"
    }
   ],
   "source": [
    "import pandas as pd\n",
    "df = pd.read_parquet(\"/u1/hfaheem/DLAndroidArtifact/my-paths-code/output11/android_services_methods_postprocess.parquet\")\n",
    "\n",
    "df.columns"
   ]
  },
  {
   "cell_type": "code",
   "execution_count": 8,
   "metadata": {},
   "outputs": [
    {
     "data": {
      "text/html": [
       "<div>\n",
       "<style scoped>\n",
       "    .dataframe tbody tr th:only-of-type {\n",
       "        vertical-align: middle;\n",
       "    }\n",
       "\n",
       "    .dataframe tbody tr th {\n",
       "        vertical-align: top;\n",
       "    }\n",
       "\n",
       "    .dataframe thead th {\n",
       "        text-align: right;\n",
       "    }\n",
       "</style>\n",
       "<table border=\"1\" class=\"dataframe\">\n",
       "  <thead>\n",
       "    <tr style=\"text-align: right;\">\n",
       "      <th></th>\n",
       "      <th>service_name</th>\n",
       "      <th>class</th>\n",
       "      <th>method</th>\n",
       "      <th>depths</th>\n",
       "      <th>access control level</th>\n",
       "      <th>json_answer</th>\n",
       "      <th>res1</th>\n",
       "      <th>prompt1</th>\n",
       "      <th>sink_code</th>\n",
       "      <th>json_answer2</th>\n",
       "      <th>access control level predicted</th>\n",
       "      <th>res2</th>\n",
       "    </tr>\n",
       "  </thead>\n",
       "  <tbody>\n",
       "    <tr>\n",
       "      <th>1461</th>\n",
       "      <td>Lcom.android.server.BinaryTransparencyService$...</td>\n",
       "      <td>Lcom/android/server/BinaryTransparencyService$...</td>\n",
       "      <td>getSignedImageInfo()Ljava/lang/String;</td>\n",
       "      <td>[{'depth': 0, 'java_code': 'public String getS...</td>\n",
       "      <td>NONE</td>\n",
       "      <td>{\"Sinks\": [[\"String v1 = this.mVbmetaDigest;\",...</td>\n",
       "      <td>To analyze these paths and identify potential ...</td>\n",
       "      <td>This is path 1 for the API with depth 1:\\npubl...</td>\n",
       "      <td>[String v1 = this.mVbmetaDigest;\\nreturn v1;, ...</td>\n",
       "      <td>error extracting json</td>\n",
       "      <td>invalid</td>\n",
       "      <td>no top_similar found</td>\n",
       "    </tr>\n",
       "    <tr>\n",
       "      <th>1474</th>\n",
       "      <td>Lcom.android.server.statusbar.StatusBarManager...</td>\n",
       "      <td>Lcom/android/server/statusbar/StatusBarManager...</td>\n",
       "      <td>isTracing()Z</td>\n",
       "      <td>[{'depth': 0, 'java_code': 'public boolean isT...</td>\n",
       "      <td>NONE</td>\n",
       "      <td>{\"Sinks\": [[\"return this.mTracingEnabled;\"]]}</td>\n",
       "      <td>For the given API `isTracing()`, let's analyze...</td>\n",
       "      <td>This is path 1 for the API with depth 0:\\npubl...</td>\n",
       "      <td>[return this.mTracingEnabled;]</td>\n",
       "      <td>error extracting json</td>\n",
       "      <td>invalid</td>\n",
       "      <td>no top_similar found</td>\n",
       "    </tr>\n",
       "    <tr>\n",
       "      <th>1494</th>\n",
       "      <td>Lcom.android.server.statusbar.StatusBarManager...</td>\n",
       "      <td>Lcom/android/server/statusbar/StatusBarManager...</td>\n",
       "      <td>requestTileServiceListeningState(Landroid/cont...</td>\n",
       "      <td>[{'depth': 0, 'java_code': 'public void reques...</td>\n",
       "      <td>NONE</td>\n",
       "      <td>{\"Sinks\": [[\"if (this.mBar == 0) {\", \"this.mBa...</td>\n",
       "      <td>To analyze this API and identify potential sin...</td>\n",
       "      <td>This is path 1 for the API with depth 0:\\npubl...</td>\n",
       "      <td>[if (this.mBar == 0) {\\nthis.mBar.requestTileS...</td>\n",
       "      <td>{\"access_control_level\": \"SYS_OR_SIG\"}</td>\n",
       "      <td>SYS_OR_SIG</td>\n",
       "      <td>To determine the access control level for the ...</td>\n",
       "    </tr>\n",
       "    <tr>\n",
       "      <th>1498</th>\n",
       "      <td>Lcom.android.server.statusbar.StatusBarManager...</td>\n",
       "      <td>Lcom/android/server/statusbar/StatusBarManager...</td>\n",
       "      <td>unregisterSessionListener(ILcom/android/intern...</td>\n",
       "      <td>[{'depth': 0, 'java_code': 'public void unregi...</td>\n",
       "      <td>NONE</td>\n",
       "      <td>{\"Sinks\": [[\"this.mSessionMonitor.unregisterSe...</td>\n",
       "      <td>To analyze these paths and identify potential ...</td>\n",
       "      <td>This is path 1 for the API with depth 1:\\npubl...</td>\n",
       "      <td>[this.mSessionMonitor.unregisterSessionListene...</td>\n",
       "      <td>{\"access_control_level\": \"SYS_OR_SIG\"}</td>\n",
       "      <td>SYS_OR_SIG</td>\n",
       "      <td>To determine the access control level for the ...</td>\n",
       "    </tr>\n",
       "    <tr>\n",
       "      <th>1531</th>\n",
       "      <td>Lcom.android.server.texttospeech.TextToSpeechM...</td>\n",
       "      <td>Lcom/android/server/texttospeech/TextToSpeechM...</td>\n",
       "      <td>createSession(Ljava/lang/String;Landroid/speec...</td>\n",
       "      <td>[{'depth': 0, 'java_code': 'public void create...</td>\n",
       "      <td>NONE</td>\n",
       "      <td>{\"Sinks\": [[\"AbstractPerUserSystemService v4 =...</td>\n",
       "      <td>Based on the provided paths for the `createSes...</td>\n",
       "      <td>This is path 1 for the API with depth 2:\\npubl...</td>\n",
       "      <td>[AbstractPerUserSystemService v4 = this.this$0...</td>\n",
       "      <td>{\"access_control_level\": \"NORMAL\"}</td>\n",
       "      <td>NORMAL</td>\n",
       "      <td>To determine the access control level for the ...</td>\n",
       "    </tr>\n",
       "  </tbody>\n",
       "</table>\n",
       "</div>"
      ],
      "text/plain": [
       "                                           service_name  \\\n",
       "1461  Lcom.android.server.BinaryTransparencyService$...   \n",
       "1474  Lcom.android.server.statusbar.StatusBarManager...   \n",
       "1494  Lcom.android.server.statusbar.StatusBarManager...   \n",
       "1498  Lcom.android.server.statusbar.StatusBarManager...   \n",
       "1531  Lcom.android.server.texttospeech.TextToSpeechM...   \n",
       "\n",
       "                                                  class  \\\n",
       "1461  Lcom/android/server/BinaryTransparencyService$...   \n",
       "1474  Lcom/android/server/statusbar/StatusBarManager...   \n",
       "1494  Lcom/android/server/statusbar/StatusBarManager...   \n",
       "1498  Lcom/android/server/statusbar/StatusBarManager...   \n",
       "1531  Lcom/android/server/texttospeech/TextToSpeechM...   \n",
       "\n",
       "                                                 method  \\\n",
       "1461             getSignedImageInfo()Ljava/lang/String;   \n",
       "1474                                       isTracing()Z   \n",
       "1494  requestTileServiceListeningState(Landroid/cont...   \n",
       "1498  unregisterSessionListener(ILcom/android/intern...   \n",
       "1531  createSession(Ljava/lang/String;Landroid/speec...   \n",
       "\n",
       "                                                 depths access control level  \\\n",
       "1461  [{'depth': 0, 'java_code': 'public String getS...                 NONE   \n",
       "1474  [{'depth': 0, 'java_code': 'public boolean isT...                 NONE   \n",
       "1494  [{'depth': 0, 'java_code': 'public void reques...                 NONE   \n",
       "1498  [{'depth': 0, 'java_code': 'public void unregi...                 NONE   \n",
       "1531  [{'depth': 0, 'java_code': 'public void create...                 NONE   \n",
       "\n",
       "                                            json_answer  \\\n",
       "1461  {\"Sinks\": [[\"String v1 = this.mVbmetaDigest;\",...   \n",
       "1474      {\"Sinks\": [[\"return this.mTracingEnabled;\"]]}   \n",
       "1494  {\"Sinks\": [[\"if (this.mBar == 0) {\", \"this.mBa...   \n",
       "1498  {\"Sinks\": [[\"this.mSessionMonitor.unregisterSe...   \n",
       "1531  {\"Sinks\": [[\"AbstractPerUserSystemService v4 =...   \n",
       "\n",
       "                                                   res1  \\\n",
       "1461  To analyze these paths and identify potential ...   \n",
       "1474  For the given API `isTracing()`, let's analyze...   \n",
       "1494  To analyze this API and identify potential sin...   \n",
       "1498  To analyze these paths and identify potential ...   \n",
       "1531  Based on the provided paths for the `createSes...   \n",
       "\n",
       "                                                prompt1  \\\n",
       "1461  This is path 1 for the API with depth 1:\\npubl...   \n",
       "1474  This is path 1 for the API with depth 0:\\npubl...   \n",
       "1494  This is path 1 for the API with depth 0:\\npubl...   \n",
       "1498  This is path 1 for the API with depth 1:\\npubl...   \n",
       "1531  This is path 1 for the API with depth 2:\\npubl...   \n",
       "\n",
       "                                              sink_code  \\\n",
       "1461  [String v1 = this.mVbmetaDigest;\\nreturn v1;, ...   \n",
       "1474                     [return this.mTracingEnabled;]   \n",
       "1494  [if (this.mBar == 0) {\\nthis.mBar.requestTileS...   \n",
       "1498  [this.mSessionMonitor.unregisterSessionListene...   \n",
       "1531  [AbstractPerUserSystemService v4 = this.this$0...   \n",
       "\n",
       "                                json_answer2 access control level predicted  \\\n",
       "1461                   error extracting json                        invalid   \n",
       "1474                   error extracting json                        invalid   \n",
       "1494  {\"access_control_level\": \"SYS_OR_SIG\"}                     SYS_OR_SIG   \n",
       "1498  {\"access_control_level\": \"SYS_OR_SIG\"}                     SYS_OR_SIG   \n",
       "1531      {\"access_control_level\": \"NORMAL\"}                         NORMAL   \n",
       "\n",
       "                                                   res2  \n",
       "1461                               no top_similar found  \n",
       "1474                               no top_similar found  \n",
       "1494  To determine the access control level for the ...  \n",
       "1498  To determine the access control level for the ...  \n",
       "1531  To determine the access control level for the ...  "
      ]
     },
     "execution_count": 8,
     "metadata": {},
     "output_type": "execute_result"
    }
   ],
   "source": [
    "df[(df[\"access control level predicted\"] != \"NONE\") & (df[\"access control level\"] == \"NONE\")].tail()"
   ]
  },
  {
   "cell_type": "code",
   "execution_count": null,
   "metadata": {},
   "outputs": [],
   "source": [
    "# look at these cases\n",
    "\n",
    "# @Override // com.android.internal.view.IInputMethodManager\n",
    "#     public void removeImeSurface() {\n",
    "#         this.mContext.enforceCallingPermission(\"android.permission.INTERNAL_SYSTEM_WINDOW\", null);\n",
    "#         this.mHandler.obtainMessage(1060).sendToTarget();\n",
    "#     }\n",
    "\n",
    "\n",
    "# @Override // com.android.internal.view.IInputMethodManager\n",
    "#     public void removeImeSurfaceFromWindowAsync(IBinder iBinder) {\n",
    "#         this.mHandler.obtainMessage(1061, iBinder).sendToTarget();\n",
    "#     }\n",
    "\n",
    "# very wierd\n"
   ]
  },
  {
   "cell_type": "code",
   "execution_count": 5,
   "metadata": {},
   "outputs": [
    {
     "name": "stdout",
     "output_type": "stream",
     "text": [
      "Overall Accuracy: 59.83% total rows = 351\n",
      "\n",
      "Predicted AC Stats for 'NONE':\n",
      "                                Count  Percentage\n",
      "access control level predicted                   \n",
      "NONE                              210   59.829060\n",
      "SYS_OR_SIG                         86   24.501425\n",
      "NORMAL                             52   14.814815\n",
      "DANGEROUS                           3    0.854701\n",
      "\n",
      "Predicted AC Stats for 'NORMAL':\n",
      "Empty DataFrame\n",
      "Columns: [Count, Percentage]\n",
      "Index: []\n",
      "\n",
      "Predicted AC Stats for 'DANGEROUS':\n",
      "Empty DataFrame\n",
      "Columns: [Count, Percentage]\n",
      "Index: []\n",
      "\n",
      "Predicted AC Stats for 'SYS_OR_SIG':\n",
      "Empty DataFrame\n",
      "Columns: [Count, Percentage]\n",
      "Index: []\n",
      "Done\n"
     ]
    }
   ],
   "source": [
    "df_filtered = df[df['access control level predicted'] != 'invalid']\n",
    "accuracy = (df_filtered['access control level'] == df_filtered['access control level predicted']).mean() * 100\n",
    "print(f'Overall Accuracy: {accuracy:.2f}% total rows = {len(df_filtered)}')\n",
    "access_levels = ['NONE', 'NORMAL', 'DANGEROUS', 'SYS_OR_SIG']\n",
    "# Generate statistics for each actual access control level\n",
    "for acl in access_levels:\n",
    "    subset = df_filtered[df_filtered['access control level'] == acl]\n",
    "    stats = subset['access control level predicted'].value_counts().to_frame(name='Count')\n",
    "    stats['Percentage'] = (stats['Count'] / stats['Count'].sum()) * 100\n",
    "    print(f\"\\nPredicted AC Stats for '{acl}':\")\n",
    "    print(stats.to_string())\n",
    "print(\"Done\")"
   ]
  },
  {
   "cell_type": "code",
   "execution_count": 55,
   "metadata": {},
   "outputs": [
    {
     "data": {
      "text/plain": [
       "Index(['service_name', 'class', 'method', 'depths', 'access control level',\n",
       "       'json_answer', 'sink_code', 'json_answer2',\n",
       "       'access control level predicted', 'res2'],\n",
       "      dtype='object')"
      ]
     },
     "execution_count": 55,
     "metadata": {},
     "output_type": "execute_result"
    }
   ],
   "source": [
    "df_filtered.columns"
   ]
  },
  {
   "cell_type": "code",
   "execution_count": 56,
   "metadata": {},
   "outputs": [],
   "source": [
    "df_filtered = df_filtered[(df_filtered['access control level'] == \"NONE\") & (df_filtered['access control level predicted'] == \"SYS_OR_SIG\")]"
   ]
  },
  {
   "cell_type": "code",
   "execution_count": 58,
   "metadata": {},
   "outputs": [],
   "source": [
    "df_filtered.to_csv(\"canconfirmdelete.csv\", index=False)"
   ]
  },
  {
   "cell_type": "code",
   "execution_count": null,
   "metadata": {},
   "outputs": [],
   "source": [
    "import re\n",
    "def extract_json_from_string(input_string):\n",
    "    \"\"\"Extract JSON from response string.\"\"\"\n",
    "    try:\n",
    "        json_pattern = r\"```(?:json)?\\n(.*?)\\n```\"\n",
    "        match = re.search(json_pattern, input_string, re.DOTALL)\n",
    "        return json.loads(match.group(1)) if match else None\n",
    "    except json.JSONDecodeError:\n",
    "        return None\n",
    "\n",
    "\n",
    "def remove_trailing_commas(json_string):\n",
    "    \"\"\"Remove trailing commas from JSON arrays and objects to make it valid.\"\"\"\n",
    "    json_string = re.sub(r',\\s*([\\]}])', r'\\1', json_string)  # Fixes \", }\" or \", ]\"\n",
    "    return json_string\n",
    "\n",
    "def remove_comments(json_string):\n",
    "    \"\"\"Remove single-line comments (//) from the JSON string.\"\"\"\n",
    "    return re.sub(r'//.*', '', json_string)\n",
    "\n",
    "def try_extract_and_parse(pattern, input_string):\n",
    "    \"\"\"Extract using the given regex pattern and parse JSON after cleaning comments.\"\"\"\n",
    "    json_blocks = re.findall(pattern, input_string, re.DOTALL)\n",
    "    # print(f\"found {len(json_blocks)} json blocks with pattern {pattern}\")\n",
    "    for block in reversed(json_blocks):\n",
    "        cleaned_block = remove_comments(block).strip()\n",
    "        try:\n",
    "            return json.loads(cleaned_block)\n",
    "        except json.JSONDecodeError:\n",
    "            continue\n",
    "    return None\n",
    "\n",
    "def try_extract_boxed_json(input_string):\n",
    "    \"\"\"\n",
    "    Try to extract JSON from LaTeX-style boxed expressions of the form:\n",
    "    $\\boxed{ ... }$\n",
    "    \"\"\"\n",
    "    boxed_blocks = re.findall(r'\\$\\s*\\\\boxed\\s*\\{(.*?)\\}\\s*\\$', input_string, re.DOTALL)\n",
    "    for block in boxed_blocks:\n",
    "        cleaned_block = remove_comments(block).strip()\n",
    "        # Unescape any escaped braces if needed\n",
    "        cleaned_block = cleaned_block.replace(r'\\{', '{').replace(r'\\}', '}')\n",
    "        try:\n",
    "            return json.loads(cleaned_block)\n",
    "        except json.JSONDecodeError:\n",
    "            continue\n",
    "    return None\n",
    "\n",
    "def try_extract_curly_braces(input_string):\n",
    "    \"\"\"\n",
    "    Final fallback: Look for the first substring that starts with '{' and ends with '}'.\n",
    "    \"\"\"\n",
    "    match = re.search(r'(\\{.*\\})', input_string, re.DOTALL)\n",
    "    if match:\n",
    "        cleaned_block = remove_comments(match.group(1)).strip()\n",
    "        cleaned_block = remove_trailing_commas(cleaned_block)\n",
    "        try:\n",
    "            return json.loads(cleaned_block)\n",
    "        except json.JSONDecodeError:\n",
    "            return None\n",
    "    return None\n",
    "\n",
    "def extract_json_from_string2(input_string):\n",
    "    \"\"\"\n",
    "    Extract JSON from a response string by trying, in order:\n",
    "      1. Code blocks explicitly tagged as JSON (```json).\n",
    "      2. Any code blocks delimited by triple backticks (```).\n",
    "      3. The entire string (if valid JSON).\n",
    "      4. LaTeX-style boxed JSON (e.g. $\\boxed{ ... }$).\n",
    "      5. The first substring that starts with '{' and ends with '}'.\n",
    "    \"\"\"\n",
    "    # 1. Try blocks tagged explicitly as JSON\n",
    "    # pattern_json = r\"```json\\s*\\n(.*?)```\"\n",
    "    pattern_json = pattern_json = r\"```json\\s*(.*?)```\"\n",
    "    result = try_extract_and_parse(pattern_json, input_string)\n",
    "    if result is not None:\n",
    "        return result\n",
    "\n",
    "    #tmp Try blocks without \\n \n",
    "    pattern_json = r\"```json\\s*(.*?)```\"\n",
    "    result = try_extract_and_parse(pattern_json, input_string)\n",
    "    if result is not None:\n",
    "        return result\n",
    "    \n",
    "    \n",
    "    # 2. Fallback: try any block delimited by triple backticks\n",
    "    pattern_any = r\"```\\s*\\n(.*?)```\"\n",
    "    result = try_extract_and_parse(pattern_any, input_string)\n",
    "    if result is not None:\n",
    "        return result\n",
    "\n",
    "    # 3. Try parsing the entire input string as JSON\n",
    "    try:\n",
    "        cleaned_input = remove_comments(input_string).strip()\n",
    "        return json.loads(cleaned_input)\n",
    "    except json.JSONDecodeError:\n",
    "        pass\n",
    "\n",
    "    # 4. Look for LaTeX-style boxed JSON (e.g. $\\boxed{ ... }$)\n",
    "    result = try_extract_boxed_json(input_string)\n",
    "    if result is not None:\n",
    "        return result\n",
    "\n",
    "    # 5. Final fallback: search for a substring that starts with '{' and ends with '}'\n",
    "    return try_extract_curly_braces(input_string)"
   ]
  },
  {
   "cell_type": "code",
   "execution_count": 16,
   "metadata": {},
   "outputs": [
    {
     "name": "stdout",
     "output_type": "stream",
     "text": [
      "{'Sinks': [['this.mProhibitMode = p1;'], ['boolean v5 = this.this$0.isTvDevice();', 'if (v5 != 0) {', 'this.this$0.setProhibitMode(p1);'], ['boolean v2 = this.this$0.isTvDevice();', 'if (v2 != 0) {', 'this.this$0.setProhibitMode(p1);']]}\n"
     ]
    }
   ],
   "source": [
    "import json\n",
    "# read a text file in a string\n",
    "with open(\"/u1/hfaheem/DLAndroidArtifact/my-paths-code/output7/Lcom.android.server.hdmi.HdmiControlService$BinderService/setProhibitMode/response.txt\", \"r\") as f:\n",
    "    lines = f.readlines()\n",
    "\n",
    "tmp = \"\".join(lines)\n",
    "\n",
    "\n",
    "print(extract_json_from_string2(tmp))"
   ]
  },
  {
   "cell_type": "code",
   "execution_count": 72,
   "metadata": {},
   "outputs": [
    {
     "data": {
      "text/plain": [
       "{'Sinks': [['String v1 = this.mRecoverableKeyStoreManager.importKey(p1, p2);',\n",
       "   'return v1;'],\n",
       "  ['String v1 = p0.importKeyWithMetadata(p1, p2, 0);', 'return v1;'],\n",
       "  ['this.mRecoverableKeyGenerator.importKey(v6, v5, v4, p1, p2, p3);',\n",
       "   'this.mApplicationKeyStorage.setSymmetricKeyEntry(v5, v4, p1, p2);',\n",
       "   'String v9 = p0.getAlias(v5, v4, p1);',\n",
       "   'return v9;']]}"
      ]
     },
     "execution_count": 72,
     "metadata": {},
     "output_type": "execute_result"
    }
   ],
   "source": [
    "import json\n",
    " \n",
    "\n",
    "\n",
    "extract_json_from_string2(tmp)"
   ]
  },
  {
   "cell_type": "code",
   "execution_count": 5,
   "metadata": {},
   "outputs": [],
   "source": [
    "counter=0\n",
    "def process_json_answer(json_answer, n=2):\n",
    "    global counter\n",
    "    all = []\n",
    "    if isinstance(json_answer, str):  # If it's a string, parse it\n",
    "        try:\n",
    "            json_answer = json.loads(json_answer)\n",
    "        except json.JSONDecodeError:\n",
    "            # print(\"Invalid JSON format\")\n",
    "            return []\n",
    "    try:\n",
    "        arrays = json_answer['Sinks']\n",
    "        for i, array in enumerate(arrays, 1):\n",
    "            if i > n:  # Limit the number of joins to `n`\n",
    "                break\n",
    "            joined = '\\n'.join(array)\n",
    "            all.append(joined)\n",
    "    except:    \n",
    "        return []\n",
    "    counter += 1\n",
    "    return all"
   ]
  },
  {
   "cell_type": "code",
   "execution_count": 17,
   "metadata": {},
   "outputs": [
    {
     "name": "stdout",
     "output_type": "stream",
     "text": [
      "/u1/hfaheem/DLAndroidArtifact/my-paths-code/output3/results/Lcom.android.server.wm.ActivityTaskManagerService/resumeAppSwitches/response.txt\n",
      "{'Sinks': []}\n",
      "/u1/hfaheem/DLAndroidArtifact/my-paths-code/output3/results/Lcom.android.server.biometrics.sensors.face.FaceService$FaceServiceWrapper/enrollRemotely/response.txt\n",
      "{'Sinks': []}\n",
      "/u1/hfaheem/DLAndroidArtifact/my-paths-code/output3/results/Lcom.android.server.PersistentDataBlockService$1/getFlashLockState/response.txt\n",
      "{'Sinks': []}\n",
      "/u1/hfaheem/DLAndroidArtifact/my-paths-code/output3/results/Lcom.android.server.trust.TrustManagerService$1/reportKeyguardShowingChanged/response.txt\n",
      "{'Sinks': []}\n",
      "/u1/hfaheem/DLAndroidArtifact/my-paths-code/output3/results/Lcom.android.server.statusbar.StatusBarManagerService/onPanelHidden/response.txt\n",
      "{'Sinks': []}\n",
      "/u1/hfaheem/DLAndroidArtifact/my-paths-code/output3/results/Lcom.android.server.statusbar.StatusBarManagerService/onGlobalActionsShown/response.txt\n",
      "{'Sinks': []}\n",
      "/u1/hfaheem/DLAndroidArtifact/my-paths-code/output3/results/Lcom.android.server.statusbar.StatusBarManagerService/restart/response.txt\n",
      "{'Sinks': []}\n",
      "/u1/hfaheem/DLAndroidArtifact/my-paths-code/output3/results/Lcom.android.server.hdmi.HdmiControlService$BinderService/setArcMode/response.txt\n",
      "{'Sinks': []}\n",
      "/u1/hfaheem/DLAndroidArtifact/my-paths-code/output3/results/Lcom.android.server.VcnManagementService/unregisterVcnStatusCallback/response.txt\n",
      "{'Sinks': []}\n",
      "/u1/hfaheem/DLAndroidArtifact/my-paths-code/output3/results/Lcom.android.server.soundtrigger_middleware.SoundTriggerMiddlewareService/<clinit>/response.txt\n",
      "{'Sinks': []}\n",
      "500 500 490\n"
     ]
    }
   ],
   "source": [
    "import os\n",
    "\n",
    "base_dir = \"/u1/hfaheem/DLAndroidArtifact/my-paths-code/output3/results\"\n",
    "\n",
    "counter2,counter1,counter3 = 0,0,0\n",
    "for root, dirs, files in os.walk(base_dir):\n",
    "    for filename in files:\n",
    "        if filename == \"response.txt\":\n",
    "            file_path = os.path.join(root, filename)\n",
    "            with open(file_path, \"r\") as file:\n",
    "                content = file.read()\n",
    "                counter1+=1\n",
    "                if extract_json_from_string2(content):\n",
    "                    counter2+=1\n",
    "                    if process_json_answer(extract_json_from_string2(content)):\n",
    "                        counter3 += 1\n",
    "                    else:\n",
    "                        \n",
    "                        print(file_path)\n",
    "                        print(extract_json_from_string2(content)) \n",
    "            # print(f\"File: {file_path}\")\n",
    "\n",
    "print(counter1, counter2, counter3)"
   ]
  },
  {
   "cell_type": "code",
   "execution_count": 19,
   "metadata": {},
   "outputs": [
    {
     "name": "stdout",
     "output_type": "stream",
     "text": [
      "SYS_OR_SIG\n",
      "SYS_OR_SIG\n",
      "SYS_OR_SIG\n",
      "SYS_OR_SIG\n",
      "SYS_OR_SIG\n",
      "SYS_OR_SIG\n",
      "NONE\n",
      "SYS_OR_SIG\n",
      "SYS_OR_SIG\n",
      "SYS_OR_SIG\n",
      "SYS_OR_SIG\n",
      "SYS_OR_SIG\n",
      "SYS_OR_SIG\n",
      "SYS_OR_SIG\n",
      "SYS_OR_SIG\n",
      "SYS_OR_SIG\n",
      "SYS_OR_SIG\n",
      "SYS_OR_SIG\n",
      "NORMAL\n",
      "SYS_OR_SIG\n",
      "SYS_OR_SIG\n",
      "SYS_OR_SIG\n",
      "SYS_OR_SIG\n",
      "SYS_OR_SIG\n",
      "SYS_OR_SIG\n",
      "SYS_OR_SIG\n",
      "SYS_OR_SIG\n",
      "SYS_OR_SIG\n",
      "SYS_OR_SIG\n",
      "SYS_OR_SIG\n",
      "NORMAL\n",
      "SYS_OR_SIG\n",
      "SYS_OR_SIG\n",
      "SYS_OR_SIG\n",
      "SYS_OR_SIG\n",
      "SYS_OR_SIG\n",
      "SYS_OR_SIG\n",
      "SYS_OR_SIG\n",
      "SYS_OR_SIG\n",
      "SYS_OR_SIG\n",
      "SYS_OR_SIG\n",
      "NONE\n",
      "SYS_OR_SIG\n",
      "SYS_OR_SIG\n",
      "SYS_OR_SIG\n",
      "SYS_OR_SIG\n",
      "NORMAL\n",
      "SYS_OR_SIG\n",
      "SYS_OR_SIG\n",
      "SYS_OR_SIG\n",
      "SYS_OR_SIG\n",
      "SYS_OR_SIG\n",
      "SYS_OR_SIG\n",
      "SYS_OR_SIG\n",
      "SYS_OR_SIG\n",
      "SYS_OR_SIG\n",
      "SYS_OR_SIG\n",
      "SYS_OR_SIG\n",
      "NORMAL\n",
      "NORMAL\n",
      "NORMAL\n",
      "NORMAL\n",
      "NORMAL\n",
      "NORMAL\n",
      "NORMAL\n",
      "NORMAL\n",
      "NORMAL\n",
      "NORMAL\n",
      "NORMAL\n",
      "NORMAL\n",
      "NORMAL\n",
      "NORMAL\n",
      "NORMAL\n",
      "NORMAL\n",
      "NORMAL\n",
      "NORMAL\n",
      "NORMAL\n",
      "NORMAL\n",
      "NORMAL\n",
      "NORMAL\n",
      "SYS_OR_SIG\n",
      "SYS_OR_SIG\n",
      "SYS_OR_SIG\n",
      "SYS_OR_SIG\n",
      "SYS_OR_SIG\n",
      "SYS_OR_SIG\n",
      "SYS_OR_SIG\n",
      "SYS_OR_SIG\n",
      "SYS_OR_SIG\n",
      "SYS_OR_SIG\n",
      "SYS_OR_SIG\n",
      "SYS_OR_SIG\n",
      "SYS_OR_SIG\n",
      "SYS_OR_SIG\n",
      "SYS_OR_SIG\n",
      "SYS_OR_SIG\n",
      "SYS_OR_SIG\n",
      "SYS_OR_SIG\n",
      "SYS_OR_SIG\n",
      "SYS_OR_SIG\n",
      "SYS_OR_SIG\n",
      "SYS_OR_SIG\n",
      "SYS_OR_SIG\n",
      "SYS_OR_SIG\n",
      "SYS_OR_SIG\n",
      "SYS_OR_SIG\n",
      "SYS_OR_SIG\n",
      "SYS_OR_SIG\n",
      "SYS_OR_SIG\n",
      "SYS_OR_SIG\n",
      "SYS_OR_SIG\n",
      "SYS_OR_SIG\n",
      "SYS_OR_SIG\n",
      "SYS_OR_SIG\n",
      "SYS_OR_SIG\n",
      "SYS_OR_SIG\n",
      "SYS_OR_SIG\n",
      "SYS_OR_SIG\n",
      "SYS_OR_SIG\n",
      "NONE\n",
      "NONE\n",
      "SYS_OR_SIG\n",
      "SYS_OR_SIG\n",
      "SYS_OR_SIG\n",
      "SYS_OR_SIG\n",
      "SYS_OR_SIG\n",
      "SYS_OR_SIG\n",
      "SYS_OR_SIG\n",
      "NORMAL\n",
      "SYS_OR_SIG\n",
      "SYS_OR_SIG\n",
      "NORMAL\n",
      "NORMAL\n",
      "NORMAL\n",
      "SYS_OR_SIG\n",
      "SYS_OR_SIG\n",
      "SYS_OR_SIG\n",
      "SYS_OR_SIG\n",
      "SYS_OR_SIG\n",
      "SYS_OR_SIG\n",
      "SYS_OR_SIG\n",
      "SYS_OR_SIG\n",
      "SYS_OR_SIG\n",
      "SYS_OR_SIG\n",
      "SYS_OR_SIG\n",
      "SYS_OR_SIG\n",
      "SYS_OR_SIG\n",
      "SYS_OR_SIG\n",
      "SYS_OR_SIG\n",
      "SYS_OR_SIG\n",
      "SYS_OR_SIG\n",
      "SYS_OR_SIG\n",
      "SYS_OR_SIG\n",
      "SYS_OR_SIG\n",
      "SYS_OR_SIG\n",
      "SYS_OR_SIG\n",
      "SYS_OR_SIG\n",
      "SYS_OR_SIG\n",
      "SYS_OR_SIG\n",
      "SYS_OR_SIG\n",
      "SYS_OR_SIG\n",
      "SYS_OR_SIG\n",
      "SYS_OR_SIG\n",
      "SYS_OR_SIG\n",
      "SYS_OR_SIG\n",
      "SYS_OR_SIG\n",
      "SYS_OR_SIG\n",
      "SYS_OR_SIG\n",
      "SYS_OR_SIG\n",
      "SYS_OR_SIG\n",
      "SYS_OR_SIG\n",
      "SYS_OR_SIG\n",
      "SYS_OR_SIG\n",
      "SYS_OR_SIG\n",
      "SYS_OR_SIG\n",
      "SYS_OR_SIG\n",
      "SYS_OR_SIG\n",
      "SYS_OR_SIG\n",
      "SYS_OR_SIG\n",
      "SYS_OR_SIG\n",
      "SYS_OR_SIG\n",
      "SYS_OR_SIG\n",
      "SYS_OR_SIG\n",
      "SYS_OR_SIG\n",
      "SYS_OR_SIG\n",
      "SYS_OR_SIG\n",
      "SYS_OR_SIG\n",
      "SYS_OR_SIG\n",
      "SYS_OR_SIG\n",
      "SYS_OR_SIG\n",
      "SYS_OR_SIG\n",
      "NONE\n",
      "DANGEROUS\n",
      "NORMAL\n",
      "SYS_OR_SIG\n",
      "SYS_OR_SIG\n",
      "NORMAL\n",
      "SYS_OR_SIG\n",
      "NORMAL\n",
      "SYS_OR_SIG\n",
      "SYS_OR_SIG\n",
      "SYS_OR_SIG\n",
      "NONE\n",
      "SYS_OR_SIG\n",
      "SYS_OR_SIG\n",
      "NONE\n",
      "NORMAL\n",
      "SYS_OR_SIG\n",
      "SYS_OR_SIG\n",
      "SYS_OR_SIG\n",
      "NONE\n",
      "SYS_OR_SIG\n",
      "SYS_OR_SIG\n",
      "SYS_OR_SIG\n",
      "SYS_OR_SIG\n",
      "NONE\n",
      "SYS_OR_SIG\n",
      "NORMAL\n",
      "NONE\n",
      "SYS_OR_SIG\n",
      "NORMAL\n",
      "NONE\n",
      "SYS_OR_SIG\n",
      "SYS_OR_SIG\n",
      "SYS_OR_SIG\n",
      "SYS_OR_SIG\n",
      "SYS_OR_SIG\n",
      "SYS_OR_SIG\n",
      "SYS_OR_SIG\n",
      "NORMAL\n",
      "NONE\n",
      "SYS_OR_SIG\n",
      "SYS_OR_SIG\n",
      "SYS_OR_SIG\n",
      "NORMAL\n",
      "SYS_OR_SIG\n",
      "NORMAL\n",
      "SYS_OR_SIG\n",
      "SYS_OR_SIG\n",
      "SYS_OR_SIG\n",
      "SYS_OR_SIG\n",
      "NONE\n",
      "SYS_OR_SIG\n",
      "SYS_OR_SIG\n",
      "SYS_OR_SIG\n",
      "SYS_OR_SIG\n",
      "SYS_OR_SIG\n",
      "SYS_OR_SIG\n",
      "NORMAL\n",
      "SYS_OR_SIG\n",
      "NORMAL\n",
      "NORMAL\n",
      "NONE\n",
      "SYS_OR_SIG\n",
      "NONE\n",
      "NONE\n",
      "SYS_OR_SIG\n",
      "SYS_OR_SIG\n",
      "SYS_OR_SIG\n",
      "NORMAL\n",
      "SYS_OR_SIG\n",
      "SYS_OR_SIG\n",
      "NORMAL\n",
      "SYS_OR_SIG\n",
      "SYS_OR_SIG\n",
      "NORMAL\n",
      "NORMAL\n",
      "DANGEROUS\n",
      "SYS_OR_SIG\n",
      "SYS_OR_SIG\n",
      "SYS_OR_SIG\n",
      "NONE\n",
      "NORMAL\n",
      "NORMAL\n",
      "SYS_OR_SIG\n",
      "SYS_OR_SIG\n",
      "SYS_OR_SIG\n",
      "NORMAL\n",
      "NORMAL\n",
      "NORMAL\n",
      "NORMAL\n",
      "SYS_OR_SIG\n",
      "SYS_OR_SIG\n",
      "SYS_OR_SIG\n",
      "SYS_OR_SIG\n",
      "SYS_OR_SIG\n",
      "NORMAL\n",
      "SYS_OR_SIG\n",
      "SYS_OR_SIG\n",
      "SYS_OR_SIG\n",
      "SYS_OR_SIG\n",
      "SYS_OR_SIG\n",
      "SYS_OR_SIG\n",
      "SYS_OR_SIG\n",
      "SYS_OR_SIG\n",
      "SYS_OR_SIG\n",
      "SYS_OR_SIG\n",
      "SYS_OR_SIG\n",
      "SYS_OR_SIG\n",
      "SYS_OR_SIG\n",
      "SYS_OR_SIG\n",
      "NONE\n",
      "SYS_OR_SIG\n",
      "NORMAL\n",
      "SYS_OR_SIG\n",
      "SYS_OR_SIG\n",
      "SYS_OR_SIG\n",
      "SYS_OR_SIG\n",
      "SYS_OR_SIG\n",
      "SYS_OR_SIG\n",
      "SYS_OR_SIG\n",
      "NORMAL\n",
      "SYS_OR_SIG\n",
      "SYS_OR_SIG\n",
      "SYS_OR_SIG\n",
      "SYS_OR_SIG\n",
      "SYS_OR_SIG\n",
      "SYS_OR_SIG\n",
      "SYS_OR_SIG\n",
      "SYS_OR_SIG\n",
      "SYS_OR_SIG\n",
      "SYS_OR_SIG\n",
      "SYS_OR_SIG\n",
      "SYS_OR_SIG\n",
      "SYS_OR_SIG\n",
      "SYS_OR_SIG\n",
      "SYS_OR_SIG\n",
      "SYS_OR_SIG\n",
      "SYS_OR_SIG\n",
      "SYS_OR_SIG\n",
      "SYS_OR_SIG\n",
      "SYS_OR_SIG\n",
      "SYS_OR_SIG\n",
      "SYS_OR_SIG\n",
      "SYS_OR_SIG\n",
      "SYS_OR_SIG\n",
      "NORMAL\n",
      "SYS_OR_SIG\n",
      "SYS_OR_SIG\n",
      "339 339 339\n"
     ]
    }
   ],
   "source": [
    "import os\n",
    "import json\n",
    "\n",
    "base_dir = \"/u1/hfaheem/DLAndroidArtifact/my-paths-code/output3/results\"\n",
    "\n",
    "counter2,counter1,counter3 = 0,0,0\n",
    "for root, dirs, files in os.walk(base_dir):\n",
    "    for filename in files:\n",
    "        if filename == \"response2.txt\":\n",
    "            file_path = os.path.join(root, filename)\n",
    "            with open(file_path, \"r\") as file:\n",
    "                content = file.read()\n",
    "                if content.strip() == \"no top_similar found\":\n",
    "                    continue\n",
    "                counter1+=1\n",
    "                if extract_json_from_string2(content):\n",
    "                    counter2+=1\n",
    "                    if extract_json_from_string2(content).get(\"access_control_level\", \"invalid\"):\n",
    "                        print(extract_json_from_string2(content).get(\"access_control_level\", \"invalid\"))\n",
    "                        counter3 += 1\n",
    "                else:  \n",
    "                    print(file_path)\n",
    "                    # print(content)\n",
    "                    # print(extract_json_from_string2(content)) \n",
    "            # print(f\"File: {file_path}\")\n",
    "\n",
    "print(counter1, counter2, counter3)"
   ]
  },
  {
   "cell_type": "code",
   "execution_count": null,
   "metadata": {},
   "outputs": [],
   "source": [
    "import pandas as pd\n",
    "df = pd.read_parquet('/u1/hfaheem/DLAndroidArtifact/my-paths-code/output4/results/android_services_methods_postprocess.parquet')\n",
    "\n"
   ]
  },
  {
   "cell_type": "code",
   "execution_count": 2,
   "metadata": {},
   "outputs": [
    {
     "data": {
      "text/plain": [
       "Index(['service_name', 'class', 'method', 'depths', 'access control level',\n",
       "       'json_answer', 'res1', 'sink_code', 'json_answer2',\n",
       "       'access control level predicted', 'res2'],\n",
       "      dtype='object')"
      ]
     },
     "execution_count": 2,
     "metadata": {},
     "output_type": "execute_result"
    }
   ],
   "source": [
    "df.columns"
   ]
  },
  {
   "cell_type": "code",
   "execution_count": 5,
   "metadata": {},
   "outputs": [],
   "source": [
    "df[df[\"access control level predicted\"] == \"invalid\"].to_csv(\"invalidtodelete.csv\", index=False)"
   ]
  },
  {
   "cell_type": "code",
   "execution_count": 1,
   "metadata": {},
   "outputs": [],
   "source": [
    "# Overall Accuracy: 76.26% total rows = 417\n",
    "\n",
    "import pandas as pd\n",
    "df = pd.read_parquet(\"/u1/hfaheem/DLAndroidArtifact/my-paths-code/output8/android_services_methods_postprocess.parquet\")\n",
    "\n",
    "# df[df[\"access control level predicted\"] == \"invalid\"].to_csv(\"invalidtodelete.csv\", index=False)"
   ]
  },
  {
   "cell_type": "code",
   "execution_count": 13,
   "metadata": {},
   "outputs": [
    {
     "data": {
      "text/plain": [
       "Index(['service_name', 'class', 'method', 'depths', 'access control level',\n",
       "       'json_answer', 'res1', 'prompt1', 'sink_code', 'json_answer2',\n",
       "       'access control level predicted', 'res2'],\n",
       "      dtype='object')"
      ]
     },
     "execution_count": 13,
     "metadata": {},
     "output_type": "execute_result"
    }
   ],
   "source": [
    "import pandas as pd\n",
    "df = pd.read_parquet(\"/u1/hfaheem/DLAndroidArtifact/my-paths-code/output10/android_services_methods_postprocess.parquet\")\n",
    "\n",
    "\n",
    "df.columns"
   ]
  },
  {
   "cell_type": "code",
   "execution_count": 2,
   "metadata": {},
   "outputs": [
    {
     "data": {
      "text/plain": [
       "(3360, 12)"
      ]
     },
     "execution_count": 2,
     "metadata": {},
     "output_type": "execute_result"
    }
   ],
   "source": [
    "df.shape"
   ]
  },
  {
   "cell_type": "code",
   "execution_count": 3,
   "metadata": {},
   "outputs": [
    {
     "data": {
      "text/plain": [
       "(32, 12)"
      ]
     },
     "execution_count": 3,
     "metadata": {},
     "output_type": "execute_result"
    }
   ],
   "source": [
    "df_filtered = df[df[\"json_answer\"].isin([\"None\", '{\"Sinks\": []}', '{\"Sinks\": [[]]}'])]\n",
    "df_filtered.shape\n",
    "\n",
    "# df\n",
    "# df_filtered.to_csv(\"emptyornonesinks.csv\", index=False)"
   ]
  },
  {
   "cell_type": "code",
   "execution_count": 4,
   "metadata": {},
   "outputs": [
    {
     "data": {
      "text/plain": [
       "(32, 12)"
      ]
     },
     "execution_count": 4,
     "metadata": {},
     "output_type": "execute_result"
    }
   ],
   "source": [
    "# df[\"json_answer\"].value_counts()    \n",
    "\n",
    "df_filtered = df[df[\"json_answer\"].isin([\"None\", '{\"Sinks\": []}', '{\"Sinks\": [[]]}'])]\n",
    "\n",
    "df_filtered.shape\n",
    "# df_filtered.to_csv(\"emptyornonesinks.csv\", index=False)"
   ]
  },
  {
   "cell_type": "code",
   "execution_count": 9,
   "metadata": {},
   "outputs": [
    {
     "data": {
      "text/plain": [
       "Index(['service_name', 'class', 'method', 'depths', 'access control level',\n",
       "       'json_answer', 'res1', 'prompt1', 'sink_code', 'json_answer2',\n",
       "       'access control level predicted', 'res2'],\n",
       "      dtype='object')"
      ]
     },
     "execution_count": 9,
     "metadata": {},
     "output_type": "execute_result"
    }
   ],
   "source": [
    "df_filtered.columns"
   ]
  },
  {
   "cell_type": "code",
   "execution_count": 10,
   "metadata": {},
   "outputs": [
    {
     "name": "stdout",
     "output_type": "stream",
     "text": [
      "(3328, 12)\n"
     ]
    }
   ],
   "source": [
    "df_filtered = df[~df[\"json_answer\"].isin([\"None\", '{\"Sinks\": []}', '{\"Sinks\": [[]]}'])]\n",
    "# df_filtered.shape\n",
    "# df_filtered = df_filtered[df_filtered[\"res2\"] == \"no top_similar found\"]\n",
    "print(df_filtered.shape)\n",
    "\n",
    "\n",
    "# write to a csv\n",
    "# df_filtered.to_csv(\"no_top_similar.csv\", index=False)"
   ]
  },
  {
   "cell_type": "code",
   "execution_count": 11,
   "metadata": {},
   "outputs": [
    {
     "data": {
      "text/plain": [
       "res2\n",
       "no top_similar found                                                                                                                                                                                                                                                                                                                                                                                                                                                                                                                                                                                                                                                                                                                                                                                                                                                                                                                                                                                                                                                                                                                                                                                                                                                                                                                                                                                                                                                                                                                                                                                                                                                                                                                                                                                                                                                                                                                                                                                                                                                                                                                                                                                                                                                                                                                                                                                                                                                                                                                                                                                                                                                                                                                                                                                                                                                                                                                                                                                                                                                                                                              57\n",
       "To determine the access control level for the `setMasterMute` method in the `Lcom/android/server/audio/AudioService` class, we need to analyze its code paths and compare them with similar APIs.\\n\\nThe `setMasterMute` method has three code paths:\\n\\n1. Path 1 (depth 2): This path checks if the master mute state is being changed and then updates it using `AudioSystem.setMasterMute(p1)` and sends a master mute update using `AudioService.sendMasterMuteUpdate(p1, p2)`.\\n2. Path 2 (depth 1): This path calls `AudioService.setMasterMuteInternalNoCallerCheck(p1, p2, p4)`, which suggests an internal method call without checking the caller's identity.\\n3. Path 3 (depth 0): This path calls `p0.setMasterMuteInternal(p1, p2, p3, v2, p4, v3, p5)`, passing more parameters, including the calling UID and PID.\\n\\nThe sink code for these paths involves setting the master mute state using `AudioSystem.setMasterMute(p1)` and sending updates using `AudioService.sendMasterMuteUpdate(p1, p2)` or internal method calls.\\n\\nComparing this with similar APIs:\\n\\n- `isMasterMute()Z` in `Lcom/android/server/audio/AudioService` has an access control level of `NONE`, indicating that it does not pose a significant risk. However, this method only retrieves the master mute state without modifying it.\\n- `reloadAudioSettings()V` in `Lcom/android.server/audio/AudioService` has an access control level of `SYS_OR_SIG`, suggesting it requires system or signature-level permission due to its ability to set the master volume and mute state.\\n\\nGiven that `setMasterMute` can modify the audio settings (specifically, the master mute state), which could potentially impact the device's behavior or user experience, it is reasonable to assign a higher access control level than `NONE`. However, since it does not involve setting sensitive information like system-wide volume levels as in `reloadAudioSettings()V`, but rather only controls the master mute, the risk might be slightly lower.\\n\\nConsidering these factors and the fact that modifying audio settings (like master mute) typically requires permission to ensure that only authorized processes can alter these settings, which could affect user experience or device functionality, the access control level should reflect a need for some form of authorization. However, since it's not as sensitive as setting system-wide volume levels or other critical settings, `SYS_OR_SIG` might be more restrictive than necessary for this specific action.\\n\\nGiven the choices and considering that this method can affect the device's audio state but doesn't seem to require the highest level of access control (like modifying system settings), a moderate level of access control seems appropriate. However, since there isn't a clear indication that it requires dangerous permissions or is entirely benign (as setting master mute could still be considered a change to device settings), and considering the provided options:\\n\\nThe final answer is: \\n{ \"access_control_level\": \"NORMAL\" }     1\n",
       "Based on the provided information, we can analyze the access control level for the `setUserIdDeviceAffinity` method.\\n\\nThe method has three paths with different depths, and all of them interact with the same sinks. The sinks are related to removing and setting user ID device affinities, which seems to be a sensitive operation that requires proper authorization.\\n\\nLooking at the similar APIs provided, we can see that they have an access control level of `SYS_OR_SIG`, which indicates that they require system or signature-level permission to access. These APIs also interact with similar sinks, such as removing and setting UID device affinities.\\n\\nGiven the similarity in functionality and sinks between the `setUserIdDeviceAffinity` method and the provided similar APIs, it's reasonable to conclude that the access control level for `setUserIdDeviceAffinity` should be consistent with the similar APIs.\\n\\nTherefore, based on the analysis, I would assign an access control level of `SYS_OR_SIG` to the `setUserIdDeviceAffinity` method.\\n\\nHere is the final answer in JSON format:\\n\\n```json\\n{\\n  \"access_control_level\": \"SYS_OR_SIG\"\\n}\\n```                                                                                                                                                                                                                                                                                                                                                                                                                                                                                                                                                                                                                                                                                                                                                                                                                                                                                                                                                                                                                                                                                                                                                                                                                                                                                                                                                                                                                                                                                                                                                                                                                                                                                                                                                                                                                                                                                                                                      1\n",
       "To determine the access control level for the `setHeadTrackerEnabled` method in the `Lcom/android/server/audio/AudioService` class, we need to analyze its code paths and compare them with similar APIs that have known access control levels.\\n\\nThe provided code snippet shows three different paths (depths) for the `setHeadTrackerEnabled` method. Each path involves interactions with audio device attributes and spatializer helper functions, which seem to be related to audio settings and device state management.\\n\\nComparing this method with the similar APIs:\\n\\n1. **removeSpatializerCompatibleAudioDevice**: This API has an access control level of `SYS_OR_SIG`. Its code involves finding a device state for given audio device attributes and logging metrics, similar to some operations in the `setHeadTrackerEnabled` paths.\\n2. **isHeadTrackerEnabled**: Also with an access control level of `SYS_OR_SIG`, this method checks if a head tracker is enabled for specific audio device attributes by interacting with the spatializer helper.\\n\\nGiven these similarities, we can infer that the `setHeadTrackerEnabled` method likely requires a similar level of access control because it:\\n\\n- Interacts with sensitive audio settings and device states.\\n- Involves logging metrics and persisting audio device settings, which could impact system behavior or user privacy.\\n- Is compared to APIs that are classified as requiring `SYS_OR_SIG` access control, indicating they are either system-internal or require signature-level permission.\\n\\nTherefore, considering the method's functionality and its similarity to other methods with `SYS_OR_SIG` access control levels, it is reasonable to conclude that the `setHeadTrackerEnabled` method should also have an access control level of `SYS_OR_SIG`.\\n\\n```json\\n{\\n  \"access_control_level\": \"SYS_OR_SIG\"\\n}\\n```\\n\\nThis classification reflects the method's potential impact on system settings and its need for restricted access to prevent unauthorized modifications to audio device configurations.                                                                                                                                                                                                                                                                                                                                                                                                                                                                                                                                                                                                                                                                                                                                                                                                                                                                                                                                                                                                                  1\n",
       "To determine the access control level for the `registerHeadToSoundstagePoseCallback` method, let's analyze the provided information:\\n\\n1. **Similar APIs and Their Access Control Levels:**\\n   - `unregisterHeadToSoundstagePoseCallback`: This API has an access control level of `SYS_OR_SIG`. It is similar in functionality to the method in question but performs the opposite operation (unregistration instead of registration). The similarity score is 0.943583607673645, indicating a high degree of similarity.\\n   - `registerSpatializerHeadTrackingCallback`: This API also has an access control level of `SYS_OR_SIG`. Its similarity score with the method in question is 0.9091862440109253, which is also quite high.\\n\\n2. **Code Snippets and Sinks:**\\n   - The code snippets provided for `registerHeadToSoundstagePoseCallback` show that it interacts with `SpatializerHelper.mHeadPoseCallbacks` to register a callback. This interaction suggests that the method is dealing with system-level functionality related to audio spatialization.\\n   - The sink code further emphasizes the registration of callbacks, which typically involves system-level operations.\\n\\n3. **Access Control Level Determination:**\\n   - Given the high similarity scores and the fact that both similar APIs have an access control level of `SYS_OR_SIG`, it suggests that `registerHeadToSoundstagePoseCallback` is also involved in system-level operations.\\n   - The method's functionality, which involves registering a callback for spatial audio processing, implies that it requires a certain level of system privilege to operate correctly.\\n\\nBased on the analysis above, the access control level for `registerHeadToSoundstagePoseCallback` should be consistent with the levels assigned to its similar APIs, considering their functionalities and the system-level operations they perform.\\n\\nTherefore, the final access control level for the API is:\\n\\n```json\\n{ \"access_control_level\": \"SYS_OR_SIG\" }\\n```\\n\\nThis determination aligns with the access control levels of the highly similar APIs provided and reflects the method's involvement in system-level audio spatialization operations.                                                                                                                                                                                                                                                                                                                                                                                                                                                                                                                                                                                                                                                                                                                                                                                                                                                                                       1\n",
       "                                                                                                                                                                                                                                                                                                                                                                                                                                                                                                                                                                                                                                                                                                                                                                                                                                                                                                                                                                                                                                                                                                                                                                                                                                                                                                                                                                                                                                                                                                                                                                                                                                                                                                                                                                                                                                                                                                                                                                                                                                                                                                                                                                                                                                                                                                                                                                                                                                                                                                                                                                                                                                                                                                                                                                                                                                                                                                                                                                                                                                                                                                                                  ..\n",
       "To determine the access control level for the `revokeChallenge` method in the `FingerprintService$FingerprintServiceWrapper` class, we need to analyze its code paths and compare them with similar APIs that have known access control levels.\\n\\nThe provided code snippets show three different paths (with depths 2, 1, and 0) for the `revokeChallenge` method. All these paths eventually lead to calling the `scheduleRevokeChallenge` method on a `ServiceProvider` object if such an object is found for the given sensor. The primary difference among these paths lies in how they retrieve the `ServiceProvider` instance:\\n\\n1. **Path with Depth 2**: Iterates through all service providers to find one that contains the specified sensor.\\n2. **Path with Depth 1**: Directly retrieves a provider for the sensor using `getProviderForSensor`.\\n3. **Path with Depth 0**: Uses a nested method call (`-$$Nest$mgetProviderForSensor`) to achieve a similar result as Path 1.\\n\\nThe sink code snippets provided all involve calling `scheduleRevokeChallenge` on a `ServiceProvider` object, indicating that the critical operation is the interaction with this service provider.\\n\\nGiven the similar APIs:\\n\\n- Both are named `generateChallenge`, located in `FaceService$FaceServiceWrapper`, and have high similarity scores (0.9400608539581299 and 0.9381513595581055).\\n- Both have an access control level of **NORMAL**.\\n- Their code snippets also involve finding a service provider for a sensor and then calling a method (`scheduleGenerateChallenge`) on that provider.\\n\\nConsidering these points:\\n\\n* The `revokeChallenge` method's primary action is to interact with a `ServiceProvider`, similar to the `generateChallenge` methods in the similar APIs.\\n* All paths of the `revokeChallenge` method lead to a controlled interaction with system services (through `ServiceProvider`), which does not inherently suggest a dangerous or system/signature level operation but rather a normal, managed interaction.\\n* The similar APIs (`generateChallenge`) are assigned an access control level of **NORMAL**, and given their functional similarity to `revokeChallenge`, it suggests that `revokeChallenge` should also be considered as performing operations that do not require elevated permissions beyond what is normally granted.\\n\\nTherefore, based on the provided information and comparisons with similar APIs, the access control level for the `revokeChallenge` method in the `FingerprintService$FingerprintServiceWrapper` class should be **NORMAL**.\\n\\n```json\\n{ \"access_control_level\": \"NORMAL\" }\\n```                                                                                                                                                                                                                                                                                                                                                                                                                                                   1\n",
       "To determine the access control level for the `addClientActiveCallback` method, let's analyze the provided information:\\n\\n1. **Code Snippets**: The method has two paths with different implementations but essentially achieves the same goal - registering a callback with `GestureAvailabilityDispatcher`. This suggests that the core functionality is about managing callbacks related to fingerprint client activity.\\n\\n2. **Similar APIs**:\\n   - Two similar APIs are provided, both named `removeClientActiveCallback`, which have an access control level of `NORMAL`. These methods are used for removing callbacks from the `GestureAvailabilityDispatcher`.\\n   - The similarity in names and functionality (adding vs. removing callbacks) suggests that these operations are symmetric and likely require similar levels of access control.\\n\\n3. **Access Control Levels**:\\n   - `NONE`: Typically used for APIs that do not pose any security risks.\\n   - `NORMAL`: Used for APIs that require some level of protection but are generally safe when used correctly.\\n   - `DANGEROUS`: Applies to APIs that can potentially cause harm if misused, such as those dealing with sensitive user data or system resources.\\n   - `SYS_OR_SIG`: Reserved for system or signature applications, indicating a high level of privilege.\\n\\nGiven the information:\\n- The method is related to managing callbacks for fingerprint client activity, which doesn't inherently suggest a high risk or sensitivity that would warrant `DANGEROUS` or `SYS_OR_SIG` access control levels.\\n- The similar APIs (`removeClientActiveCallback`) have an access control level of `NORMAL`, suggesting that managing these callbacks (both adding and removing) is considered a normal operation within the context of fingerprint service management.\\n\\n**Conclusion**: Considering the method's functionality, its similarity to other methods with `NORMAL` access control, and the lack of indication that it poses significant security risks or requires high privileges, the most appropriate access control level for `addClientActiveCallback` would be `NORMAL`.\\n\\n```json\\n{ \"access_control_level\": \"NORMAL\" }\\n```                                                                                                                                                                                                                                                                                                                                                                                                                                                                                                                                                                                                                                                                                                                                                                                                                                                                                                1\n",
       "To determine the access control level for the `setSidefpsController` method in the `FingerprintService$FingerprintServiceWrapper` class, we need to analyze its code paths and compare them with similar APIs that have known access control levels.\\n\\nThe provided code snippets show how the `setSidefpsController` method iterates over a list of service providers (`FingerprintService.mServiceProviders`) and calls the `setSidefpsController` method on each provider. This operation suggests that the method is interacting with internal components of the fingerprint service, which may not directly expose sensitive user data or perform critical system operations that would require higher access control levels like `DANGEROUS` or `SYS_OR_SIG`.\\n\\nThe similar APIs provided, `onPointerUp` and `startPreparedClient`, both have an access control level of `NORMAL`. These methods also interact with the service providers in a manner similar to `setSidefpsController`, by iterating over them and performing specific actions. The similarity in their operations and the fact that they are all part of the same class (`FingerprintService$FingerprintServiceWrapper`) suggests that `setSidefpsController` likely operates within a similar scope of access control.\\n\\nGiven this analysis, it's reasonable to conclude that the `setSidefpsController` method does not require elevated permissions like `DANGEROUS` or `SYS_OR_SIG`, as it seems to be managing internal service configurations rather than directly accessing sensitive data or performing system-critical operations. Therefore, an access control level of `NORMAL` would be appropriate for this method.\\n\\nHere is the final access control level in JSON format:\\n\\n```json\\n{\\n  \"access_control_level\": \"NORMAL\"\\n}\\n```                                                                                                                                                                                                                                                                                                                                                                                                                                                                                                                                                                                                                                                                                                                                                                                                                                                                                                                                                                                                                                                                                                                                                                                                                                                                                                   1\n",
       "To determine the access control level for the `hasAppPackagename` method in the `Lcom.android.server.biometrics.sensors.fingerprint.FingerprintService$FingerprintServiceWrapper` class, we need to analyze its code paths and compare them with the provided similar APIs.\\n\\n1. **Code Paths Analysis**:\\n   - The method checks various conditions before calling `hasAppPackagename` on a `Pair.second` object. These conditions include checking the calling UID, PID, and user ID, as well as verifying if the app is in the foreground and has the necessary permissions (e.g., `checkAppOps`).\\n   - It interacts with sensitive data such as user IDs, UIDs, and package names, which suggests a need for access control.\\n\\n2. **Similar APIs Analysis**:\\n   - The similar API `getAppPackagename` in the same class has an access control level of `SYS_OR_SIG`. This method also deals with package names and user IDs, suggesting that it requires system or signature-level permission to access such sensitive information.\\n   - Another similar API, `checkName`, also has an access control level of `SYS_OR_SIG`. It checks names in the context of fingerprint service, which implies handling of potentially sensitive biometric data.\\n\\n3. **Access Control Level Determination**:\\n   - Given that both similar APIs have a `SYS_OR_SIG` access control level and considering the nature of the `hasAppPackagename` method (which involves checking for app package names in the context of fingerprint services, including interactions with UIDs, PIDs, and user IDs), it's reasonable to conclude that this method also requires a similar level of access control.\\n   - The method's interaction with sensitive data and its role within the biometric service ecosystem suggest that it should not be accessible without proper system or signature-level permissions.\\n\\n**Conclusion**: Based on the analysis of the code paths, the nature of the data handled by the `hasAppPackagename` method, and the access control levels of similar APIs, the most appropriate access control level for this method is `SYS_OR_SIG`.\\n\\n```json\\n{\\n  \"access_control_level\": \"SYS_OR_SIG\"\\n}\\n```                                                                                                                                                                                                                                                                                                                                                                                                                                                                                                                                                                                                                                                                                                                                                                                                                                                                                                        1\n",
       "To determine the access control level for the `acquireLease` method in the `BlobStoreManagerService$Stub` class, let's analyze the provided information:\\n\\n1. **Similar APIs and Their Access Control Levels:**\\n   - The `releaseLease` method has an access control level of `SYS_OR_SIG`.\\n   - The `getLeaseInfo` method also has an access control level of `SYS_OR_SIG`.\\n\\n2. **Code Snippets for Paths of the `acquireLease` Method:**\\n   - All paths involve checking the validity of the `BlobHandle` object, ensuring that the description ID is valid, and verifying that the calling package is allowed to access the blob store.\\n   - The method interacts with sensitive data (e.g., blob handles, package names, and lease information) and performs operations that could impact system security or user data privacy.\\n\\n3. **Sink Code:**\\n   - The sink code involves adding or replacing a leasee for a blob, accessing the blobs map, and calling internal methods to acquire a lease. These operations suggest interactions with sensitive system resources.\\n\\nGiven these points, we can infer the following:\\n\\n- The `acquireLease` method deals with sensitive operations related to blob store management, including acquiring leases on blobs.\\n- Similar APIs (`releaseLease` and `getLeaseInfo`) have been assigned a `SYS_OR_SIG` access control level, indicating that they require system or signature-level permissions to execute.\\n- The code paths for `acquireLease` involve checks and operations that are consistent with the need for protected access, including verification of the calling package's identity and permission checks.\\n\\nBased on this analysis, it is reasonable to conclude that the `acquireLease` method should also require a similar level of protection to prevent unauthorized access or misuse of blob store resources. Therefore, the appropriate access control level for the `acquireLease` method would be `SYS_OR_SIG`, aligning with the levels assigned to similar methods within the same service.\\n\\n**Access Control Level:**\\n\\n```json\\n{\\n  \"access_control_level\": \"SYS_OR_SIG\"\\n}\\n```\\n\\nThis assignment reflects the method's involvement in sensitive operations and the need for restricted access to maintain system security and integrity.                                                                                                                                                                                                                                                                                                                                                                                                                                                                                                                                                                                                                                                                                                                                                                                          1\n",
       "Name: count, Length: 3272, dtype: int64"
      ]
     },
     "execution_count": 11,
     "metadata": {},
     "output_type": "execute_result"
    }
   ],
   "source": [
    "df_filtered[\"res2\"].value_counts()"
   ]
  },
  {
   "cell_type": "code",
   "execution_count": 12,
   "metadata": {},
   "outputs": [
    {
     "data": {
      "text/plain": [
       "(57, 12)"
      ]
     },
     "execution_count": 12,
     "metadata": {},
     "output_type": "execute_result"
    }
   ],
   "source": [
    "df_filtered[df_filtered[\"res2\"] == \"no top_similar found\"].shape"
   ]
  },
  {
   "cell_type": "code",
   "execution_count": 20,
   "metadata": {},
   "outputs": [
    {
     "data": {
      "text/plain": [
       "access control level predicted\n",
       "SYS_OR_SIG    937\n",
       "NORMAL        233\n",
       "NONE          228\n",
       "invalid        63\n",
       "DANGEROUS      54\n",
       "Name: count, dtype: int64"
      ]
     },
     "execution_count": 20,
     "metadata": {},
     "output_type": "execute_result"
    }
   ],
   "source": [
    "df_filtered[\"access control level predicted\"].value_counts()"
   ]
  },
  {
   "cell_type": "markdown",
   "metadata": {},
   "source": [
    "63 not similar found "
   ]
  },
  {
   "cell_type": "code",
   "execution_count": 21,
   "metadata": {},
   "outputs": [
    {
     "data": {
      "text/plain": [
       "(85, 12)"
      ]
     },
     "execution_count": 21,
     "metadata": {},
     "output_type": "execute_result"
    }
   ],
   "source": [
    "incorrect_predictions = df_filtered[(df_filtered[\"access control level predicted\"] == \"SYS_OR_SIG\") & \n",
    "            (df_filtered[\"access control level\"] == \"NONE\")]\n",
    "incorrect_predictions.shape"
   ]
  },
  {
   "cell_type": "code",
   "execution_count": null,
   "metadata": {},
   "outputs": [],
   "source": []
  },
  {
   "cell_type": "code",
   "execution_count": 22,
   "metadata": {},
   "outputs": [],
   "source": [
    "incorrect_predictions.to_csv(\"incorrect_predictions.csv\", index=False)"
   ]
  },
  {
   "cell_type": "code",
   "execution_count": 6,
   "metadata": {},
   "outputs": [
    {
     "data": {
      "text/plain": [
       "Index(['service_name', 'class', 'method', 'depths', 'access control level',\n",
       "       'json_answer', 'res1', 'prompt1', 'sink_code', 'json_answer2',\n",
       "       'access control level predicted', 'res2'],\n",
       "      dtype='object')"
      ]
     },
     "execution_count": 6,
     "metadata": {},
     "output_type": "execute_result"
    }
   ],
   "source": [
    "df.columns"
   ]
  },
  {
   "cell_type": "code",
   "execution_count": null,
   "metadata": {},
   "outputs": [
    {
     "name": "stdout",
     "output_type": "stream",
     "text": [
      "2    This is path 1 for the API with depth 2:\\npubl...\n",
      "Name: prompt1, dtype: object\n"
     ]
    }
   ],
   "source": [
    "df.columns\n",
    "\n",
    "print(df[df[\"method\"].str.contains(\"grantSlicePermission\", na=False)][\"prompt1\"])"
   ]
  },
  {
   "cell_type": "code",
   "execution_count": 14,
   "metadata": {},
   "outputs": [
    {
     "data": {
      "text/plain": [
       "Index(['service_name', 'class', 'method', 'depths', 'access control level',\n",
       "       'json_answer', 'res1', 'prompt1', 'sink_code', 'json_answer2',\n",
       "       'access control level predicted', 'res2'],\n",
       "      dtype='object')"
      ]
     },
     "execution_count": 14,
     "metadata": {},
     "output_type": "execute_result"
    }
   ],
   "source": [
    "df.columns"
   ]
  },
  {
   "cell_type": "code",
   "execution_count": 16,
   "metadata": {},
   "outputs": [
    {
     "data": {
      "text/html": [
       "<div>\n",
       "<style scoped>\n",
       "    .dataframe tbody tr th:only-of-type {\n",
       "        vertical-align: middle;\n",
       "    }\n",
       "\n",
       "    .dataframe tbody tr th {\n",
       "        vertical-align: top;\n",
       "    }\n",
       "\n",
       "    .dataframe thead th {\n",
       "        text-align: right;\n",
       "    }\n",
       "</style>\n",
       "<table border=\"1\" class=\"dataframe\">\n",
       "  <thead>\n",
       "    <tr style=\"text-align: right;\">\n",
       "      <th></th>\n",
       "      <th>service_name</th>\n",
       "      <th>class</th>\n",
       "      <th>method</th>\n",
       "      <th>depths</th>\n",
       "      <th>access control level</th>\n",
       "      <th>json_answer</th>\n",
       "      <th>res1</th>\n",
       "      <th>prompt1</th>\n",
       "      <th>sink_code</th>\n",
       "      <th>json_answer2</th>\n",
       "      <th>access control level predicted</th>\n",
       "      <th>res2</th>\n",
       "    </tr>\n",
       "  </thead>\n",
       "  <tbody>\n",
       "    <tr>\n",
       "      <th>3258</th>\n",
       "      <td>Lcom.android.server.pm.PackageManagerService$I...</td>\n",
       "      <td>Lcom/android/server/pm/PackageManagerService$I...</td>\n",
       "      <td>enabledPackage(Ljava/lang/String;IZ)V</td>\n",
       "      <td>[{'depth': 0, 'java_code': 'public void enable...</td>\n",
       "      <td>NONE</td>\n",
       "      <td>{\"Sinks\": [[\"ITranPackageManagerService v14 = ...</td>\n",
       "      <td>To analyze the provided paths of the `enabledP...</td>\n",
       "      <td>This is path 1 for the API with depth 2:\\npubl...</td>\n",
       "      <td>[ITranPackageManagerService v14 = ITranPackage...</td>\n",
       "      <td>{\"access_control_level\": \"SYS_OR_SIG\"}</td>\n",
       "      <td>SYS_OR_SIG</td>\n",
       "      <td>To determine the access control level for the ...</td>\n",
       "    </tr>\n",
       "  </tbody>\n",
       "</table>\n",
       "</div>"
      ],
      "text/plain": [
       "                                           service_name  \\\n",
       "3258  Lcom.android.server.pm.PackageManagerService$I...   \n",
       "\n",
       "                                                  class  \\\n",
       "3258  Lcom/android/server/pm/PackageManagerService$I...   \n",
       "\n",
       "                                     method  \\\n",
       "3258  enabledPackage(Ljava/lang/String;IZ)V   \n",
       "\n",
       "                                                 depths access control level  \\\n",
       "3258  [{'depth': 0, 'java_code': 'public void enable...                 NONE   \n",
       "\n",
       "                                            json_answer  \\\n",
       "3258  {\"Sinks\": [[\"ITranPackageManagerService v14 = ...   \n",
       "\n",
       "                                                   res1  \\\n",
       "3258  To analyze the provided paths of the `enabledP...   \n",
       "\n",
       "                                                prompt1  \\\n",
       "3258  This is path 1 for the API with depth 2:\\npubl...   \n",
       "\n",
       "                                              sink_code  \\\n",
       "3258  [ITranPackageManagerService v14 = ITranPackage...   \n",
       "\n",
       "                                json_answer2 access control level predicted  \\\n",
       "3258  {\"access_control_level\": \"SYS_OR_SIG\"}                     SYS_OR_SIG   \n",
       "\n",
       "                                                   res2  \n",
       "3258  To determine the access control level for the ...  "
      ]
     },
     "execution_count": 16,
     "metadata": {},
     "output_type": "execute_result"
    }
   ],
   "source": [
    "df[df[\"method\"].str.contains(\"enabledPackage\")]"
   ]
  },
  {
   "cell_type": "code",
   "execution_count": 17,
   "metadata": {},
   "outputs": [
    {
     "data": {
      "text/html": [
       "<div>\n",
       "<style scoped>\n",
       "    .dataframe tbody tr th:only-of-type {\n",
       "        vertical-align: middle;\n",
       "    }\n",
       "\n",
       "    .dataframe tbody tr th {\n",
       "        vertical-align: top;\n",
       "    }\n",
       "\n",
       "    .dataframe thead th {\n",
       "        text-align: right;\n",
       "    }\n",
       "</style>\n",
       "<table border=\"1\" class=\"dataframe\">\n",
       "  <thead>\n",
       "    <tr style=\"text-align: right;\">\n",
       "      <th></th>\n",
       "      <th>service_name</th>\n",
       "      <th>class</th>\n",
       "      <th>method</th>\n",
       "      <th>depths</th>\n",
       "      <th>access control level</th>\n",
       "      <th>json_answer</th>\n",
       "      <th>res1</th>\n",
       "      <th>prompt1</th>\n",
       "      <th>sink_code</th>\n",
       "      <th>json_answer2</th>\n",
       "      <th>access control level predicted</th>\n",
       "      <th>res2</th>\n",
       "    </tr>\n",
       "  </thead>\n",
       "  <tbody>\n",
       "    <tr>\n",
       "      <th>1503</th>\n",
       "      <td>Lcom.android.server.power.PowerManagerService$...</td>\n",
       "      <td>Lcom/android/server/power/PowerManagerService$...</td>\n",
       "      <td>triggerBatterySaver()V</td>\n",
       "      <td>[{'depth': 0, 'java_code': 'public void trigge...</td>\n",
       "      <td>NONE</td>\n",
       "      <td>{\"Sinks\": [[\"BatterySaverStateMachine v3 = Pow...</td>\n",
       "      <td>To analyze the provided paths for potential si...</td>\n",
       "      <td>This is path 1 for the API with depth 1:\\npubl...</td>\n",
       "      <td>[BatterySaverStateMachine v3 = PowerManagerSer...</td>\n",
       "      <td>{\"access_control_level\": \"SYS_OR_SIG\"}</td>\n",
       "      <td>SYS_OR_SIG</td>\n",
       "      <td>To determine the access control level for the ...</td>\n",
       "    </tr>\n",
       "  </tbody>\n",
       "</table>\n",
       "</div>"
      ],
      "text/plain": [
       "                                           service_name  \\\n",
       "1503  Lcom.android.server.power.PowerManagerService$...   \n",
       "\n",
       "                                                  class  \\\n",
       "1503  Lcom/android/server/power/PowerManagerService$...   \n",
       "\n",
       "                      method  \\\n",
       "1503  triggerBatterySaver()V   \n",
       "\n",
       "                                                 depths access control level  \\\n",
       "1503  [{'depth': 0, 'java_code': 'public void trigge...                 NONE   \n",
       "\n",
       "                                            json_answer  \\\n",
       "1503  {\"Sinks\": [[\"BatterySaverStateMachine v3 = Pow...   \n",
       "\n",
       "                                                   res1  \\\n",
       "1503  To analyze the provided paths for potential si...   \n",
       "\n",
       "                                                prompt1  \\\n",
       "1503  This is path 1 for the API with depth 1:\\npubl...   \n",
       "\n",
       "                                              sink_code  \\\n",
       "1503  [BatterySaverStateMachine v3 = PowerManagerSer...   \n",
       "\n",
       "                                json_answer2 access control level predicted  \\\n",
       "1503  {\"access_control_level\": \"SYS_OR_SIG\"}                     SYS_OR_SIG   \n",
       "\n",
       "                                                   res2  \n",
       "1503  To determine the access control level for the ...  "
      ]
     },
     "execution_count": 17,
     "metadata": {},
     "output_type": "execute_result"
    }
   ],
   "source": [
    "df[df[\"method\"].str.contains(\"triggerBatterySaver\")]"
   ]
  },
  {
   "cell_type": "code",
   "execution_count": 16,
   "metadata": {},
   "outputs": [
    {
     "name": "stdout",
     "output_type": "stream",
     "text": [
      "access control level\n",
      "SYS_OR_SIG    11\n",
      "Name: count, dtype: int64\n"
     ]
    }
   ],
   "source": [
    "import pandas as pd\n",
    "dfx = pd.read_parquet(\"/u1/hfaheem/DLAndroidArtifact/my-paths-code/output12/android_services_methods.parquet\")\n",
    "\n",
    "# Everything with Lcom.android.server.slice.SliceManagerService in the service_name column should have SYS_OR_SIG in access control level column\n",
    "dfx.loc[dfx[\"service_name\"].str.contains(\"Lcom.android.server.slice.SliceManagerService\"), \"access control level\"] = \"SYS_OR_SIG\"\n",
    "\n",
    "# Check the updated value counts\n",
    "value_counts = dfx.loc[dfx[\"service_name\"].str.contains(\"Lcom.android.server.slice.SliceManagerService\"), \"access control level\"].value_counts()\n",
    "print(value_counts)\n",
    "\n",
    "\n",
    "# save in the same parquet file\n",
    "dfx.to_parquet(\"/u1/hfaheem/DLAndroidArtifact/my-paths-code/output12/android_services_methods.parquet\", index=False)"
   ]
  },
  {
   "cell_type": "code",
   "execution_count": 17,
   "metadata": {},
   "outputs": [
    {
     "name": "stdout",
     "output_type": "stream",
     "text": [
      "access control level\n",
      "SYS_OR_SIG    11\n",
      "Name: count, dtype: int64\n"
     ]
    }
   ],
   "source": [
    "dfx = pd.read_parquet(\"/u1/hfaheem/DLAndroidArtifact/my-paths-code/output12/android_services_methods.parquet\")\n",
    "\n",
    "# Everything with Lcom.android.server.slice.SliceManagerService in the service_name column should have SYS_OR_SIG in access control level column\n",
    "dfx.loc[dfx[\"service_name\"].str.contains(\"Lcom.android.server.slice.SliceManagerService\"), \"access control level\"] = \"SYS_OR_SIG\"\n",
    "\n",
    "# Check the updated value counts\n",
    "value_counts = dfx.loc[dfx[\"service_name\"].str.contains(\"Lcom.android.server.slice.SliceManagerService\"), \"access control level\"].value_counts()\n",
    "print(value_counts)"
   ]
  },
  {
   "cell_type": "code",
   "execution_count": 1,
   "metadata": {},
   "outputs": [
    {
     "data": {
      "text/plain": [
       "Index(['service_name', 'class', 'method', 'depths', 'access control level',\n",
       "       'json_answer', 'res1', 'prompt1', 'sink_code', 'json_answer2',\n",
       "       'access control level predicted', 'res2'],\n",
       "      dtype='object')"
      ]
     },
     "execution_count": 1,
     "metadata": {},
     "output_type": "execute_result"
    }
   ],
   "source": [
    "# /u1/hfaheem/DLAndroidArtifact/my-paths-code/output12/android_services_methods_postprocess.parquet\n",
    "\n",
    "import pandas as pd\n",
    "df = pd.read_parquet(\"/u1/hfaheem/DLAndroidArtifact/my-paths-code/output13/android_services_methods_postprocess.parquet\")\n",
    "df.columns\n",
    "# df[df[\"method\"]]\n"
   ]
  },
  {
   "cell_type": "code",
   "execution_count": 6,
   "metadata": {},
   "outputs": [],
   "source": [
    "wrongDf = df[(df[\"access control level\"] == \"NONE\") & (df[\"access control level predicted\"] == \"SYS_OR_SIG\")]\n",
    "wrongDf[\"service_name\"].value_counts()\n",
    "# wrongDf[wrongDf[\"service_name\"] == \"Lcom.android.server.wm.ActivityTaskManagerService \"].shape\n",
    "# write wrongDf to a csv\n",
    "wrongDf.to_csv(\"wrongDf.csv\", index=False)"
   ]
  },
  {
   "cell_type": "code",
   "execution_count": 16,
   "metadata": {},
   "outputs": [],
   "source": [
    "import pandas as pd\n",
    "prev = pd.read_parquet(\"/u1/hfaheem/DLAndroidArtifact/my-paths-code/output12/android_services_methods_postprocess.parquet\")\n",
    "next = pd.read_parquet(\"/u1/hfaheem/DLAndroidArtifact/my-paths-code/output13/android_services_methods_postprocess.parquet\")\n",
    "\n",
    "next_wrong = next[(next[\"access control level\"] == \"NONE\") & (next[\"access control level predicted\"] == \"SYS_OR_SIG\")]\n",
    "prev_right = prev[(prev[\"access control level\"] == \"NONE\") & (prev[\"access control level predicted\"] == \"NONE\")]\n",
    "\n",
    "# take an intersection of the two dataframes\n",
    "intersect = pd.merge(next_wrong, prev_right, on=[\"method\", \"service_name\"], how=\"inner\")\n",
    "intersect = intersect[[\"method\", \"service_name\"]]\n",
    "\n",
    "# now give me next_wrong which is not in intersect\n",
    "other_wrongs = next_wrong[~next_wrong.set_index([\"method\", \"service_name\"]).index.isin(intersect.set_index([\"method\", \"service_name\"]).index)]\n",
    "other_wrongs.shape\n",
    "\n",
    "# write other_wrongs to a csv\n",
    "other_wrongs.to_csv(\"other_wrongs.csv\", index=False)\n",
    "\n",
    "# write intersect to a csv\n",
    "# intersect.to_csv(\"intersect.csv\", index=False)"
   ]
  },
  {
   "cell_type": "code",
   "execution_count": 20,
   "metadata": {},
   "outputs": [
    {
     "data": {
      "text/plain": [
       "res2\n",
       "no top_similar found                                                                                                                                                                                                                                                                                                                                                                                                                                                                                                                                                                                                                                                                                                                                                                                                                                                                                                                                                                                                                                                                                                                                                                                                                                                                                                                                                                                                                                                                                                                                                                                                                                                                                                                                                                                                                                                                                                                                                                                                                                                                                                                                                                                                                                                                                                                                                                                                                                                                                                                                                                                                                                                                                                                                                                                                                                                                                                                                                                                                                                                                                                                                                                                                                                                 86\n",
       "To assign an access control level to the `showSoftInput` API, we need to consider the guidelines provided and analyze the information about similar APIs.\\n\\n1. **Method and Service Context**: The API is part of the `InputMethodManagerService` class, which suggests it's involved in managing input methods (e.g., soft keyboards). The method name `showSoftInput` implies an action that requires permission to interact with or modify the state of the input method system.\\n\\n2. **Sink Sensitivity**: The sinks identified have varying levels of sensitivity, but they all relate to showing or hiding soft input methods, which can be considered moderately sensitive as it involves user interaction and potentially secure data entry (like passwords).\\n\\n3. **Setter vs. Getter Permissions**: This API is a setter, as it modifies the state of the system by showing the soft input method.\\n\\nGiven these considerations and looking at similar APIs:\\n\\n- `hideSoftInput` has an access level of `SYS_OR_SIG`, suggesting that operations related to showing or hiding soft input methods require system or signature-level permissions.\\n- `startInputOrWindowGainedFocus` also has `SYS_OR_SIG` access, further supporting the notion that interacting with input methods in this manner requires elevated permissions.\\n- `showInputMethodAndSubtypeEnablerFromClient` and `hideCurrentInputMethodForBubbles` both have `SYS_OR_SIG` access levels as well, reinforcing the pattern for input method management APIs.\\n\\nThe similarities between these APIs and `showSoftInput`, especially in terms of their functionality and the context in which they operate (input method management), suggest that `showSoftInput` should also require a similar level of access control to ensure system integrity and user data security.\\n\\nBased on this analysis, the most appropriate access control level for the `showSoftInput` API would be `SYS_OR_SIG`, as it aligns with the permissions required by similar APIs involved in input method management and ensures that only authorized components can modify the state of the soft input method system.\\n\\n```json\\n{ \"access_control_level\": \"SYS_OR_SIG\" }\\n```                                                                                                                                                                                                                                                                                                                                                                                                                                                                                                                                                                                                                                                                                                                                                                                                                                                                                                                                                                                                                       1\n",
       "To assign an access control level to the `startStylusHandwriting` API in the `InputMethodManagerService` class, we need to consider the guidelines provided and analyze the information about similar APIs.\\n\\n1. **Method and Service Context (Highest Priority):**\\n   - The API shares a naming pattern related to input method management, which suggests it could be part of a set of methods that manage input methods or their functionalities.\\n   - However, without explicit counterpart methods (e.g., `stopStylusHandwriting`) in the provided information, we rely on the similarity with other APIs for access control level determination.\\n\\n2. **Sink Sensitivity (Secondary Priority):**\\n   - The sinks provided indicate interactions with sensitive components like `ImeTracingServerImpl` and `Binder.getCallingUid()`, suggesting a need for careful access control.\\n   - The sensitivity of these sinks, especially the interaction with `ImeTracingServerImpl` and the retrieval of the calling UID, implies that the API deals with potentially sensitive operations.\\n\\n3. **Setter vs. Getter Permissions:**\\n   - This API appears to be a setter, as it initiates an action (`startStylusHandwriting`) rather than retrieves information.\\n   - Setters typically require stricter access control than getters because they modify state or initiate actions that could have security implications.\\n\\nGiven the similar API `showSoftInput` with an access level of `SYS_OR_SIG`, and considering the guidelines:\\n\\n- **Similarity with `showSoftInput`:** The similarity in naming convention and functionality (both relate to input method management) suggests that their access control levels might be similar, especially given the top-sensitive sinks matched.\\n- **Sensitive Sinks:** The interaction with sensitive components like `ImeTracingServerImpl` and the retrieval of the calling UID indicates a need for restricted access.\\n\\nBased on these considerations, the most appropriate access control level for the `startStylusHandwriting` API seems to be `SYS_OR_SIG`, as it aligns with the access control level of similar APIs that manage sensitive input method functionalities and interact with system-level components.\\n\\n```json\\n{\\n  \"access_control_level\": \"SYS_OR_SIG\"\\n}\\n```\\n\\nThis choice reflects the need for the API to operate within a trusted environment, given its interactions with sensitive system components and its role in managing input methods.                                                                                                                                                                                                                                                                                                                                                                                                                                                                                                                                                                                                                                                                                                                           1\n",
       "To determine the access control level for the `getLastInputMethodSubtype` API, we need to consider the guidelines provided and analyze the information about similar APIs and their access controls.\\n\\n1. **Method and Service Context**: The API in question is part of the `InputMethodManagerService` class. Looking at the similar APIs provided, all of them are also part of the same service and have an access control level of `SYS_OR_SIG`. This suggests a pattern where methods within this service that deal with input method management have a consistent access control requirement.\\n\\n2. **Sink Sensitivity**: The sensitive sinks listed for the API in question involve interactions with input method settings and subtype history, which are critical for managing user input preferences. However, when comparing these to the sinks of similar APIs, we see that they also interact with sensitive data such as enabled input methods, subtype lists, and user IDs.\\n\\n3. **Setter vs. Getter Permissions**: The `getLastInputMethodSubtype` method is a getter, retrieving information about the last input method subtype used. Generally, getters are considered less sensitive than setters because they do not modify system state. However, in this context, given that all similar APIs (which include both getters and setters) have an access control level of `SYS_OR_SIG`, it suggests that the sensitivity of the data being accessed or modified is high enough to warrant stricter access control regardless of whether the method is a getter or a setter.\\n\\nGiven these considerations:\\n\\n- The API shares a service context with other methods that have been assigned `SYS_OR_SIG` access control.\\n- The sink sensitivity, while important, does not significantly differ from that of the similar APIs in a way that would suggest a different access control level.\\n- The method is a getter, but within this service, both getters and setters seem to require high access control due to the sensitive nature of the data being managed.\\n\\nTherefore, based on the guidelines and the information provided about similar APIs, the most appropriate access control level for `getLastInputMethodSubtype` would be consistent with that of the other methods in the `InputMethodManagerService` class, which is `SYS_OR_SIG`.\\n\\n```json\\n{ \"access_control_level\": \"SYS_OR_SIG\" }\\n```                                                                                                                                                                                                                                                                                                                                                                                                                                                                                                                                                                                                                                                                                                                                                                                                                            1\n",
       "Based on the provided information and guidelines, we can analyze the `getInputMethodList` API to determine its access control level.\\n\\nFirstly, let's examine the method and service context. The API is part of the `InputMethodManagerService` class, which suggests that it is related to input methods and user interactions. There are no clear naming patterns or complementary action pairs (e.g., `grantX`/`revokeX`, `registerX`/`unregisterX`) in the provided similar APIs that would require matching access control levels.\\n\\nNext, we consider sink sensitivity. The API interacts with sinks of moderate sensitivity, including `InputMethodUtils.resolveUserId` and `InputMethodManagerService.getInputMethodListLocked`. These sinks are not extremely sensitive, but they do involve user-specific data and input method settings.\\n\\nNow, let's review the similar APIs provided:\\n\\n1. `getAwareLockedInputMethodList(II)Ljava/util/List;` (Access: SYS_OR_SIG) - This API has a high similarity score (0.977) with the `getInputMethodList` API, particularly in terms of sink sensitivity and method context.\\n2. `getEnabledInputMethodSubtypeList(Ljava/lang/String;Z)Ljava/util/List;` (Access: SYS_OR_SIG) - Although this API has a lower similarity score (0.932), it still shares some similarities with the `getInputMethodList` API in terms of sink sensitivity and method context.\\n3. `getEnabledInputMethodList(I)Ljava/util/List;` (Access: SYS_OR_SIG) - This API also has a high similarity score (0.925) with the `getInputMethodList` API, particularly in terms of sink sensitivity and method context.\\n\\nBased on these similarities and the guidelines provided, it appears that the `getInputMethodList` API should have an access control level similar to that of the similar APIs, which is SYS_OR_SIG.\\n\\nHere is the final access control level for the API in JSON format:\\n\\n```json\\n{\\n  \"access_control_level\": \"SYS_OR_SIG\"\\n}\\n```\\n\\nThis decision is based on the similarities between the `getInputMethodList` API and other APIs in the same service context, as well as the moderate sensitivity of the sinks involved. The SYS_OR_SIG access control level suggests that the API requires system or signature-level permissions to access sensitive user data and input method settings.                                                                                                                                                                                                                                                                                                                                                                                                                                                                                                                                                                                                                                                                                                                                                                                                                                                                                                             1\n",
       "                                                                                                                                                                                                                                                                                                                                                                                                                                                                                                                                                                                                                                                                                                                                                                                                                                                                                                                                                                                                                                                                                                                                                                                                                                                                                                                                                                                                                                                                                                                                                                                                                                                                                                                                                                                                                                                                                                                                                                                                                                                                                                                                                                                                                                                                                                                                                                                                                                                                                                                                                                                                                                                                                                                                                                                                                                                                                                                                                                                                                                                                                                                                                                                                                                                                     ..\n",
       "Based on the provided information and guidelines, we can analyze the `disableTargetSdkChanges` API to determine its access control level.\\n\\n1. **Method and Service Context**: The API is part of the `PlatformCompat` class, which suggests it is related to compatibility changes in the Android platform. There are similar APIs found with high similarity scores, such as `enableTargetSdkChanges`, `clearOverrides`, `clearOverride`, and `setOverridesForTest`, all of which have an access control level of `SYS_OR_SIG`. Given the naming pattern and service context, it is likely that `disableTargetSdkChanges` shares a similar access control level with these APIs.\\n\\n2. **Sink Sensitivity**: The sensitive sinks provided for `disableTargetSdkChanges` show interactions with various components, including `LongArray`, `OverrideAllowedState`, `PackageOverride`, and `CompatConfig`. While the sensitivity of these sinks is not explicitly ranked, the presence of `OverrideAllowedState` and `PackageOverride` suggests that the API is dealing with sensitive compatibility changes. However, without explicit ranking, it's challenging to override the method and service context guideline based solely on sink sensitivity.\\n\\n3. **Setter vs. Getter Permissions**: The `disableTargetSdkChanges` API appears to modify data (it disables target SDK changes), which typically requires stricter access control than getters. This aligns with the principle that modifying data is more sensitive than reading it.\\n\\nGiven these considerations, the most significant factor guiding our decision is the method and service context, particularly the similarity with other APIs in the same service (`enableTargetSdkChanges`, `clearOverrides`, etc.) that have an access control level of `SYS_OR_SIG`. The sink sensitivity and setter vs. getter principles support but do not override this conclusion.\\n\\nTherefore, based on the guidelines provided:\\n\\n```json\\n{ \"access_control_level\": \"SYS_OR_SIG\" }\\n```\\n\\nThis decision is primarily driven by the API's context within the `PlatformCompat` service and its similarity to other APIs with known access control levels, rather than solely on the sensitivity of its sinks or its role as a setter.                                                                                                                                                                                                                                                                                                                                                                                                                                                                                                                                                                                                                                                                                                                                                                                                                                                                                                                                                                 1\n",
       "To determine the access control level for the `setOverridesForTest` API, we need to follow the guidelines provided:\\n\\n1. **Method and Service Context**: The API shares a similar naming pattern with other APIs in the same service, such as `setOverrides`. Given that `setOverrides` has an access control level of `SYS_OR_SIG`, it's likely that `setOverridesForTest` should have the same access control level due to their similar context and purpose.\\n\\n2. **Sink Sensitivity**: The sinks involved are related to compatibility changes and overrides, which seem to be of moderate sensitivity. However, without explicit details on the sensitivity levels beyond the ordering provided, we rely more heavily on the method and service context for our decision.\\n\\n3. **Setter vs. Getter Permissions**: This API is a setter, as it modifies data (compatibility overrides). Setters typically require stricter access control than getters, supporting the assignment of a higher access control level like `SYS_OR_SIG`.\\n\\nGiven these considerations, especially the high similarity with `setOverrides` and the context within the `PlatformCompat` class, it's reasonable to conclude that `setOverridesForTest` should have an access control level similar to its counterparts.\\n\\nThe final answer is: \\n```json\\n{ \"access_control_level\": \"SYS_OR_SIG\" }\\n```                                                                                                                                                                                                                                                                                                                                                                                                                                                                                                                                                                                                                                                                                                                                                                                                                                                                                                                                                                                                                                                                                                                                                                                                                                                                                                                                                                                                                                                                                                                                                                                                                                                                                                                                                                                                                                                                            1\n",
       "To determine the access control level for the `listAllChanges` API, we need to analyze the provided information and apply the given guidelines.\\n\\n### Method and Service Context (Highest Priority)\\n\\nThe `listAllChanges` method is part of the `PlatformCompat` class. Looking at similar APIs within the same service:\\n\\n- `getAppConfig(Landroid/content/pm/ApplicationInfo;)Lcom/android/internal/compat/CompatibilityChangeConfig;` has an access level of `SYS_OR_SIG`.\\n- `listUIChanges()[Lcom/android/internal/compat/CompatibilityChangeInfo;` also has an access level of `SYS_OR_SIG`.\\n\\nThese methods share a similar context and naming pattern with `listAllChanges`, suggesting that their access control levels should match, according to the first guideline.\\n\\n### Sink Sensitivity (Secondary Priority)\\n\\nThe sensitive sinks provided for `listAllChanges` are:\\n1. `CompatibilityChangeInfo v2 = this.mCompatConfig.dumpChanges(); return v2;`\\n2. `int v3 = this.mChanges.size(); CompatibilityChangeInfo v4 = new CompatibilityChangeInfo(v3); return v2;`\\n\\nComparing these with the sinks of similar APIs, we see that there's a significant similarity in how data is handled and returned, particularly with methods like `listUIChanges()` which also deals with compatibility change information.\\n\\n### Setter vs. Getter Permissions\\n\\n`listAllChanges` appears to be a getter method since it retrieves and returns information without modifying any data. However, the guideline regarding setter/getter pairs does not directly apply here as we are comparing it with other methods that seem to have similar purposes (retrieving or listing compatibility changes).\\n\\n### Conclusion\\n\\nGiven the similarities in naming patterns, service context, and the nature of operations performed by `listAllChanges` compared to other APIs within the same class (`PlatformCompat`), and considering the access levels of these similar APIs are `SYS_OR_SIG`, it is reasonable to conclude that `listAllChanges` should have a similar access control level.\\n\\nTherefore, based on the guidelines provided and the analysis above, the final access control level for the `listAllChanges` API should be:\\n\\n```json\\n{\\n  \"access_control_level\": \"SYS_OR_SIG\"\\n}\\n```\\n\\nThis decision prioritizes the method and service context, recognizing that `listAllChanges` operates within a similar scope as other `SYS_OR_SIG` classified methods in the `PlatformCompat` class.                                                                                                                                                                                                                                                                                                                                                                                                                                                                                                                                                                                                                                                                                                                                         1\n",
       "To determine the access control level for the `isChangeEnabled` API, we need to consider the guidelines provided and analyze the information about similar APIs.\\n\\nFirst, let's examine the method and service context. The `isChangeEnabled` API is part of the `PlatformCompat` class, which suggests it is involved in compatibility changes or reporting within the Android system. Given its name and functionality, it seems to be checking if a certain change is enabled for an application, based on parameters like `long p1` (possibly an identifier or flag) and `ApplicationInfo p2`.\\n\\nThe API has three paths with different depths, but all essentially boil down to checking if a change is enabled, either directly through `mCompatConfig.isChangeEnabled` or indirectly through other internal methods like `isChangeEnabledInternalNoLogging`. The presence of conditional reporting based on the application info (`p2 == 0`) and the result of the check suggests that this method could be involved in system-level decision-making regarding compatibility changes.\\n\\nNow, let's consider similar APIs:\\n\\n1. **`isChangeEnabledByUid(JI)Z`** and **`isChangeEnabledByPackageName(JLjava/lang/String;I)Z`**: Both have an access control level of `SYS_OR_SIG`, indicating they require system or signature-level permissions to execute. Their similarities with the target API, especially in terms of checking for change enablement based on different identifiers (UID vs. package name), suggest a similar context and possibly similar security requirements.\\n\\n2. **`reportChangeByUid(JI)V`** and **`reportChangeByPackageName(JLjava/lang/String;I)V`**: These also have an access control level of `SYS_OR_SIG`. While they are involved in reporting changes rather than checking for enablement, their proximity in functionality (as they likely work in tandem with the enablement checks) and security context suggests that the system treats these operations with a similar level of scrutiny.\\n\\nGiven these observations:\\n\\n- The method is part of system-level compatibility management.\\n- Similar APIs within the same class or related functionalities have `SYS_OR_SIG` access control levels.\\n- The API's functionality involves checking for change enablement, which could impact system behavior or application compatibility, suggesting it requires a certain level of permission to prevent misuse.\\n\\nBased on these considerations and following the guidelines provided:\\n\\n- **Method and Service Context**: The API shares a context with other `SYS_OR_SIG` methods within the same class.\\n- **Sink Sensitivity**: While specific sensitivities are ranked, the overall system context suggests that these operations are critical enough to warrant higher access control levels.\\n\\nTherefore, considering the need for system or signature-level permissions for similar operations and the potential impact of this API on system compatibility and security:\\n\\n```json\\n{\\n  \"access_control_level\": \"SYS_OR_SIG\"\\n}\\n```\\n\\nThis decision aligns with the observed patterns in similar APIs and reflects the importance of securing system-level compatibility checks and changes.     1\n",
       "Based on the provided information and guidelines, we can analyze the given API `clearOverrideForTest` to determine its access control level.\\n\\n1. **Method and Service Context (Highest Priority):**\\n   - The API shares a clear naming pattern with other APIs in the same service, such as `clearOverridesForTest`, `putOverridesOnReleaseBuilds`, `clearOverride`, and `clearOverrides`. These similar APIs have an access control level of `SYS_OR_SIG`.\\n   - Although there are slight differences in their sinks, their method names suggest a strong relationship, implying that they should have the same access control level unless there's a significant difference in sink sensitivity.\\n\\n2. **Sink Sensitivity (Secondary Priority):**\\n   - The sensitive sinks for `clearOverrideForTest` include operations like removing overrides, saving overrides, and file operations (`renameTo`, `createNewFile`, `PrintWriter`, `XmlWriter`). These are ranked by sensitivity but do not dramatically differ from the sinks in similar APIs.\\n   - The top-sensitive sink involves file operations and override management, which is consistent with the sensitive nature of the similar APIs.\\n\\n3. **Setter vs. Getter Permissions:**\\n   - `clearOverrideForTest` appears to be a setter, as it modifies data (overrides) rather than just reading it. Setters typically require stricter access control than getters.\\n   - The complementary action pairs and naming conventions suggest that this API is part of a group that manages overrides, which likely requires higher access control due to the potential impact on system compatibility and security.\\n\\nGiven these considerations:\\n\\n- The similar APIs (`clearOverridesForTest`, `putOverridesOnReleaseBuilds`, `clearOverride`, `clearOverrides`) all have an access control level of `SYS_OR_SIG`.\\n- There's no dramatic difference in sink sensitivity that would justify overriding the method and service context guideline.\\n- The API is a setter, modifying system compatibility overrides, which suggests it requires stricter access control.\\n\\nTherefore, based on the guidelines and analysis, the access control level for `clearOverrideForTest` should match that of its similar APIs within the same service context.\\n\\nThe final answer is: \\n```json\\n{ \"access_control_level\": \"SYS_OR_SIG\" }\\n```                                                                                                                                                                                                                                                                                                                                                                                                                                                                                                                                                                                                                                                                                                                                                                                                                                                               1\n",
       "Name: count, Length: 1431, dtype: int64"
      ]
     },
     "execution_count": 20,
     "metadata": {},
     "output_type": "execute_result"
    }
   ],
   "source": [
    "prev[\"res2\"].value_counts()"
   ]
  },
  {
   "cell_type": "code",
   "execution_count": 19,
   "metadata": {},
   "outputs": [
    {
     "data": {
      "text/plain": [
       "res2\n",
       "no top_similar found                                                                                                                                                                                                                                                                                                                                                                                                                                                                                                                                                                                                                                                                                                                                                                                                                                                                                                                                                                                                                                                                                                                                                                                                                                                                                                                                                                                                                                                                                                                                                                                                                                                                                                                                                                                                                                                                                                                                                                                                                                                                                                                                                                                                                                                                                                                                                                                                                                                                                                                                                                                                                                                                                                                                                                                                                                                                                                                                                                                                                                                                                                                                                                                                                                                                                                                                                                                                                                                                                                                                                                                                                                                                                                                                                                                                                                                                                                                                                                                                                    125\n",
       "To determine the access control level for the `setAdditionalInputMethodSubtypes` API, we need to consider the guidelines provided and analyze the information about similar APIs.\\n\\n1. **Method and Service Context**: The API in question is part of the `InputMethodManagerService` class. Looking at the similar APIs provided:\\n   - `getEnabledInputMethodSubtypeList` and `getLastInputMethodSubtype` are also part of the `InputMethodManagerService` class and have an access control level of `SYS_OR_SIG`. This suggests a pattern within the service where input method management APIs require a high level of access control.\\n\\n2. **Sink Sensitivity**: The sensitive sinks mentioned involve checking if the system is ready, getting the calling UID, and interacting with package managers. These are critical operations that suggest the API deals with potentially sensitive data or system settings.\\n\\n3. **Setter vs. Getter Permissions**: `setAdditionalInputMethodSubtypes` is a setter method, which typically requires stricter access control than getter methods because it modifies data rather than just reading it.\\n\\nGiven these considerations and looking at the similar APIs provided:\\n- Both `getEnabledInputMethodSubtypeList` and `getLastInputMethodSubtype` have an access level of `SYS_OR_SIG`, indicating that operations related to input method management within this service require high-level access.\\n- The API in question modifies input method subtypes, which is a critical operation likely requiring strict access control.\\n\\nBased on the guidelines and the analysis:\\n- **Rule 1 (Method and Service Context)** suggests matching the access control level with similar APIs within the same service, especially considering the naming pattern and functionality.\\n- **Rule 2 (Sink Sensitivity)** supports the notion that interacting with sensitive system settings or data requires high access control.\\n- **Rule 3 (Setter vs. Getter Permissions)** indicates that setter methods should have stricter access control.\\n\\nTherefore, given the information about similar APIs within the `InputMethodManagerService` class and considering the guidelines provided, the most appropriate access control level for `setAdditionalInputMethodSubtypes` would be `SYS_OR_SIG`, as it aligns with the pattern observed in similar APIs within the same service context and reflects the need for strict access control due to its nature as a setter method interacting with potentially sensitive system settings.\\n\\n```json\\n{\\n  \"access_control_level\": \"SYS_OR_SIG\"\\n}\\n```                                                                                                                                                                                                                                                                                                                                                                                                                                                                                                                                                                                                                                                                                                                                                                                                                                                                                                                                                                                                                                                                                                                                                                                                                                                                                                                                                                                   1\n",
       "To determine the access control level for the `getInputMethodWindowVisibleHeight` API, let's analyze the provided information according to the guidelines:\\n\\n1. **Method and Service Context (Highest Priority)**: The API in question is part of the `InputMethodManagerService` class. The similar API provided, `startInputOrWindowGainedFocus`, is also within the same service context (`InputMethodManagerService`). Although their naming patterns do not share a clear \"createX/deleteX\" or \"enableY/disableY\" relationship, they are both related to input method management.\\n\\n2. **Sink Sensitivity (Secondary Priority)**: The sensitive sinks for `getInputMethodWindowVisibleHeight` involve creating a synthetic lambda function and using `Binder.withCleanCallingIdentity`, which suggests interaction with system-level identities and potentially sensitive operations. However, the top-sensitive sink in the source API is matched to position 2 in the target API (`startInputOrWindowGainedFocus`), indicating some similarity but not an exact match in sensitivity.\\n\\n3. **Setter vs. Getter Permissions**: `getInputMethodWindowVisibleHeight` appears to be a getter method since it returns information (the visible height of the input method window) without modifying any data. In contrast, `startInputOrWindowGainedFocus` seems more like a setter or an action initiator because it starts input or handles window focus gain, which might involve more complex state changes.\\n\\nGiven these considerations:\\n\\n- The similar API (`startInputOrWindowGainedFocus`) has an access control level of `SYS_OR_SIG`, indicating it requires system or signature-level permissions due to its potentially sensitive operations.\\n- However, `getInputMethodWindowVisibleHeight` is a getter method that returns information about the input method window's visible height. Typically, getters require less stringent access control than setters because they do not modify data.\\n\\nBased on these guidelines and considering that reading data (in this case, getting the visible height of an input method window) is generally less sensitive than modifying it or initiating complex state changes, we might lean towards a less restrictive access control level for `getInputMethodWindowVisibleHeight`. However, since it's part of the system service (`InputMethodManagerService`) and deals with system-level identities (via `Binder` operations), some level of restriction is necessary.\\n\\nGiven the options:\\n\\n- `NONE`: Implies no access control, which seems inappropriate given the API's involvement with system services.\\n- `NORMAL`: Suggests a standard level of access control that might be suitable for many applications but could be too lenient or too strict depending on the context.\\n- `DANGEROUS`: Indicates a higher level of risk and requires explicit user consent, which seems more aligned with APIs that can significantly impact user data or device functionality.\\n- `SYS_OR_SIG`: Requires system or signature-level permissions, typically reserved for operations that are critical to system functioning or security.\\n\\nConsidering the API's nature as a getter within a system service context and its interaction with potentially sensitive system identities, but also acknowledging it doesn't initiate state changes like its more action-oriented counterpart, we might consider `NORMAL` access control. However, given the importance of security in system services and the potential for this information to be used in ways that impact user privacy or system integrity, opting for a slightly more restrictive approach could be prudent.\\n\\nThe final answer is: \\n```json\\n{ \"access_control_level\": \"NORMAL\" }\\n```\\nThis choice balances the need for access control with the recognition that this API, while part of a critical system service, performs a read operation rather than a write or state-changing action.      1\n",
       "Based on the provided information and guidelines, we can analyze the `removeImeSurfaceFromWindowAsync` API as follows:\\n\\n1. **Method and Service Context**: The API is part of the `InputMethodManagerService` class, which suggests that it is related to input method management. The similar API `removeImeSurface()` is also in the same class, indicating a potential naming pattern or functional similarity.\\n\\n2. **Sink Sensitivity**: Both APIs interact with message handling sinks, which have a sensitivity ranking. Although the exact sensitivity matches are not provided for each sink, the fact that both APIs deal with sending messages to targets suggests a level of similarity in their operational context.\\n\\n3. **Setter vs. Getter Permissions**: This API appears to be modifying or acting upon an input method surface, suggesting it is more aligned with a \"setter\" action, which typically requires stricter access control than getters.\\n\\nGiven these considerations and the guidelines:\\n\\n- The similar API `removeImeSurface()` has an access control level of `SYS_OR_SIG`, indicating that operations related to removing IME surfaces are considered sensitive and require high-level access.\\n- The naming pattern similarity (`removeImeSurfaceFromWindowAsync` vs. `removeImeSurface`) suggests that their access control levels should match, following the highest priority guideline.\\n\\nTherefore, based on the guidelines provided and the analysis of the API in question along with its similar counterpart, it is reasonable to conclude that `removeImeSurfaceFromWindowAsync` should have a similar access control level as `removeImeSurface()`, which is `SYS_OR_SIG`.\\n\\nThe final answer is:\\n```json\\n{ \"access_control_level\": \"SYS_OR_SIG\" }\\n```                                                                                                                                                                                                                                                                                                                                                                                                                                                                                                                                                                                                                                                                                                                                                                                                                                                                                                                                                                                                                                                                                                                                                                                                                                                                                                                                                                                                                                                                                                                                                                                                                                                                                                                                                                                                                                                                                                                                                                                                                                                                                                                                                                                                                          1\n",
       "To determine the access control level for the `startImeTrace` API, we need to consider the guidelines provided and analyze the information about similar APIs.\\n\\n1. **Method and Service Context**: The API in question is part of the `InputMethodManagerService` class. Looking at the similar APIs provided:\\n   - `stopImeTrace()` is also part of the `InputMethodManagerService` class and has an access control level of `NONE`. Given that `startImeTrace` and `stopImeTrace` share a clear naming pattern (enable/disable or start/stop) within the same service, their access control levels should match according to the guidelines.\\n\\n2. **Sink Sensitivity**: The sensitive sinks for `startImeTrace` are ranked but do not directly influence the decision in this case since we have a strong similarity with another API (`stopImeTrace`) in terms of naming pattern and service context.\\n\\n3. **Setter vs. Getter Permissions**: While `startImeTrace` can be considered a setter (as it modifies the state of IME tracing), the corresponding getter (`isImeTraceEnabled`) has an access control level of `NONE`. However, this guideline is more about understanding the nature of the API rather than directly influencing our decision based on the provided similar APIs.\\n\\nGiven these considerations, the most relevant factor is the similarity with `stopImeTrace` in terms of method naming pattern and service context. Since `stopImeTrace` has an access control level of `NONE`, it's reasonable to conclude that `startImeTrace` should also have an access control level of `NONE` to maintain consistency within the same service.\\n\\n**Final Access Control Level:**\\n\\n```json\\n{\\n  \"access_control_level\": \"NONE\"\\n}\\n```\\n\\nThis decision is primarily based on the method and service context guideline, emphasizing the importance of consistent access control levels for APIs with similar naming patterns within the same service.                                                                                                                                                                                                                                                                                                                                                                                                                                                                                                                                                                                                                                                                                                                                                                                                                                                                                                                                                                                                                                                                                                                                                                                                                                                                                                                                                                                                                                                                                                                                                                                                                                                                                                                                                                                                                                                                                                                                                                                                                                                       1\n",
       "                                                                                                                                                                                                                                                                                                                                                                                                                                                                                                                                                                                                                                                                                                                                                                                                                                                                                                                                                                                                                                                                                                                                                                                                                                                                                                                                                                                                                                                                                                                                                                                                                                                                                                                                                                                                                                                                                                                                                                                                                                                                                                                                                                                                                                                                                                                                                                                                                                                                                                                                                                                                                                                                                                                                                                                                                                                                                                                                                                                                                                                                                                                                                                                                                                                                                                                                                                                                                                                                                                                                                                                                                                                                                                                                                                                                                                                                                                                                                                                                                                       ... \n",
       "To assign an access control level to the `reportChangeByUid` API, we need to follow the provided guidelines and analyze the given information.\\n\\nFirst, let's examine the method and service context (highest priority). The `reportChangeByUid` API is part of the `Lcom.android.server.compat.PlatformCompat` class. We have found similar APIs in the same class:\\n\\n1. `reportChangeByPackageName(JLjava/lang/String;I)V` with access level `SYS_OR_SIG`\\n2. `isChangeEnabledByUid(JI)Z` with access level `SYS_OR_SIG`\\n\\nBoth of these similar APIs have a high access control level (`SYS_OR_SIG`). According to the guidelines, if an API shares a clear naming pattern with another API in the same service, their access control levels must match.\\n\\nIn this case, we can see that `reportChangeByUid` and `reportChangeByPackageName` share a similar naming pattern (both report changes), and `isChangeEnabledByUid` is also related to change reporting. Therefore, it's likely that `reportChangeByUid` should have the same access control level as these similar APIs.\\n\\nNext, let's consider sink sensitivity (secondary priority). The sensitive sinks for `reportChangeByUid` are:\\n\\n1. `FrameworkStatsLog.write(228, p2, p1, 3, this.mSource);`\\n2. `this.mChangeReporter.reportChange(p2, p1, 3);`\\n3. `p0.reportChangeInternal(p1, p2, 3);`\\n\\nThese sinks are related to reporting changes and logging data. While they may have some sensitivity, it's not dramatically higher than the sinks in the similar APIs.\\n\\nFinally, let's consider setter vs. getter permissions. The `reportChangeByUid` API is a setter, as it reports changes and modifies data. However, this doesn't necessarily imply a stricter access control level than the similar APIs, which are also related to change reporting.\\n\\nBased on the analysis, we can conclude that the `reportChangeByUid` API should have the same access control level as the similar APIs in the same class, which is `SYS_OR_SIG`.\\n\\nHere is the final access control level for the API in JSON format:\\n\\n```json\\n{\\n  \"access_control_level\": \"SYS_OR_SIG\"\\n}\\n```                                                                                                                                                                                                                                                                                                                                                                                                                                                                                                                                                                                                                                                                                                                                                                                                                                                                                                                                                                                                                                                                                                                                                                                                                                                                                                                                                                                                                                                                                                                                                                                                                                                                                                                                                                                                                                                                            1\n",
       "To determine the access control level for the `listUIChanges` API, we need to follow the guidelines provided.\\n\\nFirst, let's analyze the method and service context. The `listUIChanges` API is part of the `PlatformCompat` class, which suggests that it is related to compatibility changes in the Android platform. We have found a similar API, `listAllChanges`, which has an access control level of `SYS_OR_SIG`. This API is also part of the same class and has a high similarity score with `listUIChanges`.\\n\\nAccording to the guidelines, if two APIs share a clear naming pattern or are in the same service, their access control levels should match. In this case, we can see that `listUIChanges` and `listAllChanges` have similar names and are part of the same class.\\n\\nNext, let's consider the sink sensitivity. The sensitive sinks for `listUIChanges` are ranked as follows:\\n1. `CompatibilityChangeInfo v3 = this.mCompatConfig.dumpChanges(); ...`\\n2. `CompatibilityChangeInfo v1 = p0.listAllChanges(); ...`\\n3. `int v4 = this.mChanges.size(); ...`\\n\\nThe top-sensitive sink of `listUIChanges` matches the target sink of `listAllChanges`, which has an access control level of `SYS_OR_SIG`. This suggests that the sink sensitivity of `listUIChanges` is similar to that of `listAllChanges`.\\n\\nFinally, let's consider the setter vs. getter permissions. The `listUIChanges` API appears to be a getter method, as it returns information about compatibility changes without modifying any data.\\n\\nBased on these factors, we can conclude that the access control level for the `listUIChanges` API should match that of the similar API, `listAllChanges`, which is `SYS_OR_SIG`.\\n\\nThe final answer is:\\n```json\\n{ \"access_control_level\": \"SYS_OR_SIG\" }\\n```                                                                                                                                                                                                                                                                                                                                                                                                                                                                                                                                                                                                                                                                                                                                                                                                                                                                                                                                                                                                                                                                                                                                                                                                                                                                                                                                                                                                                                                                                                                                                                                                                                                                                                                                                                                                                                                                                                                                                                                                                                                                                                                                                                                                                       1\n",
       "To determine the access control level for the `enableTargetSdkChanges` API, let's analyze the provided information based on the guidelines:\\n\\n1. **Method and Service Context**: The API is part of the `PlatformCompat` class, which suggests it deals with compatibility changes across different Android versions. There's a similar method named `disableTargetSdkChanges` within the same class, which has an access level of `SYS_OR_SIG`. Given their naming pattern (`enableX`/`disableX`) and the fact that they are in the same service context, it is reasonable to infer that their access control levels should match.\\n\\n2. **Sink Sensitivity**: The sinks provided show interactions with package overrides, compatibility changes, and version code management. These operations seem to be of moderate to high sensitivity since they involve modifying how packages interact with the system's compatibility features. However, without a direct comparison to significantly more sensitive sinks (like those dealing directly with user data or highly privileged operations), we lean on the similarity with other APIs for guidance.\\n\\n3. **Setter vs. Getter Permissions**: This API appears to be a setter, as it enables target SDK changes for packages, which implies modifying system behavior. Setters typically require stricter access control than getters due to their ability to alter state.\\n\\nGiven these considerations and looking at the similar APIs provided:\\n\\n- `disableTargetSdkChanges` has an access level of `SYS_OR_SIG`, suggesting that operations related to enabling or disabling target SDK changes are considered sensitive enough to warrant a higher level of access control.\\n- Other similar APIs like `setOverridesForTest` and `putOverridesOnReleaseBuilds` also have `SYS_OR_SIG` access, further supporting the notion that modifying compatibility overrides requires significant privileges.\\n\\nTherefore, based on the method and service context (highest priority), and considering the sink sensitivity and the nature of the API as a setter, it is reasonable to conclude that the `enableTargetSdkChanges` API should have an access control level similar to its counterparts within the same service context.\\n\\nThe final answer is: \\n```json\\n{ \"access_control_level\": \"SYS_OR_SIG\" }\\n```                                                                                                                                                                                                                                                                                                                                                                                                                                                                                                                                                                                                                                                                                                                                                                                                                                                                                                                                                                                                                                                                                                                                                                                                                                                                                                                                                                                                                                                                                                                                                                                                                                                              1\n",
       "To determine the access control level for the `removeOverridesOnReleaseBuilds` API, we need to consider the guidelines provided and analyze the information about similar APIs.\\n\\n1. **Method and Service Context**: The API in question is part of the `PlatformCompat` class, which suggests it's involved in compatibility operations. Looking at the similar APIs provided:\\n   - `removeAllOverridesOnReleaseBuilds`, `putOverridesOnReleaseBuilds`, `putAllOverridesOnReleaseBuilds`, and `clearOverridesForTest` are all within the same class or related classes and have access control levels of `SYS_OR_SIG`. This suggests that operations related to managing compatibility overrides, especially those that involve removal or modification of such overrides, require a high level of access control due to their potential impact on system behavior and security.\\n\\n2. **Sink Sensitivity**: The sinks provided for the API in question are ordered by sensitivity, but without explicit ranking numbers, we infer from the context:\\n   - The most sensitive operations seem to involve direct manipulation of override configurations (`removeOverrideUnsafe`, `saveOverrides`, `invalidateCache`) and file operations (`PrintWriter`, `XmlWriter`), which could imply a need for higher access control to prevent unauthorized modifications.\\n\\n3. **Setter vs. Getter Permissions**: This API is involved in removing overrides, which can be considered a \"setter\" operation as it modifies data. Setter operations typically require stricter access control than getters because they can alter system behavior or data.\\n\\nGiven these considerations and the similarities with other APIs that have `SYS_OR_SIG` access control levels, it's reasonable to conclude that the `removeOverridesOnReleaseBuilds` API should also have a `SYS_OR_SIG` access control level. This is due to its involvement in modifying compatibility overrides, which could have significant implications for system behavior and security.\\n\\nTherefore, based on the guidelines and the analysis of similar APIs:\\n\\n```json\\n{ \"access_control_level\": \"SYS_OR_SIG\" }\\n```\\n\\nThis conclusion aligns with the principle that operations affecting system compatibility and potentially sensitive data should be restricted to system or signature-level access to maintain security and integrity.                                                                                                                                                                                                                                                                                                                                                                                                                                                                                                                                                                                                                                                                                                                                                                                                                                                                                                                                                                                                                                                                                                                                                                                                                                                                                                                                                                                                                                                                                                                                                                                                                           1\n",
       "To determine the access control level for the `isChangeEnabledByUid` API, we need to consider the guidelines provided and analyze the information about similar APIs.\\n\\n1. **Method and Service Context**: The API in question is part of the `Lcom.android.server.compat.PlatformCompat` class. Looking at the similar APIs provided, especially those within the same class or related functionality, can help determine if there's a clear naming pattern that suggests the access control level should match.\\n\\n2. **Sink Sensitivity**: The sensitive sinks listed are ordered by sensitivity, but without specific details on how each sink's sensitivity is ranked, we focus on the methods' overall interaction with potentially sensitive data and operations.\\n\\n3. **Setter vs. Getter Permissions**: This API seems to be a getter, as it checks if a change is enabled by UID without modifying any data directly.\\n\\nGiven these considerations:\\n\\n- The most similar API in terms of functionality and naming pattern is `isChangeEnabledByPackageName(JLjava/lang/String;I)Z`, which has an access level of `SYS_OR_SIG`. This suggests that APIs checking for the enablement of changes (whether by package name or UID) might require a similar level of access control due to their potential to interact with sensitive configuration data.\\n\\n- The API `reportChangeByUid(JI)V` also has an access level of `SYS_OR_SIG`, indicating that operations related to reporting or checking changes by UID are considered sensitive and require higher access control levels.\\n\\nConsidering the guidelines, especially the first point about method and service context having the highest priority, and given that similar APIs within the same class or with similar functionality have an access level of `SYS_OR_SIG`, it's reasonable to conclude that `isChangeEnabledByUid` should also have a similar access control level. This is because these APIs are likely interacting with sensitive data or configurations related to compatibility changes, which would require system or signature-level permissions to access or modify.\\n\\nTherefore, based on the provided information and guidelines:\\n\\n```json\\n{\\n  \"access_control_level\": \"SYS_OR_SIG\"\\n}\\n```\\n\\nThis decision prioritizes the method and service context, recognizing that similar APIs within the same functional domain have been assigned the `SYS_OR_SIG` access control level, indicating a need for elevated permissions to ensure secure interaction with potentially sensitive data or system configurations.                                                                                                                                                                                                                                                                                                                                                                                                                                                                                                                                                                                                                                                                                                                                                                                                                                                                                                                                                                                                                                                                                                                                                                                                                                                                                                                                                                                                                   1\n",
       "Name: count, Length: 1392, dtype: int64"
      ]
     },
     "execution_count": 19,
     "metadata": {},
     "output_type": "execute_result"
    }
   ],
   "source": [
    "next.columns\n",
    "next[\"res2\"].value_counts()"
   ]
  },
  {
   "cell_type": "code",
   "execution_count": 18,
   "metadata": {},
   "outputs": [],
   "source": [
    "next[next[\"access control level predicted\"] == \"invalid\"].to_csv(\"error_extracting_json.csv\", index=False)"
   ]
  }
 ],
 "metadata": {
  "kernelspec": {
   "display_name": "Python 3",
   "language": "python",
   "name": "python3"
  },
  "language_info": {
   "codemirror_mode": {
    "name": "ipython",
    "version": 3
   },
   "file_extension": ".py",
   "mimetype": "text/x-python",
   "name": "python",
   "nbconvert_exporter": "python",
   "pygments_lexer": "ipython3",
   "version": "3.10.16"
  }
 },
 "nbformat": 4,
 "nbformat_minor": 2
}
