{
 "cells": [
  {
   "cell_type": "code",
   "execution_count": 6,
   "metadata": {},
   "outputs": [],
   "source": [
    "import re\n",
    "import sys\n",
    "import os\n",
    "import json"
   ]
  },
  {
   "cell_type": "code",
   "execution_count": 11,
   "metadata": {},
   "outputs": [],
   "source": [
    "input = \"\"\"\n",
    "After carefully analyzing the provided Java code for the `setServiceForeground` method, I have identified several potential sinks that require access control. Here is the JSON output with the relevant code instructions and my reasoning:\n",
    "\n",
    "```json\n",
    "{\n",
    "  \"Sinks\": [\n",
    "    [\n",
    "      ActiveServices var9 = this.mServices; // Access to internal service map\n",
    "      var9.setServiceForegroundLocked(param2,param3,param4,param5,param6,param7); // Method invocation with API input parameters\n",
    "      ServiceRecord var13 = findServiceLocked(param2,param3,var9); // Field access and method invocation with API input parameters\n",
    "      setServiceForegroundInnerLocked(var13,param4,param5,param6,param7); // Method invocation with API input parameters and internal field access\n",
    "    ],\n",
    "    [\n",
    "      ApplicationInfo var74 = param2.appInfo; // Field access with naming similarity to the API\n",
    "      boolean var76 = var74.isInstantApp(); // Method invocation with field access\n",
    "      ActivityManagerService var128 = this.mAm; // Access to internal service instance\n",
    "      AppOpsService var129 = var128.mAppOpsService; // Field access and method invocation with internal service instance\n",
    "    ],\n",
    "    [\n",
    "      ActiveServices$ActiveForegroundApp var269 = new ActiveServices$ActiveForegroundApp(); // Object creation with naming similarity to the API\n",
    "      String var271 = param2.packageName; // Field access and assignment with API input parameter\n",
    "      var269.mPackageName = var271; // Field update with API input parameter\n",
    "    ],\n",
    "    [\n",
    "      ArrayMap var264 = var263.mActiveForegroundApps; // Field access with internal data structure\n",
    "      Object var267 = var264.get(var265); // Method invocation with field access and API input parameter\n",
    "      ActiveServices$ActiveForegroundApp var268 = (ActiveServices$ActiveForegroundApp) var267; // Casting and assignment with internal object\n",
    "    ]\n",
    "  ]\n",
    "}\n",
    "```\n",
    "\n",
    "Ranking the sinks from most sensitive to least sensitive:\n",
    "\n",
    "1. The first sink is the most sensitive as it involves direct access to internal service maps, method invocations with API input parameters, and field accesses.\n",
    "2. The second sink is moderately sensitive as it involves field accesses with naming similarity to the API, method invocations with field accesses, and access to internal service instances.\n",
    "3. The third sink is less sensitive as it involves object creation with naming similarity to the API, field accesses, and assignments with API input parameters.\n",
    "4. The fourth sink is the least sensitive as it involves field accesses with internal data structures, method invocations with field accesses, and API input parameters.\n",
    "\n",
    "Note that the ranking may vary depending on the specific security requirements and threat models of the Android system.\n",
    "\"\"\""
   ]
  },
  {
   "cell_type": "code",
   "execution_count": 9,
   "metadata": {},
   "outputs": [],
   "source": [
    "def extract_json_from_string(input_string):\n",
    "    \"\"\"\n",
    "    Extracts JSON from the given string.\n",
    "\n",
    "    Args:\n",
    "        input_string (str): The string containing embedded JSON.\n",
    "\n",
    "    Returns:\n",
    "        dict: The extracted JSON as a Python dictionary.\n",
    "    \"\"\"\n",
    "    try:\n",
    "        # Use a regex pattern to extract the JSON part\n",
    "        json_pattern = r\"```(?:json)?\\n(.*?)\\n```\"\n",
    "        match = re.search(json_pattern, input_string, re.DOTALL)\n",
    "        if match:\n",
    "            json_string = match.group(1)\n",
    "            return json.loads(json_string)\n",
    "        else:\n",
    "            raise ValueError(\"No JSON found in the provided string.\")\n",
    "    except json.JSONDecodeError as e:\n",
    "        print(json_string)\n",
    "        raise ValueError(f\"Error decoding JSON: {e}\")"
   ]
  },
  {
   "cell_type": "code",
   "execution_count": 12,
   "metadata": {},
   "outputs": [
    {
     "name": "stdout",
     "output_type": "stream",
     "text": [
      "{\n",
      "  \"Sinks\": [\n",
      "    [\n",
      "      ActiveServices var9 = this.mServices; // Access to internal service map\n",
      "      var9.setServiceForegroundLocked(param2,param3,param4,param5,param6,param7); // Method invocation with API input parameters\n",
      "      ServiceRecord var13 = findServiceLocked(param2,param3,var9); // Field access and method invocation with API input parameters\n",
      "      setServiceForegroundInnerLocked(var13,param4,param5,param6,param7); // Method invocation with API input parameters and internal field access\n",
      "    ],\n",
      "    [\n",
      "      ApplicationInfo var74 = param2.appInfo; // Field access with naming similarity to the API\n",
      "      boolean var76 = var74.isInstantApp(); // Method invocation with field access\n",
      "      ActivityManagerService var128 = this.mAm; // Access to internal service instance\n",
      "      AppOpsService var129 = var128.mAppOpsService; // Field access and method invocation with internal service instance\n",
      "    ],\n",
      "    [\n",
      "      ActiveServices$ActiveForegroundApp var269 = new ActiveServices$ActiveForegroundApp(); // Object creation with naming similarity to the API\n",
      "      String var271 = param2.packageName; // Field access and assignment with API input parameter\n",
      "      var269.mPackageName = var271; // Field update with API input parameter\n",
      "    ],\n",
      "    [\n",
      "      ArrayMap var264 = var263.mActiveForegroundApps; // Field access with internal data structure\n",
      "      Object var267 = var264.get(var265); // Method invocation with field access and API input parameter\n",
      "      ActiveServices$ActiveForegroundApp var268 = (ActiveServices$ActiveForegroundApp) var267; // Casting and assignment with internal object\n",
      "    ]\n",
      "  ]\n",
      "}\n"
     ]
    },
    {
     "ename": "ValueError",
     "evalue": "Error decoding JSON: Expecting value: line 4 column 7 (char 27)",
     "output_type": "error",
     "traceback": [
      "\u001b[0;31m---------------------------------------------------------------------------\u001b[0m",
      "\u001b[0;31mJSONDecodeError\u001b[0m                           Traceback (most recent call last)",
      "Cell \u001b[0;32mIn[9], line 17\u001b[0m, in \u001b[0;36mextract_json_from_string\u001b[0;34m(input_string)\u001b[0m\n\u001b[1;32m     16\u001b[0m     json_string \u001b[38;5;241m=\u001b[39m match\u001b[38;5;241m.\u001b[39mgroup(\u001b[38;5;241m1\u001b[39m)\n\u001b[0;32m---> 17\u001b[0m     \u001b[38;5;28;01mreturn\u001b[39;00m \u001b[43mjson\u001b[49m\u001b[38;5;241;43m.\u001b[39;49m\u001b[43mloads\u001b[49m\u001b[43m(\u001b[49m\u001b[43mjson_string\u001b[49m\u001b[43m)\u001b[49m\n\u001b[1;32m     18\u001b[0m \u001b[38;5;28;01melse\u001b[39;00m:\n",
      "File \u001b[0;32m~/.conda/envs/.env/lib/python3.10/json/__init__.py:346\u001b[0m, in \u001b[0;36mloads\u001b[0;34m(s, cls, object_hook, parse_float, parse_int, parse_constant, object_pairs_hook, **kw)\u001b[0m\n\u001b[1;32m    343\u001b[0m \u001b[38;5;28;01mif\u001b[39;00m (\u001b[38;5;28mcls\u001b[39m \u001b[38;5;129;01mis\u001b[39;00m \u001b[38;5;28;01mNone\u001b[39;00m \u001b[38;5;129;01mand\u001b[39;00m object_hook \u001b[38;5;129;01mis\u001b[39;00m \u001b[38;5;28;01mNone\u001b[39;00m \u001b[38;5;129;01mand\u001b[39;00m\n\u001b[1;32m    344\u001b[0m         parse_int \u001b[38;5;129;01mis\u001b[39;00m \u001b[38;5;28;01mNone\u001b[39;00m \u001b[38;5;129;01mand\u001b[39;00m parse_float \u001b[38;5;129;01mis\u001b[39;00m \u001b[38;5;28;01mNone\u001b[39;00m \u001b[38;5;129;01mand\u001b[39;00m\n\u001b[1;32m    345\u001b[0m         parse_constant \u001b[38;5;129;01mis\u001b[39;00m \u001b[38;5;28;01mNone\u001b[39;00m \u001b[38;5;129;01mand\u001b[39;00m object_pairs_hook \u001b[38;5;129;01mis\u001b[39;00m \u001b[38;5;28;01mNone\u001b[39;00m \u001b[38;5;129;01mand\u001b[39;00m \u001b[38;5;129;01mnot\u001b[39;00m kw):\n\u001b[0;32m--> 346\u001b[0m     \u001b[38;5;28;01mreturn\u001b[39;00m \u001b[43m_default_decoder\u001b[49m\u001b[38;5;241;43m.\u001b[39;49m\u001b[43mdecode\u001b[49m\u001b[43m(\u001b[49m\u001b[43ms\u001b[49m\u001b[43m)\u001b[49m\n\u001b[1;32m    347\u001b[0m \u001b[38;5;28;01mif\u001b[39;00m \u001b[38;5;28mcls\u001b[39m \u001b[38;5;129;01mis\u001b[39;00m \u001b[38;5;28;01mNone\u001b[39;00m:\n",
      "File \u001b[0;32m~/.conda/envs/.env/lib/python3.10/json/decoder.py:337\u001b[0m, in \u001b[0;36mJSONDecoder.decode\u001b[0;34m(self, s, _w)\u001b[0m\n\u001b[1;32m    333\u001b[0m \u001b[38;5;250m\u001b[39m\u001b[38;5;124;03m\"\"\"Return the Python representation of ``s`` (a ``str`` instance\u001b[39;00m\n\u001b[1;32m    334\u001b[0m \u001b[38;5;124;03mcontaining a JSON document).\u001b[39;00m\n\u001b[1;32m    335\u001b[0m \n\u001b[1;32m    336\u001b[0m \u001b[38;5;124;03m\"\"\"\u001b[39;00m\n\u001b[0;32m--> 337\u001b[0m obj, end \u001b[38;5;241m=\u001b[39m \u001b[38;5;28;43mself\u001b[39;49m\u001b[38;5;241;43m.\u001b[39;49m\u001b[43mraw_decode\u001b[49m\u001b[43m(\u001b[49m\u001b[43ms\u001b[49m\u001b[43m,\u001b[49m\u001b[43m \u001b[49m\u001b[43midx\u001b[49m\u001b[38;5;241;43m=\u001b[39;49m\u001b[43m_w\u001b[49m\u001b[43m(\u001b[49m\u001b[43ms\u001b[49m\u001b[43m,\u001b[49m\u001b[43m \u001b[49m\u001b[38;5;241;43m0\u001b[39;49m\u001b[43m)\u001b[49m\u001b[38;5;241;43m.\u001b[39;49m\u001b[43mend\u001b[49m\u001b[43m(\u001b[49m\u001b[43m)\u001b[49m\u001b[43m)\u001b[49m\n\u001b[1;32m    338\u001b[0m end \u001b[38;5;241m=\u001b[39m _w(s, end)\u001b[38;5;241m.\u001b[39mend()\n",
      "File \u001b[0;32m~/.conda/envs/.env/lib/python3.10/json/decoder.py:355\u001b[0m, in \u001b[0;36mJSONDecoder.raw_decode\u001b[0;34m(self, s, idx)\u001b[0m\n\u001b[1;32m    354\u001b[0m \u001b[38;5;28;01mexcept\u001b[39;00m \u001b[38;5;167;01mStopIteration\u001b[39;00m \u001b[38;5;28;01mas\u001b[39;00m err:\n\u001b[0;32m--> 355\u001b[0m     \u001b[38;5;28;01mraise\u001b[39;00m JSONDecodeError(\u001b[38;5;124m\"\u001b[39m\u001b[38;5;124mExpecting value\u001b[39m\u001b[38;5;124m\"\u001b[39m, s, err\u001b[38;5;241m.\u001b[39mvalue) \u001b[38;5;28;01mfrom\u001b[39;00m \u001b[38;5;28;01mNone\u001b[39;00m\n\u001b[1;32m    356\u001b[0m \u001b[38;5;28;01mreturn\u001b[39;00m obj, end\n",
      "\u001b[0;31mJSONDecodeError\u001b[0m: Expecting value: line 4 column 7 (char 27)",
      "\nDuring handling of the above exception, another exception occurred:\n",
      "\u001b[0;31mValueError\u001b[0m                                Traceback (most recent call last)",
      "Cell \u001b[0;32mIn[12], line 1\u001b[0m\n\u001b[0;32m----> 1\u001b[0m \u001b[43mextract_json_from_string\u001b[49m\u001b[43m(\u001b[49m\u001b[38;5;28;43minput\u001b[39;49m\u001b[43m)\u001b[49m\n",
      "Cell \u001b[0;32mIn[9], line 22\u001b[0m, in \u001b[0;36mextract_json_from_string\u001b[0;34m(input_string)\u001b[0m\n\u001b[1;32m     20\u001b[0m \u001b[38;5;28;01mexcept\u001b[39;00m json\u001b[38;5;241m.\u001b[39mJSONDecodeError \u001b[38;5;28;01mas\u001b[39;00m e:\n\u001b[1;32m     21\u001b[0m     \u001b[38;5;28mprint\u001b[39m(json_string)\n\u001b[0;32m---> 22\u001b[0m     \u001b[38;5;28;01mraise\u001b[39;00m \u001b[38;5;167;01mValueError\u001b[39;00m(\u001b[38;5;124mf\u001b[39m\u001b[38;5;124m\"\u001b[39m\u001b[38;5;124mError decoding JSON: \u001b[39m\u001b[38;5;132;01m{\u001b[39;00me\u001b[38;5;132;01m}\u001b[39;00m\u001b[38;5;124m\"\u001b[39m)\n",
      "\u001b[0;31mValueError\u001b[0m: Error decoding JSON: Expecting value: line 4 column 7 (char 27)"
     ]
    }
   ],
   "source": [
    "extract_json_from_string(input)"
   ]
  },
  {
   "cell_type": "code",
   "execution_count": 2,
   "metadata": {},
   "outputs": [],
   "source": [
    "import pandas as pd\n",
    "import pickle\n",
    "\n",
    "# File paths\n",
    "file_path_1 = 'AMS_Df_promptsaturday.pkl'\n",
    "file_path_2 = 'AMS_Df_promptsaturdayincomplete.pkl'\n",
    "\n",
    "# Load the pickle files\n",
    "with open(file_path_1, 'rb') as file1:\n",
    "    df1 = pickle.load(file1)\n"
   ]
  },
  {
   "cell_type": "code",
   "execution_count": 3,
   "metadata": {},
   "outputs": [
    {
     "data": {
      "text/plain": [
       "Index(['EP', 'code', 'label', 'java_code', 'service_name', 'json_answer'], dtype='object')"
      ]
     },
     "execution_count": 3,
     "metadata": {},
     "output_type": "execute_result"
    }
   ],
   "source": [
    "df1.columns"
   ]
  },
  {
   "cell_type": "code",
   "execution_count": null,
   "metadata": {},
   "outputs": [
    {
     "name": "stdout",
     "output_type": "stream",
     "text": [
      "                                                    EP  \\\n",
      "0                 bindService_ActivityManagerService_9   \n",
      "1          sendIdleJobTrigger_ActivityManagerService_1   \n",
      "2                startService_ActivityManagerService_7   \n",
      "3         updateConfiguration_ActivityManagerService_2   \n",
      "4        getProcessMemoryInfo_ActivityManagerService_2   \n",
      "..                                                 ...   \n",
      "187  registerUserSwitchObserver_ActivityManagerServ...   \n",
      "188           noteWakeupAlarm_ActivityManagerService_6   \n",
      "189           noteAlarmFinish_ActivityManagerService_5   \n",
      "190            noteAlarmStart_ActivityManagerService_5   \n",
      "191        closeSystemDialogs_ActivityManagerService_2   \n",
      "\n",
      "                                                  code  label  \\\n",
      "0    [inv]: int var12 = bindIsolatedService(param2,...      1   \n",
      "1    [inv]: long var10 = Binder.clearCallingIdentit...      1   \n",
      "2    [inv]: boolean var12 = hasFileDescriptors();<|...      1   \n",
      "3    [get]: ActivityTaskManagerService var3 = this....      1   \n",
      "4    [inv]: long var6 = SystemClock.uptimeMillis();...      1   \n",
      "..                                                 ...    ...   \n",
      "187  [get]: UserController var4 = this.mUserControl...      1   \n",
      "188  [inv]: boolean var9 = isEmpty();<|>[ins]: 11 =...      0   \n",
      "189  [inv]: boolean var8 = isEmpty();<|>[ins]: 10 =...      0   \n",
      "190  [inv]: boolean var8 = isEmpty();<|>[ins]: 10 =...      0   \n",
      "191  [get]: ActivityTaskManagerInternal var3 = this...      0   \n",
      "\n",
      "                                             java_code  \\\n",
      "0    // Method: bindService\\n// Service: ActivityMa...   \n",
      "1    // Method: sendIdleJobTrigger\\n// Service: Act...   \n",
      "2    // Method: startService\\n// Service: ActivityM...   \n",
      "3    // Method: updateConfiguration\\n// Service: Ac...   \n",
      "4    // Method: getProcessMemoryInfo\\n// Service: A...   \n",
      "..                                                 ...   \n",
      "187  // Method: registerUserSwitchObserver\\n// Serv...   \n",
      "188  // Method: noteWakeupAlarm\\n// Service: Activi...   \n",
      "189  // Method: noteAlarmFinish\\n// Service: Activi...   \n",
      "190  // Method: noteAlarmStart\\n// Service: Activit...   \n",
      "191  // Method: closeSystemDialogs\\n// Service: Act...   \n",
      "\n",
      "               service_name                                        json_answer  \n",
      "0    ActivityManagerService  {'Sinks': [['ApplicationInfo var210 = var207.g...  \n",
      "1    ActivityManagerService  {'Sinks': [['int var22 = broadcastIntent(0,var...  \n",
      "2    ActivityManagerService  {'Sinks': [['ComponentName var31 = var29.start...  \n",
      "3    ActivityManagerService  {'Sinks': [['int var14 = updateGlobalConfigura...  \n",
      "4    ActivityManagerService  {'Sinks': [['Debug$MemoryInfo var26 = new Debu...  \n",
      "..                      ...                                                ...  \n",
      "187  ActivityManagerService  {'Sinks': [['UserController var4 = this.mUserC...  \n",
      "188  ActivityManagerService  {'Sinks': [['boolean var9 = isEmpty();', '11 =...  \n",
      "189  ActivityManagerService  {'Sinks': [['boolean var8 = isEmpty();', '10 =...  \n",
      "190  ActivityManagerService                                      {'Sinks': []}  \n",
      "191  ActivityManagerService  {'Sinks': [['ActivityTaskManagerInternal var3 ...  \n",
      "\n",
      "[192 rows x 6 columns]\n"
     ]
    }
   ],
   "source": [
    "\n",
    "\n",
    "# remove rows where the 'Sinks' column is empty\n",
    "df1 = df1.dropna(subset=['json_answer'])\n",
    "\n",
    "\n",
    "\n",
    "with open(file_path_2, 'rb') as file2:\n",
    "    df2 = pickle.load(file2)\n",
    "\n",
    "# Concatenate the DataFrames\n",
    "combined_df = pd.concat([df1, df2], ignore_index=True)\n",
    "\n",
    "# Check the combined DataFrame\n",
    "print(combined_df)\n",
    "\n",
    "# write combined_df to a pickle file\n",
    "with open('AMS_df_promptsaturdaycomplete.pkl', 'wb') as file:\n",
    "    pickle.dump(combined_df, file)\n",
    "    \n",
    "# # Serialize the DataFrame using pickle\n",
    "# with open(pickle_file_path, 'wb') as file:\n",
    "#     pickle.dump(AMS_Df, file)\n",
    "\n"
   ]
  },
  {
   "cell_type": "code",
   "execution_count": 5,
   "metadata": {},
   "outputs": [],
   "source": [
    "# write combined_df to a pickle file\n",
    "with open('AMS_df_promptsaturdaycomplete.pkl', 'wb') as file:\n",
    "    pickle.dump(combined_df, file)"
   ]
  }
 ],
 "metadata": {
  "kernelspec": {
   "display_name": ".env",
   "language": "python",
   "name": "python3"
  },
  "language_info": {
   "codemirror_mode": {
    "name": "ipython",
    "version": 3
   },
   "file_extension": ".py",
   "mimetype": "text/x-python",
   "name": "python",
   "nbconvert_exporter": "python",
   "pygments_lexer": "ipython3",
   "version": "3.10.4"
  }
 },
 "nbformat": 4,
 "nbformat_minor": 2
}
